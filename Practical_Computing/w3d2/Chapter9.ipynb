{
 "cells": [
  {
   "cell_type": "markdown",
   "metadata": {},
   "source": [
    "# Decisions and loops; part 2: lists"
   ]
  },
  {
   "cell_type": "markdown",
   "metadata": {},
   "source": [
    "## Creating a list"
   ]
  },
  {
   "cell_type": "code",
   "execution_count": null,
   "metadata": {
    "collapsed": true
   },
   "outputs": [],
   "source": [
    "#list displays\n",
    "list_a = [3, 5, 8, 13, 21]\n",
    "list_b = [0.1, 0.01, 0.001]\n",
    "list_c = [37] # one-element list\n",
    "if list_c == 37:\n",
    "    print '[37] and 37 are equal'\n",
    "list_d = [] # list of length zero\n",
    "print list_a, list_b, list_c, list_d"
   ]
  },
  {
   "cell_type": "code",
   "execution_count": null,
   "metadata": {
    "collapsed": true
   },
   "outputs": [],
   "source": [
    "#repeating a single-element list\n",
    "list_e = [0] * 20 # twenty zeros\n",
    "length = int(raw_input('which length? '))\n",
    "list_f = length * [None]\n",
    "print list_e, list_f"
   ]
  },
  {
   "cell_type": "markdown",
   "metadata": {},
   "source": [
    "## details; can be skipped\n",
    "needed for code below"
   ]
  },
  {
   "cell_type": "code",
   "execution_count": null,
   "metadata": {
    "collapsed": true
   },
   "outputs": [],
   "source": [
    "# define a function; details not important for now\n",
    "def is_matching(word):\n",
    "    return 'a' in word"
   ]
  },
  {
   "cell_type": "code",
   "execution_count": null,
   "metadata": {
    "collapsed": true
   },
   "outputs": [],
   "source": [
    "# define a list of words; details not important for now\n",
    "text = ('Just the place for a Snark the Bellman cried ' +\n",
    "        'As he landed his crew with care ' +\n",
    "        'Supporting each man on the top of the tide ' +\n",
    "        'By a finger entwined in his hair ')\n",
    "words = text.split()"
   ]
  },
  {
   "cell_type": "code",
   "execution_count": null,
   "metadata": {
    "collapsed": true
   },
   "outputs": [],
   "source": [
    "# define a list of floats; details not important for now\n",
    "x = [0.3, 0.7, 1.9, 3.5]\n",
    "n = len(x)"
   ]
  },
  {
   "cell_type": "markdown",
   "metadata": {},
   "source": [
    "## Building a list of the fly"
   ]
  },
  {
   "cell_type": "code",
   "execution_count": null,
   "metadata": {
    "collapsed": true
   },
   "outputs": [],
   "source": [
    "print words\n",
    "selected = [] # start with empty list\n",
    "for current in words:\n",
    "    if is_matching(current):\n",
    "        selected += [current] # extend the list\n",
    "print selected"
   ]
  },
  {
   "cell_type": "markdown",
   "metadata": {},
   "source": [
    "## Selecting from a list: indexing and slicing"
   ]
  },
  {
   "cell_type": "code",
   "execution_count": null,
   "metadata": {
    "collapsed": true
   },
   "outputs": [],
   "source": [
    "# indexing\n",
    "print 'x =', x\n",
    "print 'n =', n\n",
    "# n is length of list x\n",
    "p = 2\n",
    "print 'p =', p\n",
    "print 'x[p] =', x[p]\n",
    "# p must be between -n and n-1 inclusive\n",
    "# x[0] is first element; x[n-1] is last element\n",
    "# x[-1] denotes last element; negative index values count from end backwards\n",
    "print 'x[0] =', x[0]\n",
    "print 'x[n-1] =', x[n-1]\n",
    "print 'x[-1] =', x[-1]"
   ]
  },
  {
   "cell_type": "code",
   "execution_count": null,
   "metadata": {
    "collapsed": true
   },
   "outputs": [],
   "source": [
    "# slicing\n",
    "print 'x =', x\n",
    "b = 1\n",
    "e = 3\n",
    "print 'b =', b, 'and e =', e\n",
    "print 'x[b:e] =', x[b:e]\n",
    "print 'x[b:] =', x[b:] # suffix from b (inclusive)\n",
    "print 'x[:e] =', x[:e] # suffix to e (exclusive)\n",
    "print 'x[e:b] =', x[e:b] # empty if ends are in wrong order"
   ]
  },
  {
   "cell_type": "markdown",
   "metadata": {},
   "source": [
    "## Assigning to parts of a list with indexing and slicing"
   ]
  },
  {
   "cell_type": "code",
   "execution_count": null,
   "metadata": {
    "collapsed": true
   },
   "outputs": [],
   "source": [
    "# fixed index values\n",
    "x = [0.3, 0.7, 1.9, 3.5]\n",
    "print \"0:\", x\n",
    "x[2] = 2.1\n",
    "print \"1:\", x\n",
    "x[1:3] = [0.9, 1.7]\n",
    "print \"2:\", x\n",
    "x[-1] = x[0]-1\n",
    "print \"3:\", x\n",
    "x[:-1] = []\n",
    "print \"4:\", x\n",
    "x[2:2] = [1.1, 1.3]\n",
    "print \"5:\", x\n",
    "x[1:2] = []\n",
    "print \"6:\", x"
   ]
  },
  {
   "cell_type": "code",
   "execution_count": null,
   "metadata": {
    "collapsed": true
   },
   "outputs": [],
   "source": [
    "# index values can be formulas\n",
    "x = [0.3, 0.7, 1.9, 3.5]\n",
    "print \"0:\", x\n",
    "n = len(x)\n",
    "x[n//2] = x[n-1] # x[n/2] dangerous in this context\n",
    "print \"1:\", x\n",
    "x[n//2+1] = x[n//2]+1\n",
    "print \"2:\", x\n",
    "x[0+1+2] = 3-2-1\n",
    "print \"3:\", x\n",
    "x[x[-1]+1] = x[x[-1]]+1\n",
    "print \"4:\", x"
   ]
  },
  {
   "cell_type": "code",
   "execution_count": null,
   "metadata": {
    "collapsed": true
   },
   "outputs": [],
   "source": [
    "# wrong\n",
    "x[x[-1]]+1 = x[x[-1]+1]"
   ]
  },
  {
   "cell_type": "markdown",
   "metadata": {},
   "source": [
    "## Unpacking a list"
   ]
  },
  {
   "cell_type": "code",
   "execution_count": null,
   "metadata": {
    "collapsed": true
   },
   "outputs": [],
   "source": [
    "x = [0.3, 0.7, 1.9, 3.5]\n",
    "# equivalent (4x):\n",
    "x0, x1, x2, x3 = [0.3, 0.7, 1.9, 3.5]\n",
    "print x0, x1, x2, x3\n",
    "x0, x1, x2, x3 = x\n",
    "print x0, x1, x2, x3\n",
    "x0, x1, x2, x3 = x[0], x[1], x[2], x[3]\n",
    "print x0, x1, x2, x3\n",
    "# 4th in four separate lines (plus print)\n",
    "x0 = x[0]\n",
    "x1 = x[1]\n",
    "x2 = x[2]\n",
    "x3 = x[3]\n",
    "print x0, x1, x2, x3"
   ]
  },
  {
   "cell_type": "code",
   "execution_count": null,
   "metadata": {
    "collapsed": true
   },
   "outputs": [],
   "source": [
    "# for sub-lists\n",
    "x0 = x[0]\n",
    "x1 = x[1]\n",
    "print x0, x1\n",
    "x0, x1 = x[:2]\n",
    "print x0, x1"
   ]
  },
  {
   "cell_type": "code",
   "execution_count": null,
   "metadata": {
    "collapsed": true
   },
   "outputs": [],
   "source": [
    "# but not\n",
    "x0, x1 = x"
   ]
  },
  {
   "cell_type": "markdown",
   "metadata": {},
   "source": [
    "## List versus string"
   ]
  },
  {
   "cell_type": "code",
   "execution_count": null,
   "metadata": {
    "collapsed": true
   },
   "outputs": [],
   "source": [
    "my_string = 'abcdefg'\n",
    "my_string"
   ]
  },
  {
   "cell_type": "code",
   "execution_count": null,
   "metadata": {
    "collapsed": true
   },
   "outputs": [],
   "source": [
    "my_list = list(my_string)\n",
    "my_list"
   ]
  },
  {
   "cell_type": "code",
   "execution_count": null,
   "metadata": {
    "collapsed": true
   },
   "outputs": [],
   "source": [
    "my_str2 = str(my_list)\n",
    "my_str2"
   ]
  },
  {
   "cell_type": "code",
   "execution_count": null,
   "metadata": {
    "collapsed": true
   },
   "outputs": [],
   "source": [
    "my_str3 = ''.join(my_list)\n",
    "my_str3"
   ]
  },
  {
   "cell_type": "code",
   "execution_count": null,
   "metadata": {
    "collapsed": true
   },
   "outputs": [],
   "source": [
    "my_str4 = ' '.join(my_list)\n",
    "my_str4"
   ]
  },
  {
   "cell_type": "markdown",
   "metadata": {},
   "source": [
    "## List comprehension\n",
    "A very power and compact way of creating lists. But also a bit cryptic."
   ]
  },
  {
   "cell_type": "code",
   "execution_count": null,
   "metadata": {
    "collapsed": true
   },
   "outputs": [],
   "source": [
    "some_data = [p*p*p for p in range(-3, 4)]\n",
    "print some_data"
   ]
  },
  {
   "cell_type": "code",
   "execution_count": null,
   "metadata": {
    "collapsed": true
   },
   "outputs": [],
   "source": [
    "chars = [ch.upper() for ch in 'abcd']\n",
    "print chars"
   ]
  },
  {
   "cell_type": "code",
   "execution_count": null,
   "metadata": {
    "collapsed": true
   },
   "outputs": [],
   "source": [
    "selected = [x for x in some_data if x > 0]\n",
    "print selected"
   ]
  },
  {
   "cell_type": "markdown",
   "metadata": {},
   "source": [
    "## Aliasing\n",
    "Two (or more) names for same memory locations"
   ]
  },
  {
   "cell_type": "code",
   "execution_count": null,
   "metadata": {},
   "outputs": [],
   "source": [
    "b = [0.3, 0.7, 1.9, 3.5]\n",
    "a = b\n",
    "print a, b\n",
    "a[0] = 7.3\n",
    "print a, b"
   ]
  },
  {
   "cell_type": "code",
   "execution_count": null,
   "metadata": {},
   "outputs": [],
   "source": [
    "b = [0.3, 0.7, 1.9, 3.5]\n",
    "a = b[:] # take copy\n",
    "print a, b\n",
    "a[0] = 7.3\n",
    "print a, b"
   ]
  }
 ],
 "metadata": {
  "kernelspec": {
   "display_name": "Python 2",
   "language": "python",
   "name": "python2"
  },
  "language_info": {
   "codemirror_mode": {
    "name": "ipython",
    "version": 2
   },
   "file_extension": ".py",
   "mimetype": "text/x-python",
   "name": "python",
   "nbconvert_exporter": "python",
   "pygments_lexer": "ipython2",
   "version": "2.7.13"
  }
 },
 "nbformat": 4,
 "nbformat_minor": 2
}
