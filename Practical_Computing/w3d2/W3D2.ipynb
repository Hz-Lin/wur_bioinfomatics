{
 "cells": [
  {
   "cell_type": "markdown",
   "metadata": {},
   "source": [
    "# Python elements for exercises on \"Decisions and Loops\""
   ]
  },
  {
   "cell_type": "markdown",
   "metadata": {},
   "source": [
    "## Finding a motif in DNA (SUBS)\n",
    "Here we have to find locations of a given substring `t` in a given string `s`.  \n",
    "The result for Rosalind has to be line of numbers separated by spaces.  \n",
    "For practising lists, we first build a list of numbers (positions).  \n",
    "Suppose we have found list `locs`."
   ]
  },
  {
   "cell_type": "code",
   "execution_count": null,
   "metadata": {
    "collapsed": true
   },
   "outputs": [],
   "source": [
    "locs = [2, 4, 10]"
   ]
  },
  {
   "cell_type": "markdown",
   "metadata": {},
   "source": [
    "Write a small loop that prints this list as  \n",
    "`2 4 10`  \n",
    "(of course it should work for any `locs`)."
   ]
  },
  {
   "cell_type": "code",
   "execution_count": null,
   "metadata": {
    "collapsed": true
   },
   "outputs": [],
   "source": [
    "print locs # too crude; Rosalind won't accept this format"
   ]
  },
  {
   "cell_type": "markdown",
   "metadata": {},
   "source": [
    "Now, finding `locs`: we don't know how many elements the list will have, so we build the list on the fly:"
   ]
  },
  {
   "cell_type": "code",
   "execution_count": 44,
   "metadata": {},
   "outputs": [
    {
     "name": "stdout",
     "output_type": "stream",
     "text": [
      "[2, 4, 10]\n"
     ]
    }
   ],
   "source": [
    "locs = []\n",
    "# inside loop:\n",
    "locs += [2]\n",
    "# or:\n",
    "locs.append(4)\n",
    "# or:\n",
    "locs.extend([10])\n",
    "#after the loop:\n",
    "print locs"
   ]
  },
  {
   "cell_type": "markdown",
   "metadata": {},
   "source": [
    "If you don't see yet what the code does, do some more experiments. Create new code cells as you need them."
   ]
  },
  {
   "cell_type": "code",
   "execution_count": null,
   "metadata": {
    "collapsed": true,
    "scrolled": true
   },
   "outputs": [],
   "source": []
  },
  {
   "cell_type": "markdown",
   "metadata": {},
   "source": [
    "Finally, finding the motifs (substrings).  \n",
    "Make a loop that visits each potential starting position `p`.  \n",
    "Inside the loop, use slicing in `s` and compare the result to `s`.  \n",
    "And then, conditionally, add an element to the list of locations (as above).  \n",
    "Use as many code cells as you want to create the program parts."
   ]
  },
  {
   "cell_type": "code",
   "execution_count": 45,
   "metadata": {},
   "outputs": [
    {
     "name": "stdout",
     "output_type": "stream",
     "text": [
      "what is the source sequence?GATATATGCATATACTT\n",
      "what is the sub sequence?ATAT\n",
      "2 4 10\n"
     ]
    }
   ],
   "source": [
    "seq = raw_input('what is the source sequence?')\n",
    "sub_seq = raw_input('what is the sub sequence?')\n",
    "\n",
    "pos_list = []\n",
    "length = len(seq)\n",
    "length_sub = len(sub_seq)\n",
    "\n",
    "for start_point in range(length - length_sub):\n",
    "    end_point = start_point + length_sub\n",
    "    small_seq = seq[start_point:end_point]\n",
    "    if small_seq == sub_seq:\n",
    "        pos = start_point + 1\n",
    "        pos_str = str(pos)\n",
    "        pos_list.append(pos_str)\n",
    "positions = ' '.join(pos_list)\n",
    "print positions"
   ]
  },
  {
   "cell_type": "markdown",
   "metadata": {},
   "source": [
    "Put it all together into one script. Here you can copy the input from Rosalind into the input fields of `raw_input`."
   ]
  },
  {
   "cell_type": "code",
   "execution_count": null,
   "metadata": {
    "collapsed": true
   },
   "outputs": [],
   "source": [
    "t = raw_input('... ') # fill in the dots\n",
    "s = raw_input('... ') # fill in the dots\n",
    "# ... your code\n",
    "print 'answer' # too be replaced by your code"
   ]
  },
  {
   "cell_type": "markdown",
   "metadata": {},
   "source": [
    "Now copy this script into a file of its own and save it with file type `.py`.  \n",
    "Then run it from a terminal with `python <filename>` (where `<filename>` is the name of your Python script.  \n",
    "[Or include the shebang line in the script and make the file executable.]"
   ]
  },
  {
   "cell_type": "markdown",
   "metadata": {},
   "source": [
    "## Binomial distribution"
   ]
  },
  {
   "cell_type": "markdown",
   "metadata": {},
   "source": [
    "First let's try the random generator. It is defined in module `random`."
   ]
  },
  {
   "cell_type": "code",
   "execution_count": 18,
   "metadata": {
    "collapsed": true
   },
   "outputs": [],
   "source": [
    "import random # needed only once at the start"
   ]
  },
  {
   "cell_type": "markdown",
   "metadata": {},
   "source": [
    "Function `random()` (in module `random`) gives a number between 0 (inclusive) and 1 (exclusive).  \n",
    "Each time the function is called it gives another random number, or perhaps very rarely the same number twice.  \n",
    "Because of the underlying algorithms, the sequence of numbers generated will have very good statistical properties."
   ]
  },
  {
   "cell_type": "code",
   "execution_count": 19,
   "metadata": {},
   "outputs": [
    {
     "name": "stdout",
     "output_type": "stream",
     "text": [
      "0.261214686953\n",
      "0.744018408776\n",
      "0.633866850179\n"
     ]
    }
   ],
   "source": [
    "print random.random()\n",
    "print random.random()\n",
    "print random.random()\n",
    "# and try it again, and again, ..."
   ]
  },
  {
   "cell_type": "markdown",
   "metadata": {},
   "source": [
    "Let's use the random generator for deciding something with probability `p`."
   ]
  },
  {
   "cell_type": "code",
   "execution_count": 55,
   "metadata": {},
   "outputs": [
    {
     "name": "stdout",
     "output_type": "stream",
     "text": [
      "n\n"
     ]
    }
   ],
   "source": [
    "p = 0.2\n",
    "if p > random.random():\n",
    "    print 'Y'\n",
    "else:\n",
    "    print 'n'"
   ]
  },
  {
   "cell_type": "markdown",
   "metadata": {},
   "source": [
    "How do we see that the probability is accually equal to `p`?  \n",
    "Let's repeat these lines to show a series of results.  \n",
    "Per line we should have 2x Y (for `p=0.2`), or a bit more or less.  \n",
    "Occasionally it's much more. In fact that is exactly the binomial distribution."
   ]
  },
  {
   "cell_type": "code",
   "execution_count": 21,
   "metadata": {},
   "outputs": [
    {
     "name": "stdout",
     "output_type": "stream",
     "text": [
      "n Y Y n Y n n n Y n\n",
      "n n n n n Y n n n n\n",
      "n n n n Y n n n n n\n",
      "Y n n n n n n n n n\n",
      "n Y n n n Y n n n n\n"
     ]
    }
   ],
   "source": [
    "for x in range(5): # five lines\n",
    "    for i in range(10): # ten entries per line\n",
    "        if p > random.random():\n",
    "            print 'Y', # comma means no newline\n",
    "        else:\n",
    "            print 'n',\n",
    "    print # finally a newline"
   ]
  },
  {
   "cell_type": "markdown",
   "metadata": {},
   "source": [
    "Now, we want to keep counts instead of printing all single choices.  \n",
    "Let's say we have done 100 series of 10 with probability 0.2.  \n",
    "The counts could be: 12x 0, 30x 1, 34x 2, 14x 3, 5x 4, 4x 5, 1x 6, 0x 7, ... 0x 10.   \n",
    "(this is actual output of an experiment with the binomial distribution)."
   ]
  },
  {
   "cell_type": "code",
   "execution_count": 22,
   "metadata": {},
   "outputs": [
    {
     "name": "stdout",
     "output_type": "stream",
     "text": [
      "total 100\n",
      "12\n",
      "30\n",
      "34\n",
      "14\n",
      "5\n",
      "4\n",
      "1\n",
      "0\n",
      "0\n",
      "0\n",
      "0\n"
     ]
    }
   ],
   "source": [
    "counts = [12, 30, 34, 14, 5, 4, 1, 0, 0, 0, 0]\n",
    "print 'total', sum(counts)\n",
    "for c in counts:\n",
    "    print c"
   ]
  },
  {
   "cell_type": "markdown",
   "metadata": {},
   "source": [
    "Of course, you can do better than that. Make it into a nice table.  \n",
    "[Tooltip: use string formatting.]"
   ]
  },
  {
   "cell_type": "code",
   "execution_count": 4,
   "metadata": {},
   "outputs": [
    {
     "name": "stdout",
     "output_type": "stream",
     "text": [
      "0\t12\n",
      "1\t30\n",
      "2\t34\n",
      "3\t14\n",
      "4\t5\n",
      "5\t4\n",
      "6\t1\n",
      "7\t0\n",
      "8\t0\n",
      "9\t0\n"
     ]
    }
   ],
   "source": [
    "# print nice table\n",
    "counts = [12, 30, 34, 14, 5, 4, 1, 0, 0, 0, 0]\n",
    "num = range(10)\n",
    "for c in num:\n",
    "    print('%d\\t%d' % (c,counts[c]))\n"
   ]
  },
  {
   "cell_type": "markdown",
   "metadata": {},
   "source": [
    "What remains is creating and filling list `counts`.  \n",
    "In this case, we can create the list as `n+1` zeros (0..`n` including `n`)"
   ]
  },
  {
   "cell_type": "code",
   "execution_count": null,
   "metadata": {
    "collapsed": true
   },
   "outputs": [],
   "source": [
    "# create a list of n zeros\n",
    "range(0,n+1)"
   ]
  },
  {
   "cell_type": "code",
   "execution_count": null,
   "metadata": {
    "collapsed": true
   },
   "outputs": [],
   "source": [
    "# fill the list by a loop like the one that printed repeated decisions"
   ]
  },
  {
   "cell_type": "markdown",
   "metadata": {},
   "source": [
    "Put it all together into one script.  \n",
    "Maybe the script can actually ask for values of `n` and `p`."
   ]
  },
  {
   "cell_type": "code",
   "execution_count": 13,
   "metadata": {},
   "outputs": [
    {
     "name": "stdout",
     "output_type": "stream",
     "text": [
      "p: 0.5\n",
      "n: 20\n",
      "0\t1\n",
      "1\t1\n",
      "2\t1\n",
      "3\t1\n",
      "4\t1\n",
      "5\t1\n",
      "6\t1\n",
      "7\t1\n",
      "8\t2\n",
      "9\t2\n",
      "10\t3\n",
      "11\t3\n",
      "12\t3\n",
      "13\t3\n",
      "14\t3\n",
      "15\t4\n",
      "16\t5\n",
      "17\t6\n",
      "18\t7\n",
      "19\t7\n",
      "20\t7\n"
     ]
    }
   ],
   "source": [
    "# your complete script\n",
    "import random\n",
    "p = input('p: ')\n",
    "n = input('n: ')\n",
    "num = int(n) + 1\n",
    "p_flo = float(p)\n",
    "k = range(0,num)\n",
    "re_list = []\n",
    "counts = []\n",
    "for x in k:\n",
    "    for y in range(0,x):\n",
    "        if p_flo > random.random():\n",
    "            result = 'Y'\n",
    "            re_list.append(result)\n",
    "        else:\n",
    "            result = 'n'\n",
    "            re_list.append(result)\n",
    "        count = re_list.count('Y')\n",
    "        counts.append(count)\n",
    "\n",
    "for c in k:\n",
    "    print('%d\\t%d' % (c,counts[c]))\n"
   ]
  },
  {
   "cell_type": "markdown",
   "metadata": {},
   "source": [
    "Again, save and run your script also outside this notebook."
   ]
  },
  {
   "cell_type": "markdown",
   "metadata": {},
   "source": [
    "## Weighted chances (WoF)"
   ]
  },
  {
   "cell_type": "markdown",
   "metadata": {},
   "source": [
    "This list of chances corresponds to the picture in the assignment text"
   ]
  },
  {
   "cell_type": "code",
   "execution_count": 15,
   "metadata": {
    "collapsed": true
   },
   "outputs": [],
   "source": [
    "chances = [100.0, 50.0, 50.0, 75.0, 75.0, 150.0]"
   ]
  },
  {
   "cell_type": "markdown",
   "metadata": {},
   "source": [
    "The total of these chances is not 1.0 or 100."
   ]
  },
  {
   "cell_type": "code",
   "execution_count": 16,
   "metadata": {},
   "outputs": [
    {
     "data": {
      "text/plain": [
       "500.0"
      ]
     },
     "execution_count": 16,
     "metadata": {},
     "output_type": "execute_result"
    }
   ],
   "source": [
    "sum(chances) # or store it in a variable for later reference"
   ]
  },
  {
   "cell_type": "markdown",
   "metadata": {},
   "source": [
    "Find the (relative) distance as a random number between 0 and this total.  \n",
    "[Tooltip: multiply the outcome of the random number generator by this total.]"
   ]
  },
  {
   "cell_type": "code",
   "execution_count": 17,
   "metadata": {},
   "outputs": [
    {
     "name": "stdout",
     "output_type": "stream",
     "text": [
      "0.7755189782523502\n",
      "387.7594891261751\n"
     ]
    }
   ],
   "source": [
    "rand_n = random.random()\n",
    "print(rand_n)\n",
    "total_chances = sum(chances)\n",
    "distance = total_chances * rand_n\n",
    "print(distance)"
   ]
  },
  {
   "cell_type": "markdown",
   "metadata": {},
   "source": [
    "For each chance in the list, subtract it from the distance.  \n",
    "Meanwhile, for each element of the list, check whether this is the position where distance will become negative.  \n",
    "Store that position in a variable. After the loop print its value. (Oh, and you might have to initialize the variable before the loop.)"
   ]
  },
  {
   "cell_type": "code",
   "execution_count": 18,
   "metadata": {},
   "outputs": [
    {
     "name": "stdout",
     "output_type": "stream",
     "text": [
      "237.75948912617508\n"
     ]
    }
   ],
   "source": [
    "# initialize result position\n",
    "# loop and adjust distance, meanwhile checking position\n",
    "for chance in chances:\n",
    "    pos = distance - chance\n",
    "    if pos > 0 and pos < distance:\n",
    "        position = pos\n",
    "# print result position\n",
    "print(position)"
   ]
  },
  {
   "cell_type": "code",
   "execution_count": 9,
   "metadata": {},
   "outputs": [
    {
     "name": "stdout",
     "output_type": "stream",
     "text": [
      "6\n"
     ]
    }
   ],
   "source": [
    "# total script; when copying to file, also include import random\n",
    "chances = [100.0, 50.0, 50.0, 75.0, 75.0, 150.0]\n",
    "rand_n = random.random()\n",
    "total_chances = sum(chances)\n",
    "distance = total_chances * rand_n\n",
    "distance_start = 0\n",
    "distance_end = 0\n",
    "pos_ind = 0\n",
    "for chance in chances:\n",
    "        distance_end = distance_start + chance\n",
    "        if distance > distance_start and distance < distance_end:\n",
    "            position.append(pos_ind)\n",
    "        distance_start += chance\n",
    "        pos_ind += 1\n",
    "position = pos_ind\n",
    "print(position)"
   ]
  },
  {
   "cell_type": "markdown",
   "metadata": {},
   "source": [
    "## Testing the Wheel of Fortune\n",
    "In fact, almost all elements have been done in the previous two exercises.  \n",
    "When copying code from last exercise into a loop, you have to increase the indentation level."
   ]
  },
  {
   "cell_type": "code",
   "execution_count": 8,
   "metadata": {},
   "outputs": [
    {
     "name": "stdout",
     "output_type": "stream",
     "text": [
      "how many times you want to run? 50000\n",
      "student\tchance\tcount\n",
      "A\t100.0\t11634\n",
      "B\t50.0\t6006\n",
      "C\t50.0\t6048\n",
      "D\t75.0\t8840\n",
      "E\t150.0\t17473\n"
     ]
    }
   ],
   "source": [
    "# we leave any remaining details to you\n",
    "# again copy the script into its own file and run it\n",
    "import random\n",
    "chances = [100.0, 50.0, 50.0, 75.0, 150.0]\n",
    "names = ['A','B','C','D','E']\n",
    "n = input('how many times you want to run? ')\n",
    "total_num = int(n) + 1\n",
    "range_list = range(0,total_num)\n",
    "position = []\n",
    "for num in range_list:\n",
    "    rand_n = random.random()\n",
    "    total_chances = sum(chances)\n",
    "    distance = total_chances * rand_n\n",
    "    distance_start = 0\n",
    "    distance_end = 0\n",
    "    pos_ind = 0\n",
    "    for chance in chances:\n",
    "        distance_end = distance_start + chance\n",
    "        if distance > distance_start and distance < distance_end:\n",
    "            position.append(pos_ind)\n",
    "        distance_start += chance\n",
    "        pos_ind += 1\n",
    "counts_list = []\n",
    "for pos_index in range_list:\n",
    "    count = position.count(pos_index)\n",
    "    counts_list.append(count)\n",
    "\n",
    "print('%s\\t%s\\t%s' % ('student','chance','count'))\n",
    "for ind in range(len(chances)):\n",
    "    print('%s\\t%1.1f\\t%d' % (names[ind],chances[ind],counts_list[ind]))"
   ]
  },
  {
   "cell_type": "markdown",
   "metadata": {},
   "source": [
    "## Rabbits and Recurrence Relations (FIB)"
   ]
  },
  {
   "cell_type": "markdown",
   "metadata": {},
   "source": [
    "First get `n` and `k` from the 'user'.  \n",
    "(Blank code cells mean you have to do it yourself.)"
   ]
  },
  {
   "cell_type": "code",
   "execution_count": null,
   "metadata": {
    "collapsed": true
   },
   "outputs": [],
   "source": []
  },
  {
   "cell_type": "markdown",
   "metadata": {},
   "source": [
    "Create a list of results and set it to `[0, 1, 1]` as given in the assigment text.  \n",
    "So we have the values for `i=0 i=1 i=2`."
   ]
  },
  {
   "cell_type": "code",
   "execution_count": null,
   "metadata": {
    "collapsed": true
   },
   "outputs": [],
   "source": []
  },
  {
   "cell_type": "markdown",
   "metadata": {},
   "source": [
    "For filling the rest of the list we need a loop. (actual filling: see below)  \n",
    "The first entry to fill is for `i=3`; the last one for `i=n`.  \n",
    "[Tooltip: function `range(x,y)` goes from `x` inclusive to `y` exclusice.]"
   ]
  },
  {
   "cell_type": "code",
   "execution_count": null,
   "metadata": {
    "collapsed": true
   },
   "outputs": [],
   "source": []
  },
  {
   "cell_type": "markdown",
   "metadata": {},
   "source": [
    "For computing the next entry, you have to refer to the preceeding two entries.  \n",
    "If `i` is the position of the entry to fill, the preceeding entries have positions `i-2` and `i-1`.  \n",
    "Inside the loop, write a line of code that computes the next extry and then expands the list with that new entry."
   ]
  },
  {
   "cell_type": "code",
   "execution_count": null,
   "metadata": {
    "collapsed": true
   },
   "outputs": [],
   "source": [
    "# copy the loop and add the necessary code."
   ]
  },
  {
   "cell_type": "markdown",
   "metadata": {},
   "source": [
    "Print the result and it's all done."
   ]
  },
  {
   "cell_type": "code",
   "execution_count": null,
   "metadata": {
    "collapsed": true
   },
   "outputs": [],
   "source": []
  },
  {
   "cell_type": "markdown",
   "metadata": {},
   "source": [
    "Finally, put everything together again, etc."
   ]
  },
  {
   "cell_type": "code",
   "execution_count": null,
   "metadata": {
    "collapsed": true
   },
   "outputs": [],
   "source": []
  }
 ],
 "metadata": {
  "kernelspec": {
   "display_name": "Python 3",
   "language": "python",
   "name": "python3"
  },
  "language_info": {
   "codemirror_mode": {
    "name": "ipython",
    "version": 3
   },
   "file_extension": ".py",
   "mimetype": "text/x-python",
   "name": "python",
   "nbconvert_exporter": "python",
   "pygments_lexer": "ipython3",
   "version": "3.6.1"
  }
 },
 "nbformat": 4,
 "nbformat_minor": 2
}
