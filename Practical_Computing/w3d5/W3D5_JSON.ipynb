{
 "cells": [
  {
   "cell_type": "markdown",
   "metadata": {},
   "source": [
    "# Processing JSON: the case of Trex\n",
    "\n",
    "For this example to work, file Trex_reduced.json should be in the same folder as this notebook."
   ]
  },
  {
   "cell_type": "code",
   "execution_count": 1,
   "metadata": {
    "collapsed": true
   },
   "outputs": [],
   "source": [
    "INFILENAME = 'Trex_reduced.json'"
   ]
  },
  {
   "cell_type": "markdown",
   "metadata": {},
   "source": [
    "## Getting JSON data into Python\n",
    "First we have to import module `json` -- the module that knows what to do with JSON data."
   ]
  },
  {
   "cell_type": "code",
   "execution_count": 2,
   "metadata": {
    "collapsed": true
   },
   "outputs": [],
   "source": [
    "import json"
   ]
  },
  {
   "cell_type": "markdown",
   "metadata": {},
   "source": [
    "Before module `json` can handle any data, we have to get it into memory.  \n",
    "In this case, we let Python read the entire file into one very long string.  "
   ]
  },
  {
   "cell_type": "code",
   "execution_count": 3,
   "metadata": {
    "collapsed": true
   },
   "outputs": [],
   "source": [
    "infile = open(INFILENAME, 'r')\n",
    "trex_json = infile.read()\n",
    "infile.close()"
   ]
  },
  {
   "cell_type": "markdown",
   "metadata": {},
   "source": [
    "Don't print the whole string...  \n",
    "But a little piece won't harm?"
   ]
  },
  {
   "cell_type": "code",
   "execution_count": 4,
   "metadata": {},
   "outputs": [
    {
     "name": "stdout",
     "output_type": "stream",
     "text": [
      "{\n",
      "\"data_provider\":\"The Paleobiology Database\",\n",
      "\"da\n"
     ]
    }
   ],
   "source": [
    "print trex_json[:50]"
   ]
  },
  {
   "cell_type": "markdown",
   "metadata": {},
   "source": [
    "Now module `json` can do the parsing. It produces a Python object that contains all data as found in (the string from) the JSON file.  \n",
    "We're done with the string. To free some memory, we can delete it."
   ]
  },
  {
   "cell_type": "code",
   "execution_count": 5,
   "metadata": {
    "collapsed": true
   },
   "outputs": [],
   "source": [
    "trex = json.loads(trex_json)\n",
    "del trex_json"
   ]
  },
  {
   "cell_type": "markdown",
   "metadata": {},
   "source": [
    "Again, don't print this object.  \n",
    "Instead, let's find some information about it."
   ]
  },
  {
   "cell_type": "code",
   "execution_count": 6,
   "metadata": {},
   "outputs": [
    {
     "name": "stdout",
     "output_type": "stream",
     "text": [
      "type(trex) = <type 'dict'>\n",
      "len(trex) = 13\n"
     ]
    }
   ],
   "source": [
    "print 'type(trex) =', type(trex)\n",
    "print 'len(trex) =', len(trex) # would not work if it were an int of float or ..."
   ]
  },
  {
   "cell_type": "markdown",
   "metadata": {},
   "source": [
    "There are only ... values. Let's just print them."
   ]
  },
  {
   "cell_type": "code",
   "execution_count": 7,
   "metadata": {},
   "outputs": [
    {
     "name": "stdout",
     "output_type": "stream",
     "text": [
      "elapsed_time\n",
      "data_url\n",
      "data_source\n",
      "parameters\n",
      "title\n",
      "access_time\n",
      "records_returned\n",
      "records_found\n",
      "data_license\n",
      "documentation_url\n",
      "license_url\n",
      "records\n",
      "data_provider\n"
     ]
    }
   ],
   "source": [
    "for v in trex:\n",
    "    print v"
   ]
  },
  {
   "cell_type": "markdown",
   "metadata": {},
   "source": [
    "Perhaps we should also inspect the types"
   ]
  },
  {
   "cell_type": "code",
   "execution_count": 8,
   "metadata": {},
   "outputs": [
    {
     "name": "stdout",
     "output_type": "stream",
     "text": [
      "<type 'unicode'> elapsed_time\n",
      "<type 'unicode'> data_url\n",
      "<type 'unicode'> data_source\n",
      "<type 'unicode'> parameters\n",
      "<type 'unicode'> title\n",
      "<type 'unicode'> access_time\n",
      "<type 'unicode'> records_returned\n",
      "<type 'unicode'> records_found\n",
      "<type 'unicode'> data_license\n",
      "<type 'unicode'> documentation_url\n",
      "<type 'unicode'> license_url\n",
      "<type 'unicode'> records\n",
      "<type 'unicode'> data_provider\n"
     ]
    }
   ],
   "source": [
    "for v in trex:\n",
    "    print type(v), v"
   ]
  },
  {
   "cell_type": "markdown",
   "metadata": {},
   "source": [
    "Type `unicode` is a generalized type of strings. Unicode contains many more characters than possible in standard strings, e.g. Greek letters and special punctuation characters.  \n",
    "In fact these Unicode strings are keys in a dictionary; a for-loop over a dictionary loops over the keys (in an order determined internally).  \n",
    "Let's look at the associated values:"
   ]
  },
  {
   "cell_type": "code",
   "execution_count": 9,
   "metadata": {},
   "outputs": [
    {
     "name": "stdout",
     "output_type": "stream",
     "text": [
      "key = elapsed_time\n",
      "type(value) = <type 'float'>\n",
      "value = 0.00526\n",
      "\n",
      "key = data_url\n",
      "type(value) = <type 'unicode'>\n",
      "len(value) = 121\n",
      "\n",
      "key = data_source\n",
      "type(value) = <type 'unicode'>\n",
      "len(value) = 25\n",
      "\n",
      "key = parameters\n",
      "type(value) = <type 'dict'>\n",
      "len(value) = 5\n",
      "\n",
      "key = title\n",
      "type(value) = <type 'unicode'>\n",
      "len(value) = 17\n",
      "\n",
      "key = access_time\n",
      "type(value) = <type 'unicode'>\n",
      "len(value) = 27\n",
      "\n",
      "key = records_returned\n",
      "type(value) = <type 'int'>\n",
      "value = 75\n",
      "\n",
      "key = records_found\n",
      "type(value) = <type 'int'>\n",
      "value = 75\n",
      "\n",
      "key = data_license\n",
      "type(value) = <type 'unicode'>\n",
      "len(value) = 22\n",
      "\n",
      "key = documentation_url\n",
      "type(value) = <type 'unicode'>\n",
      "len(value) = 48\n",
      "\n",
      "key = license_url\n",
      "type(value) = <type 'unicode'>\n",
      "len(value) = 43\n",
      "\n",
      "key = records\n",
      "type(value) = <type 'list'>\n",
      "len(value) = 75\n",
      "\n",
      "key = data_provider\n",
      "type(value) = <type 'unicode'>\n",
      "len(value) = 25\n",
      "\n"
     ]
    }
   ],
   "source": [
    "for v in trex:\n",
    "    value = trex[v]\n",
    "    print 'key =', v\n",
    "    print 'type(value) =', type(value)\n",
    "    if type(value) in [dict, list, unicode]:\n",
    "        print 'len(value) =', len(value)\n",
    "    else:\n",
    "        print 'value =', value\n",
    "    print"
   ]
  },
  {
   "cell_type": "markdown",
   "metadata": {},
   "source": [
    "Most entries are so-called meta-data, i.e. data describing the actual data.  \n",
    "Let's look into the first and second entry:"
   ]
  },
  {
   "cell_type": "code",
   "execution_count": 10,
   "metadata": {},
   "outputs": [
    {
     "ename": "KeyError",
     "evalue": "0",
     "output_type": "error",
     "traceback": [
      "\u001b[0;31m---------------------------------------------------------------------------\u001b[0m",
      "\u001b[0;31mKeyError\u001b[0m                                  Traceback (most recent call last)",
      "\u001b[0;32m<ipython-input-10-9b6e01ed7ca9>\u001b[0m in \u001b[0;36m<module>\u001b[0;34m()\u001b[0m\n\u001b[0;32m----> 1\u001b[0;31m \u001b[0;32mprint\u001b[0m \u001b[0mtrex\u001b[0m\u001b[0;34m[\u001b[0m\u001b[0;36m0\u001b[0m\u001b[0;34m]\u001b[0m\u001b[0;34m\u001b[0m\u001b[0m\n\u001b[0m\u001b[1;32m      2\u001b[0m \u001b[0;32mprint\u001b[0m \u001b[0mtrex\u001b[0m\u001b[0;34m[\u001b[0m\u001b[0;36m1\u001b[0m\u001b[0;34m]\u001b[0m\u001b[0;34m\u001b[0m\u001b[0m\n",
      "\u001b[0;31mKeyError\u001b[0m: 0"
     ]
    }
   ],
   "source": [
    "print trex[0]\n",
    "print trex[1]"
   ]
  },
  {
   "cell_type": "markdown",
   "metadata": {},
   "source": [
    "\"KeyError\"? This means that we are trying to obtain something from a dictionary that is not there.  \n",
    "For dictionaries, we cannot select elements by number (unless keys are numbers), but we have to supply the keys instead."
   ]
  },
  {
   "cell_type": "code",
   "execution_count": 11,
   "metadata": {},
   "outputs": [
    {
     "name": "stdout",
     "output_type": "stream",
     "text": [
      "0.00526\n",
      "http://paleobiodb.org/data1.2/occs/list.json?datainfo&rowcount&base_name=Tyrannosaurus&taxon_reso=genus&show=genus,coords\n"
     ]
    }
   ],
   "source": [
    "print trex['elapsed_time']\n",
    "print trex['data_url']"
   ]
  },
  {
   "cell_type": "markdown",
   "metadata": {},
   "source": [
    "Find the two entries that contain further structure:"
   ]
  },
  {
   "cell_type": "code",
   "execution_count": 18,
   "metadata": {},
   "outputs": [],
   "source": [
    "# fill in the dots\n",
    "further_context = trex['access_time']\n",
    "data = trex['records']\n",
    "# i.e. the real data"
   ]
  },
  {
   "cell_type": "code",
   "execution_count": 19,
   "metadata": {},
   "outputs": [
    {
     "name": "stdout",
     "output_type": "stream",
     "text": [
      "<type 'unicode'>\n",
      "<type 'list'>\n"
     ]
    }
   ],
   "source": [
    "print type(further_context)\n",
    "print type(data)"
   ]
  },
  {
   "cell_type": "markdown",
   "metadata": {
    "collapsed": true
   },
   "source": [
    "First explore `further_context`. Print the types of the values contained in it.  \n",
    "Does it make sense printing those values immediately?  \n",
    "If yes, do so. Otherwise delve a bit deeper."
   ]
  },
  {
   "cell_type": "code",
   "execution_count": 20,
   "metadata": {},
   "outputs": [
    {
     "name": "stdout",
     "output_type": "stream",
     "text": [
      "Wed 2016-09-21 19:45:25 GMT\n"
     ]
    }
   ],
   "source": [
    "# fill in this cell\n",
    "print further_context"
   ]
  },
  {
   "cell_type": "markdown",
   "metadata": {},
   "source": [
    "Now, we delve into the real data, in variable `data`.  \n",
    "It is a structured type. First let's look again at its type and length."
   ]
  },
  {
   "cell_type": "code",
   "execution_count": 17,
   "metadata": {},
   "outputs": [
    {
     "name": "stdout",
     "output_type": "stream",
     "text": [
      "type(data) = <type 'list'>\n",
      "len(data) = 75\n"
     ]
    }
   ],
   "source": [
    "print \"type(data) =\", type(data)\n",
    "print \"len(data) =\", len(data)"
   ]
  },
  {
   "cell_type": "markdown",
   "metadata": {},
   "source": [
    "So this is a list. [If not, assign `data` again above; the correct key is `'records'`.]  \n",
    "For each element of this list, print its index in the list and its type."
   ]
  },
  {
   "cell_type": "code",
   "execution_count": 22,
   "metadata": {},
   "outputs": [
    {
     "name": "stdout",
     "output_type": "stream",
     "text": [
      "index 0 type: <type 'dict'>\n",
      "index 1 type: <type 'dict'>\n",
      "index 2 type: <type 'dict'>\n",
      "index 3 type: <type 'dict'>\n",
      "index 4 type: <type 'dict'>\n",
      "index 5 type: <type 'dict'>\n",
      "index 6 type: <type 'dict'>\n",
      "index 7 type: <type 'dict'>\n",
      "index 8 type: <type 'dict'>\n",
      "index 9 type: <type 'dict'>\n",
      "index 10 type: <type 'dict'>\n",
      "index 11 type: <type 'dict'>\n",
      "index 12 type: <type 'dict'>\n",
      "index 13 type: <type 'dict'>\n",
      "index 14 type: <type 'dict'>\n",
      "index 15 type: <type 'dict'>\n",
      "index 16 type: <type 'dict'>\n",
      "index 17 type: <type 'dict'>\n",
      "index 18 type: <type 'dict'>\n",
      "index 19 type: <type 'dict'>\n",
      "index 20 type: <type 'dict'>\n",
      "index 21 type: <type 'dict'>\n",
      "index 22 type: <type 'dict'>\n",
      "index 23 type: <type 'dict'>\n",
      "index 24 type: <type 'dict'>\n",
      "index 25 type: <type 'dict'>\n",
      "index 26 type: <type 'dict'>\n",
      "index 27 type: <type 'dict'>\n",
      "index 28 type: <type 'dict'>\n",
      "index 29 type: <type 'dict'>\n",
      "index 30 type: <type 'dict'>\n",
      "index 31 type: <type 'dict'>\n",
      "index 32 type: <type 'dict'>\n",
      "index 33 type: <type 'dict'>\n",
      "index 34 type: <type 'dict'>\n",
      "index 35 type: <type 'dict'>\n",
      "index 36 type: <type 'dict'>\n",
      "index 37 type: <type 'dict'>\n",
      "index 38 type: <type 'dict'>\n",
      "index 39 type: <type 'dict'>\n",
      "index 40 type: <type 'dict'>\n",
      "index 41 type: <type 'dict'>\n",
      "index 42 type: <type 'dict'>\n",
      "index 43 type: <type 'dict'>\n",
      "index 44 type: <type 'dict'>\n",
      "index 45 type: <type 'dict'>\n",
      "index 46 type: <type 'dict'>\n",
      "index 47 type: <type 'dict'>\n",
      "index 48 type: <type 'dict'>\n",
      "index 49 type: <type 'dict'>\n",
      "index 50 type: <type 'dict'>\n",
      "index 51 type: <type 'dict'>\n",
      "index 52 type: <type 'dict'>\n",
      "index 53 type: <type 'dict'>\n",
      "index 54 type: <type 'dict'>\n",
      "index 55 type: <type 'dict'>\n",
      "index 56 type: <type 'dict'>\n",
      "index 57 type: <type 'dict'>\n",
      "index 58 type: <type 'dict'>\n",
      "index 59 type: <type 'dict'>\n",
      "index 60 type: <type 'dict'>\n",
      "index 61 type: <type 'dict'>\n",
      "index 62 type: <type 'dict'>\n",
      "index 63 type: <type 'dict'>\n",
      "index 64 type: <type 'dict'>\n",
      "index 65 type: <type 'dict'>\n",
      "index 66 type: <type 'dict'>\n",
      "index 67 type: <type 'dict'>\n",
      "index 68 type: <type 'dict'>\n",
      "index 69 type: <type 'dict'>\n",
      "index 70 type: <type 'dict'>\n",
      "index 71 type: <type 'dict'>\n",
      "index 72 type: <type 'dict'>\n",
      "index 73 type: <type 'dict'>\n",
      "index 74 type: <type 'dict'>\n"
     ]
    }
   ],
   "source": [
    "for i in range(len(data)):\n",
    "    print 'index %d type: %s' % (i, type(data[i]))\n",
    "    # fill in the details"
   ]
  },
  {
   "cell_type": "markdown",
   "metadata": {},
   "source": [
    "If you have done this correctly, all types are structured.  \n",
    "So we can print the lengths of all records.  \n",
    "For each record, print the index in the list and length of the record."
   ]
  },
  {
   "cell_type": "code",
   "execution_count": 23,
   "metadata": {},
   "outputs": [
    {
     "name": "stdout",
     "output_type": "stream",
     "text": [
      "0 length 13\n",
      "1 length 13\n",
      "2 length 12\n",
      "3 length 12\n",
      "4 length 12\n",
      "5 length 13\n",
      "6 length 13\n",
      "7 length 16\n",
      "8 length 12\n",
      "9 length 12\n",
      "10 length 12\n",
      "11 length 12\n",
      "12 length 12\n",
      "13 length 12\n",
      "14 length 12\n",
      "15 length 12\n",
      "16 length 12\n",
      "17 length 12\n",
      "18 length 12\n",
      "19 length 12\n",
      "20 length 12\n",
      "21 length 12\n",
      "22 length 12\n",
      "23 length 12\n",
      "24 length 12\n",
      "25 length 12\n",
      "26 length 12\n",
      "27 length 12\n",
      "28 length 12\n",
      "29 length 12\n",
      "30 length 12\n",
      "31 length 15\n",
      "32 length 12\n",
      "33 length 12\n",
      "34 length 13\n",
      "35 length 13\n",
      "36 length 13\n",
      "37 length 13\n",
      "38 length 13\n",
      "39 length 12\n",
      "40 length 13\n",
      "41 length 13\n",
      "42 length 12\n",
      "43 length 12\n",
      "44 length 12\n",
      "45 length 13\n",
      "46 length 13\n",
      "47 length 12\n",
      "48 length 13\n",
      "49 length 13\n",
      "50 length 12\n",
      "51 length 16\n",
      "52 length 12\n",
      "53 length 12\n",
      "54 length 14\n",
      "55 length 12\n",
      "56 length 12\n",
      "57 length 12\n",
      "58 length 12\n",
      "59 length 12\n",
      "60 length 12\n",
      "61 length 12\n",
      "62 length 13\n",
      "63 length 12\n",
      "64 length 12\n",
      "65 length 12\n",
      "66 length 13\n",
      "67 length 12\n",
      "68 length 12\n",
      "69 length 13\n",
      "70 length 12\n",
      "71 length 12\n",
      "72 length 12\n",
      "73 length 18\n",
      "74 length 13\n"
     ]
    }
   ],
   "source": [
    "for i in range(len(data)):\n",
    "    print i, \"length\", len(data[i])"
   ]
  },
  {
   "cell_type": "markdown",
   "metadata": {},
   "source": [
    "Take the index of a record with maximal length."
   ]
  },
  {
   "cell_type": "code",
   "execution_count": 25,
   "metadata": {},
   "outputs": [
    {
     "name": "stdout",
     "output_type": "stream",
     "text": [
      "18\n",
      "73\n"
     ]
    }
   ],
   "source": [
    "# fill in the dots\n",
    "len_list = []\n",
    "for i in range(len(data)):\n",
    "    length = len(data[i])\n",
    "    len_list.append(length)\n",
    "max_len = max(len_list)\n",
    "print max_len\n",
    "selected_index = len_list.index(max_len)\n",
    "print selected_index"
   ]
  },
  {
   "cell_type": "markdown",
   "metadata": {},
   "source": [
    "Let's look into this record. First we assign define a variable `record` that refers to the record in the list at the selected index."
   ]
  },
  {
   "cell_type": "code",
   "execution_count": 26,
   "metadata": {
    "collapsed": true
   },
   "outputs": [],
   "source": [
    "record = data[selected_index]"
   ]
  },
  {
   "cell_type": "markdown",
   "metadata": {},
   "source": [
    "Now, find the keys in this record and the types of the associated values."
   ]
  },
  {
   "cell_type": "code",
   "execution_count": 27,
   "metadata": {},
   "outputs": [
    {
     "name": "stdout",
     "output_type": "stream",
     "text": [
      "rnk <type 'int'>\n",
      "lag <type 'int'>\n",
      "lat <type 'float'>\n",
      "cid <type 'unicode'>\n",
      "oli <type 'unicode'>\n",
      "oid <type 'unicode'>\n",
      "idr <type 'int'>\n",
      "tdf <type 'unicode'>\n",
      "eag <type 'float'>\n",
      "idn <type 'unicode'>\n",
      "iid <type 'unicode'>\n",
      "oei <type 'unicode'>\n",
      "tna <type 'unicode'>\n",
      "eid <type 'unicode'>\n",
      "tid <type 'unicode'>\n",
      "rid <type 'unicode'>\n",
      "lng <type 'float'>\n",
      "gnl <type 'unicode'>\n"
     ]
    }
   ],
   "source": [
    "for key in record:\n",
    "    print key, type(record[key])\n",
    "    # fill in the details"
   ]
  },
  {
   "cell_type": "markdown",
   "metadata": {},
   "source": [
    "All values turn out to be numbers or (Unicode) strings.  \n",
    "So just let's print keys and values."
   ]
  },
  {
   "cell_type": "code",
   "execution_count": 28,
   "metadata": {},
   "outputs": [
    {
     "name": "stdout",
     "output_type": "stream",
     "text": [
      "rnk 5\n",
      "lag 66\n",
      "lat 42.821259\n",
      "cid col:64144\n",
      "oli Maastrichtian\n",
      "oid occ:1220179\n",
      "idr 3\n",
      "tdf nomen dubium\n",
      "eag 83.6\n",
      "idn Tyrannosaurus n. sp. turpanensis\n",
      "iid txn:68319\n",
      "oei Campanian\n",
      "tna Tyrannosaurus\n",
      "eid rei:30214\n",
      "tid txn:38613\n",
      "rid ref:52140\n",
      "lng 89.85601\n",
      "gnl Tyrannosaurus\n"
     ]
    }
   ],
   "source": [
    "for key in record:\n",
    "    print key, record[key]\n",
    "    # fill in the details"
   ]
  },
  {
   "cell_type": "markdown",
   "metadata": {},
   "source": [
    "Now do the same for the first record"
   ]
  },
  {
   "cell_type": "code",
   "execution_count": 29,
   "metadata": {},
   "outputs": [
    {
     "name": "stdout",
     "output_type": "stream",
     "text": [
      "rnk 3\n",
      "lag 66\n",
      "cid col:11917\n",
      "oid occ:139292\n",
      "eag 72.1\n",
      "lat 51.906399\n",
      "oei Maastrichtian\n",
      "tna Tyrannosaurus rex\n",
      "eid rei:22878\n",
      "tid txn:54833\n",
      "rid ref:4218\n",
      "lng -113.0289\n",
      "gnl Tyrannosaurus\n"
     ]
    }
   ],
   "source": [
    "record = data[0]\n",
    "for key in record:\n",
    "    print key, record[key]\n",
    "    # copy details from last code cell"
   ]
  },
  {
   "cell_type": "markdown",
   "metadata": {},
   "source": [
    "Some keys are absent here, but `lat` and `lng` are present in both.  \n",
    "In fact, they are present in all records.  \n",
    "They stand for latitude and longitude of the site where this Tyrannosaurus was found.\n",
    "\n",
    "Print a line that contains the latitude and longitude of the current record."
   ]
  },
  {
   "cell_type": "code",
   "execution_count": 30,
   "metadata": {},
   "outputs": [
    {
     "name": "stdout",
     "output_type": "stream",
     "text": [
      "latitude =   51.906   longitude = -113.029\n"
     ]
    }
   ],
   "source": [
    "# fill in the dots\n",
    "print 'latitude = %8.3f   longitude = %8.3f' % (record['lat'], record['lng'])"
   ]
  },
  {
   "cell_type": "markdown",
   "metadata": {},
   "source": [
    "Using the structure of `data` that you investigated, now find all pairs of latitude and longitude contained in the JSON structure.  \n",
    "So, make a loop over all records again, and for each print the corresponding latitude and longitude"
   ]
  },
  {
   "cell_type": "code",
   "execution_count": 33,
   "metadata": {},
   "outputs": [
    {
     "name": "stdout",
     "output_type": "stream",
     "text": [
      "latitude =   51.906   longitude = -113.029\n",
      "latitude =   51.933   longitude = -113.233\n",
      "latitude =   50.729   longitude = -111.526\n",
      "latitude =   50.727   longitude = -111.525\n",
      "latitude =   43.050   longitude = -104.483\n",
      "latitude =   40.386   longitude = -104.492\n",
      "latitude =   48.626   longitude =   44.059\n",
      "latitude =   47.536   longitude = -107.083\n",
      "latitude =   45.949   longitude = -103.962\n",
      "latitude =   45.949   longitude = -103.962\n",
      "latitude =   46.100   longitude = -103.300\n",
      "latitude =   45.978   longitude = -103.754\n",
      "latitude =   46.026   longitude = -103.767\n",
      "latitude =   46.026   longitude = -103.767\n",
      "latitude =   46.026   longitude = -103.767\n",
      "latitude =   46.026   longitude = -103.767\n",
      "latitude =   46.026   longitude = -103.767\n",
      "latitude =   46.137   longitude = -103.795\n",
      "latitude =   46.406   longitude = -103.940\n",
      "latitude =   46.382   longitude = -103.964\n",
      "latitude =   46.450   longitude = -103.023\n",
      "latitude =   46.464   longitude = -104.023\n",
      "latitude =   46.334   longitude = -103.898\n",
      "latitude =   46.334   longitude = -103.898\n",
      "latitude =   46.334   longitude = -103.898\n",
      "latitude =   46.464   longitude = -104.002\n",
      "latitude =   46.464   longitude = -104.002\n",
      "latitude =   46.363   longitude = -103.898\n",
      "latitude =   45.939   longitude = -103.946\n",
      "latitude =   45.939   longitude = -103.946\n",
      "latitude =   45.939   longitude = -103.946\n",
      "latitude =   43.442   longitude = -104.412\n",
      "latitude =   47.964   longitude = -106.456\n",
      "latitude =   47.964   longitude = -106.456\n",
      "latitude =   48.287   longitude = -105.840\n",
      "latitude =   43.116   longitude = -104.637\n",
      "latitude =   39.751   longitude = -105.204\n",
      "latitude =   39.751   longitude = -105.204\n",
      "latitude =   39.867   longitude = -105.110\n",
      "latitude =   39.613   longitude = -105.016\n",
      "latitude =   39.837   longitude = -105.037\n",
      "latitude =   39.867   longitude = -105.110\n",
      "latitude =   43.128   longitude = -104.072\n",
      "latitude =   49.517   longitude = -108.817\n",
      "latitude =   33.154   longitude = -107.192\n",
      "latitude =   43.167   longitude = -104.533\n",
      "latitude =   43.267   longitude = -104.650\n",
      "latitude =   45.651   longitude = -103.624\n",
      "latitude =   47.567   longitude = -107.083\n",
      "latitude =   43.369   longitude = -104.698\n",
      "latitude =   47.536   longitude = -107.083\n",
      "latitude =   47.536   longitude = -107.083\n",
      "latitude =   42.649   longitude = -105.239\n",
      "latitude =   29.439   longitude = -103.160\n",
      "latitude =   47.398   longitude = -109.651\n",
      "latitude =   45.531   longitude = -101.626\n",
      "latitude =   45.063   longitude = -103.452\n",
      "latitude =   47.800   longitude = -106.100\n",
      "latitude =   41.935   longitude = -106.890\n",
      "latitude =   41.800   longitude = -107.000\n",
      "latitude =   41.940   longitude = -106.876\n",
      "latitude =   41.935   longitude = -106.882\n",
      "latitude =   45.730   longitude = -104.891\n",
      "latitude =   46.413   longitude = -103.502\n",
      "latitude =   46.413   longitude = -103.502\n",
      "latitude =   43.422   longitude = -104.495\n",
      "latitude =   45.349   longitude = -105.240\n",
      "latitude =   44.936   longitude = -108.854\n",
      "latitude =   46.885   longitude = -110.603\n",
      "latitude =   31.000   longitude = -109.000\n",
      "latitude =   47.733   longitude = -106.256\n",
      "latitude =   49.607   longitude = -114.107\n",
      "latitude =   45.054   longitude = -101.968\n",
      "latitude =   42.821   longitude =   89.856\n",
      "latitude =   47.600   longitude = -107.000\n"
     ]
    }
   ],
   "source": [
    "# fill in this cell\n",
    "for i in range(len(data)):\n",
    "    records = data[i]\n",
    "    print 'latitude = %8.3f   longitude = %8.3f' % (records['lat'], records['lng'])"
   ]
  },
  {
   "cell_type": "markdown",
   "metadata": {},
   "source": [
    "Finally, put all essential parts together into one script that you can run outside this notebook as well.  \n",
    "Skip all cells that were used for experimenting; keep only those pieces of code that are necessary for obtaining the list of latitues and longitudes."
   ]
  },
  {
   "cell_type": "code",
   "execution_count": 34,
   "metadata": {},
   "outputs": [
    {
     "name": "stdout",
     "output_type": "stream",
     "text": [
      "latitude =   51.906   longitude = -113.029\n",
      "latitude =   51.933   longitude = -113.233\n",
      "latitude =   50.729   longitude = -111.526\n",
      "latitude =   50.727   longitude = -111.525\n",
      "latitude =   43.050   longitude = -104.483\n",
      "latitude =   40.386   longitude = -104.492\n",
      "latitude =   48.626   longitude =   44.059\n",
      "latitude =   47.536   longitude = -107.083\n",
      "latitude =   45.949   longitude = -103.962\n",
      "latitude =   45.949   longitude = -103.962\n",
      "latitude =   46.100   longitude = -103.300\n",
      "latitude =   45.978   longitude = -103.754\n",
      "latitude =   46.026   longitude = -103.767\n",
      "latitude =   46.026   longitude = -103.767\n",
      "latitude =   46.026   longitude = -103.767\n",
      "latitude =   46.026   longitude = -103.767\n",
      "latitude =   46.026   longitude = -103.767\n",
      "latitude =   46.137   longitude = -103.795\n",
      "latitude =   46.406   longitude = -103.940\n",
      "latitude =   46.382   longitude = -103.964\n",
      "latitude =   46.450   longitude = -103.023\n",
      "latitude =   46.464   longitude = -104.023\n",
      "latitude =   46.334   longitude = -103.898\n",
      "latitude =   46.334   longitude = -103.898\n",
      "latitude =   46.334   longitude = -103.898\n",
      "latitude =   46.464   longitude = -104.002\n",
      "latitude =   46.464   longitude = -104.002\n",
      "latitude =   46.363   longitude = -103.898\n",
      "latitude =   45.939   longitude = -103.946\n",
      "latitude =   45.939   longitude = -103.946\n",
      "latitude =   45.939   longitude = -103.946\n",
      "latitude =   43.442   longitude = -104.412\n",
      "latitude =   47.964   longitude = -106.456\n",
      "latitude =   47.964   longitude = -106.456\n",
      "latitude =   48.287   longitude = -105.840\n",
      "latitude =   43.116   longitude = -104.637\n",
      "latitude =   39.751   longitude = -105.204\n",
      "latitude =   39.751   longitude = -105.204\n",
      "latitude =   39.867   longitude = -105.110\n",
      "latitude =   39.613   longitude = -105.016\n",
      "latitude =   39.837   longitude = -105.037\n",
      "latitude =   39.867   longitude = -105.110\n",
      "latitude =   43.128   longitude = -104.072\n",
      "latitude =   49.517   longitude = -108.817\n",
      "latitude =   33.154   longitude = -107.192\n",
      "latitude =   43.167   longitude = -104.533\n",
      "latitude =   43.267   longitude = -104.650\n",
      "latitude =   45.651   longitude = -103.624\n",
      "latitude =   47.567   longitude = -107.083\n",
      "latitude =   43.369   longitude = -104.698\n",
      "latitude =   47.536   longitude = -107.083\n",
      "latitude =   47.536   longitude = -107.083\n",
      "latitude =   42.649   longitude = -105.239\n",
      "latitude =   29.439   longitude = -103.160\n",
      "latitude =   47.398   longitude = -109.651\n",
      "latitude =   45.531   longitude = -101.626\n",
      "latitude =   45.063   longitude = -103.452\n",
      "latitude =   47.800   longitude = -106.100\n",
      "latitude =   41.935   longitude = -106.890\n",
      "latitude =   41.800   longitude = -107.000\n",
      "latitude =   41.940   longitude = -106.876\n",
      "latitude =   41.935   longitude = -106.882\n",
      "latitude =   45.730   longitude = -104.891\n",
      "latitude =   46.413   longitude = -103.502\n",
      "latitude =   46.413   longitude = -103.502\n",
      "latitude =   43.422   longitude = -104.495\n",
      "latitude =   45.349   longitude = -105.240\n",
      "latitude =   44.936   longitude = -108.854\n",
      "latitude =   46.885   longitude = -110.603\n",
      "latitude =   31.000   longitude = -109.000\n",
      "latitude =   47.733   longitude = -106.256\n",
      "latitude =   49.607   longitude = -114.107\n",
      "latitude =   45.054   longitude = -101.968\n",
      "latitude =   42.821   longitude =   89.856\n",
      "latitude =   47.600   longitude = -107.000\n"
     ]
    }
   ],
   "source": [
    "# fill in this cell\n",
    "#file Trex_reduced.json should be in the same folder as this script\n",
    "INFILENAME = 'Trex_reduced.json'\n",
    "\n",
    "#inport module json\n",
    "import json\n",
    "\n",
    "#get the json file into memory\n",
    "infile = open(INFILENAME, 'r')\n",
    "#read the entire file into one string\n",
    "trex_json = infile.read()\n",
    "infile.close()\n",
    "\n",
    "#use module json do the parsing\n",
    "#it produces a python object that contains all data as found in the string from of the Json file\n",
    "trex = json.loads(trex_json)\n",
    "del trex_json\n",
    "\n",
    "#extract the real data\n",
    "data = trex['records']\n",
    "\n",
    "for i in range(len(data)):\n",
    "    record = data[i]\n",
    "    print 'latitude = %8.3f   longitude = %8.3f' % (record['lat'], record['lng'])"
   ]
  },
  {
   "cell_type": "code",
   "execution_count": null,
   "metadata": {
    "collapsed": true
   },
   "outputs": [],
   "source": []
  }
 ],
 "metadata": {
  "kernelspec": {
   "display_name": "Python 2",
   "language": "python",
   "name": "python2"
  },
  "language_info": {
   "codemirror_mode": {
    "name": "ipython",
    "version": 2
   },
   "file_extension": ".py",
   "mimetype": "text/x-python",
   "name": "python",
   "nbconvert_exporter": "python",
   "pygments_lexer": "ipython2",
   "version": "2.7.13"
  }
 },
 "nbformat": 4,
 "nbformat_minor": 2
}
