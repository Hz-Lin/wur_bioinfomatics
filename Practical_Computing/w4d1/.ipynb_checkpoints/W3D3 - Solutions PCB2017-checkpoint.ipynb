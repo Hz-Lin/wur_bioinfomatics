{
 "cells": [
  {
   "cell_type": "markdown",
   "metadata": {},
   "source": [
    "# W3D3: Files\n",
    "\n",
    "## Ex1: Reading a fasta file, collect all sequence in a single variable 'dna'\n",
    "\n",
    "Note that this was intended as an extension on the ORF solution (which, btw, was not that easy to solve). The main learning goals were twofold:\n",
    "- you read stuff from a file, in stead of reading in by other means\n",
    "- you can collect stuff from multiple lines, and then concatenate into a single string\n",
    "- **you can add that additional piece of code to an existing script to increase the functionality.**\n",
    "\n",
    "This is a great opportunity to demonstrate the use of tiny, supertransparent example input for developing and debugging. Consider this tiny example file, called `test.txt`."
   ]
  },
  {
   "cell_type": "code",
   "execution_count": null,
   "metadata": {
    "collapsed": false
   },
   "outputs": [],
   "source": [
    "%%bash\n",
    "cat test.txt"
   ]
  },
  {
   "cell_type": "code",
   "execution_count": null,
   "metadata": {
    "collapsed": false
   },
   "outputs": [],
   "source": [
    "in_file_name = 'test.txt'\n",
    "\n",
    "infile = open(in_file_name, 'r')\n",
    "infile.readline()\n",
    "dna = ''\n",
    "for line in infile:\n",
    "    dna += line.strip('\\n')\n",
    "infile.close()\n",
    "\n",
    "print dna"
   ]
  },
  {
   "cell_type": "markdown",
   "metadata": {},
   "source": [
    "## Ex2: selecting lines from a file\n",
    "\n",
    "This solution is partially complete (it does not write to outfile), but is less complex and in addition shows how to 'prototype' solutions.\n",
    "\n",
    "First, make a small testfile:"
   ]
  },
  {
   "cell_type": "code",
   "execution_count": null,
   "metadata": {
    "collapsed": false
   },
   "outputs": [],
   "source": [
    "%%bash\n",
    "head plantsvshuman_outmft6.csv | head >test_plantsvshuman_outmft6.csv\n",
    "cat test_plantsvshuman_outmft6.csv"
   ]
  },
  {
   "cell_type": "markdown",
   "metadata": {},
   "source": [
    "Then, we do the 'bare minimum'. For prototyping, output is going to 'Standard Out'; we can always modify it to write to file later. \n",
    "\n",
    "Important: the procedure is as follows: loop through file, for each line split the individual fields on `<TAB>`. This results in a list. Then pick the necessary elements from the list. And remember, each element is of type 'string', so you have to convert to a numerical value because you need to do numerical subtraction. "
   ]
  },
  {
   "cell_type": "code",
   "execution_count": null,
   "metadata": {
    "collapsed": false
   },
   "outputs": [],
   "source": [
    "in_filename = 'test_plantsvshuman_outmft6.csv'\n",
    "infile = open(in_filename, 'rU')\n",
    "\n",
    "infile.readline() # read the first line, don't do anything with it\n",
    "\n",
    "for line in infile:                   # then loop through the remaining lines\n",
    "    line = line.strip('\\n')           # remove newline\n",
    "    line_elements = line.split('\\t')  # split on tab, returns list\n",
    "    end_q = int(line_elements[7])     # end_q is the 8th column (index 7!); conv. to int!\n",
    "    start_q = int(line_elements[6])   # start_q is the 7th column (index 6!); conv. to int!\n",
    "    end_t = int(line_elements[9])     # end_t is the 10th column (index 9!); conv. to int!\n",
    "    start_t = int(line_elements[8])   # start_t is the 9th column (index 8!); conv. to int!\n",
    "    if end_q - start_q == end_t - start_t: # calculate difference \n",
    "        print line\n",
    "\n",
    "infile.close()"
   ]
  },
  {
   "cell_type": "markdown",
   "metadata": {},
   "source": [
    "## Ex3: Crane data - tabular format to XML\n",
    "\n",
    "The crane data should be familiar by now. But, as always, it's a good practice to first quickly investigate the contents before starting to process the file:"
   ]
  },
  {
   "cell_type": "code",
   "execution_count": null,
   "metadata": {
    "collapsed": false
   },
   "outputs": [],
   "source": [
    "%%bash\n",
    "head -3 first_and_last_100_lines_crane_data.txt"
   ]
  },
  {
   "cell_type": "markdown",
   "metadata": {},
   "source": [
    "The output file is in XML (or, the KML variety) format. This requires writing a few default header lines. "
   ]
  },
  {
   "cell_type": "code",
   "execution_count": null,
   "metadata": {
    "collapsed": false
   },
   "outputs": [],
   "source": [
    "in_filename = 'first_and_last_100_lines_crane_data.txt'\n",
    "out_filename = 'crane_data_v2.xml'\n",
    "\n",
    "XML_HEAD = '<?xml version=\"1.0\" encoding=\"utf-8\"?>'\n",
    "CRANEDATA_START = '<CraneData>'\n",
    "CRANEDATA_END = '</CraneData>'\n",
    "\n",
    "outfile = open(out_filename, 'w')\n",
    "\n",
    "outfile.write(XML_HEAD+'\\n')\n",
    "outfile.write(CRANEDATA_START+'\\n')\n"
   ]
  },
  {
   "cell_type": "markdown",
   "metadata": {},
   "source": [
    "Then we open the tabular input file for reading. We read the first line first. This is the header, and we store all the field names in a variable `col_names`. Note that `col_names` is a list"
   ]
  },
  {
   "cell_type": "code",
   "execution_count": null,
   "metadata": {
    "collapsed": false
   },
   "outputs": [],
   "source": [
    "infile = open(in_filename, 'r')\n",
    "headerline = infile.readline()\n",
    "col_names = headerline.strip().split('\\t')"
   ]
  },
  {
   "cell_type": "markdown",
   "metadata": {},
   "source": [
    "Let's see what is in `col_names`:"
   ]
  },
  {
   "cell_type": "code",
   "execution_count": null,
   "metadata": {
    "collapsed": false
   },
   "outputs": [],
   "source": [
    "col_names"
   ]
  },
  {
   "cell_type": "markdown",
   "metadata": {},
   "source": [
    "Then we loop through the rest of the lines. Every line gets split after removing newline. The index values of each list that holds the data (`col_data`) corresponds to the list that holds the names of the columns (`col_names`). Every element of the column then is inserted in the KML file. Note that 'tag name' is derived from list `col_names`, while the values are derived from the list `col_data`.\n",
    "All fields of one line together form an 'Event'. Each 'Event' is opened by the `<Event>` tag and closed by the `</Event>` tag."
   ]
  },
  {
   "cell_type": "code",
   "execution_count": null,
   "metadata": {
    "collapsed": true
   },
   "outputs": [],
   "source": [
    "for line in infile:\n",
    "    col_data = line.strip('\\n').split('\\t')\n",
    "    outfile.write('   <Event>\\n')\n",
    "    for i in range(len(col_names)):\n",
    "        tag = col_names[i]\n",
    "        value = col_data[i]\n",
    "        out_line = '      <%s>%s</%s>\\n' % (tag, value, tag)\n",
    "        outfile.write(out_line)\n",
    "    outfile.write('   </Event>\\n')"
   ]
  },
  {
   "cell_type": "markdown",
   "metadata": {},
   "source": [
    "Only task remaining is writing the mandatory end-line for the XML file, and close-up shop. "
   ]
  },
  {
   "cell_type": "code",
   "execution_count": null,
   "metadata": {
    "collapsed": true
   },
   "outputs": [],
   "source": [
    "outfile.write(CRANEDATA_END+'\\n')\n",
    "outfile.close()\n",
    "infile.close()"
   ]
  },
  {
   "cell_type": "code",
   "execution_count": null,
   "metadata": {
    "collapsed": false
   },
   "outputs": [],
   "source": [
    "%%bash\n",
    "head -50 crane_data_v2.xml"
   ]
  },
  {
   "cell_type": "code",
   "execution_count": null,
   "metadata": {
    "collapsed": true
   },
   "outputs": [],
   "source": []
  }
 ],
 "metadata": {
  "kernelspec": {
   "display_name": "Python 2",
   "language": "python",
   "name": "python2"
  },
  "language_info": {
   "codemirror_mode": {
    "name": "ipython",
    "version": 2
   },
   "file_extension": ".py",
   "mimetype": "text/x-python",
   "name": "python",
   "nbconvert_exporter": "python",
   "pygments_lexer": "ipython2",
   "version": "2.7.11"
  },
  "latex_envs": {
   "LaTeX_envs_menu_present": true,
   "autocomplete": true,
   "bibliofile": "biblio.bib",
   "cite_by": "apalike",
   "current_citInitial": 1,
   "eqLabelWithNumbers": true,
   "eqNumInitial": 1,
   "hotkeys": {
    "equation": "Ctrl-E",
    "itemize": "Ctrl-I"
   },
   "labels_anchors": false,
   "latex_user_defs": false,
   "report_style_numbering": false,
   "user_envs_cfg": false
  }
 },
 "nbformat": 4,
 "nbformat_minor": 0
}
