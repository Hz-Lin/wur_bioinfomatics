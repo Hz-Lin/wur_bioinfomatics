{
 "cells": [
  {
   "cell_type": "markdown",
   "metadata": {},
   "source": [
    "# Chapter 9: Decisions and loops, using http://rosalind.info\n",
    "\n",
    "Go to this link to enroll in the Rosalind class for this course: http://rosalind.info/classes/enroll/10cba3c42b/\n",
    "\n",
    "The class contains seven exercises, the first five are for today (the fifth is optional)."
   ]
  },
  {
   "cell_type": "markdown",
   "metadata": {},
   "source": [
    "### Counting DNA nucleotides\n",
    "We will start with the first exercise, counting the DNA nucleotides. Rosalind provides a sample data set, in this case a short DNA sequence. You can use that to develop the algorithm. If the code works, you can click the Download dataset button, this will give you a **rosalind_dna.txt** file in the Downloads folder. That file will contain a longer DNA sequence on which you can run your algorithm. You have five minutes to give the solution.\n",
    "\n",
    "Let's start with creating a variable *dna* that contains the sample sequence."
   ]
  },
  {
   "cell_type": "code",
   "execution_count": 1,
   "metadata": {
    "collapsed": true
   },
   "outputs": [],
   "source": [
    "dna = \"AGCTTTTCATTCTGACTGCAACGGGCAATATGTCTCTGTGTGGATTAAAAAAAGAGTGTCTGATAGCAGC\""
   ]
  },
  {
   "cell_type": "markdown",
   "metadata": {},
   "source": [
    "The next step is counting each of the four nucleotides, Chapter 9 of the book already gives most of the solution to this exercise. You can use a **string method** for this, first let's have a look at the methods that are available by using the **dir** function on the dna string."
   ]
  },
  {
   "cell_type": "code",
   "execution_count": 2,
   "metadata": {
    "collapsed": true
   },
   "outputs": [],
   "source": [
    "#dir(dna)"
   ]
  },
  {
   "cell_type": "markdown",
   "metadata": {},
   "source": [
    "Find the approprate method and add the proper code below to get the counts for each of the nucleotides."
   ]
  },
  {
   "cell_type": "code",
   "execution_count": 3,
   "metadata": {
    "collapsed": true
   },
   "outputs": [],
   "source": [
    "NumberA = dna.count(\"A\")\n",
    "NumberC = dna.count(\"C\")\n",
    "NumberG = dna.count(\"G\")\n",
    "NumberT = dna.count(\"T\")"
   ]
  },
  {
   "cell_type": "markdown",
   "metadata": {},
   "source": [
    "For Rosalind we have make sure the counts are printed on one line, for instance like this:"
   ]
  },
  {
   "cell_type": "code",
   "execution_count": 4,
   "metadata": {
    "collapsed": false
   },
   "outputs": [
    {
     "name": "stdout",
     "output_type": "stream",
     "text": [
      "20 12 17 21\n"
     ]
    }
   ],
   "source": [
    "print NumberA,NumberC,NumberG,NumberT"
   ]
  },
  {
   "cell_type": "markdown",
   "metadata": {},
   "source": [
    "If the result matches the sample output of the Rosalind exercise you could try the exercise with 'real' data, but for now let's take the six lines of code for this algorithm out of the Notebook and first run them through the interactive Python prompt and then as a script."
   ]
  },
  {
   "cell_type": "markdown",
   "metadata": {},
   "source": [
    "### The interactive Python prompt\n",
    "Start a new terminal window and type **python**. You should see some text, and then a line with three **>** characters  followed by a blinking cursor. Type the first line defining the *dna* variable and press enter. Now type dna and press enter to see the value of the dna variable.\n",
    "```BASH\n",
    ">>> dna = \"AGCTTTTCATTCTGACTGCAACGGGCAATATGTCTCTGTGTGGATTAAAAAAAGAGTGTCTGATAGCAGC\"\n",
    ">>> dna\n",
    "'AGCTTTTCATTCTGACTGCAACGGGCAATATGTCTCTGTGTGGATTAAAAAAAGAGTGTCTGATAGCAGC'\n",
    "```\n",
    "\n",
    "Do the same for the four lines where you count each of the nucleotides and lastly type the print line.\n",
    "```BASH\n",
    ">>> dna = \"AGCTTTTCATTCTGACTGCAACGGGCAATATGTCTCTGTGTGGATTAAAAAAAGAGTGTCTGATAGCAGC\"\n",
    ">>> NumberA = dna.count(\"A\")\n",
    ">>> NumberC = dna.count(\"C\")\n",
    ">>> NumberG = dna.count(\"G\")\n",
    ">>> NumberT = dna.count(\"T\")\n",
    ">>> print NumberA,NumberC,NumberG,NumberT\n",
    "20 12 17 21\n",
    "```"
   ]
  },
  {
   "cell_type": "markdown",
   "metadata": {},
   "source": [
    "### A Python script\n",
    "In the **~/exercises/Week3/Day1** folder create a new text file called **dna.py** using nano (or another text editor). In this file, copy the six lines of code for this exercise. Save the file and run it like this: \n",
    "```BASH\n",
    "python dna.py\n",
    "```\n",
    "\n",
    "Does it produce the output that you expect?\n",
    "\n",
    "Now add this line as the first line in the file:\n",
    "```BASH\n",
    "#!/usr/bin/env python\n",
    "```\n",
    "and make the file executable with:\n",
    "```BASH\n",
    "chmod a+x dna.py\n",
    "```\n",
    "Now you should be able to run the script as:\n",
    "```BASH\n",
    "./dna.py\n",
    "```"
   ]
  },
  {
   "cell_type": "markdown",
   "metadata": {},
   "source": [
    "### Reading data from a pipe\n",
    "\n",
    "Now if you want to test the script with 'real' data, you can click the **Download dataset** button which will give you a **rosalind_dna.txt** file in the Downloads folder. You could copy the DNA sequence from this file into your script as the new value of the *dna* variable, but it would be easier if you could use the **rosalind_dna.txt** as input for your script. We have not covered reading files from Python yet, but it would already be good if the script could read from a pipe **|**, like we have seen last week for the **grep** shell command.\n",
    "```BASH\n",
    "cat rosalind_dna.txt | ./dna.py\n",
    "```\n",
    "This Python function for this called *raw_input()*, this function reads a line of text from the pipe. Change your script like this:\n",
    "```python\n",
    "#dna = \"AGCTTTTCATTCTGACTGCAACGGGCAATATGTCTCTGTGTGGATTAAAAAAAGAGTGTCTGATAGCAGC\"\n",
    "dna = raw_input()\n",
    "```\n",
    "Test that it works using the **dna.txt** file.\n",
    "\n",
    "Now you are ready to do the Rosalind exercise. Remember, after clicking the **Download dataset** button you have five minutes to do give the answer. Good luck!"
   ]
  },
  {
   "cell_type": "markdown",
   "metadata": {},
   "source": [
    "### Running Python code\n",
    "\n",
    "So far we have used three ways to run Python code:\n",
    "1. the Notebook\n",
    "2. the interactive prompt\n",
    "3. a script\n",
    "\n",
    "When would you use a Notebook, when the interactive prompt and when would a script be more appropriate?"
   ]
  },
  {
   "cell_type": "markdown",
   "metadata": {},
   "source": [
    "### Transcribing DNA into RNA\n",
    "\n",
    "Congratulations, you completed your first Rosalind exercise. In this next exercise the aim is to transcribe DNA into RNA, which in practice means replacing all Ts with Us. This can be solved directy using the replace method, like so:"
   ]
  },
  {
   "cell_type": "code",
   "execution_count": 5,
   "metadata": {
    "collapsed": false
   },
   "outputs": [
    {
     "name": "stdout",
     "output_type": "stream",
     "text": [
      "GAUGGAACUUGACUACGUAAAUU\n"
     ]
    }
   ],
   "source": [
    "dna = \"GATGGAACTTGACTACGTAAATT\"\n",
    "rna = dna.replace(\"T\",\"U\")\n",
    "print rna"
   ]
  },
  {
   "cell_type": "markdown",
   "metadata": {},
   "source": [
    "But that is too easy, so let's try to solve it using a **for-loop** and an **if** statement. We will read each nucleotide in the DNA sequence, starting with the first, and one letter a time grow the RNA sequence. For this we use a variable *rna* that is an empty string at the start of the for-loop. Inside the for-loop we add each nucleotide to the *rna* string (so this string grows with one nucleotide in each iteration of the loop), untill every nucleotide is copied to the RNA sequence."
   ]
  },
  {
   "cell_type": "code",
   "execution_count": 1,
   "metadata": {
    "collapsed": false
   },
   "outputs": [
    {
     "name": "stdout",
     "output_type": "stream",
     "text": [
      "G\n",
      "GA\n",
      "GAT\n",
      "GATG\n",
      "GATGG\n",
      "GATGGA\n",
      "GATGGAA\n",
      "GATGGAAC\n",
      "GATGGAACT\n",
      "GATGGAACTT\n",
      "GATGGAACTTG\n",
      "GATGGAACTTGA\n",
      "GATGGAACTTGAC\n",
      "GATGGAACTTGACT\n",
      "GATGGAACTTGACTA\n",
      "GATGGAACTTGACTAC\n",
      "GATGGAACTTGACTACG\n",
      "GATGGAACTTGACTACGT\n",
      "GATGGAACTTGACTACGTA\n",
      "GATGGAACTTGACTACGTAA\n",
      "GATGGAACTTGACTACGTAAA\n",
      "GATGGAACTTGACTACGTAAAT\n",
      "GATGGAACTTGACTACGTAAATT\n"
     ]
    }
   ],
   "source": [
    "dna = \"GATGGAACTTGACTACGTAAATT\"\n",
    "rna = \"\"\n",
    "for nucleotide in dna:\n",
    "    rna = rna + nucleotide\n",
    "    print rna"
   ]
  },
  {
   "cell_type": "markdown",
   "metadata": {},
   "source": [
    "By moving the print statement to the left, we take it out of the for-loop. So now we only print the value of *rna* after the loop is finished."
   ]
  },
  {
   "cell_type": "code",
   "execution_count": 7,
   "metadata": {
    "collapsed": false
   },
   "outputs": [
    {
     "name": "stdout",
     "output_type": "stream",
     "text": [
      "GATGGAACTTGACTACGTAAATT\n"
     ]
    }
   ],
   "source": [
    "dna = \"GATGGAACTTGACTACGTAAATT\"\n",
    "rna = \"\"\n",
    "for nucleotide in dna:\n",
    "    rna = rna + nucleotide\n",
    "\n",
    "print rna"
   ]
  },
  {
   "cell_type": "markdown",
   "metadata": {},
   "source": [
    "But now we only copy the DNA, so we should add the functionality to replace every **T** for a **U**. This can be done inside the loop, using an if-statement."
   ]
  },
  {
   "cell_type": "code",
   "execution_count": 8,
   "metadata": {
    "collapsed": false
   },
   "outputs": [
    {
     "name": "stdout",
     "output_type": "stream",
     "text": [
      "GAUGGAACUUGACUACGUAAAUU\n"
     ]
    }
   ],
   "source": [
    "dna = \"GATGGAACTTGACTACGTAAATT\"\n",
    "rna = \"\"\n",
    "for nucleotide in dna:\n",
    "    if nucleotide == \"T\":\n",
    "        nucleotide = \"U\"         \n",
    "    rna = rna + nucleotide\n",
    "\n",
    "print rna"
   ]
  },
  {
   "cell_type": "markdown",
   "metadata": {},
   "source": [
    "Fix to if-block to do the right thing (which does not including printing messages). If the result matches the Rosalind sample solution, create a Python script **rna.py** with the required lines of code. Test it and when you are confident that it works, do the exercise:\n",
    "```BASH\n",
    "cat rosalind_rna.txt | ./rna.py\n",
    "```"
   ]
  },
  {
   "cell_type": "markdown",
   "metadata": {},
   "source": [
    "### Complementing a strand of DNA\n",
    "\n",
    "In this exercise we have to produce the reverse complement of a DNA sequence. The first thing we do is recognize that this problem consists of two smaller problems: making the complement of a sequence and reversing a sequence. Again there is a 'simple' solution that is only a few lines. For the complement we could use the translate() function, for the reverse we could use a so called slicing operation that reverses the characters in the string."
   ]
  },
  {
   "cell_type": "code",
   "execution_count": 9,
   "metadata": {
    "collapsed": false
   },
   "outputs": [
    {
     "name": "stdout",
     "output_type": "stream",
     "text": [
      "ACCGGGTTTT\n"
     ]
    }
   ],
   "source": [
    "from string import maketrans\n",
    "\n",
    "dna = \"AAAACCCGGT\"\n",
    "\n",
    "trans = maketrans(\"ACGT\",\"TGCA\")\n",
    "complement = dna.translate(trans)\n",
    "\n",
    "revc = complement[::-1]\n",
    "\n",
    "print revc"
   ]
  },
  {
   "cell_type": "markdown",
   "metadata": {},
   "source": [
    "Unfortunately this code uses some concepts that we have not yet covered... However, as before this can also be solved using for-loops and if-statements. Below I give you some code to start, with the solution for the previous exercise you should have the tools to make it work."
   ]
  },
  {
   "cell_type": "code",
   "execution_count": 10,
   "metadata": {
    "collapsed": false
   },
   "outputs": [
    {
     "name": "stdout",
     "output_type": "stream",
     "text": [
      "TTTTGGGCCA\n",
      "ACCGGGTTTT\n"
     ]
    }
   ],
   "source": [
    "dna = \"AAAACCCGGT\"\n",
    "\n",
    "#create the complement, change T -> A, A ->T, C ->G, G->C\n",
    "complement = \"\"\n",
    "for nucleotide in dna:\n",
    "    if nucleotide == \"T\":\n",
    "        nucleotide = \"A\"\n",
    "    elif nucleotide == \"A\":\n",
    "        nucleotide = \"T\"\n",
    "    elif nucleotide == \"C\":\n",
    "        nucleotide = \"G\"\n",
    "    elif nucleotide == \"G\":\n",
    "        nucleotide = \"C\"\n",
    "    else:\n",
    "        #should not get here\n",
    "        pass\n",
    "    \n",
    "    complement = complement + nucleotide\n",
    "\n",
    "#check that it is correct\n",
    "print complement\n",
    "\n",
    "#now reverse the sequence\n",
    "revc = \"\"\n",
    "for nucleotide in complement:\n",
    "    #revc = revc + nucleotide\n",
    "    revc = nucleotide + revc\n",
    "    \n",
    "print revc"
   ]
  },
  {
   "cell_type": "markdown",
   "metadata": {},
   "source": [
    "If you have a working solution, create a Python script (**revc.py**) with the code and try to solve the Rosalind exercise."
   ]
  },
  {
   "cell_type": "markdown",
   "metadata": {},
   "source": [
    "### Translating RNA into protein\n",
    "Now it gets a little more complicated, in this exercise an RNA sequence should be translated to a protein sequence. Again we can split the task in smaller separate problems. First we have to separate the RNA sequence in triplets to get the individual codons, then we can translate each codon to the corresponding amino acid. \n",
    "\n",
    "For finding the codons let's Consider this fragment:\n",
    "```python\n",
    "rna = \"AUGGCCAUG\"\n",
    "```\n",
    "The first codon is AUG, the second is GCC, the third codon is AUG. If we look at the start positions in the string, the first codon starts at position 0 (the first position in a string/list has the index 0 instead of 1), the second starts at position 3 and the third starts at position 6:\n",
    "```\n",
    "AUGGCCAUG\n",
    "012345678\n",
    "```\n",
    "or:\n",
    "```\n",
    "AUG GCC AUG\n",
    "012 345 678\n",
    "```\n",
    "So each codon is a substring of *rna* with a length of three. The way to get these substrings is similar to getting a slice of a list, which will be covered in more detail tomorrow:\n",
    "```python\n",
    "rna[start_position:start_position+3]\n",
    "```\n",
    "The starting positions are multiples of three, see the code below"
   ]
  },
  {
   "cell_type": "code",
   "execution_count": 11,
   "metadata": {
    "collapsed": false
   },
   "outputs": [
    {
     "name": "stdout",
     "output_type": "stream",
     "text": [
      "We have 17 codons\n",
      "codon 0: AUG\n",
      "codon 1: GCC\n",
      "codon 2: AUG\n",
      "codon 3: GCG\n",
      "codon 4: CCC\n",
      "codon 5: AGA\n",
      "codon 6: ACU\n",
      "codon 7: GAG\n",
      "codon 8: AUC\n",
      "codon 9: AAU\n",
      "codon 10: AGU\n",
      "codon 11: ACC\n",
      "codon 12: CGU\n",
      "codon 13: AUU\n",
      "codon 14: AAC\n",
      "codon 15: GGG\n",
      "codon 16: UGA\n"
     ]
    }
   ],
   "source": [
    "rna = \"AUGGCCAUGGCGCCCAGAACUGAGAUCAAUAGUACCCGUAUUAACGGGUGA\"\n",
    "\n",
    "#first we need to know the number of codons\n",
    "codon_count = len(rna)/3\n",
    "print \"We have %d codons\"%codon_count\n",
    "\n",
    "#then we loop through the codons, starting with codon 0 (typical for Python)\n",
    "for codon_number in range(0,codon_count):\n",
    "    codon_start = codon_number * 3\n",
    "    codon = rna[codon_start:codon_start+3]\n",
    "    print \"codon %d: %s\"%(codon_number, codon)\n"
   ]
  },
  {
   "cell_type": "markdown",
   "metadata": {},
   "source": [
    "### Using a dictionary to translates codons to amino acids\n",
    "Now we have the codons, we can translate each codon to the corresponding amino acid. A very useful datastructure to do that is the dictionary. A dictionary consists of key-value combinations. A way to define an empty dictionary is like this:\n",
    "```python\n",
    "codon_table = dict()\n",
    "```\n",
    "We can then set key-value combinations like this:\n",
    "```python\n",
    "codon_table[\"UUU\"] = \"F\"\n",
    "```\n",
    "Now we can use the key to get the corresponding value:\n",
    "```python\n",
    "print codon_table[\"UUU\"]\n",
    "```"
   ]
  },
  {
   "cell_type": "code",
   "execution_count": 12,
   "metadata": {
    "collapsed": false
   },
   "outputs": [
    {
     "name": "stdout",
     "output_type": "stream",
     "text": [
      "F\n"
     ]
    }
   ],
   "source": [
    "codon_table = dict()\n",
    "codon = \"UUU\"\n",
    "amino_acid = \"F\"\n",
    "codon_table[codon] = amino_acid\n",
    "print codon_table[codon]"
   ]
  },
  {
   "cell_type": "markdown",
   "metadata": {},
   "source": [
    "Now to define all 64 codons in one go"
   ]
  },
  {
   "cell_type": "code",
   "execution_count": 13,
   "metadata": {
    "collapsed": true
   },
   "outputs": [],
   "source": [
    "codon_table = {\"UUU\":\"F\", \"UUC\":\"F\", \"UUA\":\"L\", \"UUG\":\"L\",\n",
    "              \"UCU\":\"S\", \"UCC\":\"S\", \"UCA\":\"S\", \"UCG\":\"S\",\n",
    "              \"UAU\":\"Y\", \"UAC\":\"Y\", \"UAA\":\"*\", \"UAG\":\"*\",\n",
    "              \"UGU\":\"C\", \"UGC\":\"C\", \"UGA\":\"*\", \"UGG\":\"W\",\n",
    "              \"CUU\":\"L\", \"CUC\":\"L\", \"CUA\":\"L\", \"CUG\":\"L\",\n",
    "              \"CCU\":\"P\", \"CCC\":\"P\", \"CCA\":\"P\", \"CCG\":\"P\",\n",
    "              \"CAU\":\"H\", \"CAC\":\"H\", \"CAA\":\"Q\", \"CAG\":\"Q\",\n",
    "              \"CGU\":\"R\", \"CGC\":\"R\", \"CGA\":\"R\", \"CGG\":\"R\",\n",
    "              \"AUU\":\"I\", \"AUC\":\"I\", \"AUA\":\"I\", \"AUG\":\"M\",\n",
    "              \"ACU\":\"T\", \"ACC\":\"T\", \"ACA\":\"T\", \"ACG\":\"T\",\n",
    "              \"AAU\":\"N\", \"AAC\":\"N\", \"AAA\":\"K\", \"AAG\":\"K\",\n",
    "              \"AGU\":\"S\", \"AGC\":\"S\", \"AGA\":\"R\", \"AGG\":\"R\",\n",
    "              \"GUU\":\"V\", \"GUC\":\"V\", \"GUA\":\"V\", \"GUG\":\"V\",\n",
    "              \"GCU\":\"A\", \"GCC\":\"A\", \"GCA\":\"A\", \"GCG\":\"A\",\n",
    "              \"GAU\":\"D\", \"GAC\":\"D\", \"GAA\":\"E\", \"GAG\":\"E\",\n",
    "              \"GGU\":\"G\", \"GGC\":\"G\", \"GGA\":\"G\", \"GGG\":\"G\"}"
   ]
  },
  {
   "cell_type": "markdown",
   "metadata": {},
   "source": [
    "Notice that the stop codons have \"\\*\" as the value.\n",
    "\n",
    "Now combine the codons with the codon lookup table to translate the RNA sequence to protein sequence"
   ]
  },
  {
   "cell_type": "code",
   "execution_count": 14,
   "metadata": {
    "collapsed": false
   },
   "outputs": [
    {
     "name": "stdout",
     "output_type": "stream",
     "text": [
      "MAMAPRTEINSTRING*\n"
     ]
    }
   ],
   "source": [
    "rna = \"AUGGCCAUGGCGCCCAGAACUGAGAUCAAUAGUACCCGUAUUAACGGGUGA\"\n",
    "\n",
    "#first we need to know the number of codons\n",
    "codon_count = len(rna)/3\n",
    "\n",
    "prot = \"\"\n",
    "#the we loop through the codons, starting with codon 0 (typical for Python)\n",
    "for codon_number in range(codon_count):\n",
    "    codon_start = codon_number * 3\n",
    "    codon = rna[codon_start:codon_start+3]\n",
    "    prot = prot + codon_table[codon]\n",
    "    \n",
    "print prot\n"
   ]
  },
  {
   "cell_type": "markdown",
   "metadata": {},
   "source": [
    "If your code is ready, create the Python file **prot.py** and try to complete the exercise."
   ]
  },
  {
   "cell_type": "markdown",
   "metadata": {},
   "source": [
    "### Open Reading Frames (optional)\n",
    "By combining the ideas of the previous exercises you can get quite far completing this exercise, but there is one catch: the sequence is not in a single line, but in (multiline) FASTA format. "
   ]
  },
  {
   "cell_type": "code",
   "execution_count": 15,
   "metadata": {
    "collapsed": false
   },
   "outputs": [
    {
     "name": "stdout",
     "output_type": "stream",
     "text": [
      "MGMTPRLGLESLLE\n",
      "MTPRLGLESLLE\n"
     ]
    }
   ],
   "source": [
    "dna = \"AGCCATGTAGCTAACTCAGGTTACATGGGGATGACCCCGCGACTTGGATTAGAGTCTCTTTTGGAATAAGCCTGAATGATCCGAGTAGCATCTCAG\"\n",
    "\n",
    "#transcribe to rna\n",
    "rna = dna.replace(\"T\",\"U\")\n",
    "\n",
    "#translate frame 1: AGC CAT GTA etc.\n",
    "codon_count = len(rna)/3\n",
    "\n",
    "prot = \"\"\n",
    "for codon_number in range(codon_count):\n",
    "    codon_start = codon_number * 3\n",
    "    codon = rna[codon_start:codon_start+3]\n",
    "    prot = prot + codon_table[codon]\n",
    "\n",
    "#find all sequences that start with M and end with the first \"*\"\n",
    "for AA_pos in range(len(prot)):\n",
    "    if prot[AA_pos] == \"M\":\n",
    "        stop_pos = prot.find(\"*\",AA_pos)\n",
    "        if stop_pos != -1:\n",
    "            print prot[AA_pos:stop_pos]\n",
    "            \n",
    "#do the same with frame 2 and frame 3\n",
    "#and for the three frames in the reverse strand"
   ]
  },
  {
   "cell_type": "markdown",
   "metadata": {},
   "source": [
    "These are the protein strings in the first frame of the sense strand  \n",
    "```\n",
    "MGMTPRLGLESLLE\n",
    "MTPRLGLESLLE\n",
    "```"
   ]
  },
  {
   "cell_type": "markdown",
   "metadata": {},
   "source": [
    "Now a version that uses functions"
   ]
  },
  {
   "cell_type": "code",
   "execution_count": 16,
   "metadata": {
    "collapsed": false
   },
   "outputs": [
    {
     "name": "stdout",
     "output_type": "stream",
     "text": [
      "MLLGSFRLIPKETLIQVAGSSPCNLS\n"
     ]
    }
   ],
   "source": [
    "from string import maketrans #needed for revcomp\n",
    "\n",
    "def translate(rna):\n",
    "    codon_count = len(rna)/3\n",
    "    \n",
    "    prot = \"\"\n",
    "    for codon_number in range(codon_count):\n",
    "        codon_start = codon_number * 3\n",
    "        codon = rna[codon_start:codon_start+3]\n",
    "        prot = prot + codon_table.get(codon,\"\")\n",
    "    return prot\n",
    "\n",
    "def revcomp(rna):\n",
    "    trans = maketrans(\"ACGU\",\"UGCA\")\n",
    "    complement = rna.translate(trans)\n",
    "    revc = complement[::-1]\n",
    "    return revc\n",
    "    \n",
    "def get_valid_prots(prot):\n",
    "    valid_prots = []\n",
    "    for AA_pos in range(len(prot)):\n",
    "        if prot[AA_pos] == \"M\":\n",
    "            stop_pos = prot.find(\"*\",AA_pos)\n",
    "            if stop_pos != -1:\n",
    "                print prot[AA_pos:stop_pos]\n",
    "\n",
    "                \n",
    "dna = \"AGCCATGTAGCTAACTCAGGTTACATGGGGATGACCCCGCGACTTGGATTAGAGTCTCTTTTGGAATAAGCCTGAATGATCCGAGTAGCATCTCAG\"\n",
    "\n",
    "#transcribe to rna\n",
    "rna = dna.replace(\"T\",\"U\")\n",
    "revc = revcomp(rna)\n",
    "\n",
    "#frame -3\n",
    "prot = translate(revc[2:])\n",
    "get_valid_prots(prot)"
   ]
  }
 ],
 "metadata": {
  "kernelspec": {
   "display_name": "Python 2",
   "language": "python",
   "name": "python2"
  },
  "language_info": {
   "codemirror_mode": {
    "name": "ipython",
    "version": 2
   },
   "file_extension": ".py",
   "mimetype": "text/x-python",
   "name": "python",
   "nbconvert_exporter": "python",
   "pygments_lexer": "ipython2",
   "version": "2.7.11"
  },
  "latex_envs": {
   "LaTeX_envs_menu_present": true,
   "autocomplete": true,
   "bibliofile": "biblio.bib",
   "cite_by": "apalike",
   "current_citInitial": 1,
   "eqLabelWithNumbers": true,
   "eqNumInitial": 1,
   "hotkeys": {
    "equation": "Ctrl-E",
    "itemize": "Ctrl-I"
   },
   "labels_anchors": false,
   "latex_user_defs": false,
   "report_style_numbering": false,
   "user_envs_cfg": false
  }
 },
 "nbformat": 4,
 "nbformat_minor": 2
}
