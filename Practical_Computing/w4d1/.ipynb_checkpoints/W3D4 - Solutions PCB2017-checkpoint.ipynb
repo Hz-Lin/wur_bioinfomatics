{
 "cells": [
  {
   "cell_type": "markdown",
   "metadata": {},
   "source": [
    "# W3D4: More files\n",
    "\n",
    "## Ex 3: File based version of Subs\n",
    "\n",
    "Create a file based version of 'SUBS'.\n",
    "\n",
    "Again, the 'Lego' approach works. However, first we have to make a new 'brick' first, one that opens the file that holds the sequence and target sequences, reads them sequentially and stores them in a variable, and then closes the file again."
   ]
  },
  {
   "cell_type": "code",
   "execution_count": null,
   "metadata": {
    "collapsed": true
   },
   "outputs": [],
   "source": [
    "in_filename = 'rosalind_subs.txt'\n",
    "out_filename = 'answer_subs.txt'\n",
    "\n",
    "in_file = open(in_filename, 'r')\n",
    "seq = in_file.readline().strip('\\n')\n",
    "target = in_file.readline().strip('\\n')\n",
    "in_file.close()"
   ]
  },
  {
   "cell_type": "markdown",
   "metadata": {},
   "source": [
    "Before we proceed, let's first see if reading went ok:"
   ]
  },
  {
   "cell_type": "code",
   "execution_count": null,
   "metadata": {
    "collapsed": false
   },
   "outputs": [],
   "source": [
    "print 'sequence: ',seq\n",
    "print 'target: ',target"
   ]
  },
  {
   "cell_type": "markdown",
   "metadata": {},
   "source": [
    "Then we need some code to search for the target in the sequence.\n",
    "Note that the code in the next cell is ***exactly*** the same as in the original SUBS solution! That's a 'Lego' brick right there...."
   ]
  },
  {
   "cell_type": "code",
   "execution_count": null,
   "metadata": {
    "collapsed": true
   },
   "outputs": [],
   "source": [
    "n = len(target)\n",
    "locs = []\n",
    "for i in range(len(seq)-n):\n",
    "    if seq[i:i+n] == target:\n",
    "        locs += [i+1]"
   ]
  },
  {
   "cell_type": "markdown",
   "metadata": {},
   "source": [
    "So that was supereasy since we recycled that code. Now what's left is to write the results to an outfile. We need to open that file and enable writing first. Then we loop through the list that holds the solutions, store all values in a string, values separated by a space. That string then has to be written to a file. "
   ]
  },
  {
   "cell_type": "code",
   "execution_count": null,
   "metadata": {
    "collapsed": true
   },
   "outputs": [],
   "source": [
    "line = ''\n",
    "for loc in locs:\n",
    "    line += '%d ' % loc\n",
    "line = line[:-1] # strip last space (probably not needed)\n",
    "\n",
    "out_file = open(out_filename, 'w')\n",
    "out_file.write(line+'\\n')\n",
    "out_file.close()"
   ]
  },
  {
   "cell_type": "code",
   "execution_count": null,
   "metadata": {
    "collapsed": false
   },
   "outputs": [],
   "source": [
    "%%bash\n",
    "cat answer_subs.txt"
   ]
  },
  {
   "cell_type": "markdown",
   "metadata": {},
   "source": [
    "## Processing the Wheel-of-Fortune data file\n",
    "Data for the Wheel of Fortune program is stored in a comma-delimited file of two\n",
    "columns: name and chance. See `WoFinput.csv` for an example file.\n",
    "Inside the program, we use a dictionary with names as keys and chances as\n",
    "associated values. \n",
    "\n",
    "Create a program that reads the data from a file like WoFinput.csv and stores it\n",
    "in a dictionary. Then let the program print the names and chances.\n",
    "\n",
    "**Tooltip:** If `my_dict` is a dictionary, a for loop over my_dict gives all keys in turn.\n",
    "For example, the following piece of code prints all keys from my_dict line by line:\n",
    "```Python\n",
    "for key in my_dict:\n",
    " print key\n",
    "```\n",
    "\n",
    "This will be similar to using the more explicit my_dict.keys() method, that (in Python2) returns a list with the keys:\n",
    "```Python\n",
    "for key in my_dict.keys():\n",
    " print key\n",
    "```\n",
    "[You can actually try this in the Python shell after reading the file into a\n",
    "dictionary.]\n",
    "The order of keys will be arbitrary. To get them into alphabetical order use:\n",
    "```Python\n",
    "for key in sorted(my_dict.keys()):\n",
    " print key\n",
    "```\n",
    "Now extend the program – after the part reads the data – to write a data file\n",
    "WoFbyName.csv with records in alphabetical order.\n",
    "\n",
    "A good approach, before starting to read stuff from a file, is to explore what is in it. Shell scripting tools are very useful for that. For instance, to quickly see how many lines are in the file, and what it contains:\n",
    " "
   ]
  },
  {
   "cell_type": "code",
   "execution_count": null,
   "metadata": {
    "collapsed": false
   },
   "outputs": [],
   "source": [
    "%%bash\n",
    "wc -l WoFinput.csv\n",
    "cat WoFinput.csv | head"
   ]
  },
  {
   "cell_type": "markdown",
   "metadata": {},
   "source": [
    "The input consists of two columns, separated by a ',' (comma). So, this is the drill: open file for reading, loop through, split elements based on ',' and then store in a dictionary, where the 'keys' are from the first column, and the 'values' are from the second column. "
   ]
  },
  {
   "cell_type": "code",
   "execution_count": null,
   "metadata": {
    "collapsed": false
   },
   "outputs": [],
   "source": [
    "in_filename = 'WoFinput.csv'\n",
    "out_filename = 'WoFbyName.csv'\n",
    "\n",
    "src = open(in_filename)      # open file; note: default is 'r'.\n",
    "header = src.readline()      # keep header for writing\n",
    "data = {}                    # initialize dictionary, with name 'data'. Alt: data = dict()\n",
    "for line in src:             # loop through file\n",
    "    parts = line.strip().split(',')  # split in elements based on ',', returns list.\n",
    "    name = parts[0]          # 'name' is from first column\n",
    "    chance = float(parts[1]) # 'chance' is from second column; convert to float!\n",
    "    data[name] = chance      # assign value 'chance' to dictionary 'data' with key 'name'\n",
    "\n",
    "src.close()                  # don't forget to close the file!\n",
    "\n",
    "print data"
   ]
  },
  {
   "cell_type": "code",
   "execution_count": null,
   "metadata": {
    "collapsed": false
   },
   "outputs": [],
   "source": [
    "print '----'\n",
    "for name in data.keys():  # Loop through dictionary with name 'data'\n",
    "    print '%-20s : %6.2f' % (name, data[name]) # print key-value pairs, nice layout.\n",
    "print '----'\n"
   ]
  },
  {
   "cell_type": "markdown",
   "metadata": {},
   "source": [
    "Dictionaries are unordered; If you want to have an output ordered alfabetically you need to take the keys, sort them, and then use that ordered list of keys to loop through.\n",
    "\n",
    "Lets first have a look at the keys:"
   ]
  },
  {
   "cell_type": "code",
   "execution_count": null,
   "metadata": {
    "collapsed": false
   },
   "outputs": [],
   "source": [
    "my_keys = data.keys()\n",
    "print type(my_keys) # Note: in Python3 this is slightly different.  \n",
    "my_keys"
   ]
  },
  {
   "cell_type": "markdown",
   "metadata": {},
   "source": [
    "To then make a sorted list, you can simply use the Python built-in function that works on lists. Remember, that if ever you want to know what a function does:\n",
    "```Python\n",
    "sorted?\n",
    "```\n"
   ]
  },
  {
   "cell_type": "code",
   "execution_count": null,
   "metadata": {
    "collapsed": false
   },
   "outputs": [],
   "source": [
    "sorted?\n",
    "sorted(my_keys)\n",
    "# or, sorted in reverse:\n",
    "sorted(my_keys, reverse = True)"
   ]
  },
  {
   "cell_type": "markdown",
   "metadata": {},
   "source": [
    "So, now we print the sorted dictionary - sorted on **keys** that is (sorting on values is a bit more complicated)..."
   ]
  },
  {
   "cell_type": "code",
   "execution_count": null,
   "metadata": {
    "collapsed": false
   },
   "outputs": [],
   "source": [
    "\n",
    "print '----'\n",
    "for name in sorted(data.keys()):\n",
    "    print '%-20s : %6.2f' % (name, data[name])\n",
    "print '----'\n"
   ]
  },
  {
   "cell_type": "markdown",
   "metadata": {},
   "source": [
    ".. and we also write the sorted dictionary to file. "
   ]
  },
  {
   "cell_type": "code",
   "execution_count": null,
   "metadata": {
    "collapsed": false
   },
   "outputs": [],
   "source": [
    "dst = open(out_filename, 'w')\n",
    "dst.write(header)\n",
    "for name in sorted(data.keys()):\n",
    "    dst.write('%s,%.2f\\n' % (name, data[name]))\n",
    "dst.close()"
   ]
  },
  {
   "cell_type": "markdown",
   "metadata": {
    "collapsed": true
   },
   "source": [
    "Finally, let's see if the file contains what we expect:"
   ]
  },
  {
   "cell_type": "code",
   "execution_count": null,
   "metadata": {
    "collapsed": false
   },
   "outputs": [],
   "source": [
    "%%bash\n",
    "cat WoFbyName.csv"
   ]
  },
  {
   "cell_type": "code",
   "execution_count": null,
   "metadata": {
    "collapsed": true
   },
   "outputs": [],
   "source": []
  }
 ],
 "metadata": {
  "kernelspec": {
   "display_name": "Python 2",
   "language": "python",
   "name": "python2"
  },
  "language_info": {
   "codemirror_mode": {
    "name": "ipython",
    "version": 2
   },
   "file_extension": ".py",
   "mimetype": "text/x-python",
   "name": "python",
   "nbconvert_exporter": "python",
   "pygments_lexer": "ipython2",
   "version": "2.7.11"
  },
  "latex_envs": {
   "LaTeX_envs_menu_present": true,
   "autocomplete": true,
   "bibliofile": "biblio.bib",
   "cite_by": "apalike",
   "current_citInitial": 1,
   "eqLabelWithNumbers": true,
   "eqNumInitial": 1,
   "hotkeys": {
    "equation": "Ctrl-E",
    "itemize": "Ctrl-I"
   },
   "labels_anchors": false,
   "latex_user_defs": false,
   "report_style_numbering": false,
   "user_envs_cfg": false
  }
 },
 "nbformat": 4,
 "nbformat_minor": 0
}
