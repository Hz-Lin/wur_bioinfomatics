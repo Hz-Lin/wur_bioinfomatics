{
 "cells": [
  {
   "cell_type": "markdown",
   "metadata": {},
   "source": [
    "# W3D2 Lists revisited\n",
    "\n",
    "## Exercise 1: SUBS\n",
    "\n",
    "Find **every** match of a target string in a DNA sequence:\n",
    "\n",
    "`GATATATGCATATACTT\n",
    " ATAT\n",
    "   ATAT\n",
    "         ATAT\n",
    "`\n",
    "\n",
    "Finding a solution - how? \n",
    "Lets start with a string method... which one might be appropriate?\n",
    "Again, just ASK the object what you can do with it, you might finds some clues..."
   ]
  },
  {
   "cell_type": "code",
   "execution_count": null,
   "metadata": {
    "collapsed": false
   },
   "outputs": [],
   "source": [
    "seq = 'GATATATGCATATACTT'\n",
    "target = 'ATAT'\n",
    "\n",
    "seq.find(target)"
   ]
  },
  {
   "cell_type": "markdown",
   "metadata": {},
   "source": [
    "So, 'str.find' does not give a perfect solution. What about a regular expression maybe? We could use the 're', regular expression library of Python."
   ]
  },
  {
   "cell_type": "code",
   "execution_count": null,
   "metadata": {
    "collapsed": false
   },
   "outputs": [],
   "source": [
    "import re\n",
    "re.findall(target,seq)"
   ]
  },
  {
   "cell_type": "markdown",
   "metadata": {},
   "source": [
    "A bit better, but we only find two out of three matches. This is due to the same issue we've encountered before when trying regular expressions: re matches can not overlap. If they do, you have to apply a bit of trickery. That trickery is 'slicing': chewing up your string in smaller bits, e.g. by 'sliding' over it. For instance:"
   ]
  },
  {
   "cell_type": "code",
   "execution_count": null,
   "metadata": {
    "collapsed": false
   },
   "outputs": [],
   "source": [
    "#seq = raw_input('s = ')\n",
    "#target = raw_input('t = ')\n",
    "\n",
    "seq = 'GATATATGCATATACTT'\n",
    "target = 'ATAT'\n",
    "n = len(target)\n",
    "locs = list()\n",
    "for i in range(len(seq)-n):\n",
    "    #print seq[i:i+n]\n",
    "    if seq[i:i+n] == target:\n",
    "        locs += [i+1] #alternatively: locs.append(i+1)\n",
    "        #print locs\n",
    "for loc in locs:\n",
    "    print loc,\n",
    "print\n"
   ]
  },
  {
   "cell_type": "markdown",
   "metadata": {},
   "source": [
    "Ok, so that works! Is this the only way it would work then? No, as usual there are many ways to do it. Even the 'str.find()' method can be made to work. Lets see what hidden features the 'str.find() method holds..."
   ]
  },
  {
   "cell_type": "code",
   "execution_count": null,
   "metadata": {
    "collapsed": true
   },
   "outputs": [],
   "source": [
    "seq.find?"
   ]
  },
  {
   "cell_type": "markdown",
   "metadata": {},
   "source": [
    "This means you can in fact use an index value, from which the 'find' method will start searching in the string. \n",
    "`GATATATGCATATACTT\n",
    " ATAT\n",
    "   ATAT\n",
    "         ATAT\n",
    "`\n",
    "This way you can have different starting point for your 'find' operation, starting at the beginning and sliding one DNA base for every looping. This way you can also find the overlapping ones. But, you do find the same location multiple times this way, and we're intersted only in the unique ones. For this we can apply the 'set()' function, which returns a set of unique values from a list. And if there is no match, the method will return '-1'. This last one we can ignore. "
   ]
  },
  {
   "cell_type": "code",
   "execution_count": null,
   "metadata": {
    "collapsed": false
   },
   "outputs": [],
   "source": [
    "locs = list()\n",
    "for i in range(len(seq)-len(target)):\n",
    "    loc = seq.find(target,i)\n",
    "    print loc\n",
    "    if loc > -1:\n",
    "        locs.append(loc+1)\n",
    "print 'complete list: ',locs\n",
    "print 'applying the set function: ',set(locs)"
   ]
  },
  {
   "cell_type": "markdown",
   "metadata": {},
   "source": [
    "## Exercise 5: Fibonacci - rabbits\n",
    "\n",
    "![Rabbits](Rabbits_explained.jpg)\n",
    "The solution is to 'grow' a list based on its previous two elements. You simply do three times the before-last element plus the last element."
   ]
  },
  {
   "cell_type": "code",
   "execution_count": null,
   "metadata": {
    "collapsed": false
   },
   "outputs": [],
   "source": [
    "n = int(raw_input('n = '))\n",
    "k = int(raw_input('k = '))\n",
    "\n",
    "seq = [0, 1, 1]\n",
    "\n",
    "for i in range(3, n+1):\n",
    "    seq_i = seq[i-1] + k * seq[i-2]\n",
    "    seq += [seq_i]\n",
    "    print seq\n",
    "\n",
    "print 'answer: ',seq[n]\n"
   ]
  },
  {
   "cell_type": "code",
   "execution_count": null,
   "metadata": {
    "collapsed": true
   },
   "outputs": [],
   "source": []
  }
 ],
 "metadata": {
  "kernelspec": {
   "display_name": "Python 2",
   "language": "python",
   "name": "python2"
  },
  "language_info": {
   "codemirror_mode": {
    "name": "ipython",
    "version": 2
   },
   "file_extension": ".py",
   "mimetype": "text/x-python",
   "name": "python",
   "nbconvert_exporter": "python",
   "pygments_lexer": "ipython2",
   "version": "2.7.11"
  },
  "latex_envs": {
   "LaTeX_envs_menu_present": true,
   "autocomplete": true,
   "bibliofile": "biblio.bib",
   "cite_by": "apalike",
   "current_citInitial": 1,
   "eqLabelWithNumbers": true,
   "eqNumInitial": 1,
   "hotkeys": {
    "equation": "Ctrl-E",
    "itemize": "Ctrl-I"
   },
   "labels_anchors": false,
   "latex_user_defs": false,
   "report_style_numbering": false,
   "user_envs_cfg": false
  }
 },
 "nbformat": 4,
 "nbformat_minor": 0
}
