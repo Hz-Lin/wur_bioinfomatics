{
 "cells": [
  {
   "cell_type": "markdown",
   "metadata": {
    "collapsed": true
   },
   "source": [
    "# Finding errors in a solution of SUBS\n",
    "Rosalind's assignment \"Finding Motifs in DNA\".  \n",
    "We are trying several versions."
   ]
  },
  {
   "cell_type": "markdown",
   "metadata": {},
   "source": [
    "## solution from last week\n",
    "Before we start buggy versions, let's first find some tests on a version that does work.  \n",
    "We use one of the solutions of last week."
   ]
  },
  {
   "cell_type": "code",
   "execution_count": 1,
   "metadata": {
    "collapsed": true
   },
   "outputs": [],
   "source": [
    "def solve_subs (s, t):\n",
    "    n = len(t)\n",
    "    locs = []\n",
    "    for i in range(len(s)):\n",
    "        if s[i:i+n] == t:\n",
    "            locs += [i+1]\n",
    "    return locs"
   ]
  },
  {
   "cell_type": "markdown",
   "metadata": {},
   "source": [
    "## the tests, introduction\n",
    "For these tests, we use an `assert` statement to check the actual answer to the expected answer.  \n",
    "If the condition behind `assert` is true, the program just continues, e.g. to the next test.  \n",
    "If the condition behind `assert` is false, you get an `AssertionError`."
   ]
  },
  {
   "cell_type": "code",
   "execution_count": 2,
   "metadata": {},
   "outputs": [
    {
     "ename": "AssertionError",
     "evalue": "",
     "output_type": "error",
     "traceback": [
      "\u001b[0;31m---------------------------------------------------------------------------\u001b[0m",
      "\u001b[0;31mAssertionError\u001b[0m                            Traceback (most recent call last)",
      "\u001b[0;32m<ipython-input-2-566b60560120>\u001b[0m in \u001b[0;36m<module>\u001b[0;34m()\u001b[0m\n\u001b[1;32m      1\u001b[0m \u001b[0mexpected_answer\u001b[0m \u001b[0;34m=\u001b[0m \u001b[0;34m[\u001b[0m\u001b[0;36m2\u001b[0m\u001b[0;34m,\u001b[0m \u001b[0;36m4\u001b[0m\u001b[0;34m,\u001b[0m \u001b[0;36m10\u001b[0m\u001b[0;34m]\u001b[0m\u001b[0;34m\u001b[0m\u001b[0m\n\u001b[1;32m      2\u001b[0m \u001b[0;32massert\u001b[0m \u001b[0;34m[\u001b[0m\u001b[0;36m2\u001b[0m\u001b[0;34m,\u001b[0m \u001b[0;36m4\u001b[0m\u001b[0;34m,\u001b[0m \u001b[0;36m10\u001b[0m\u001b[0;34m]\u001b[0m \u001b[0;34m==\u001b[0m \u001b[0mexpected_answer\u001b[0m\u001b[0;34m\u001b[0m\u001b[0m\n\u001b[0;32m----> 3\u001b[0;31m \u001b[0;32massert\u001b[0m \u001b[0;34m[\u001b[0m\u001b[0;36m1\u001b[0m\u001b[0;34m,\u001b[0m \u001b[0;36m3\u001b[0m\u001b[0;34m,\u001b[0m \u001b[0;36m9\u001b[0m\u001b[0;34m]\u001b[0m \u001b[0;34m==\u001b[0m \u001b[0mexpected_answer\u001b[0m\u001b[0;34m\u001b[0m\u001b[0m\n\u001b[0m",
      "\u001b[0;31mAssertionError\u001b[0m: "
     ]
    }
   ],
   "source": [
    "expected_answer = [2, 4, 10]\n",
    "assert [2, 4, 10] == expected_answer\n",
    "assert [1, 3, 9] == expected_answer"
   ]
  },
  {
   "cell_type": "markdown",
   "metadata": {},
   "source": [
    "## the tests\n",
    "All tests have the same structure:  \n",
    "define two inputs `dna` and `motif`  \n",
    "define the expected answer  \n",
    "compare the function result to the expected answer  \n",
    "\n",
    "All of these tests have to be run again for each version of `solve-subs`."
   ]
  },
  {
   "cell_type": "code",
   "execution_count": 12,
   "metadata": {},
   "outputs": [],
   "source": [
    "# Rosalind's example\n",
    "dna = 'GATATATGCATATACTT'\n",
    "motif = 'ATAT'\n",
    "expected_answer = [2, 4, 10]\n",
    "assert solve_subs(dna, motif) == expected_answer"
   ]
  },
  {
   "cell_type": "code",
   "execution_count": 13,
   "metadata": {
    "collapsed": true
   },
   "outputs": [],
   "source": [
    "# a simple test\n",
    "dna = 'ACACACAT'\n",
    "motif = 'AC'\n",
    "expected_answer = [1, 3, 5]\n",
    "assert solve_subs(dna, motif) == expected_answer"
   ]
  },
  {
   "cell_type": "code",
   "execution_count": 14,
   "metadata": {
    "collapsed": true
   },
   "outputs": [],
   "source": [
    "# a test for zero matches\n",
    "dna = 'ACACACAT'\n",
    "motif = 'AA'\n",
    "expected_answer = []\n",
    "assert solve_subs(dna, motif) == expected_answer"
   ]
  },
  {
   "cell_type": "code",
   "execution_count": 7,
   "metadata": {},
   "outputs": [],
   "source": [
    "# a real Rosalind test\n",
    "infile1 = open('rosalind_subs.txt')\n",
    "dna = infile1.readline().strip()\n",
    "motif = infile1.readline().strip()\n",
    "infile1.close()\n",
    "\n",
    "infile2 = open('answer_subs.txt')\n",
    "answer_line = infile2.readline().strip()\n",
    "infile2.close()\n",
    "answers_str = answer_line.split()\n",
    "expected_answer = [int(x) for x in answers_str]\n",
    "\n",
    "assert solve_subs(dna, motif) == expected_answer"
   ]
  },
  {
   "cell_type": "markdown",
   "metadata": {},
   "source": [
    "Remember: no messages means the tests passed"
   ]
  },
  {
   "cell_type": "markdown",
   "metadata": {},
   "source": [
    "## A version checking individual characters rather than slicing\n",
    "We give this code twice: once with comments per line of code; once only Python code"
   ]
  },
  {
   "cell_type": "code",
   "execution_count": 8,
   "metadata": {
    "collapsed": true
   },
   "outputs": [],
   "source": [
    "def solve_subs (s, t):\n",
    "    'find all locations (1-based) in s where t occurs as substring'\n",
    "    # initialize answer\n",
    "    locs = []\n",
    "    # try all starting positions in s\n",
    "    for i in range(len(s)):\n",
    "        # find out is t is matching at that position of s\n",
    "        # check characters of t one by one; matching is True until found otherwise\n",
    "        matching = True\n",
    "        for j in range(len(t)):\n",
    "            # compare j-th character, in s counting from position i\n",
    "            if s[i+j] != t[j]:\n",
    "                # as soon as one character doesn't match, set matching to False\n",
    "                matching = False\n",
    "            # and never set matching back to True (in the current loop)\n",
    "        # if still matching after all characters have been tested,\n",
    "        # then t is a substring of s at position i (0-based)\n",
    "        if matching:\n",
    "            # record the position in locs\n",
    "            locs += [i+1]\n",
    "    # after the loop, we have all starting positions\n",
    "    return locs"
   ]
  },
  {
   "cell_type": "code",
   "execution_count": 9,
   "metadata": {
    "collapsed": true
   },
   "outputs": [],
   "source": [
    "def solve_subs (s, t):\n",
    "    locs = []\n",
    "    for i in range(len(s)):\n",
    "        matching = True\n",
    "        for j in range(len(t)):\n",
    "            if s[i+j] != t[j]:\n",
    "                matching = False\n",
    "        if matching:\n",
    "            locs += [i+1]\n",
    "    return locs"
   ]
  },
  {
   "cell_type": "markdown",
   "metadata": {},
   "source": [
    "First run one (or both) of the cells above, then run all cells in section \"the tests\" again.  \n",
    "Now, all tests will give the same error message: `string index out of range`"
   ]
  },
  {
   "cell_type": "markdown",
   "metadata": {},
   "source": [
    "## The previous version corrected\n",
    "It turns out that `i+j` may become larger than the length of `s`.  \n",
    "Therefore the programmer changed the bound of the outer loop."
   ]
  },
  {
   "cell_type": "code",
   "execution_count": 11,
   "metadata": {
    "collapsed": true
   },
   "outputs": [],
   "source": [
    "def solve_subs (s, t):\n",
    "    locs = []\n",
    "    for i in range(len(s)-len(t)):\n",
    "        matching = True\n",
    "        for j in range(len(t)):\n",
    "            if s[i+j] != t[j]:\n",
    "                matching = False\n",
    "        if matching:\n",
    "            locs += [i+1]\n",
    "    return locs"
   ]
  },
  {
   "cell_type": "markdown",
   "metadata": {},
   "source": [
    "Again, run this cell, and then rerun all tests.  \n",
    "Now they all pass."
   ]
  },
  {
   "cell_type": "markdown",
   "metadata": {},
   "source": [
    "## An additional test\n",
    "In fact, the last version above does contain an error.  \n",
    "Define a test that reveals this error."
   ]
  },
  {
   "cell_type": "code",
   "execution_count": 17,
   "metadata": {},
   "outputs": [],
   "source": [
    "dna = 'GATATATGCATATATAT' # define the string\n",
    "motif = 'ATAT' # define the string\n",
    "expected_answer = [2,4,10,12,14] # define the list of positions\n",
    "assert solve_subs(dna, motif) == expected_answer"
   ]
  },
  {
   "cell_type": "markdown",
   "metadata": {},
   "source": [
    "## Final correction\n",
    "The problem was a so-called 'off-by-one error'.  \n",
    "When seeing the correction, can you still find a test that reveals the error in the previous version?"
   ]
  },
  {
   "cell_type": "code",
   "execution_count": 16,
   "metadata": {
    "collapsed": true
   },
   "outputs": [],
   "source": [
    "def solve_subs (s, t):\n",
    "    locs = []\n",
    "    for i in range(len(s)-len(t)+1):\n",
    "        matching = True\n",
    "        for j in range(len(t)):\n",
    "            if s[i+j] != t[j]:\n",
    "                matching = False\n",
    "        if matching:\n",
    "            locs += [i+1]\n",
    "    return locs"
   ]
  },
  {
   "cell_type": "code",
   "execution_count": null,
   "metadata": {
    "collapsed": true
   },
   "outputs": [],
   "source": []
  }
 ],
 "metadata": {
  "kernelspec": {
   "display_name": "Python 2",
   "language": "python",
   "name": "python2"
  },
  "language_info": {
   "codemirror_mode": {
    "name": "ipython",
    "version": 2
   },
   "file_extension": ".py",
   "mimetype": "text/x-python",
   "name": "python",
   "nbconvert_exporter": "python",
   "pygments_lexer": "ipython2",
   "version": "2.7.13"
  }
 },
 "nbformat": 4,
 "nbformat_minor": 2
}
