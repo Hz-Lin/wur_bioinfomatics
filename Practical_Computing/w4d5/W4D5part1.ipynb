{
 "cells": [
  {
   "cell_type": "markdown",
   "metadata": {},
   "source": [
    "# Week 4 Day 5 -- Selecting and Combining tools\n",
    "Starting other programs from Python"
   ]
  },
  {
   "cell_type": "markdown",
   "metadata": {},
   "source": [
    "## Barcode - from tab-delimited to fasta\n",
    "Goal: to identify Mystery Mosquito X  \n",
    "A small piece of mtDNA (part of the CO1 gene) can be \n",
    "used to identify the species by comparing to a global\n",
    "database of mosquito DNA 'barcodes'.\n",
    "\n",
    "Problem statement and tool scripts by Hendrik-Jan Megens  \n",
    "Python code by Hendrik-Jan Megens and Mark R. Kramer    "
   ]
  },
  {
   "cell_type": "markdown",
   "metadata": {},
   "source": [
    "## Preparations\n",
    "We will use functions `check_call()` and `check_output()` from module `subprocess` instead of `os.popen()` as used in the book.  \n",
    "The Python documentation discourages use of `os.popen()` and in fact that function does not work properly when an underlying call fails.  "
   ]
  },
  {
   "cell_type": "code",
   "execution_count": 1,
   "metadata": {
    "collapsed": true
   },
   "outputs": [],
   "source": [
    "# Import modules/functions we are using\n",
    "from subprocess import check_call, check_output"
   ]
  },
  {
   "cell_type": "markdown",
   "metadata": {},
   "source": [
    "Unfortunately, `check_output()` gives an error message in some situations when there the output is empty. Therefore, we create our own `check_output_ext()` that produces the output anyway.  \n",
    "The code in `check_output_ext` is admittedly more complex than we are teaching in this course. "
   ]
  },
  {
   "cell_type": "code",
   "execution_count": 2,
   "metadata": {
    "collapsed": true
   },
   "outputs": [],
   "source": [
    "import subprocess\n",
    "\n",
    "def check_output_ext (command, shell=False):\n",
    "    try:\n",
    "        output = subprocess.check_output (command, shell=shell)\n",
    "    except subprocess.CalledProcessError as e:\n",
    "        output = e.output\n",
    "    return output"
   ]
  },
  {
   "cell_type": "markdown",
   "metadata": {},
   "source": [
    "## First explorations"
   ]
  },
  {
   "cell_type": "code",
   "execution_count": 3,
   "metadata": {
    "collapsed": true
   },
   "outputs": [],
   "source": [
    "# Define filenames for later reference\n",
    "barcodes_filename = \"bold_Culicidae.tsv\"  # primary input file\n",
    "fasta_filename = 'mosquitos_barcodes.fa'  # intermediate output file\n",
    "mystery_filename_pattern = 'mystery_*.fa' # input files to be classified"
   ]
  },
  {
   "cell_type": "code",
   "execution_count": 4,
   "metadata": {},
   "outputs": [
    {
     "ename": "IOError",
     "evalue": "[Errno 2] No such file or directory: 'bold_Culicidae.tsv'",
     "output_type": "error",
     "traceback": [
      "\u001b[0;31m---------------------------------------------------------------------------\u001b[0m",
      "\u001b[0;31mIOError\u001b[0m                                   Traceback (most recent call last)",
      "\u001b[0;32m<ipython-input-4-b38d80538c4d>\u001b[0m in \u001b[0;36m<module>\u001b[0;34m()\u001b[0m\n\u001b[1;32m      1\u001b[0m \u001b[0;31m# Open primary input file\u001b[0m\u001b[0;34m\u001b[0m\u001b[0;34m\u001b[0m\u001b[0m\n\u001b[0;32m----> 2\u001b[0;31m \u001b[0minfile\u001b[0m \u001b[0;34m=\u001b[0m \u001b[0mopen\u001b[0m\u001b[0;34m(\u001b[0m\u001b[0mbarcodes_filename\u001b[0m\u001b[0;34m,\u001b[0m \u001b[0;34m'r'\u001b[0m\u001b[0;34m)\u001b[0m\u001b[0;34m\u001b[0m\u001b[0m\n\u001b[0m\u001b[1;32m      3\u001b[0m \u001b[0;31m# Oops, the file is not there yet...\u001b[0m\u001b[0;34m\u001b[0m\u001b[0;34m\u001b[0m\u001b[0m\n",
      "\u001b[0;31mIOError\u001b[0m: [Errno 2] No such file or directory: 'bold_Culicidae.tsv'"
     ]
    }
   ],
   "source": [
    "# Open primary input file\n",
    "infile = open(barcodes_filename, 'r')\n",
    "# Oops, the file is not there yet..."
   ]
  },
  {
   "cell_type": "markdown",
   "metadata": {},
   "source": [
    "Normally, you would download the files manually, or use a shell script for this.  \n",
    "But now we're doing Python, let's issue the commands from within Python.  \n",
    "Before doing the download, try some simpler commands first:"
   ]
  },
  {
   "cell_type": "code",
   "execution_count": 5,
   "metadata": {},
   "outputs": [
    {
     "data": {
      "text/plain": [
       "0"
      ]
     },
     "execution_count": 5,
     "metadata": {},
     "output_type": "execute_result"
    }
   ],
   "source": [
    "# use check_call() to run a command as if entered at the shell, hence shell=True\n",
    "command = 'ls -l'\n",
    "check_call(command, shell=True)"
   ]
  },
  {
   "cell_type": "markdown",
   "metadata": {},
   "source": [
    "Outside of a notebook, this would show the directory listing in the console.  \n",
    "Now it goes to the console... ...of Jupyter. Check the Terminal window where you started Jupyter.\n",
    "\n",
    "Instead of `check_call()` we can use `check_output()` to obtain the data in a string:"
   ]
  },
  {
   "cell_type": "code",
   "execution_count": 6,
   "metadata": {},
   "outputs": [
    {
     "name": "stdout",
     "output_type": "stream",
     "text": [
      "total 6144\n",
      "-rwxr-xr-x 1 lin029 domain users   634 Sep 27 12:10 mystery_mosquito_x1.fa\n",
      "-rwxr-xr-x 1 lin029 domain users   591 Sep 27 12:10 mystery_mosquito_x2.fa\n",
      "-rwxr-xr-x 1 lin029 domain users   121 Sep 29 11:38 proteinX.fasta\n",
      "-rwxr-xr-x 1 lin029 domain users   131 Sep 29 12:37 READ_ME.txt\n",
      "-rwxr-xr-x 1 lin029 domain users 25917 Sep 29 14:08 W4D5part1.ipynb\n",
      "-rwxr-xr-x 1 lin029 domain users 12966 Sep 29 12:34 W4D5part2.ipynb\n",
      "\n"
     ]
    }
   ],
   "source": [
    "# use check_output() to run command and obtain its output, always using shell=True\n",
    "command = 'ls -l'\n",
    "output = check_output(command, shell=True)\n",
    "print output"
   ]
  },
  {
   "cell_type": "markdown",
   "metadata": {},
   "source": [
    "Let's try a more specific `ls`"
   ]
  },
  {
   "cell_type": "code",
   "execution_count": 7,
   "metadata": {
    "scrolled": true
   },
   "outputs": [
    {
     "name": "stdout",
     "output_type": "stream",
     "text": [
      "ls -l bold_Culicidae.tsv\n",
      "ls -l bold_Culicidae.tsv\n"
     ]
    },
    {
     "ename": "CalledProcessError",
     "evalue": "Command 'ls -l bold_Culicidae.tsv' returned non-zero exit status 2",
     "output_type": "error",
     "traceback": [
      "\u001b[0;31m---------------------------------------------------------------------------\u001b[0m",
      "\u001b[0;31mCalledProcessError\u001b[0m                        Traceback (most recent call last)",
      "\u001b[0;32m<ipython-input-7-7028b3bf1832>\u001b[0m in \u001b[0;36m<module>\u001b[0;34m()\u001b[0m\n\u001b[1;32m      5\u001b[0m \u001b[0mcommand\u001b[0m \u001b[0;34m=\u001b[0m \u001b[0;34m'ls -l %s'\u001b[0m \u001b[0;34m%\u001b[0m \u001b[0mbarcodes_filename\u001b[0m\u001b[0;34m\u001b[0m\u001b[0m\n\u001b[1;32m      6\u001b[0m \u001b[0;32mprint\u001b[0m \u001b[0mcommand\u001b[0m\u001b[0;34m\u001b[0m\u001b[0m\n\u001b[0;32m----> 7\u001b[0;31m \u001b[0moutput\u001b[0m \u001b[0;34m=\u001b[0m \u001b[0mcheck_output\u001b[0m\u001b[0;34m(\u001b[0m\u001b[0mcommand\u001b[0m\u001b[0;34m,\u001b[0m \u001b[0mshell\u001b[0m\u001b[0;34m=\u001b[0m\u001b[0mTrue\u001b[0m\u001b[0;34m)\u001b[0m\u001b[0;34m\u001b[0m\u001b[0m\n\u001b[0m\u001b[1;32m      8\u001b[0m \u001b[0;32mprint\u001b[0m \u001b[0moutput\u001b[0m\u001b[0;34m\u001b[0m\u001b[0m\n",
      "\u001b[0;32m/opt/anaconda2/lib/python2.7/subprocess.pyc\u001b[0m in \u001b[0;36mcheck_output\u001b[0;34m(*popenargs, **kwargs)\u001b[0m\n\u001b[1;32m    217\u001b[0m         \u001b[0;32mif\u001b[0m \u001b[0mcmd\u001b[0m \u001b[0;32mis\u001b[0m \u001b[0mNone\u001b[0m\u001b[0;34m:\u001b[0m\u001b[0;34m\u001b[0m\u001b[0m\n\u001b[1;32m    218\u001b[0m             \u001b[0mcmd\u001b[0m \u001b[0;34m=\u001b[0m \u001b[0mpopenargs\u001b[0m\u001b[0;34m[\u001b[0m\u001b[0;36m0\u001b[0m\u001b[0;34m]\u001b[0m\u001b[0;34m\u001b[0m\u001b[0m\n\u001b[0;32m--> 219\u001b[0;31m         \u001b[0;32mraise\u001b[0m \u001b[0mCalledProcessError\u001b[0m\u001b[0;34m(\u001b[0m\u001b[0mretcode\u001b[0m\u001b[0;34m,\u001b[0m \u001b[0mcmd\u001b[0m\u001b[0;34m,\u001b[0m \u001b[0moutput\u001b[0m\u001b[0;34m=\u001b[0m\u001b[0moutput\u001b[0m\u001b[0;34m)\u001b[0m\u001b[0;34m\u001b[0m\u001b[0m\n\u001b[0m\u001b[1;32m    220\u001b[0m     \u001b[0;32mreturn\u001b[0m \u001b[0moutput\u001b[0m\u001b[0;34m\u001b[0m\u001b[0m\n\u001b[1;32m    221\u001b[0m \u001b[0;34m\u001b[0m\u001b[0m\n",
      "\u001b[0;31mCalledProcessError\u001b[0m: Command 'ls -l bold_Culicidae.tsv' returned non-zero exit status 2"
     ]
    }
   ],
   "source": [
    "# use check_output() to run more specific command\n",
    "command = 'ls -l bold_Culicidae.tsv'\n",
    "print command\n",
    "# wait a minute, we had a symbolic name for that filename\n",
    "command = 'ls -l %s' % barcodes_filename\n",
    "print command\n",
    "output = check_output(command, shell=True)\n",
    "print output"
   ]
  },
  {
   "cell_type": "markdown",
   "metadata": {},
   "source": [
    "This is exactly the situation for which we need our `check_output_ext()`:"
   ]
  },
  {
   "cell_type": "code",
   "execution_count": 8,
   "metadata": {
    "scrolled": true
   },
   "outputs": [
    {
     "name": "stdout",
     "output_type": "stream",
     "text": [
      "ls -l bold_Culicidae.tsv\n",
      "ls -l bold_Culicidae.tsv\n",
      "\n"
     ]
    }
   ],
   "source": [
    "# use check_output_ext() to run more specific command\n",
    "command = 'ls -l bold_Culicidae.tsv'\n",
    "print command\n",
    "# wait a minute, we had a symbolic name for that filename\n",
    "command = 'ls -l %s' % barcodes_filename\n",
    "print command\n",
    "output = check_output_ext(command, shell=True)\n",
    "print output"
   ]
  },
  {
   "cell_type": "code",
   "execution_count": 9,
   "metadata": {
    "scrolled": true
   },
   "outputs": [
    {
     "name": "stdout",
     "output_type": "stream",
     "text": [
      "---start of output---\n",
      "-----end of output---\n",
      "if file is absent, output will be empty\n"
     ]
    }
   ],
   "source": [
    "# print lines before and after the output\n",
    "print '---start of output---'\n",
    "print output + '-----end of output---'\n",
    "print 'if file is absent, output will be empty'"
   ]
  },
  {
   "cell_type": "markdown",
   "metadata": {},
   "source": [
    "Before continuing, edit and run the preceeding box to avoid getting an empty line.\n",
    "\n",
    "If there is a barcode file, use `rm` to remove it:"
   ]
  },
  {
   "cell_type": "code",
   "execution_count": 10,
   "metadata": {},
   "outputs": [
    {
     "ename": "CalledProcessError",
     "evalue": "Command 'rm bold_Culicidae.tsv' returned non-zero exit status 1",
     "output_type": "error",
     "traceback": [
      "\u001b[0;31m---------------------------------------------------------------------------\u001b[0m",
      "\u001b[0;31mCalledProcessError\u001b[0m                        Traceback (most recent call last)",
      "\u001b[0;32m<ipython-input-10-5d4af5e98f7e>\u001b[0m in \u001b[0;36m<module>\u001b[0;34m()\u001b[0m\n\u001b[1;32m      1\u001b[0m \u001b[0mcommand\u001b[0m \u001b[0;34m=\u001b[0m \u001b[0;34m'rm %s'\u001b[0m \u001b[0;34m%\u001b[0m \u001b[0mbarcodes_filename\u001b[0m\u001b[0;34m\u001b[0m\u001b[0m\n\u001b[0;32m----> 2\u001b[0;31m \u001b[0mcheck_call\u001b[0m\u001b[0;34m(\u001b[0m\u001b[0mcommand\u001b[0m\u001b[0;34m,\u001b[0m \u001b[0mshell\u001b[0m\u001b[0;34m=\u001b[0m\u001b[0mTrue\u001b[0m\u001b[0;34m)\u001b[0m\u001b[0;34m\u001b[0m\u001b[0m\n\u001b[0m",
      "\u001b[0;32m/opt/anaconda2/lib/python2.7/subprocess.pyc\u001b[0m in \u001b[0;36mcheck_call\u001b[0;34m(*popenargs, **kwargs)\u001b[0m\n\u001b[1;32m    184\u001b[0m         \u001b[0;32mif\u001b[0m \u001b[0mcmd\u001b[0m \u001b[0;32mis\u001b[0m \u001b[0mNone\u001b[0m\u001b[0;34m:\u001b[0m\u001b[0;34m\u001b[0m\u001b[0m\n\u001b[1;32m    185\u001b[0m             \u001b[0mcmd\u001b[0m \u001b[0;34m=\u001b[0m \u001b[0mpopenargs\u001b[0m\u001b[0;34m[\u001b[0m\u001b[0;36m0\u001b[0m\u001b[0;34m]\u001b[0m\u001b[0;34m\u001b[0m\u001b[0m\n\u001b[0;32m--> 186\u001b[0;31m         \u001b[0;32mraise\u001b[0m \u001b[0mCalledProcessError\u001b[0m\u001b[0;34m(\u001b[0m\u001b[0mretcode\u001b[0m\u001b[0;34m,\u001b[0m \u001b[0mcmd\u001b[0m\u001b[0;34m)\u001b[0m\u001b[0;34m\u001b[0m\u001b[0m\n\u001b[0m\u001b[1;32m    187\u001b[0m     \u001b[0;32mreturn\u001b[0m \u001b[0;36m0\u001b[0m\u001b[0;34m\u001b[0m\u001b[0m\n\u001b[1;32m    188\u001b[0m \u001b[0;34m\u001b[0m\u001b[0m\n",
      "\u001b[0;31mCalledProcessError\u001b[0m: Command 'rm bold_Culicidae.tsv' returned non-zero exit status 1"
     ]
    }
   ],
   "source": [
    "command = 'rm %s' % barcodes_filename\n",
    "check_call(command, shell=True)"
   ]
  },
  {
   "cell_type": "markdown",
   "metadata": {},
   "source": [
    "Value 0 means that the underlying command completed successfully.  \n",
    "Now we download the file using `check_call()` or `check_output()` in Python."
   ]
  },
  {
   "cell_type": "code",
   "execution_count": 11,
   "metadata": {},
   "outputs": [
    {
     "name": "stdout",
     "output_type": "stream",
     "text": [
      "wget http://www.bioinformatics.nl/courses/BIF-50806/Examples/bold_Culicidae.tsv\n",
      "\n"
     ]
    },
    {
     "data": {
      "text/plain": [
       "0"
      ]
     },
     "execution_count": 11,
     "metadata": {},
     "output_type": "execute_result"
    }
   ],
   "source": [
    "# let's also introduce a symbolic name for the server\n",
    "server_url = 'http://www.bioinformatics.nl/courses/BIF-50806/Examples/'\n",
    "command = 'wget %s%s' % (server_url, barcodes_filename)\n",
    "print command\n",
    "# either use check_output() ... it succeeds but gives no output\n",
    "output = check_output(command, shell=True)\n",
    "print output\n",
    "# or use check_call() ... it succeeds and gives value 0\n",
    "check_call(command, shell=True)\n",
    "#if you keep both, the file is downloaded twice; the second one overwriting the first one"
   ]
  },
  {
   "cell_type": "markdown",
   "metadata": {},
   "source": [
    "Rerun the appropriate box(es) above to check that the barcodes file is present now.\n",
    "\n",
    "## Now the real work begins"
   ]
  },
  {
   "cell_type": "code",
   "execution_count": null,
   "metadata": {
    "collapsed": true
   },
   "outputs": [],
   "source": [
    "# Open primary input file\n",
    "infile = open(barcodes_filename, 'r')\n",
    "# Like we tried before; this time it should succeed"
   ]
  },
  {
   "cell_type": "markdown",
   "metadata": {},
   "source": [
    "Side remark: When using Python 3, some data in a file like this might cause problems.  \n",
    "Then you have to make explicit that the file is *not* supposed to be Unicode:  \n",
    "`infile = open(barcodes_filename, 'r', encoding='Latin-1') # Python 3`"
   ]
  },
  {
   "cell_type": "code",
   "execution_count": null,
   "metadata": {
    "collapsed": true
   },
   "outputs": [],
   "source": [
    "# Close the file again\n",
    "infile.close()"
   ]
  },
  {
   "cell_type": "markdown",
   "metadata": {},
   "source": [
    "In order to avoid problems with files being partially read (or not opened, or not closed, we will keep open/process/close inside one cell from now on.  \n",
    "Sometimes that means that we are closing a file after partially reading it. In later cells we will start over again."
   ]
  },
  {
   "cell_type": "code",
   "execution_count": null,
   "metadata": {
    "collapsed": true,
    "scrolled": true
   },
   "outputs": [],
   "source": [
    "infile = open(barcodes_filename, 'r')\n",
    "# Read header line and split into column names\n",
    "header_line = infile.readline()\n",
    "header_line = header_line.rstrip()\n",
    "print header_line\n",
    "colnames = header_line.split('\\t') # tab-delimited\n",
    "print colnames\n",
    "# Close the file, even if not fully processed yet\n",
    "infile.close()"
   ]
  },
  {
   "cell_type": "code",
   "execution_count": null,
   "metadata": {
    "collapsed": true,
    "scrolled": true
   },
   "outputs": [],
   "source": [
    "# Print column names with their positions (index) in the list\n",
    "for i in range(len(colnames)):\n",
    "    print i, colnames[i]"
   ]
  },
  {
   "cell_type": "markdown",
   "metadata": {},
   "source": [
    "We could find column numbers for fields that we want to use by inspecting the list above;\n",
    "something like:  \n",
    "`i_species = 20`  \n",
    "`i_seq_is = 39`  \n",
    "`i_seq = 42`  \n",
    "However, we can let Python take care of this:"
   ]
  },
  {
   "cell_type": "code",
   "execution_count": null,
   "metadata": {
    "collapsed": true
   },
   "outputs": [],
   "source": [
    "i_species = colnames.index('species_name')\n",
    "i_seq_id = colnames.index('sequenceID')\n",
    "i_nuc = colnames.index('nucleotides')\n",
    "# Add one or more lines to show the values of these variables"
   ]
  },
  {
   "cell_type": "markdown",
   "metadata": {},
   "source": [
    "We are going to read each line from the barcodes file and write two corresponding lines to the fasta file.  \n",
    "The general structure, including opening and closing both files, is like this:"
   ]
  },
  {
   "cell_type": "code",
   "execution_count": null,
   "metadata": {
    "collapsed": true
   },
   "outputs": [],
   "source": [
    "infile = open(barcodes_filename, 'r')\n",
    "fasta_file = open(fasta_filename,'w')\n",
    "\n",
    "# Process header line\n",
    "header_line = infile.readline()\n",
    "# further details above\n",
    "\n",
    "# Process rest of file line by line\n",
    "for line in infile:\n",
    "    # process line and write corresponding output to fasta_file\n",
    "    # details developed below\n",
    "    fasta_file.write('') # dummy, will be replaced\n",
    "\n",
    "fasta_file.close()\n",
    "infile.close()"
   ]
  },
  {
   "cell_type": "markdown",
   "metadata": {},
   "source": [
    "Before we actually do that in a loop, let's first walk through the mechanism.  \n",
    "We create a variable with the contents of a typical data line.  \n",
    "This code is a substitute for the loop \"`for line in infile:`\" which gives a line like this every time through the loop."
   ]
  },
  {
   "cell_type": "code",
   "execution_count": null,
   "metadata": {
    "collapsed": true
   },
   "outputs": [],
   "source": [
    "line = ( # parentheses to be able to use multiple lines\n",
    "    # consecutive literal strings are seen as one long string; no + needed in this case\n",
    "    'GBDCU1576-14\\t'              # field 0\n",
    "    'HG793655\\t'                  # field 1\n",
    "    '5189666\\t'                   # field 2\n",
    "    ' \\t'                         # field 3 empty\n",
    "    'HG793655\\t'                  # field 4\n",
    "    'Mined from GenBank, NCBI\\t'  # field 5\n",
    "    'BOLD:ACF2166\\t'              # field 6\n",
    "    '20\\tArthropoda\\t'            # fields 7 and 8\n",
    "    '82\\tInsecta\\t'               # fields 9 and 10\n",
    "    '127\\tDiptera\\t'              # fields 11 and 12\n",
    "    '1730\\tCulicidae\\t'           # fields 13 and 14\n",
    "    '2142\\tCulicinae\\t'           # fields 15 and 16\n",
    "    '6441\\tCulex\\t'               # fields 17 and 18\n",
    "    '80365\\t'                     # field 19\n",
    "    'Culex torrentium\\t'          # field 20: species name\n",
    "    ' \\t \\t \\t \\t \\t \\t \\t \\t \\t' # fields 21-29 empty\n",
    "    'isolate: SAW_1551\\t'         # field 30\n",
    "    ' \\t \\t \\t \\t \\t \\t \\t \\t'    # fields 31-38 empty\n",
    "    '6836465\\t'                   # field 39: sequenceID\n",
    "    'COI-5P\\t'                    # field 40\n",
    "    'HG793655\\t'                  # field 41\n",
    "    'AACATTATA----CAACATTTA\\t\\n'  # field 42: nucleotides (shortened)\n",
    "    )\n",
    "line # shows the line as if it were defined on one line, including explicit \\t etc."
   ]
  },
  {
   "cell_type": "code",
   "execution_count": null,
   "metadata": {
    "collapsed": true,
    "scrolled": true
   },
   "outputs": [],
   "source": [
    "# Split the line into its elements\n",
    "line = line.rstrip()\n",
    "elements = line.split('\\t')\n",
    "# let's look at some key fields\n",
    "print '#elements:', len(elements)\n",
    "print elements[0]\n",
    "print elements[i_species]\n",
    "print elements[i_seq_id]\n",
    "print elements[i_nuc]"
   ]
  },
  {
   "cell_type": "code",
   "execution_count": null,
   "metadata": {
    "collapsed": true
   },
   "outputs": [],
   "source": [
    "# Check if there are enough elements; a line might contain fewer elements\n",
    "if len(elements) >= len(colnames):\n",
    "    print \"we can continue\"\n",
    "else:\n",
    "    print \"line doesn't have enough elements\"\n",
    "# below we will not print, but instead skip lines that are too short"
   ]
  },
  {
   "cell_type": "code",
   "execution_count": null,
   "metadata": {
    "collapsed": true
   },
   "outputs": [],
   "source": [
    "# Get fields of interest\n",
    "species = elements[i_species]\n",
    "seq_id = elements[i_seq_id]\n",
    "seq = elements[i_nuc]\n",
    "# Add one or more lines to show the values of these variables"
   ]
  },
  {
   "cell_type": "code",
   "execution_count": null,
   "metadata": {
    "collapsed": true
   },
   "outputs": [],
   "source": [
    "# Check if species name is defined\n",
    "species = species.strip()\n",
    "if len(species) > 0:\n",
    "    print \"we can continue again\"\n",
    "else:\n",
    "    print \"species name is empty\"\n",
    "# below we will not print, but instead skip lines that contain an empty species name"
   ]
  },
  {
   "cell_type": "code",
   "execution_count": null,
   "metadata": {
    "collapsed": true
   },
   "outputs": [],
   "source": [
    "# Spaces in names might cause trouble, so replace them by underscores\n",
    "species = species.replace(' ', '_')\n",
    "# The sequence may contain dashes because sometimes harvested from alignments\n",
    "# where missing values or alignment gaps can be inserted with '-'.\n",
    "# We want to remove these because that might collide with making blastable db\n",
    "newseq = seq.replace('-', '')\n",
    "# We make a unique identifier by concatening species name with seqid\n",
    "newname = '%s|%s' % (species, seq_id)\n",
    "\n",
    "print species\n",
    "print newseq\n",
    "print newname"
   ]
  },
  {
   "cell_type": "markdown",
   "metadata": {},
   "source": [
    "We will write all values `newname` and `newseq` to a fasta file, in the same loop as reading all lines of the input file.  \n",
    "Here, we open the fasta file, write two lines to it, and then close the file again.  \n",
    "In the final version opening and closing should go outside of the loop, before and after the loop, respectively."
   ]
  },
  {
   "cell_type": "code",
   "execution_count": null,
   "metadata": {
    "collapsed": true
   },
   "outputs": [],
   "source": [
    "# Before the loop:\n",
    "fasta_file = open(fasta_filename,'w')\n",
    "# Ultimately within the loop:\n",
    "# Write first name, then sequence to fasta file\n",
    "fasta_file.write('>'+newname+'\\n')\n",
    "fasta_file.write(newseq+'\\n')\n",
    "# After the loop:\n",
    "fasta_file.close()"
   ]
  },
  {
   "cell_type": "markdown",
   "metadata": {},
   "source": [
    "Let's use `check_output()` to see what's in our fasta file now."
   ]
  },
  {
   "cell_type": "code",
   "execution_count": null,
   "metadata": {
    "collapsed": true
   },
   "outputs": [],
   "source": [
    "# Show content of faste file\n",
    "command = 'cat %s' % fasta_filename\n",
    "output = check_output(command, shell=True)\n",
    "print '---start of output---\\n' + output + '-----end of output---'"
   ]
  },
  {
   "cell_type": "markdown",
   "metadata": {},
   "source": [
    "Putting all these pieces together, we get"
   ]
  },
  {
   "cell_type": "code",
   "execution_count": null,
   "metadata": {
    "collapsed": true
   },
   "outputs": [],
   "source": [
    "infile = open(barcodes_filename, 'r')\n",
    "fasta_file = open(fasta_filename,'w')\n",
    "\n",
    "# Process header line\n",
    "# Read header line and split into column names\n",
    "header_line = infile.readline()\n",
    "header_line = header_line.rstrip()\n",
    "colnames = header_line.split('\\t') # tab-delimited\n",
    "i_species = colnames.index('species_name')\n",
    "i_seq_id = colnames.index('sequenceID')\n",
    "i_nuc = colnames.index('nucleotides')\n",
    "\n",
    "# Process rest of file line by line\n",
    "for line in infile:\n",
    "    # Split the line into its elements\n",
    "    line = line.rstrip()\n",
    "    elements = line.split('\\t')\n",
    "    \n",
    "    # Check if there are enough elements; a line might contain fewer elements\n",
    "    if len(elements) >= len(colnames):\n",
    "        \n",
    "        # Get fields of interest\n",
    "        species = elements[i_species]\n",
    "        seq_id = elements[i_seq_id]\n",
    "        seq = elements[i_nuc]\n",
    "\n",
    "        # Check if species name is defined\n",
    "        species = species.strip()\n",
    "        if len(species) > 0:\n",
    "            \n",
    "            # Spaces in names might cause trouble, so replace them by underscores\n",
    "            species = species.replace(' ', '_')\n",
    "            # The sequence may contain dashes because sometimes harvested from alignments\n",
    "            # where missing values or alignment gaps can be inserted with '-'.\n",
    "            # We want to remove these because that might collide with making blastable db\n",
    "            newseq = seq.replace('-', '')\n",
    "            # We make a unique identifier by concatening species name with seqid\n",
    "            newname = '%s|%s' % (species, seq_id)\n",
    "\n",
    "            # Write first name, then sequence to fasta file\n",
    "            fasta_file.write('>'+newname+'\\n')\n",
    "            fasta_file.write(newseq+'\\n')\n",
    "\n",
    "# After the loop\n",
    "fasta_file.close()\n",
    "infile.close()"
   ]
  },
  {
   "cell_type": "markdown",
   "metadata": {
    "collapsed": true
   },
   "source": [
    "## Processing the mystery mosquito data\n",
    "When working in the shell, we could now type:\n",
    "\n",
    "`ls -l mystery*.fa`  \n",
    "`makeblastdb -in mosquitos_barcode.fa -out mosquitos_barcode -dbtype nucl -parse_seqids`  \n",
    "`blastn -query mystery_mosquito_x1.fa -db mosquitos_barcode.fa -outfmt 6`  \n",
    "`blastn -query mystery_mosquito_x2.fa -db mosquitos_barcode.fa -outfmt 6`\n",
    "\n",
    "But let's just stay with Python for a little longer:"
   ]
  },
  {
   "cell_type": "code",
   "execution_count": null,
   "metadata": {
    "collapsed": true
   },
   "outputs": [],
   "source": [
    "# Check if mystery files are present\n",
    "command = 'ls -l %s' % mystery_filename_pattern\n",
    "output = check_output_ext(command, shell=True)\n",
    "print '---start of output---\\n' + output + '-----end of output---'"
   ]
  },
  {
   "cell_type": "markdown",
   "metadata": {
    "collapsed": true
   },
   "source": [
    "If files are missing, download them from Blackboard."
   ]
  },
  {
   "cell_type": "code",
   "execution_count": null,
   "metadata": {
    "collapsed": true
   },
   "outputs": [],
   "source": [
    "# Get list of mystery filenames; use ls without -l for getting just names\n",
    "command = 'ls %s' % mystery_filename_pattern\n",
    "output = check_output_ext(command, shell=True)\n",
    "mystery_filenames = output.split('\\n')\n",
    "mystery_filenames = mystery_filenames[:-1] # remove last (empty) entry\n",
    "print mystery_filenames"
   ]
  },
  {
   "cell_type": "code",
   "execution_count": null,
   "metadata": {
    "collapsed": true,
    "scrolled": true
   },
   "outputs": [],
   "source": [
    "# Make a blastable db of the fasta file, and read in some of the reporting messages \n",
    "# that are provided by the 'makeblastdb' program\n",
    "command = 'makeblastdb -in %s -out %s -dbtype nucl -parse_seqids'\n",
    "fasta_filename_to_dot = fasta_filename.split('.')[0]\n",
    "command = command % (fasta_filename, fasta_filename_to_dot)\n",
    "print command\n",
    "\n",
    "output = check_output(command, shell=True)\n",
    "print len(output)\n",
    "print(output[:200]) # truncate if it is too long"
   ]
  },
  {
   "cell_type": "code",
   "execution_count": null,
   "metadata": {
    "collapsed": true
   },
   "outputs": [],
   "source": [
    "m_filename = mystery_filenames[0]\n",
    "\n",
    "# Here things get exciting: we Blast on the blastable db using the sequence of Mystery Mosquito X\n",
    "# Note that results are collected in the variable 'results' as a string of characters! \n",
    "# If you want to loop through the results, you will have to create a list from that string\n",
    "# You can do that by splitting on a newline character. Note: we are removing the last newline of the full\n",
    "# character string. If we didn't, there would be an empty last item in the list after the split\n",
    "\n",
    "command = 'blastn -query %s -db %s -outfmt 6'\n",
    "command = command % (m_filename, fasta_filename_to_dot)\n",
    "print command\n",
    "\n",
    "results = check_output(command, shell=True)\n",
    "result_lines = results.split('\\n')\n",
    "\n",
    "# We are only interested in the top 5 results:\n",
    "# You can change this to whatever you want\n",
    "# You can even make an option for it in the arguments list [challenge].\n",
    "for result in result_lines[:5]:\n",
    "    # each item in the list is one line of Blast output (outfmt 6) \n",
    "    # Since each line is a string, we need to explicitly split on tabs!\n",
    "    resultlist = result.split('\\t')\n",
    "\n",
    "    # collect contents of the fields of interest\n",
    "    mysterymosquito_id = resultlist[0]\n",
    "    match = resultlist[1]\n",
    "    percent_match = float(resultlist[2])\n",
    "    length_of_match = int(resultlist[3])\n",
    "\n",
    "    # report back the match\n",
    "    out_line = 'Match for Mystery Mosquito %s: %s with %.2f%% identity for %dbp'\n",
    "    out_line = out_line % (mysterymosquito_id, match, percent_match, length_of_match)\n",
    "    print out_line\n"
   ]
  },
  {
   "cell_type": "code",
   "execution_count": null,
   "metadata": {
    "collapsed": true
   },
   "outputs": [],
   "source": [
    "# Repeat Blast for all m_filesname entries from mystery_filenames\n",
    "for m_filename in mystery_filenames:\n",
    "    # Blast on the blastable db using the sequence of Mystery Mosquito X\n",
    "    command = 'blastn -query %s -db %s -outfmt 6'\n",
    "    command = command % (m_filename, fasta_filename_to_dot)\n",
    "    print command\n",
    "\n",
    "    results = check_output(command, shell=True)\n",
    "    result_lines = results.split('\\n')\n",
    "\n",
    "    # We are only interested in the top 5 results:\n",
    "    # You can change this to whatever you want\n",
    "    # You can even make an option for it in the arguments list [challenge].\n",
    "    for result in result_lines[:5]:\n",
    "        # each item in the list is one line of Blast output (outfmt 6) \n",
    "        # Since each line is a string, we need to explicitly split on tabs!\n",
    "        resultlist = result.split('\\t')\n",
    "\n",
    "        # collect contents of the fields of interest\n",
    "        mysterymosquito_id = resultlist[0]\n",
    "        match = resultlist[1]\n",
    "        percent_match = float(resultlist[2])\n",
    "        length_of_match = int(resultlist[3])\n",
    "\n",
    "        # report back the match\n",
    "        out_line = 'Match for Mystery Mosquito %s: %s with %.2f%% identity for %dbp'\n",
    "        out_line = out_line % (mysterymosquito_id, match, percent_match, length_of_match)\n",
    "        print out_line\n"
   ]
  }
 ],
 "metadata": {
  "celltoolbar": "Raw Cell Format",
  "kernelspec": {
   "display_name": "Python 2",
   "language": "python",
   "name": "python2"
  },
  "language_info": {
   "codemirror_mode": {
    "name": "ipython",
    "version": 2
   },
   "file_extension": ".py",
   "mimetype": "text/x-python",
   "name": "python",
   "nbconvert_exporter": "python",
   "pygments_lexer": "ipython2",
   "version": "2.7.13"
  }
 },
 "nbformat": 4,
 "nbformat_minor": 1
}
