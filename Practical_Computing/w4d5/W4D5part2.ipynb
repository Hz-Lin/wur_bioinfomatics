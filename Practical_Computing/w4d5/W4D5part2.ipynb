{
 "cells": [
  {
   "cell_type": "markdown",
   "metadata": {},
   "source": [
    "## Redoing a shell script from inside Python\n",
    "During Week 2 Day 4 you have developed a script like the one below for obtaining a multiple sequence alignment from BLAST.  \n",
    "(Note that you cannot run this code here, because it cannot handle command line arguments inside a notebook.)  \n",
    "We are going to do the same thing from inside Python. Parts for which we needed `sed` in the shell script could be done by Python code now."
   ]
  },
  {
   "cell_type": "code",
   "execution_count": null,
   "metadata": {},
   "outputs": [],
   "source": [
    "#!/bin/bash\n",
    "if [ $1 ]; then\n",
    "    BLASTDATABASE=$1\n",
    "else\n",
    "    echo which BLAST database do you want to use?\n",
    "    read BLASTDATABASE\n",
    "fi     \n",
    "\n",
    "if [ $2 ]; then\n",
    "    INPUTFILE=$2\n",
    "else\n",
    "    echo which file contains the query sequence?\n",
    "    read INPUTFILE\n",
    "fi     \n",
    "\n",
    "#remove the files from previous runs, if any\n",
    "if [ -f blasthits.fasta ]; then\n",
    "    rm blasthits.*\n",
    "fi\n",
    "\n",
    "BLASTHITS=`blastp -query $INPUTFILE -db $BLASTDATABASE -evalue 1e-3 -outfmt \"6 sacc\"`\n",
    "\n",
    "for BLASTHIT in $BLASTHITS; do \n",
    "    blastdbcmd -db $BLASTDATABASE -entry $BLASTHIT \n",
    "done > blasthits.fasta\n",
    "\n",
    "sed -i 's/>.*[|]/>/' blasthits.fasta\n",
    "\n",
    "clustalo --in blasthits.fasta --outfmt=clustal > blasthits.clustal\n",
    "\n",
    "#send any output that jalview produces to the trash (/dev/null)\n",
    "jalview -open blasthits.clustal -colour clustal -nodisplay -png blasthits.png -imgMAP blasthits.html >& /dev/null\n",
    "\n",
    "firefox blasthits.html"
   ]
  },
  {
   "cell_type": "markdown",
   "metadata": {},
   "source": [
    "## Preparations\n",
    "We need module `sys` for obtaining command line arguments. Well, this doesn't work inside a notebook, but for the final script we still include it.  \n",
    "Further we are using `subprocess.check_call()` and `subprocess.check_output()` as replacements for `os.popen()` used in the book."
   ]
  },
  {
   "cell_type": "code",
   "execution_count": 2,
   "metadata": {
    "collapsed": true
   },
   "outputs": [],
   "source": [
    "# First import all necessary modules\n",
    "import sys\n",
    "from subprocess import check_call, check_output\n",
    "# TODO: If you need more, add them here and then re-execute this box"
   ]
  },
  {
   "cell_type": "markdown",
   "metadata": {},
   "source": [
    "Like in the previous notebook, we add our own `check_output_ext()`.  \n",
    "This is admittedly more complex code than we are teaching in this course. "
   ]
  },
  {
   "cell_type": "code",
   "execution_count": 3,
   "metadata": {
    "collapsed": true
   },
   "outputs": [],
   "source": [
    "import subprocess\n",
    "\n",
    "def check_output_ext (command, shell=False):\n",
    "    try:\n",
    "        output = subprocess.check_output (command, shell=shell)\n",
    "    except subprocess.CalledProcessError as e:\n",
    "        output = e.output\n",
    "    return output"
   ]
  },
  {
   "cell_type": "code",
   "execution_count": 9,
   "metadata": {
    "collapsed": true
   },
   "outputs": [],
   "source": [
    "# Put all fixed filenames (and other constants) here\n",
    "all_outputs = 'blasthits.*' # used by rm\n",
    "# TODO: Add more when needed, add then re-execute this box"
   ]
  },
  {
   "cell_type": "markdown",
   "metadata": {},
   "source": [
    "## Getting input file names\n",
    "The first two pieces of the shell script check command line arguments and ask the user for missing arguments.\n",
    "```\n",
    "if [ $1 ]\n",
    "then\n",
    "    BLASTDATABASE=$1\n",
    "else\n",
    "    echo which BLAST database do you want to use?\n",
    "    read BLASTDATABASE\n",
    "fi\n",
    "\n",
    "if [ $2 ]\n",
    "then\n",
    "    INPUTFILE=$2\n",
    "else\n",
    "    echo which file contains the query sequence?\n",
    "    read INPUTFILE\n",
    "fi\n",
    "```\n",
    "\n",
    "We could do that in Python like this:"
   ]
  },
  {
   "cell_type": "code",
   "execution_count": 7,
   "metadata": {
    "collapsed": true
   },
   "outputs": [],
   "source": [
    "if len(sys.argv) > 1: # will not work properly inside notebook...\n",
    "    blast_database = sys.argv[1]\n",
    "else:\n",
    "    blast_database = raw_input('which BLAST database do you want to use? ')\n",
    "    \n",
    "if len(sys.argv) > 2: # will not work properly inside notebook...\n",
    "    input_filename = sys.argv[2]\n",
    "else:\n",
    "    input_filename = raw_input('which file contains the query sequence? ')"
   ]
  },
  {
   "cell_type": "code",
   "execution_count": 8,
   "metadata": {},
   "outputs": [
    {
     "name": "stdout",
     "output_type": "stream",
     "text": [
      "-f\n",
      "/run/user/17170083/jupyter/kernel-bba31f70-9f22-4fb0-9352-4a8061177104.json\n"
     ]
    }
   ],
   "source": [
    "# these command line arguments are valid for the notebook, not for our script...\n",
    "print blast_database\n",
    "print input_filename"
   ]
  },
  {
   "cell_type": "code",
   "execution_count": 10,
   "metadata": {},
   "outputs": [
    {
     "name": "stdout",
     "output_type": "stream",
     "text": [
      "which BLAST database do you want to use? sp_human\n",
      "which file contains the query sequence? proteinX.fasta\n"
     ]
    }
   ],
   "source": [
    "# Inside the notebook ask for input anyway\n",
    "# Don't include this code in a real Python script\n",
    "blast_database = raw_input('which BLAST database do you want to use? ')\n",
    "input_filename = raw_input('which file contains the query sequence? ')"
   ]
  },
  {
   "cell_type": "code",
   "execution_count": 11,
   "metadata": {},
   "outputs": [
    {
     "name": "stdout",
     "output_type": "stream",
     "text": [
      "sp_human\n"
     ]
    }
   ],
   "source": [
    "# TODO: Add code to see what we've got as database\n",
    "print blast_database"
   ]
  },
  {
   "cell_type": "code",
   "execution_count": 12,
   "metadata": {},
   "outputs": [
    {
     "name": "stdout",
     "output_type": "stream",
     "text": [
      "proteinX.fasta\n"
     ]
    }
   ],
   "source": [
    "# TODO: Add code to see what we've got as input file\n",
    "print input_filename"
   ]
  },
  {
   "cell_type": "markdown",
   "metadata": {},
   "source": [
    "## Removing old output\n",
    "In the shell script:\n",
    "```\n",
    "if [ -f blasthits.fasta ]; then\n",
    "    rm blasthits.*\n",
    "fi\n",
    "```\n",
    "We can do that from Python as well. And we will use symbolic names where possible."
   ]
  },
  {
   "cell_type": "code",
   "execution_count": 13,
   "metadata": {},
   "outputs": [
    {
     "name": "stdout",
     "output_type": "stream",
     "text": [
      "--- start of output ---\n",
      "--- end of output ---\n"
     ]
    }
   ],
   "source": [
    "# TODO: fill the dots\n",
    "command = 'ls %s' % all_outputs\n",
    "output = check_output_ext(command, shell=True)\n",
    "print '--- start of output ---\\n' + output + '--- end of output ---'"
   ]
  },
  {
   "cell_type": "code",
   "execution_count": 14,
   "metadata": {},
   "outputs": [
    {
     "name": "stdout",
     "output_type": "stream",
     "text": [
      "nothing to do\n"
     ]
    }
   ],
   "source": [
    "if len(output) > 0:\n",
    "    print 'something to be removed'\n",
    "else:\n",
    "    print 'nothing to do'"
   ]
  },
  {
   "cell_type": "code",
   "execution_count": 15,
   "metadata": {
    "collapsed": true
   },
   "outputs": [],
   "source": [
    "if len(output) > 0:\n",
    "    command = 'rm %s' % all_outputs\n",
    "    check_call(command, shell=True)"
   ]
  },
  {
   "cell_type": "markdown",
   "metadata": {},
   "source": [
    "Run the appropriate cell above to check that outputs have been removed indeed."
   ]
  },
  {
   "cell_type": "markdown",
   "metadata": {},
   "source": [
    "## Obtaining the BLAST hits\n",
    "In the shell script:\n",
    "```\n",
    "BLASTHITS=`blastp -query $INPUTFILE -db $BLASTDATABASE -evalue 1e-3 -outfmt \"6 sacc\"`\n",
    "```\n",
    "\n",
    "We pass the command to `check_output()`, but let Python substitute file names."
   ]
  },
  {
   "cell_type": "code",
   "execution_count": 16,
   "metadata": {},
   "outputs": [
    {
     "name": "stdout",
     "output_type": "stream",
     "text": [
      "28\n",
      "P01308\n",
      "F8WCM5\n",
      "P01344\n",
      "P05019\n",
      "\n"
     ]
    }
   ],
   "source": [
    "blast_query_command = 'blastp -query %s -db %s -evalue 1e-3 -outfmt \"6 sacc\"'\n",
    "# TODO: Fill in variable parts of command\n",
    "command = blast_query_command % (input_filename,blast_database)\n",
    "output = check_output(command, shell=True)\n",
    "print len(output)\n",
    "print output[:300]"
   ]
  },
  {
   "cell_type": "code",
   "execution_count": 17,
   "metadata": {},
   "outputs": [
    {
     "name": "stdout",
     "output_type": "stream",
     "text": [
      "['P01308', 'F8WCM5', 'P01344', 'P05019']\n",
      "P01308\n",
      "F8WCM5\n",
      "P01344\n",
      "P05019\n"
     ]
    }
   ],
   "source": [
    "# turn the output into a list\n",
    "blast_hits = output.strip().split('\\n')\n",
    "print blast_hits\n",
    "# print the elements of the list\n",
    "for hit in blast_hits:\n",
    "    print hit"
   ]
  },
  {
   "cell_type": "markdown",
   "metadata": {
    "collapsed": true
   },
   "source": [
    "## Combining the BLAST hits\n",
    "In the shell script:\n",
    "```\n",
    "for BLASTHIT in $BLASTHITS; do \n",
    "    blastdbcmd -db $BLASTDATABASE -entry $BLASTHIT \n",
    "done > blasthits.fasta\n",
    "```\n",
    "Now we do the loop in Python, and write all results to the output file.  \n",
    "First let's try it without writing to file (simulating)."
   ]
  },
  {
   "cell_type": "code",
   "execution_count": 22,
   "metadata": {},
   "outputs": [
    {
     "name": "stdout",
     "output_type": "stream",
     "text": [
      ">sp|P01308|INS_HUMAN Insulin OS=Homo sapiens GN=INS PE=1 SV=1\n",
      "MALWMRLLPLLALLALWGPDPAAAFVNQHLCGSHLVEALYLVCGERGFFYTPKTRREAEDLQVGQVELGGGPGAGSLQPL\n",
      "ALEGSLQKRGIVEQCCTSICSLYQLENYCN\n",
      "\n",
      ">sp|F8WCM5|INSR2_HUMAN Insulin, isoform 2 OS=Homo sapiens GN=INS-IGF2 PE=2 SV=1\n",
      "MALWMRLLPLLALLALWGPDPAAAFVNQHLCGSHLVEALYLVCGERGFFYTPKTRREAEDLQASALSLSSSTSTWPEGLD\n",
      "ATARAPPALVVTANIGQAGGSSSRQFRQRALGTSDSPVLFIHCPGAAGTAQGLEYRGRRVTTELVWEEVDSSPQPQGSES\n",
      "LPAQPPAQPAPQPEPQQAREPSPEVSCCGLWPRRPQRSQN\n",
      "\n",
      ">sp|P01344|IGF2_HUMAN Insulin-like growth factor II OS=Homo sapiens GN=IGF2 PE=1 SV=1\n",
      "MGIPMGKSMLVLLTFLAFASCCIAAYRPSETLCGGELVDTLQFVCGDRGFYFSRPASRVSRRSRGIVEECCFRSCDLALL\n",
      "ETYCATPAKSERDVSTPPTVLPDNFPRYPVGKFFQYDTWKQSTQRLRRGLPALLRARRGHVLAKELEAFREAKRHRPLIA\n",
      "LPTQDPAHGGAPPEMASNRK\n",
      "\n",
      ">sp|P05019|IGF1_HUMAN Insulin-like growth factor I OS=Homo sapiens GN=IGF1 PE=1 SV=1\n",
      "MGKISSLPTQLFKCCFCDFLKVKMHTMSSSHLFYLALCLLTFTSSATAGPETLCGAELVDALQFVCGDRGFYFNKPTGYG\n",
      "SSSRRAPQTGIVDECCFRSCDLRRLEMYCAPLKPAKSARSVRAQRHTDMPKTQKYQPPSTNKNTKSQRRKGWPKTHPGGE\n",
      "QKEGTEASLQIRGKKKEQRREIGSRNAECRGKKGK\n",
      "\n"
     ]
    }
   ],
   "source": [
    "for hit in blast_hits:\n",
    "    blast_command = 'blastdbcmd -db %s -entry \"%s\"'\n",
    "    # TODO: Fill in variable parts of command\n",
    "    command = blast_command % (blast_database,hit)\n",
    "    output = check_output(command, shell=True)\n",
    "    print output"
   ]
  },
  {
   "cell_type": "markdown",
   "metadata": {},
   "source": [
    "We get empty lines in between. This means that each `output` ends in a newline already.  \n",
    "So we can write them to the fasta file immediately."
   ]
  },
  {
   "cell_type": "code",
   "execution_count": 38,
   "metadata": {},
   "outputs": [],
   "source": [
    "fasta_filename = 'blasthits.fasta'\n",
    "fasta_file = open(fasta_filename, 'w')\n",
    "for hit in blast_hits:\n",
    "    blast_command = 'blastdbcmd -db %s -entry \"%s\"'\n",
    "    # TODO: Fill in variable parts of command\n",
    "    command = blast_command % (blast_database,hit)\n",
    "    output = check_output(command, shell=True)\n",
    "    fasta_file.write(output)\n",
    "fasta_file.close()"
   ]
  },
  {
   "cell_type": "code",
   "execution_count": 39,
   "metadata": {
    "scrolled": true
   },
   "outputs": [
    {
     "name": "stdout",
     "output_type": "stream",
     "text": [
      ">sp|P01308|INS_HUMAN Insulin OS=Homo sapiens GN=INS PE=1 SV=1\n",
      "MALWMRLLPLLALLALWGPDPAAAFVNQHLCGSHLVEALYLVCGERGFFYTPKTRREAEDLQVGQVELGGGPGAGSLQPL\n",
      "ALEGSLQKRGIVEQCCTSICSLYQLENYCN\n",
      ">sp|F8WCM5|INSR2_HUMAN Insulin, isoform 2 OS=Homo sapiens GN=INS-IGF2 PE=2 SV=1\n",
      "MALWMRLLPLLALLALWGPDPAAAFVNQHLCGSHLVEALYLVCGERGFFYTPKTRREAEDLQASALSLSSSTSTWPEGLD\n",
      "ATARAPPALVVTANIGQAGGSSSRQFRQRALGTSDSPVLFIHCPGAAGTAQGLEYRGRRVTTELVWEEVDSSPQPQGSES\n",
      "LPAQPPAQPAPQPEPQQAREPSPEVSCCGLWPRRPQRSQN\n",
      ">sp|P01344|IGF2_HUMAN Insulin-like growth factor II OS=Homo sapiens GN=IGF2 PE=1 SV=1\n",
      "MGIPMGKSMLVLLTFLAFASCCIAAYRPSETLCGGELVDTLQFVCGDRGFYFSRPASRVSRRSRGIVEECCFRSCDLALL\n",
      "ETYCATPAKSERDVSTPPTVLPDNFPRYPVGKFFQYDTWKQSTQRLRRGLPALLRARRGHVLAKELEAFREAKRHRPLIA\n",
      "LPTQDPAHGGAPPEMASNRK\n",
      ">sp|P05019|IGF1_HUMAN Insulin-like growth factor I OS=Homo sapiens GN=IGF1 PE=1 SV=1\n",
      "MGKISSLPTQLFKCCFCDFLKVKMHTMSSSHLFYLALCLLTFTSSATAGPETLCGAELVDALQFVCGDRGFYFNKPTGYG\n",
      "SSSRRAPQTGIVDECCFRSCDLRRLEMYCAPLKPAKSARSVRAQRHTDMPKTQKYQPPSTNKNTKSQRRKGWPKTHPGGE\n",
      "QKEGTEASLQIRGKKKEQRREIGSRNAECRGKKGK\n",
      "\n"
     ]
    }
   ],
   "source": [
    "# Use check_output() to look into the fasta_file.\n",
    "# hint: use command cat\n",
    "command = 'cat %s' % (fasta_filename)\n",
    "output = check_output(command, shell=True)\n",
    "print output"
   ]
  },
  {
   "cell_type": "markdown",
   "metadata": {},
   "source": [
    "## Reformatting blasthits.fasta\n",
    "In the shell script:\n",
    "```\n",
    "sed -i 's/>.*[|]/>/' blasthits.fasta\n",
    "```\n",
    "If we want to that in Python, we better combine it with writing the fasta file (at that moment we have all text, piece by piece, in memory anyway).  \n",
    "For now, just call `sed` by `check_call()`."
   ]
  },
  {
   "cell_type": "code",
   "execution_count": 40,
   "metadata": {},
   "outputs": [
    {
     "data": {
      "text/plain": [
       "0"
      ]
     },
     "execution_count": 40,
     "metadata": {},
     "output_type": "execute_result"
    }
   ],
   "source": [
    "sed_command = \"sed -i 's/>.*[|]/>/' %s\"\n",
    "# TODO: Fill in variable parts of command\n",
    "command = sed_command % (fasta_filename)\n",
    "check_call(command, shell=True)"
   ]
  },
  {
   "cell_type": "markdown",
   "metadata": {},
   "source": [
    "## Finalizing the script\n",
    "In the shell script:\n",
    "```\n",
    "clustalo --in blasthits.fasta --outfmt=clustal > blasthits.clustal\n",
    "\n",
    "#send any output that jalview produces to the trash (/dev/null)\n",
    "jalview -open blasthits.clustal -colour clustal -nodisplay -png blasthits.png -imgMAP blasthits.html >& /dev/null\n",
    "\n",
    "firefox blasthits.html\n",
    "```\n",
    "Sending output to trash is default behaviour of `check_call()`, so we get that for free."
   ]
  },
  {
   "cell_type": "code",
   "execution_count": 44,
   "metadata": {},
   "outputs": [
    {
     "name": "stdout",
     "output_type": "stream",
     "text": [
      "blasthits.png blasthits.html\n"
     ]
    }
   ],
   "source": [
    "# TODO: Define names for further files\n",
    "# Challenge: Derive these names from the fasta_filename\n",
    "# Easy: Just define constants for those names\n",
    "main_name = fasta_filename.split('.')\n",
    "clustal_filename = main_name[0]+'.clustal'\n",
    "png_filename = main_name[0]+'.png'\n",
    "html_filename = main_name[0]+'.html'"
   ]
  },
  {
   "cell_type": "code",
   "execution_count": 43,
   "metadata": {},
   "outputs": [
    {
     "data": {
      "text/plain": [
       "0"
      ]
     },
     "execution_count": 43,
     "metadata": {},
     "output_type": "execute_result"
    }
   ],
   "source": [
    "clustalo_command = 'clustalo --in %s --outfmt=clustal > %s'\n",
    "# TODO: Fill in variable parts of command\n",
    "command = clustalo_command % (fasta_filename,clustal_filename)\n",
    "check_call(command, shell=True)"
   ]
  },
  {
   "cell_type": "code",
   "execution_count": 45,
   "metadata": {},
   "outputs": [
    {
     "data": {
      "text/plain": [
       "0"
      ]
     },
     "execution_count": 45,
     "metadata": {},
     "output_type": "execute_result"
    }
   ],
   "source": [
    "jal_command = 'jalview -open %s -colour clustal -nodisplay -png %s -imgMAP %s'\n",
    "# TODO: Fill in variable parts of command\n",
    "command = jal_command % (clustal_filename,png_filename,html_filename)\n",
    "check_call(command, shell=True)"
   ]
  },
  {
   "cell_type": "code",
   "execution_count": 46,
   "metadata": {},
   "outputs": [
    {
     "data": {
      "text/plain": [
       "0"
      ]
     },
     "execution_count": 46,
     "metadata": {},
     "output_type": "execute_result"
    }
   ],
   "source": [
    "firefox_command = 'firefox %s'\n",
    "# TODO: Fill in variable parts of command\n",
    "command = firefox_command % html_filename\n",
    "check_call(command, shell=True)"
   ]
  },
  {
   "cell_type": "code",
   "execution_count": null,
   "metadata": {
    "collapsed": true
   },
   "outputs": [],
   "source": []
  }
 ],
 "metadata": {
  "kernelspec": {
   "display_name": "Python 2",
   "language": "python",
   "name": "python2"
  },
  "language_info": {
   "codemirror_mode": {
    "name": "ipython",
    "version": 2
   },
   "file_extension": ".py",
   "mimetype": "text/x-python",
   "name": "python",
   "nbconvert_exporter": "python",
   "pygments_lexer": "ipython2",
   "version": "2.7.13"
  }
 },
 "nbformat": 4,
 "nbformat_minor": 1
}
