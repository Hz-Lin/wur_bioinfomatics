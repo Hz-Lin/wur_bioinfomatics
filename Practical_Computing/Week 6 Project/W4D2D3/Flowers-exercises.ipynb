{
 "cells": [
  {
   "cell_type": "code",
   "execution_count": 1,
   "metadata": {
    "collapsed": true
   },
   "outputs": [],
   "source": [
    "# Jupyter Notebook 'Flowers - exercises'\n",
    "# Goal: playing with pixel-based images, understand their\n",
    "# properties, and at the same time learn how to work with\n",
    "# matrix objects (numpy arrays) in Python\n",
    "# You can add your own code to this notebook.\n",
    "\n",
    "# By: yourname\n",
    "# Where you can reach me: yourname -at- wur.nl\n",
    "# Last modified: ?? September 2016\n",
    "\n",
    "import matplotlib.pyplot as plt # this is the general plotting library from matplotlib\n",
    "from scipy import misc # module that provides some image manipulation functions\n",
    "import numpy as np # numpy; note that the convention of importing is to create a sort of 'shortcut' name\n",
    "import matplotlib.cm as cm # this module provides some color mapping needed for plotting gray or single color"
   ]
  },
  {
   "cell_type": "code",
   "execution_count": 2,
   "metadata": {
    "collapsed": true
   },
   "outputs": [],
   "source": [
    "# Cropping is simply taking a square area smaller than the original\n",
    "# image. Here is a little function that can do that.\n",
    "def crop_sides(image,numpix=100):\n",
    "  return image[numpix:-numpix,numpix:-numpix,:]\n"
   ]
  },
  {
   "cell_type": "code",
   "execution_count": 3,
   "metadata": {},
   "outputs": [],
   "source": [
    "# Turning an RGB color image into grayscale can be achieved by taking\n",
    "# the average of the three colors. \n",
    "# Bonus question: why doesn't this work:\n",
    "# return (pixel[0] + pixel[1] + pixel[2])/3\n",
    "def pixelAverage(pixel):\n",
    "        return (pixel[0]/3 + pixel[1]/3 + pixel[2]/3)\n",
    "\n",
    "# In practice, turning RGB into grayscale involves weighted average.\n",
    "# This to compensate for the fact that the human eye is more sensitive\n",
    "# to some colors than to others.\n",
    "def weightedAverage(pixel):\n",
    "        return 0.299*pixel[0] + 0.587*pixel[1] + 0.114*pixel[2]\n",
    "\n",
    "def RGB_to_grayscale(image,method='pixelaverage'):\n",
    "    # Let's turn an RGB image into a grayscale one\n",
    "\n",
    "    # First we make a 'black', or 'empty' image of the same size:\n",
    "    gray = np.zeros((image.shape[0],image.shape[1]))\n",
    "\n",
    "    # Then we go through all rows...\n",
    "    for rownum in range(sunflower.shape[0]):\n",
    "        # ... and through all columns...\n",
    "        for colnum in range(sunflower.shape[1]):\n",
    "            # ... to calculate the grayscale value for each RGB pixel.\n",
    "            if method == 'pixelaverage':\n",
    "                gray[rownum][colnum] = pixelAverage(sunflower[rownum][colnum])\n",
    "            else:\n",
    "                gray[rownum][colnum] = weightedAverage(sunflower[rownum][colnum])\n",
    "    return gray\n"
   ]
  },
  {
   "cell_type": "code",
   "execution_count": 4,
   "metadata": {},
   "outputs": [],
   "source": [
    "def plot_RGB_histograms(image):\n",
    "    # Obviously we can isolate all three color channels:\n",
    "    blue = image[:,:,2]\n",
    "    green = image[:,:,1]\n",
    "    red = image[:,:,0]\n",
    "\n",
    "    # ... and make histograms for each color\n",
    "    blue_hist = np.histogram(blue.flatten(),normed=True)\n",
    "    green_hist = np.histogram(green.flatten(),normed=True)\n",
    "    red_hist = np.histogram(red.flatten(),normed=True)\n",
    "\n",
    "    # Ok, now pay attention. It seems like we are creating THREE\n",
    "    # different plots. But no, we are, each time, working from the \n",
    "    # SAME object! Which is the 'plt' object. We're just adding stuf\n",
    "    # to it.\n",
    "    # One additional point: the histogram data consists of TWO vectors.\n",
    "    # The first is of length 10, and contains the actual values.\n",
    "    # The second is of length 11, and contains the boundaries of the bins.\n",
    "    # Hence the weird slicing....\n",
    "    plt.plot(blue_hist[1][1:],blue_hist[0],color='blue')\n",
    "    plt.plot(green_hist[1][1:],green_hist[0],color='green')\n",
    "    plt.plot(red_hist[1][1:],red_hist[0],color='red')\n",
    "\n",
    "    # and, as usual, explicitly direct to screen.\n",
    "    plt.show()"
   ]
  },
  {
   "cell_type": "code",
   "execution_count": 5,
   "metadata": {
    "collapsed": true
   },
   "outputs": [],
   "source": [
    "# A tiny little subroutine to calculate Euclidean distance\n",
    "# between two vectors. Beware: it takes two 1-dimensional \n",
    "# numpy arrays (vectors) OF SAME LENGTH as input\n",
    "\n",
    "def euclid_dist(vect1,vect2):\n",
    "  return np.sqrt(np.sum(np.square(vect1-vect2)))\n",
    "\n",
    "# This subroutine first makes histograms of each color separately,\n",
    "# then stacks them (horizontally) to form a single, 30-element long, \n",
    "# vector. \n",
    "# We call this a 'feature vector': secondary statistics derived of a \n",
    "# primary dataset, which can contain DIFFERENT secondary statistics as\n",
    "# well, can be concatenated to a single vector that can be compared between\n",
    "# many different datasets, e.g. images, but also genotype data, novels, etc.\n",
    "\n",
    "def hist_all_colors(image):\n",
    "  blue_hist = np.histogram(image[:,:,2].flatten(),normed = True)\n",
    "  green_hist = np.histogram(image[:,:,1].flatten(),normed = True)\n",
    "  red_hist = np.histogram(image[:,:,0].flatten(),normed = True)\n",
    "  all_hist = np.hstack((red_hist[0],green_hist[0],blue_hist[0]))\n",
    "  return all_hist\n",
    "\n",
    "# This subroutine calculates the Euclidean distance between\n",
    "# two images, based on their RGB color spectra.\n",
    "# It is wrapping two other subroutines to return a single float\n",
    "# which is the distance\n",
    "\n",
    "def euclid_dist_between_images(img1,img2):\n",
    "  hist1 = hist_all_colors(img1)\n",
    "  hist2 = hist_all_colors(img2)\n",
    "  return euclid_dist(hist1,hist2)"
   ]
  },
  {
   "cell_type": "markdown",
   "metadata": {},
   "source": [
    "# Flowers #\n",
    "\n",
    "## Sunflowers and pansies ## \n",
    "\n",
    "For this exercise you can use much of the code provided in the **‘Flowers’** notebook. In fact, we have prepared a new notebook, this one, called **‘Flowers exercises’**, that has all the  functions you need already arranged (see above). Make sure to ‘activate’ the functions before you require them.  \n",
    "\n",
    "All of the exercises are designed to be done in a purely interactive environment, and each exercise should never require more than 5 or 6 lines of code, most only 2 or 3. No loops should be necessary, but if any of you is adventurous enough to make more complicated code, please go ahead!\n",
    "\n",
    "What is important is to keep your eye on the various functions. It will be pointed out when you need one of them, but also have a look at what it does.\n",
    "\n",
    "Each question should be done in a single cell. If you want to make a new cell, press the ‘+’ symbol at the top of your notebook. You can move cells up or down using the arrows.\n",
    "\n",
    "If we ask for a value(s) of an array, or another value that you need to calculate, make sure to explicitly ‘print’ the values or objects because otherwise they will not always be displayed when running the cells.\n",
    "\n",
    "### Task 2: Images and arrays ###\n",
    "\n",
    "**a)** Load in the sunflower image:\n",
    "\n",
    "`image_sunflower_0076.png`\n",
    "\n",
    "Plot the image. What are the dimensions of this image?\n",
    "\n",
    "*For pointers how to do this, have a look at the original ‘Flowers’ notebook; specifically cells #2 (loading an image), #4 (shape of an image), #5 (plotting), and #6 (showing). Arrange everything in a single cell. When you do ‘`plt.show()`’, you have to close the image before you can continue.*"
   ]
  },
  {
   "cell_type": "code",
   "execution_count": null,
   "metadata": {},
   "outputs": [],
   "source": [
    "# Task 2a\n"
   ]
  },
  {
   "cell_type": "markdown",
   "metadata": {},
   "source": [
    "**b)** What are the pixel values of the pixel at position [50,50], and the one at position [400,230]?\n",
    "\n",
    "*Pointer: cell #7 of the original ‘Flowers’ notebook*\n",
    "\n",
    "Check at this website whether the colors correspond to what you think they should be:\n",
    "http://www.rapidtables.com/web/color/RGB_Color.htm"
   ]
  },
  {
   "cell_type": "code",
   "execution_count": null,
   "metadata": {},
   "outputs": [],
   "source": [
    "# Task 2b\n"
   ]
  },
  {
   "cell_type": "markdown",
   "metadata": {},
   "source": [
    "c) Isolate the ‘blue’ channel, and display it. Does that pattern make sense?\n",
    "\n",
    "Pointer: cell #15 of the original ‘Flowers’ notebook. Be sure for plotting to include the appropriate color mapping: ‘plt.imshow(blue, cmap = cm.Blues)’."
   ]
  },
  {
   "cell_type": "code",
   "execution_count": null,
   "metadata": {
    "collapsed": true
   },
   "outputs": [],
   "source": [
    "# Task 2c\n"
   ]
  },
  {
   "cell_type": "markdown",
   "metadata": {},
   "source": [
    "**d)** Grayscale \n",
    "- Calculate the grayscale value of pixels [400,10] and [470,10] by hand.\n",
    "\n",
    "*Pointer: just return the RGB pixel value for these pixels as done in b), and take the average.*\n",
    "\n",
    "- Create a grayscale image of the sunflower based on pixel averages, and display it. \n",
    "\n",
    "*Pointer: you can use the ‘RGB_to_grayscale’ function for that. It takes an RGB image as input, and an optional parameter ‘method’. The function returns a grayscale image.\n",
    "gray = RGB_to_grayscale(sunflower,method='pixelaverage')\n",
    "The ‘gray’ image can be displayed similar to cell #12 of the original ‘Flowers’ notebook (again, beware of this peculiar color mapping thing):\n",
    "`plt.imshow(gray, cmap = cm.Greys_r)\n",
    "plt.show()`*\n",
    "\n",
    "- What are the dimensions of the grayscale image?\n",
    "\n",
    "- Retrieve the pixel values of the grayscale image at locations: [400,10], [470,10]. Does that make sense when you consider the original and the grayscale images? What value would a black pixel be? And a white pixel?\n"
   ]
  },
  {
   "cell_type": "code",
   "execution_count": null,
   "metadata": {},
   "outputs": [],
   "source": [
    "# Task 2d\n"
   ]
  },
  {
   "cell_type": "markdown",
   "metadata": {},
   "source": [
    "**e)** Again, create a grayscale image of the sunflower, but now with weighted averages. You can do the same as in d), but now supply '`method=’weightedaverage`'. What are the values of these two pixels now?\n",
    "\n",
    "(bonus: if you look at the function '`RGB_to_grayscale`', what would happen if you make a type and instead supply '`method=’weigtdavrge`'?"
   ]
  },
  {
   "cell_type": "code",
   "execution_count": null,
   "metadata": {},
   "outputs": [],
   "source": [
    "# Task 2e\n"
   ]
  },
  {
   "cell_type": "markdown",
   "metadata": {},
   "source": [
    "### Task 3: Deriving features from image data: color histograms ###\n",
    "\n",
    "**a)** Plot color histograms for all three channels. Explain the pattern. Remember: yellow is composed of green and red and has little to no blue. And what about that ‘blue spike’?\n",
    "\n",
    "*Pointer: take the function '`plot_RGB_histograms`', which takes only one variable: an image.*\n",
    "\n",
    "`plot_RGB_histograms(image)`\n",
    "\n",
    "*Note that you can save images using the ‘disk’ symbol in the plot window. You need to close the plot window to continue.*"
   ]
  },
  {
   "cell_type": "code",
   "execution_count": null,
   "metadata": {
    "collapsed": true
   },
   "outputs": [],
   "source": [
    "# Task 3a\n"
   ]
  },
  {
   "cell_type": "markdown",
   "metadata": {},
   "source": [
    "**b)** Crop the image (remove 100 pixels on all sides), and plot again. Now again make a color histogram plot. Explain the differences of this histogram with the previous one, based on that cropped image.\n",
    "\n",
    "*Pointer: use the '`crop_sides`' function, which takes an image as input, and optional parameter of number of pixels to crop on all sides (default: 100). It returns a cropped image.*\n",
    "\n",
    "`croppedsunflower = crop_sides(sunflower)`\n",
    "\n",
    "*Making the histogram on the cropped image is done in the same way as in a).*"
   ]
  },
  {
   "cell_type": "code",
   "execution_count": null,
   "metadata": {
    "collapsed": true
   },
   "outputs": [],
   "source": [
    "# Task 3b\n"
   ]
  },
  {
   "cell_type": "markdown",
   "metadata": {},
   "source": [
    "**c)** Concatenate the color histograms into a single ‘feature vector’. How long is that vector? What is the highest value in the vector? Does that match with the plotted color histograms?\n",
    "\n",
    "*Pointer: use the '`hist_all_colors`' function. It takes an image as input, and returns a vector.*\n",
    "\n",
    "`sunflower_hist = hist_all_colors(sunflower)`"
   ]
  },
  {
   "cell_type": "code",
   "execution_count": null,
   "metadata": {},
   "outputs": [],
   "source": [
    "# Task 3c\n"
   ]
  },
  {
   "cell_type": "markdown",
   "metadata": {},
   "source": [
    "**d)** now load the picture of a pansy (image_pansy_0179.png). Remember that the images are inside your working directory INSIDE the folder ‘Flowers’. Make sure to adjust the path accordingly!\n",
    "\n",
    "Again, plot the color histogram. What are obvious differences between the histogram of the sunflower and that of the pansy?\n",
    "\n",
    "*Pointer: again use the `plot_RGB_histograms` function.*"
   ]
  },
  {
   "cell_type": "code",
   "execution_count": null,
   "metadata": {},
   "outputs": [],
   "source": [
    "# Task 3d\n"
   ]
  },
  {
   "cell_type": "markdown",
   "metadata": {},
   "source": [
    "**e)** Calculate the Euclidean distance between the arrays `[1,2,3,4]` and  `[2,2,5,3]`.\n",
    "You could do this by turning these into numpy arrays and use the function '`euclid_dist`' that is given, which takes two numpy 1-d arrays (vectors). But you could in fact do this easily by hand too: take the sum of the square of the differences between the two vectors, and then take the square root of that.\n",
    "\n",
    "https://en.wikipedia.org/wiki/Euclidean_distance"
   ]
  },
  {
   "cell_type": "code",
   "execution_count": null,
   "metadata": {},
   "outputs": [],
   "source": [
    "# Task 3e\n"
   ]
  },
  {
   "cell_type": "markdown",
   "metadata": {},
   "source": [
    "**f)** Calculate the Euclidean distance between the sunflower and the pansy histograms.\n",
    "\n",
    "*Pointer: You should still have the vectorized color histogram of the sunflower, from **c)**. Make another one for the pansy and use these two vectors  to calculate the euclidean distance between the two images using the '`euclid_dist`'  function.*\n",
    "\n",
    "`pansy_hist = hist_all_colors(pansy)`\n",
    "\n",
    "`euclid_dist(sunflower_hist,pansy_hist)`"
   ]
  },
  {
   "cell_type": "code",
   "execution_count": null,
   "metadata": {},
   "outputs": [],
   "source": [
    "# Task 3f\n"
   ]
  },
  {
   "cell_type": "markdown",
   "metadata": {},
   "source": [
    "**g)** You could extend this by making color histograms for other pictures, such as for a second pansy and/or a second sunflower. If you would calculate the Euclidean distance between two pansies, would that value be smaller or larger than any of the pansies to a sunflower?\n",
    "\n",
    "*Pointer: you can use the '`euclid_dist_between_images`' function, it takes two images as input.*"
   ]
  },
  {
   "cell_type": "code",
   "execution_count": null,
   "metadata": {},
   "outputs": [],
   "source": [
    "# Task 3g\n"
   ]
  },
  {
   "cell_type": "markdown",
   "metadata": {
    "collapsed": true
   },
   "source": [
    "Further considerations: You could do the same by cropping the images so that you ‘zoom in’ on the flower more and leave more of the background out. Color histograms, for instance in conjunction with localizing items in a picture, are among the many features that can be used to do automated image analysis, such as, e.g., a plant classification system. Have a look at the last 2 cells of the original ‘Flowers’ notebook. \n",
    "\n",
    "If you are interested in image manipulation, Python is a fantastic language to start. It has a very powerful image analysis library (openCV, where ‘CV’ stands for ‘Computer Vision’). For some great free tutorials where you can explore the power of Python for image analysis, check out this website:\n",
    "http://www.pyimagesearch.com/"
   ]
  },
  {
   "cell_type": "code",
   "execution_count": null,
   "metadata": {
    "collapsed": true
   },
   "outputs": [],
   "source": []
  }
 ],
 "metadata": {
  "kernelspec": {
   "display_name": "Python 3",
   "language": "python",
   "name": "python3"
  },
  "language_info": {
   "codemirror_mode": {
    "name": "ipython",
    "version": 3
   },
   "file_extension": ".py",
   "mimetype": "text/x-python",
   "name": "python",
   "nbconvert_exporter": "python",
   "pygments_lexer": "ipython3",
   "version": "3.6.1"
  }
 },
 "nbformat": 4,
 "nbformat_minor": 1
}
