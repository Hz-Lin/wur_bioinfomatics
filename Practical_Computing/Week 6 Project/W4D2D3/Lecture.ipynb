{
 "cells": [
  {
   "cell_type": "code",
   "execution_count": 1,
   "metadata": {
    "collapsed": true
   },
   "outputs": [],
   "source": [
    "import numpy as np\n",
    "import matplotlib.pyplot as plt"
   ]
  },
  {
   "cell_type": "code",
   "execution_count": 7,
   "metadata": {
    "collapsed": false
   },
   "outputs": [
    {
     "data": {
      "text/plain": [
       "[1, 2, 3, 4, 5, 6, 7, 8]"
      ]
     },
     "execution_count": 7,
     "metadata": {},
     "output_type": "execute_result"
    }
   ],
   "source": [
    "# if you want to keep elements in a list except the last 2:\n",
    "a = [1,2,3,4,5,6,7,8,9,10]\n",
    "a[:-2]"
   ]
  },
  {
   "cell_type": "markdown",
   "metadata": {},
   "source": [
    "#### Tiny example of making a histogram from matrix values ####\n",
    "First make a matrix of 10x10, with values centred on 100 in a normal distribution"
   ]
  },
  {
   "cell_type": "code",
   "execution_count": 40,
   "metadata": {
    "collapsed": false
   },
   "outputs": [],
   "source": [
    "\n",
    "randnormmatrix = np.random.normal(loc = 100, size=[10,10])"
   ]
  },
  {
   "cell_type": "code",
   "execution_count": 41,
   "metadata": {
    "collapsed": false
   },
   "outputs": [
    {
     "name": "stdout",
     "output_type": "stream",
     "text": [
      "(array([ 1,  4,  3,  2,  3,  6,  8, 17,  9, 10, 10,  5,  6,  8,  1,  4,  0,\n",
      "        2,  0,  1]), array([  97.69594105,   97.95464362,   98.21334619,   98.47204876,\n",
      "         98.73075132,   98.98945389,   99.24815646,   99.50685902,\n",
      "         99.76556159,  100.02426416,  100.28296673,  100.54166929,\n",
      "        100.80037186,  101.05907443,  101.31777699,  101.57647956,\n",
      "        101.83518213,  102.09388469,  102.35258726,  102.61128983,\n",
      "        102.8699924 ]))\n"
     ]
    }
   ],
   "source": [
    "# calculate the histogram\n",
    "myhist = np.histogram(randnormmatrix.flatten(),bins=20)\n",
    "print myhist"
   ]
  },
  {
   "cell_type": "markdown",
   "metadata": {},
   "source": [
    "We can plot this histogram in two ways: 1) either by using the histogram values from the previous cell (organized in a composite array, where first row (array) is the count of occurences in a bin, and second row (array) the definition of the bins. Notice that the second aray is len(first)+1!"
   ]
  },
  {
   "cell_type": "code",
   "execution_count": 42,
   "metadata": {
    "collapsed": false
   },
   "outputs": [],
   "source": [
    "plt.plot(myhist[1][1:],myhist[0],color='blue')\n",
    "plt.show()\n"
   ]
  },
  {
   "cell_type": "markdown",
   "metadata": {},
   "source": [
    "... or 2) alternatively by skipping the calculation of the histogram and making the histogram from a dedicated histogram method of matplotlib, like so:"
   ]
  },
  {
   "cell_type": "code",
   "execution_count": 43,
   "metadata": {
    "collapsed": true
   },
   "outputs": [],
   "source": [
    "plt.hist(randmatrix.flatten(),bins=20)\n",
    "plt.show()"
   ]
  },
  {
   "cell_type": "code",
   "execution_count": 44,
   "metadata": {
    "collapsed": true
   },
   "outputs": [],
   "source": [
    "# A tiny little subroutine to calculate Euclidean distance\n",
    "# between two vectors. Beware: it takes two 1-dimensional \n",
    "# numpy arrays (vectors) OF SAME LENGTH as input\n",
    "\n",
    "def euclid_dist(vect1,vect2):\n",
    "  return np.sqrt(np.sum(np.square(vect1-vect2)))"
   ]
  },
  {
   "cell_type": "code",
   "execution_count": 45,
   "metadata": {
    "collapsed": false
   },
   "outputs": [
    {
     "data": {
      "text/plain": [
       "2.2360679774997898"
      ]
     },
     "execution_count": 45,
     "metadata": {},
     "output_type": "execute_result"
    }
   ],
   "source": [
    "euclid_dist(np.array([1,2]),np.array([3,1]))"
   ]
  },
  {
   "cell_type": "code",
   "execution_count": null,
   "metadata": {
    "collapsed": true
   },
   "outputs": [],
   "source": []
  },
  {
   "cell_type": "code",
   "execution_count": null,
   "metadata": {
    "collapsed": true
   },
   "outputs": [],
   "source": []
  }
 ],
 "metadata": {
  "kernelspec": {
   "display_name": "Python [Root]",
   "language": "python",
   "name": "Python [Root]"
  },
  "language_info": {
   "codemirror_mode": {
    "name": "ipython",
    "version": 2
   },
   "file_extension": ".py",
   "mimetype": "text/x-python",
   "name": "python",
   "nbconvert_exporter": "python",
   "pygments_lexer": "ipython2",
   "version": "2.7.12"
  }
 },
 "nbformat": 4,
 "nbformat_minor": 0
}
