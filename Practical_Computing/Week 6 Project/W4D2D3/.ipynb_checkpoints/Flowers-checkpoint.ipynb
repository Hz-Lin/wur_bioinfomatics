{
 "cells": [
  {
   "cell_type": "code",
   "execution_count": null,
   "metadata": {
    "collapsed": true
   },
   "outputs": [],
   "source": [
    "# Cell #1\n",
    "# Jupyter Notebook 'Flowers'\n",
    "# Goal: playing with pixel-based images, understand their\n",
    "# properties, and at the same time learn how to work with\n",
    "# matrix objects (numpy arrays) in Python\n",
    "\n",
    "# By: H.J. Megens\n",
    "# Where you can reach me: hendrik-jan.megens -at- wur.nl\n",
    "# Last modified: 22 September 2016\n",
    "\n",
    "import matplotlib.pyplot as plt # this is the general plotting library from matplotlib\n",
    "from scipy import misc # module that provides some image manipulation functions\n",
    "import numpy as np # numpy; note that the convention of importing is to create a sort of 'shortcut' name\n",
    "import matplotlib.cm as cm # this module provides some color mapping needed for plotting gray or single color"
   ]
  },
  {
   "cell_type": "code",
   "execution_count": null,
   "metadata": {},
   "outputs": [],
   "source": [
    "# Cell #2\n",
    "# First, read in an image. The first image is of a pansy ('viooltje' in Dutch)\n",
    "# Notice this is done through the scipy.misc library, which contains a method 'imread'\n",
    "pansy = misc.imread(\"Flowers/image_pansy_0179.png\",mode='RGB')"
   ]
  },
  {
   "cell_type": "code",
   "execution_count": null,
   "metadata": {},
   "outputs": [],
   "source": [
    "# Cell #3\n",
    "# The 'pansy' object is a straightforward numpy array\n",
    "type(pansy)"
   ]
  },
  {
   "cell_type": "code",
   "execution_count": null,
   "metadata": {},
   "outputs": [],
   "source": [
    "# Cell #4\n",
    "# Let's see what its shape is. You'll see that it is a 3-dimensional array.\n",
    "pansy.shape"
   ]
  },
  {
   "cell_type": "code",
   "execution_count": null,
   "metadata": {},
   "outputs": [],
   "source": [
    "# Cell #5\n",
    "# plotting of images can be done through matplotlib.pyplot.\n",
    "# Note that this function will create an object, not immediately send it to screen!\n",
    "plt.imshow(pansy)"
   ]
  },
  {
   "cell_type": "code",
   "execution_count": null,
   "metadata": {
    "collapsed": true
   },
   "outputs": [],
   "source": [
    "# Cell #6\n",
    "# once the matplotlib object is created, you will need to use 'plt.show()' \n",
    "# to send it to screen. This is the case for any plot you want to display \n",
    "# or write to file. Seems strange? Just think about how you might want to \n",
    "# alter that plotting object, for instance by adding extra layers, before\n",
    "# it is finished.\n",
    "# Note that if you want to continue, you need to close the matplotlib image first.\n",
    "plt.show()"
   ]
  },
  {
   "cell_type": "code",
   "execution_count": null,
   "metadata": {},
   "outputs": [],
   "source": [
    "# Cell #7\n",
    "# Ok, so that image is a 3-dimensional numpy array\n",
    "# Every x and y value is a position ('pixel') in the image\n",
    "# In an RGB image, every position is coded by 3 numbers, one\n",
    "# each for red, green, and red, in that order. The numbers range\n",
    "# from 0 to 255.\n",
    "# Determine the value of a pixel roughly in the centre of the image,\n",
    "# located at 250,250 in the matrix.\n",
    "# What do you think the color should be? You can confirm at this website:\n",
    "# http://www.rapidtables.com/web/color/RGB_Color.htm\n",
    "pansy[250,250,:] "
   ]
  },
  {
   "cell_type": "code",
   "execution_count": null,
   "metadata": {
    "collapsed": true
   },
   "outputs": [],
   "source": [
    "# Cell #8\n",
    "# We have identified the color (RGB) value of that pixel, but we can also\n",
    "# change its color. Let's change the color to white.\n",
    "# Note: if you change a pixel, the image is altered (only the one in memory,\n",
    "# not the one on disk). Therefore we make a copy of the original first.\n",
    "pansy_copy = pansy.copy()\n",
    "pansy_copy[250,250,:] = [255,255,255]\n",
    "plt.imshow(pansy_copy)\n",
    "plt.show()"
   ]
  },
  {
   "cell_type": "code",
   "execution_count": null,
   "metadata": {
    "collapsed": true
   },
   "outputs": [],
   "source": [
    "# Cell #9\n",
    "# We can also change larger (rectangular) fields, by using the feature of\n",
    "# numpy array that you can easily 'slice' them\n",
    "# let's make a red square at the bottom right of the image.\n",
    "pansy_copy = pansy.copy()\n",
    "pansy_copy[405:505,400:500,:] = [255,0,0]\n",
    "plt.imshow(pansy_copy)\n",
    "plt.show()"
   ]
  },
  {
   "cell_type": "code",
   "execution_count": null,
   "metadata": {
    "collapsed": true
   },
   "outputs": [],
   "source": [
    "# Cell #10\n",
    "# Cropping is simply taking a square area smaller than the original\n",
    "# image. Here is a little function that can do that.\n",
    "def crop_sides(image,numpix=100):\n",
    "  return image[numpix:-numpix,numpix:-numpix,:]\n",
    "\n",
    "plt.imshow(crop_sides(pansy))\n",
    "plt.show()"
   ]
  },
  {
   "cell_type": "code",
   "execution_count": null,
   "metadata": {
    "collapsed": true
   },
   "outputs": [],
   "source": [
    "# Cell #11\n",
    "# Turning an RGB color image into grayscale can be achieved by taking\n",
    "# the average of the three colors. \n",
    "# Bonus question: why doesn't this work:\n",
    "# return (pixel[0] + pixel[1] + pixel[2])/3\n",
    "def pixelAverage(pixel):\n",
    "        return (pixel[0]/3 + pixel[1]/3 + pixel[2]/3)\n"
   ]
  },
  {
   "cell_type": "code",
   "execution_count": null,
   "metadata": {},
   "outputs": [],
   "source": [
    "# Cell #12\n",
    "# Let's turn an RGB image into a grayscale one\n",
    "\n",
    "# First we make a 'black', or 'empty' image of the same size:\n",
    "gray = np.zeros((pansy.shape[0],pansy.shape[1]))\n",
    "\n",
    "# Then we go through all rows...\n",
    "for rownum in range(pansy.shape[0]):\n",
    "    # ... and through all columns...\n",
    "    for colnum in range(pansy.shape[1]):\n",
    "        # ... to calculate the grayscale value for each RGB pixel.\n",
    "        gray[rownum][colnum] = pixelAverage(pansy[rownum][colnum])\n",
    "\n",
    "# and we display the grayscale image\n",
    "# Notice this weird option 'cmap'. \n",
    "plt.imshow(gray, cmap = cm.Greys_r)\n",
    "plt.show()"
   ]
  },
  {
   "cell_type": "code",
   "execution_count": null,
   "metadata": {
    "collapsed": true
   },
   "outputs": [],
   "source": [
    "# Cell #13\n",
    "# In practice, turning RGB into grayscale involves weighted average.\n",
    "# This to compensate for the fact that the human eye is more sensitive\n",
    "# to some colors than to others.\n",
    "def weightedAverage(pixel):\n",
    "        return 0.299*pixel[0] + 0.587*pixel[1] + 0.114*pixel[2]\n"
   ]
  },
  {
   "cell_type": "code",
   "execution_count": null,
   "metadata": {},
   "outputs": [],
   "source": [
    "# Cell #14\n",
    "# Let's try this again, but now using the 'weighted' averages.\n",
    "\n",
    "# First we make a 'black', or 'empty' image of the same size:\n",
    "gray = np.zeros((pansy.shape[0],pansy.shape[1]))\n",
    "\n",
    "# Then we go through all rows...\n",
    "for rownum in range(pansy.shape[0]):\n",
    "    # ... and through all columns...\n",
    "    for colnum in range(pansy.shape[1]):\n",
    "        # ... to calculate the grayscale value for each RGB pixel.\n",
    "        gray[rownum][colnum] = weightedAverage(pansy[rownum][colnum])\n",
    "\n",
    "# and we display the grayscale image\n",
    "# Notice this weird option 'cmap'. \n",
    "plt.imshow(gray, cmap = cm.Greys_r)\n",
    "plt.show()"
   ]
  },
  {
   "cell_type": "code",
   "execution_count": null,
   "metadata": {
    "collapsed": true
   },
   "outputs": [],
   "source": [
    "# Cell #15\n",
    "# We can also isolate the different color channels. For instance\n",
    "# to work with just the 'blue' channel, just 'slice' the numpy\n",
    "# to only extract the third of the third dimension of the array.\n",
    "blue = pansy[:,:,2]\n",
    "\n",
    "# to display the blue color only, we can simply plot just \n",
    "# the one layer. However, we have to take into account the\n",
    "# specific mapping of the color. Don't worry about the syntax. \n",
    "# To be honest, when it didn't look right the first time, I just\n",
    "# Googled this solution....\n",
    "plt.imshow(blue, cmap = cm.Blues)\n",
    "plt.show()"
   ]
  },
  {
   "cell_type": "code",
   "execution_count": null,
   "metadata": {},
   "outputs": [],
   "source": [
    "# Cell #16\n",
    "# Confirmation that this 'blue' layer is just 2-dimensional...\n",
    "blue"
   ]
  },
  {
   "cell_type": "code",
   "execution_count": null,
   "metadata": {},
   "outputs": [],
   "source": [
    "# Cell #17\n",
    "# The 'blue' channel is a bunch of values (500x506 of them)\n",
    "# that say something about the blue color spectrum of the image\n",
    "# A picture of a big red sun setting over a blue ocean will have\n",
    "# many pixels with high blue values, and some with no blue values\n",
    "# at all. It works like a sort of 'fingerprint' of the image\n",
    "# To work with these blue values, we need to 'flatten' the matix\n",
    "# into a single vector:\n",
    "blue.flatten()"
   ]
  },
  {
   "cell_type": "code",
   "execution_count": null,
   "metadata": {},
   "outputs": [],
   "source": [
    "# Cell #18\n",
    "# For a vector of values, you can, for instance, create a histogram\n",
    "# numpy has a function for that. The default number of bins for the \n",
    "# histogram function is 10. You can increase it if you like.\n",
    "np.histogram(blue.flatten(),normed=True)"
   ]
  },
  {
   "cell_type": "code",
   "execution_count": null,
   "metadata": {},
   "outputs": [],
   "source": [
    "# Cell #19\n",
    "# Let's plot the histogram. Note that what we will actually do is\n",
    "# rather make an x-y plot using the histogram values\n",
    "# matplotlib.pyplot also has a function to plot histograms directly, but \n",
    "# with a small number of bins the x-y plot actually looks a bit better.\n",
    "# And, hey, we did already calculate the histogram values anyway, so why\n",
    "# not use them!\n",
    "blue_hist = np.histogram(blue.flatten(),normed=True)\n",
    "plt.plot(blue_hist[1][1:],blue_hist[0],color='blue')\n",
    "plt.show()"
   ]
  },
  {
   "cell_type": "code",
   "execution_count": null,
   "metadata": {},
   "outputs": [],
   "source": [
    "# Cell #20\n",
    "# Obviously we can isolate all three color channels:\n",
    "blue = pansy[:,:,2]\n",
    "green = pansy[:,:,1]\n",
    "red = pansy[:,:,0]\n",
    "\n",
    "# ... and make histograms for each color\n",
    "blue_hist = np.histogram(blue.flatten(),normed=True)\n",
    "green_hist = np.histogram(green.flatten(),normed=True)\n",
    "red_hist = np.histogram(red.flatten(),normed=True)\n",
    "\n",
    "# Ok, now pay attention. It seems like we are creating THREE\n",
    "# different plots. But no, we are, each time, working from the \n",
    "# SAME object! Which is the 'plt' object. We're just adding stuf\n",
    "# to it.\n",
    "# One additional point: the histogram data consists of TWO vectors.\n",
    "# The first is of length 10, and contains the actual values.\n",
    "# The second is of length 11, and contains the boundaries of the bins.\n",
    "# Hence the weird slicing....\n",
    "plt.plot(blue_hist[1][1:],blue_hist[0],color='blue')\n",
    "plt.plot(green_hist[1][1:],green_hist[0],color='green')\n",
    "plt.plot(red_hist[1][1:],red_hist[0],color='red')\n",
    "\n",
    "# and, as usual, explicitly direct to screen.\n",
    "plt.show()"
   ]
  },
  {
   "cell_type": "code",
   "execution_count": null,
   "metadata": {
    "collapsed": true
   },
   "outputs": [],
   "source": [
    "# Cell #21\n",
    "# A tiny little subroutine to calculate Euclidean distance\n",
    "# between two vectors. Beware: it takes two 1-dimensional \n",
    "# numpy arrays (vectors) OF SAME LENGTH as input\n",
    "\n",
    "def euclid_dist(vect1,vect2):\n",
    "  return np.sqrt(np.sum(np.square(vect1-vect2)))\n"
   ]
  },
  {
   "cell_type": "code",
   "execution_count": null,
   "metadata": {
    "collapsed": true
   },
   "outputs": [],
   "source": [
    "# Cell #22\n",
    "# This subroutine first makes histograms of each color separately,\n",
    "# then stacks them (horizontally) to form a single, 30-element long, \n",
    "# vector. \n",
    "# We call this a 'feature vector': secondary statistics derived of a \n",
    "# primary dataset, which can contain DIFFERENT secondary statistics as\n",
    "# well, can be concatenated to a single vector that can be compared between\n",
    "# many different datasets, e.g. images, but also genotype data, novels, etc.\n",
    "\n",
    "def hist_all_colors(image):\n",
    "  blue_hist = np.histogram(image[:,:,2].flatten(),normed = True)\n",
    "  green_hist = np.histogram(image[:,:,1].flatten(),normed = True)\n",
    "  redh_hist = np.histogram(image[:,:,0].flatten(),normed = True)\n",
    "  all_hist = np.hstack((red_hist[0],green_hist[0],blue_hist[0]))\n",
    "  return all_hist\n",
    "\n"
   ]
  },
  {
   "cell_type": "code",
   "execution_count": null,
   "metadata": {
    "collapsed": true
   },
   "outputs": [],
   "source": [
    "# Cell 23\n",
    "# This subroutine calculates the Euclidean distance between\n",
    "# two images, based on their RGB color spectra.\n",
    "# It is wrapping two other subroutines to return a single float\n",
    "# which is the distance\n",
    "\n",
    "def euclid_dist_between_images(img1,img2):\n",
    "  hist1 = hist_all_colors(img1)\n",
    "  hist2 = hist_all_colors(img2)\n",
    "  return euclid_dist(hist1,hist2)\n"
   ]
  },
  {
   "cell_type": "code",
   "execution_count": null,
   "metadata": {
    "collapsed": true
   },
   "outputs": [],
   "source": [
    "# Cell #24\n",
    "# Alternative method of calculating Euclidean distances\n",
    "# between images. I like the other one better; the \n",
    "# distances are calculated explicitly. Could be a bit less\n",
    "# efficient, but for this example that doesn't matter.\n",
    "\n",
    "from scipy.spatial import distance\n",
    "\n",
    "def euclid_dist_between_images_alt(img1,img2):\n",
    "  hist1 = histall(img1)\n",
    "  hist2 = histall(img2)\n",
    "  return distance.euclidean(hist1,hist2)\n"
   ]
  },
  {
   "cell_type": "code",
   "execution_count": null,
   "metadata": {},
   "outputs": [],
   "source": [
    "# Cell #25\n",
    "# It takes two to have something to compare. Let's read in another flower\n",
    "sunflower = misc.imread(\"Flowers/image_sunflower_0076.png\",mode='RGB')\n",
    "plt.imshow(sunflower)\n",
    "plt.show()"
   ]
  },
  {
   "cell_type": "code",
   "execution_count": null,
   "metadata": {},
   "outputs": [],
   "source": [
    "# Cell #26\n",
    "# With the subroutines defined, it now becomes easy-peasy\n",
    "# to calculate distances between images based on color spectra\n",
    "euclid_dist_between_images(sunflower,pansy)"
   ]
  },
  {
   "cell_type": "code",
   "execution_count": null,
   "metadata": {},
   "outputs": [],
   "source": [
    "# Cell #27\n",
    "# we can now easily make comparisons between multiple images\n",
    "# let's read in another pansy and another sunflower, and see\n",
    "# how similar they are in their color spectra. What is your \n",
    "# hypothesis on the result of the distances between these two\n",
    "# pansies and two sunflowers?\n",
    "\n",
    "sunflower2 = misc.imread(\"Flowers/image_sunflower_0067.png\",mode='RGB')\n",
    "pansy2 = misc.imread(\"Flowers/image_pansy_0197.png\",mode='RGB')\n",
    "print('dist between sunflower and pansy: {:.3f}'.format(euclid_dist_between_images(sunflower,pansy)))\n",
    "print('dist between sunflower and pansy #2: {:.3f}'.format(euclid_dist_between_images(sunflower,pansy2)))\n",
    "print('dist between sunflower #2 and pansy: {:.3f}'.format(euclid_dist_between_images(sunflower2,pansy)))\n",
    "print('dist between sunflower #2 and pansy #2: {:.3f}'.format(euclid_dist_between_images(sunflower2,pansy2)))\n",
    "print('dist between pansy and pansy #2: {:.3f}'.format(euclid_dist_between_images(pansy,pansy2)))\n",
    "print('dist between sunflower and sunflower #2: {:.3f}'.format(euclid_dist_between_images(sunflower,sunflower2)))\n"
   ]
  },
  {
   "cell_type": "code",
   "execution_count": null,
   "metadata": {},
   "outputs": [],
   "source": [
    "# Cell #27\n",
    "# As you may have noticed, there is some background in the images of\n",
    "# the flowers. For instance, in one of the sunflowers there's quite a\n",
    "# bit of blue sky! What do you think, could we make a more robust clustering\n",
    "# of pansies and sunflowers if we would crop the images so that we 'center' a\n",
    "# bit more on the flower itself?\n",
    "# We DO have this 'crop_sides' function we used before, that gets rid of (default)\n",
    "# 100 pixels on all sides.\n",
    "\n",
    "sunflower2 = misc.imread(\"Flowers/image_sunflower_0067.png\",mode='RGB')\n",
    "pansy2 = misc.imread(\"Flowers/image_pansy_0197.png\",mode='RGB')\n",
    "\n",
    "print('dist between sunflower and pansy: {:.3f}'.format(euclid_dist_between_images(crop_sides(sunflower),crop_sides(pansy))))\n",
    "print('dist between sunflower and pansy #2: {:.3f}'.format(euclid_dist_between_images(crop_sides(sunflower),crop_sides(pansy2))))\n",
    "print('dist between sunflower #2 and pansy: {:.3f}'.format(euclid_dist_between_images(crop_sides(sunflower2),crop_sides(pansy))))\n",
    "print('dist between sunflower #2 and pansy #2: {:.3f}'.format(euclid_dist_between_images(crop_sides(sunflower2),crop_sides(pansy2))))\n",
    "print('dist between pansy and pansy #2: {:.3f}'.format(euclid_dist_between_images(crop_sides(pansy),crop_sides(pansy2))))\n",
    "print('dist between sunflower and sunflower #2: {:.3f}'.format(euclid_dist_between_images(crop_sides(sunflower),crop_sides(sunflower2))))"
   ]
  },
  {
   "cell_type": "code",
   "execution_count": null,
   "metadata": {
    "collapsed": true
   },
   "outputs": [],
   "source": []
  }
 ],
 "metadata": {
  "kernelspec": {
   "display_name": "Python 3",
   "language": "python",
   "name": "python3"
  },
  "language_info": {
   "codemirror_mode": {
    "name": "ipython",
    "version": 3
   },
   "file_extension": ".py",
   "mimetype": "text/x-python",
   "name": "python",
   "nbconvert_exporter": "python",
   "pygments_lexer": "ipython3",
   "version": "3.6.1"
  }
 },
 "nbformat": 4,
 "nbformat_minor": 1
}
