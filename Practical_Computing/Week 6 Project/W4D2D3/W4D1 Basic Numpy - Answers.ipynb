{
 "cells": [
  {
   "cell_type": "code",
   "execution_count": 1,
   "metadata": {
    "collapsed": true
   },
   "outputs": [],
   "source": [
    "# Cell #1\n",
    "# Jupyter Notebook 'Basic Numpy'\n",
    "# Goal: first steps with numpy\n",
    "# By: H.J. Megens\n",
    "# Where you can reach me: hendrik-jan.megens -at- wur.nl\n",
    "# Last modified: ?? September 2016\n",
    "\n",
    "import numpy as np # accepted convention of importing numpy"
   ]
  },
  {
   "cell_type": "code",
   "execution_count": 2,
   "metadata": {
    "collapsed": true
   },
   "outputs": [],
   "source": [
    "# Cell #2\n",
    "# How to make a numpy array ...\n",
    "# ... or rather a 1-dim vector\n",
    "a = np.array([1,2,3])"
   ]
  },
  {
   "cell_type": "code",
   "execution_count": 3,
   "metadata": {
    "collapsed": true
   },
   "outputs": [],
   "source": [
    "# Cell #3\n",
    "# an another one...\n",
    "b = np.array([4,5,6])"
   ]
  },
  {
   "cell_type": "code",
   "execution_count": 4,
   "metadata": {},
   "outputs": [
    {
     "data": {
      "text/plain": [
       "array([5, 7, 9])"
      ]
     },
     "execution_count": 4,
     "metadata": {},
     "output_type": "execute_result"
    }
   ],
   "source": [
    "# Cell #4\n",
    "# doing simple mathematical operations is easy-peasy.\n",
    "a + b"
   ]
  },
  {
   "cell_type": "code",
   "execution_count": 5,
   "metadata": {},
   "outputs": [
    {
     "data": {
      "text/plain": [
       "[1, 2, 3, 4, 5, 6]"
      ]
     },
     "execution_count": 5,
     "metadata": {},
     "output_type": "execute_result"
    }
   ],
   "source": [
    "# Cell #5\n",
    "# Just note how different this behavior is from working with normal lists:\n",
    "a_list = [1,2,3]\n",
    "b_list = [4,5,6]\n",
    "a_list + b_list"
   ]
  },
  {
   "cell_type": "code",
   "execution_count": 6,
   "metadata": {
    "collapsed": true
   },
   "outputs": [],
   "source": [
    "# Cell #6\n",
    "# Concatenating matrices or vectors\n",
    "# This is an example of a so-called 'vertical-stack'\n",
    "# Other options are 'hstack' - horizontal - and 'dstack'\n",
    "c = np.vstack((a,b))"
   ]
  },
  {
   "cell_type": "code",
   "execution_count": 7,
   "metadata": {},
   "outputs": [
    {
     "data": {
      "text/plain": [
       "array([[1, 2, 3],\n",
       "       [4, 5, 6]])"
      ]
     },
     "execution_count": 7,
     "metadata": {},
     "output_type": "execute_result"
    }
   ],
   "source": [
    "# Cell #7\n",
    "# show contents of c\n",
    "c"
   ]
  },
  {
   "cell_type": "code",
   "execution_count": 8,
   "metadata": {},
   "outputs": [
    {
     "data": {
      "text/plain": [
       "5"
      ]
     },
     "execution_count": 8,
     "metadata": {},
     "output_type": "execute_result"
    }
   ],
   "source": [
    "# Cell #8\n",
    "# get the value of the second row, and second column\n",
    "c[1,1]"
   ]
  },
  {
   "cell_type": "code",
   "execution_count": 9,
   "metadata": {},
   "outputs": [
    {
     "data": {
      "text/plain": [
       "5"
      ]
     },
     "execution_count": 9,
     "metadata": {},
     "output_type": "execute_result"
    }
   ],
   "source": [
    "# Cell #9\n",
    "# Notice the difference between retrieving elements from\n",
    "# simple lists in simple lists\n",
    "c_list = [[1,2,3],[4,5,6]]\n",
    "# In this case you need to go 'one deeper' into the list\n",
    "c_list[1][1]"
   ]
  },
  {
   "cell_type": "code",
   "execution_count": 10,
   "metadata": {
    "collapsed": true
   },
   "outputs": [],
   "source": [
    "# Cell #10\n",
    "# Another array, a vector with two values\n",
    "d = np.array([2,3])"
   ]
  },
  {
   "cell_type": "code",
   "execution_count": 11,
   "metadata": {},
   "outputs": [],
   "source": [
    "# Cell #11\n",
    "# We can calculate the product of vector d with matrix c,\n",
    "# but only if we transpose the latter\n",
    "e = d*c.transpose()"
   ]
  },
  {
   "cell_type": "code",
   "execution_count": 12,
   "metadata": {
    "collapsed": true
   },
   "outputs": [],
   "source": [
    "# Cell #12\n",
    "# various mathematical operations can be applied to matrices\n",
    "# for instance squaring\n",
    "f = e**2"
   ]
  },
  {
   "cell_type": "code",
   "execution_count": 13,
   "metadata": {},
   "outputs": [
    {
     "data": {
      "text/plain": [
       "array([[  4, 144],\n",
       "       [ 16, 225],\n",
       "       [ 36, 324]])"
      ]
     },
     "execution_count": 13,
     "metadata": {},
     "output_type": "execute_result"
    }
   ],
   "source": [
    "# Cell #13\n",
    "# f is again a 3x2 array, now containing the squared values of e\n",
    "f"
   ]
  },
  {
   "cell_type": "code",
   "execution_count": 14,
   "metadata": {},
   "outputs": [
    {
     "data": {
      "text/plain": [
       "749"
      ]
     },
     "execution_count": 14,
     "metadata": {},
     "output_type": "execute_result"
    }
   ],
   "source": [
    "# Cell #14\n",
    "# 'f' is a numpy array object, which has several built-in methods, such\n",
    "# as summing the values\n",
    "f.sum()"
   ]
  },
  {
   "cell_type": "code",
   "execution_count": 15,
   "metadata": {},
   "outputs": [
    {
     "data": {
      "text/plain": [
       "array([  4, 144,  16, 225,  36, 324])"
      ]
     },
     "execution_count": 15,
     "metadata": {},
     "output_type": "execute_result"
    }
   ],
   "source": [
    "# Cell #15\n",
    "# You can also 'flatten' the matrix into a single vector\n",
    "# Note the order in which the flattening is performed.\n",
    "f.flatten()"
   ]
  },
  {
   "cell_type": "code",
   "execution_count": 16,
   "metadata": {
    "collapsed": true
   },
   "outputs": [],
   "source": [
    "# Cell #16\n",
    "# now lets make a 3x2x2 3-dimensional array by stacking f and e\n",
    "g = np.dstack((e,f))"
   ]
  },
  {
   "cell_type": "code",
   "execution_count": 17,
   "metadata": {},
   "outputs": [
    {
     "data": {
      "text/plain": [
       "array([[[  2,   4],\n",
       "        [ 12, 144]],\n",
       "\n",
       "       [[  4,  16],\n",
       "        [ 15, 225]],\n",
       "\n",
       "       [[  6,  36],\n",
       "        [ 18, 324]]])"
      ]
     },
     "execution_count": 17,
     "metadata": {},
     "output_type": "execute_result"
    }
   ],
   "source": [
    "# Cell #17\n",
    "g"
   ]
  },
  {
   "cell_type": "code",
   "execution_count": 18,
   "metadata": {},
   "outputs": [
    {
     "data": {
      "text/plain": [
       "324"
      ]
     },
     "execution_count": 18,
     "metadata": {},
     "output_type": "execute_result"
    }
   ],
   "source": [
    "# Cell #18\n",
    "# just like lower dimensional arrays, values can be\n",
    "# retrieved by position\n",
    "g[2,1,1]"
   ]
  },
  {
   "cell_type": "code",
   "execution_count": 19,
   "metadata": {},
   "outputs": [
    {
     "data": {
      "text/plain": [
       "(3, 2)"
      ]
     },
     "execution_count": 19,
     "metadata": {},
     "output_type": "execute_result"
    }
   ],
   "source": [
    "# Cell #19\n",
    "# 'shape' of f, or dimensions:\n",
    "f.shape"
   ]
  },
  {
   "cell_type": "code",
   "execution_count": 20,
   "metadata": {},
   "outputs": [
    {
     "data": {
      "text/plain": [
       "(3, 2, 2)"
      ]
     },
     "execution_count": 20,
     "metadata": {},
     "output_type": "execute_result"
    }
   ],
   "source": [
    "# Cell #20\n",
    "# and shape of g\n",
    "g.shape"
   ]
  },
  {
   "cell_type": "code",
   "execution_count": 21,
   "metadata": {},
   "outputs": [
    {
     "data": {
      "text/plain": [
       "array([[[False, False],\n",
       "        [False,  True]],\n",
       "\n",
       "       [[False, False],\n",
       "        [False,  True]],\n",
       "\n",
       "       [[False, False],\n",
       "        [False,  True]]], dtype=bool)"
      ]
     },
     "execution_count": 21,
     "metadata": {},
     "output_type": "execute_result"
    }
   ],
   "source": [
    "# Cell #21\n",
    "# Which values in the matrix are larger than 100?\n",
    "g>100"
   ]
  },
  {
   "cell_type": "code",
   "execution_count": 22,
   "metadata": {},
   "outputs": [
    {
     "data": {
      "text/plain": [
       "array([144, 225, 324])"
      ]
     },
     "execution_count": 22,
     "metadata": {},
     "output_type": "execute_result"
    }
   ],
   "source": [
    "# Cell #22\n",
    "# That 'truth matrix' can be used to retrieve just the values larger than 100:\n",
    "g[g>100]"
   ]
  },
  {
   "cell_type": "code",
   "execution_count": 23,
   "metadata": {},
   "outputs": [],
   "source": [
    "# Cell #23\n",
    "# Let's make a 4-dimensional matrix of size 3x3x3x3\n",
    "# The matrix will contain only zeros is we do it like this:\n",
    "h = np.zeros((3,3,3,3))"
   ]
  },
  {
   "cell_type": "code",
   "execution_count": 24,
   "metadata": {
    "collapsed": true
   },
   "outputs": [],
   "source": [
    "# Cell #24\n",
    "# We can then assign values to specific positions in the matrix\n",
    "h[2,1,1,0]=10"
   ]
  },
  {
   "cell_type": "code",
   "execution_count": 25,
   "metadata": {},
   "outputs": [
    {
     "data": {
      "text/plain": [
       "array([[[[   0.,    0.,    0.],\n",
       "         [   0.,    0.,    0.],\n",
       "         [   0.,    0.,    0.]],\n",
       "\n",
       "        [[   0.,    0.,    0.],\n",
       "         [   0.,    0.,    0.],\n",
       "         [   0.,    0.,    0.]],\n",
       "\n",
       "        [[   0.,    0.,    0.],\n",
       "         [   0.,    0.,    0.],\n",
       "         [   0.,    0.,    0.]]],\n",
       "\n",
       "\n",
       "       [[[   0.,    0.,    0.],\n",
       "         [   0.,    0.,    0.],\n",
       "         [   0.,    0.,    0.]],\n",
       "\n",
       "        [[   0.,    0.,    0.],\n",
       "         [   0.,    0.,    0.],\n",
       "         [   0.,    0.,    0.]],\n",
       "\n",
       "        [[   0.,    0.,    0.],\n",
       "         [   0.,    0.,    0.],\n",
       "         [   0.,    0.,    0.]]],\n",
       "\n",
       "\n",
       "       [[[   0.,    0.,    0.],\n",
       "         [   0.,    0.,    0.],\n",
       "         [   0.,    0.,    0.]],\n",
       "\n",
       "        [[   0.,    0.,    0.],\n",
       "         [ 100.,    0.,    0.],\n",
       "         [   0.,    0.,    0.]],\n",
       "\n",
       "        [[   0.,    0.,    0.],\n",
       "         [   0.,    0.,    0.],\n",
       "         [   0.,    0.,    0.]]]])"
      ]
     },
     "execution_count": 25,
     "metadata": {},
     "output_type": "execute_result"
    }
   ],
   "source": [
    "# Cell #25\n",
    "# and, again, apply various mathematical operations\n",
    "h**2"
   ]
  },
  {
   "cell_type": "markdown",
   "metadata": {},
   "source": [
    "# Task 1: Getting Familiar With Numpy #\n",
    "**a)** Create a numpy array ‘x’, based on the following list:\n",
    "\n",
    "**`[[67,98,202],[43,2,6],[12,99,100]]`**\n",
    "\n",
    "Have a look at Cells #2 and #3 for basic syntax. \n",
    "Produce the square of the matrix (name **`x_square`**). Look at cell #12 for basic syntax. What is the value in row 3, column 2? Cell #18 (a.o.) shows basic syntax."
   ]
  },
  {
   "cell_type": "code",
   "execution_count": 26,
   "metadata": {},
   "outputs": [
    {
     "name": "stdout",
     "output_type": "stream",
     "text": [
      "[[ 67  98 202]\n",
      " [ 43   2   6]\n",
      " [ 12  99 100]]\n",
      "99\n"
     ]
    }
   ],
   "source": [
    "# a\n",
    "x = np.array([[67,98,202],[43,2,6],[12,99,100]])\n",
    "x_square = x*x\n",
    "print(x)\n",
    "print(x[2,1])"
   ]
  },
  {
   "cell_type": "markdown",
   "metadata": {},
   "source": [
    "**b)** multiply the array using the vector '**`a`**' from the Notebook and call that matrix '**`ax`**'. In which ‘direction’ does the multiplication occur?"
   ]
  },
  {
   "cell_type": "code",
   "execution_count": 27,
   "metadata": {},
   "outputs": [
    {
     "name": "stdout",
     "output_type": "stream",
     "text": [
      "[1 2 3]\n",
      "[[ 67 196 606]\n",
      " [ 43   4  18]\n",
      " [ 12 198 300]]\n"
     ]
    }
   ],
   "source": [
    "# b\n",
    "print(a)\n",
    "ax = a*x\n",
    "print(ax)"
   ]
  },
  {
   "cell_type": "markdown",
   "metadata": {},
   "source": [
    "**c)** Now do the same, but on a transposed matrix '**`x`**'. Call the array '**`ax_t`**'. See cell #11 for syntax. (Hint: if you are not certain what ‘transpose’ means, try it out!).\n"
   ]
  },
  {
   "cell_type": "code",
   "execution_count": 28,
   "metadata": {},
   "outputs": [
    {
     "name": "stdout",
     "output_type": "stream",
     "text": [
      "[[ 67  86  36]\n",
      " [ 98   4 297]\n",
      " [202  12 300]]\n"
     ]
    }
   ],
   "source": [
    "# c\n",
    "ax_t = x.transpose() * a\n",
    "print(ax_t)"
   ]
  },
  {
   "cell_type": "markdown",
   "metadata": {},
   "source": [
    "**d)** Now create a 3-dimensional array by stacking '**`x`**', '**`x_square`**', '**`ax`**' and '**`ax_t`**'. Use the '`np.dstack`' method for that:\n",
    "```python\n",
    "np.stack((x,x_square,ax,ax_t))\n",
    "```\n",
    "Note that this function takes only one argument: a tuple containing the arrays to stack. Look at cell #6 for syntax. Name the resulting array '**`x3d`**'. What is the shape of the array (use '`x3d.shape`' to find out. Btw, note that ‘shape’ is not a function, but a property. Functions or methods require parentheses)"
   ]
  },
  {
   "cell_type": "code",
   "execution_count": 29,
   "metadata": {},
   "outputs": [
    {
     "data": {
      "text/plain": [
       "(3, 3, 4)"
      ]
     },
     "execution_count": 29,
     "metadata": {},
     "output_type": "execute_result"
    }
   ],
   "source": [
    "# d\n",
    "x3d = np.dstack((x,x_square,ax,ax_t))\n",
    "x3d.shape"
   ]
  },
  {
   "cell_type": "markdown",
   "metadata": {},
   "source": [
    "**e)** By applying '`dir(x3d)`' you can find out which methods can be applied to your array. Calculate **sum**, **mean**, **standard deviation**, **minimum value** and **maximum value** of the matrix. See cell #14 for an example."
   ]
  },
  {
   "cell_type": "code",
   "execution_count": 30,
   "metadata": {},
   "outputs": [
    {
     "name": "stdout",
     "output_type": "stream",
     "text": [
      "79906\n",
      "2219.61111111\n",
      "7071.76491517\n",
      "40804\n",
      "2\n"
     ]
    }
   ],
   "source": [
    "# e\n",
    "dir(x3d)\n",
    "print(x3d.sum())\n",
    "print(x3d.mean())\n",
    "print(x3d.std())\n",
    "print(x3d.max())\n",
    "print(x3d.min())"
   ]
  },
  {
   "cell_type": "markdown",
   "metadata": {},
   "source": [
    "**f)** Retrieve all values of '**`x3d`**' larger than 200. Cells #21 and #22 provide further information."
   ]
  },
  {
   "cell_type": "code",
   "execution_count": 31,
   "metadata": {},
   "outputs": [
    {
     "data": {
      "text/plain": [
       "array([ 4489,  9604,   202, 40804,   606,  1849,   297,   202,  9801,\n",
       "       10000,   300,   300])"
      ]
     },
     "execution_count": 31,
     "metadata": {},
     "output_type": "execute_result"
    }
   ],
   "source": [
    "# f\n",
    "x3d[x3d>200]"
   ]
  },
  {
   "cell_type": "markdown",
   "metadata": {},
   "source": [
    "**g)** Flatten the matrix. Cell #15 provides an example. How long is the vector? Make a pseudocode loop-in-loop-in-loop that would make a similar flattened matrix (vector). (You can make real Python code for this, that’s up to you, but the main thing is that you understand the principle)."
   ]
  },
  {
   "cell_type": "code",
   "execution_count": 32,
   "metadata": {},
   "outputs": [
    {
     "name": "stdout",
     "output_type": "stream",
     "text": [
      "[[[   67  4489    67    67]\n",
      "  [   98  9604   196    86]\n",
      "  [  202 40804   606    36]]\n",
      "\n",
      " [[   43  1849    43    98]\n",
      "  [    2     4     4     4]\n",
      "  [    6    36    18   297]]\n",
      "\n",
      " [[   12   144    12   202]\n",
      "  [   99  9801   198    12]\n",
      "  [  100 10000   300   300]]]\n",
      "[   67  4489    67    67    98  9604   196    86   202 40804   606    36\n",
      "    43  1849    43    98     2     4     4     4     6    36    18   297\n",
      "    12   144    12   202    99  9801   198    12   100 10000   300   300]\n"
     ]
    }
   ],
   "source": [
    "# g\n",
    "print(x3d)\n",
    "print(x3d.flatten())"
   ]
  },
  {
   "cell_type": "code",
   "execution_count": null,
   "metadata": {
    "collapsed": true
   },
   "outputs": [],
   "source": []
  }
 ],
 "metadata": {
  "kernelspec": {
   "display_name": "Python 3",
   "language": "python",
   "name": "python3"
  },
  "language_info": {
   "codemirror_mode": {
    "name": "ipython",
    "version": 3
   },
   "file_extension": ".py",
   "mimetype": "text/x-python",
   "name": "python",
   "nbconvert_exporter": "python",
   "pygments_lexer": "ipython3",
   "version": "3.6.1"
  }
 },
 "nbformat": 4,
 "nbformat_minor": 1
}
