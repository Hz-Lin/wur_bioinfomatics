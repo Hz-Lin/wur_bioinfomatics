{
 "cells": [
  {
   "cell_type": "markdown",
   "metadata": {},
   "source": [
    "# Week 2 Day 5 -- Introduction to Python\n",
    "For this introduction we run fragment of Python code inside this notebook.  \n",
    "In later sessions, we will start running Python code from a code editor and from the command line."
   ]
  },
  {
   "cell_type": "markdown",
   "metadata": {},
   "source": [
    "## Printing and asking input\n",
    "We start with a series of very small Python programs within this Jupyter notebook.  \n",
    "Each code cell (i.e. a cell preceeded by In [ ]:) can be run independently of other cells."
   ]
  },
  {
   "cell_type": "markdown",
   "metadata": {},
   "source": [
    "Write a Python command that prints your own name."
   ]
  },
  {
   "cell_type": "code",
   "execution_count": 1,
   "metadata": {},
   "outputs": [
    {
     "name": "stdout",
     "output_type": "stream",
     "text": [
      "Huizhi Lin\n"
     ]
    }
   ],
   "source": [
    "print 'Huizhi Lin'"
   ]
  },
  {
   "cell_type": "markdown",
   "metadata": {},
   "source": [
    "Write a Python script (i.e. a series of commands) that prints your own name 5 times below one another.  \n",
    "Put each command on a line of its own."
   ]
  },
  {
   "cell_type": "code",
   "execution_count": 2,
   "metadata": {
    "scrolled": true
   },
   "outputs": [
    {
     "name": "stdout",
     "output_type": "stream",
     "text": [
      "Huizhi Lin\n",
      "Huizhi Lin\n",
      "Huizhi Lin\n",
      "Huizhi Lin\n",
      "Huizhi Lin\n"
     ]
    }
   ],
   "source": [
    "for num in [1,2,3,4,5]:\n",
    "    print 'Huizhi Lin'"
   ]
  },
  {
   "cell_type": "code",
   "execution_count": 4,
   "metadata": {},
   "outputs": [
    {
     "name": "stdout",
     "output_type": "stream",
     "text": [
      "Huizhi Lin\n",
      "Huizhi Lin\n",
      "Huizhi Lin\n",
      "Huizhi Lin\n",
      "Huizhi Lin\n",
      "\n"
     ]
    }
   ],
   "source": [
    "name = 'Huizhi Lin\\n'\n",
    "print name * 5"
   ]
  },
  {
   "cell_type": "markdown",
   "metadata": {},
   "source": [
    "Write a Python script that prints your own name 100 times (tedious without loops?).  \n",
    "[Tooltip: include `\\n` in the string and multiply by 100]"
   ]
  },
  {
   "cell_type": "code",
   "execution_count": null,
   "metadata": {
    "collapsed": true
   },
   "outputs": [],
   "source": [
    "name_hundred = 'Huizhi Lin'\n",
    "print name_hundred * 100"
   ]
  },
  {
   "cell_type": "markdown",
   "metadata": {},
   "source": [
    "Write a Python script that asks the user’s name and prints it (once).  \n",
    "[Tooltip: use function `raw_input()` for asking the name.]"
   ]
  },
  {
   "cell_type": "code",
   "execution_count": 5,
   "metadata": {},
   "outputs": [
    {
     "name": "stdout",
     "output_type": "stream",
     "text": [
      "What is your name? Hz Lin\n",
      "Hz Lin\n"
     ]
    }
   ],
   "source": [
    "user_name = raw_input('What is your name? ')\n",
    "print user_name"
   ]
  },
  {
   "cell_type": "markdown",
   "metadata": {},
   "source": [
    "Write a Python program that asks the user’s name and prints it 100 times."
   ]
  },
  {
   "cell_type": "code",
   "execution_count": null,
   "metadata": {
    "collapsed": true
   },
   "outputs": [],
   "source": [
    "user_name = raw_input('What is your name? ')\n",
    "print user_name * 100"
   ]
  },
  {
   "cell_type": "markdown",
   "metadata": {},
   "source": [
    "Write a Python program that first asks the user’s name, then asks a number, and then prints the name that many times."
   ]
  },
  {
   "cell_type": "code",
   "execution_count": 9,
   "metadata": {},
   "outputs": [
    {
     "name": "stdout",
     "output_type": "stream",
     "text": [
      "What is your name? Hz Lin\n",
      "How many times do you want me to print? 9\n",
      "Hz Lin\n",
      "Hz Lin\n",
      "Hz Lin\n",
      "Hz Lin\n",
      "Hz Lin\n",
      "Hz Lin\n",
      "Hz Lin\n",
      "Hz Lin\n",
      "Hz Lin\n",
      "\n"
     ]
    }
   ],
   "source": [
    "user_name = raw_input('What is your name? ') + '\\n'\n",
    "num = int(raw_input('How many times do you want me to print? '))\n",
    "print user_name * num"
   ]
  },
  {
   "cell_type": "markdown",
   "metadata": {},
   "source": [
    "Probably it did not work the first time.  \n",
    "When Pyton asks a number, the result is still a string. Use function `int()` to convert it to an `int` value."
   ]
  },
  {
   "cell_type": "code",
   "execution_count": null,
   "metadata": {
    "collapsed": true
   },
   "outputs": [],
   "source": []
  },
  {
   "cell_type": "markdown",
   "metadata": {},
   "source": [
    "## Working with numbers\n",
    "Try to find out the following aspects of numbers in Python."
   ]
  },
  {
   "cell_type": "markdown",
   "metadata": {},
   "source": [
    "What is the largest `int` number in Python?  \n",
    "And the smallest `int` number?  \n",
    "[Tooltip: when `int` numbers in Python get too large, Python automatically switches to type `long`.  \n",
    "The difference is not visible when printing, but when just showing the value, `long` values have a trailing `L`.]"
   ]
  },
  {
   "cell_type": "code",
   "execution_count": 1,
   "metadata": {},
   "outputs": [
    {
     "name": "stdout",
     "output_type": "stream",
     "text": [
      "1234567\n",
      "12345678901234567890\n"
     ]
    }
   ],
   "source": [
    "print 1234567              # you can print from multiple lines\n",
    "print 12345678901234567890 # each print gives its own line of output"
   ]
  },
  {
   "cell_type": "code",
   "execution_count": 2,
   "metadata": {},
   "outputs": [
    {
     "data": {
      "text/plain": [
       "12345678901234567890L"
      ]
     },
     "execution_count": 2,
     "metadata": {},
     "output_type": "execute_result"
    }
   ],
   "source": [
    "1234567              # you cannot show from multiple lines\n",
    "12345678901234567890 # only the value on the last line is shown"
   ]
  },
  {
   "cell_type": "code",
   "execution_count": 3,
   "metadata": {},
   "outputs": [
    {
     "data": {
      "text/plain": [
       "1234567"
      ]
     },
     "execution_count": 3,
     "metadata": {},
     "output_type": "execute_result"
    }
   ],
   "source": [
    "1234567"
   ]
  },
  {
   "cell_type": "markdown",
   "metadata": {},
   "source": [
    "So, again, what are the largest and smallest `int` numbers in Python?  \n",
    "Introduce as many code cells as necessary. [Use the plus button in the toolbar at the top.]\n",
    "\n",
    "[Tooptip: introduce a variable, e.g. `myvalue = 10`  \n",
    "then multiply this variable by some fixed value, e.g. `myvalue = 10 * myvalue`  \n",
    "If you put the second one in a separate code cell, you can re-execute it as often as you like.]"
   ]
  },
  {
   "cell_type": "code",
   "execution_count": null,
   "metadata": {},
   "outputs": [],
   "source": [
    "large_in = 10\n",
    "while type(large_in) == int:\n",
    "    large_in = large_in + 10\n",
    "print large_in"
   ]
  },
  {
   "cell_type": "code",
   "execution_count": 1,
   "metadata": {},
   "outputs": [
    {
     "name": "stdout",
     "output_type": "stream",
     "text": [
      "-10000000000000000000\n"
     ]
    }
   ],
   "source": [
    "small_in = 0\n",
    "while type(small_in) == int:\n",
    "    small_in -= 1\n",
    "print small_in + 1"
   ]
  },
  {
   "cell_type": "code",
   "execution_count": 8,
   "metadata": {},
   "outputs": [
    {
     "data": {
      "text/plain": [
       "9223372036854775807"
      ]
     },
     "execution_count": 8,
     "metadata": {},
     "output_type": "execute_result"
    }
   ],
   "source": [
    "import sys\n",
    "sys.maxint"
   ]
  },
  {
   "cell_type": "markdown",
   "metadata": {},
   "source": [
    "Find a limit to the <em>number of digits</em> of a `float` number in Python.  \n",
    "It is virtually impossible to find the exact largest number by experimenting."
   ]
  },
  {
   "cell_type": "code",
   "execution_count": 52,
   "metadata": {},
   "outputs": [
    {
     "data": {
      "text/plain": [
       "1e+308"
      ]
     },
     "execution_count": 52,
     "metadata": {},
     "output_type": "execute_result"
    }
   ],
   "source": [
    "1e307*10"
   ]
  },
  {
   "cell_type": "code",
   "execution_count": 53,
   "metadata": {},
   "outputs": [
    {
     "data": {
      "text/plain": [
       "inf"
      ]
     },
     "execution_count": 53,
     "metadata": {},
     "output_type": "execute_result"
    }
   ],
   "source": [
    "1e308*10"
   ]
  },
  {
   "cell_type": "markdown",
   "metadata": {},
   "source": [
    "Find a limit to the number of <em>significant</em> digits of a `float` number in Python."
   ]
  },
  {
   "cell_type": "code",
   "execution_count": 21,
   "metadata": {},
   "outputs": [
    {
     "ename": "TypeError",
     "evalue": "object of type 'float' has no len()",
     "output_type": "error",
     "traceback": [
      "\u001b[0;31m---------------------------------------------------------------------------\u001b[0m",
      "\u001b[0;31mTypeError\u001b[0m                                 Traceback (most recent call last)",
      "\u001b[0;32m<ipython-input-21-4b80b4fb31d2>\u001b[0m in \u001b[0;36m<module>\u001b[0;34m()\u001b[0m\n\u001b[1;32m      1\u001b[0m \u001b[0mx\u001b[0m \u001b[0;34m=\u001b[0m \u001b[0;36m1.1\u001b[0m \u001b[0;34m**\u001b[0m \u001b[0;36m200\u001b[0m\u001b[0;34m\u001b[0m\u001b[0m\n\u001b[0;32m----> 2\u001b[0;31m \u001b[0my\u001b[0m \u001b[0;34m=\u001b[0m \u001b[0mlen\u001b[0m\u001b[0;34m(\u001b[0m\u001b[0mx\u001b[0m\u001b[0;34m)\u001b[0m\u001b[0;34m\u001b[0m\u001b[0m\n\u001b[0m\u001b[1;32m      3\u001b[0m \u001b[0mprint\u001b[0m\u001b[0;34m(\u001b[0m\u001b[0mx\u001b[0m\u001b[0;34m)\u001b[0m\u001b[0;34m\u001b[0m\u001b[0m\n\u001b[1;32m      4\u001b[0m \u001b[0mprint\u001b[0m\u001b[0;34m(\u001b[0m\u001b[0my\u001b[0m\u001b[0;34m)\u001b[0m\u001b[0;34m\u001b[0m\u001b[0m\n",
      "\u001b[0;31mTypeError\u001b[0m: object of type 'float' has no len()"
     ]
    }
   ],
   "source": [
    "x = 1.1 ** 200\n",
    "y = len(x)\n",
    "print(x)\n",
    "print(y)"
   ]
  },
  {
   "cell_type": "markdown",
   "metadata": {},
   "source": [
    "Find (an approximate value for) the smallest <em>positive</em> `float` number in Python.  \n",
    "Positive numbers smaller than this number will be rounded to zero by Python."
   ]
  },
  {
   "cell_type": "code",
   "execution_count": 31,
   "metadata": {},
   "outputs": [
    {
     "data": {
      "text/plain": [
       "1e-323"
      ]
     },
     "execution_count": 31,
     "metadata": {},
     "output_type": "execute_result"
    }
   ],
   "source": [
    "1e-322 * 0.1"
   ]
  },
  {
   "cell_type": "code",
   "execution_count": 32,
   "metadata": {},
   "outputs": [
    {
     "data": {
      "text/plain": [
       "0.0"
      ]
     },
     "execution_count": 32,
     "metadata": {},
     "output_type": "execute_result"
    }
   ],
   "source": [
    "1e-323 * 0.1"
   ]
  },
  {
   "cell_type": "code",
   "execution_count": 2,
   "metadata": {},
   "outputs": [
    {
     "data": {
      "text/plain": [
       "sys.float_info(max=1.7976931348623157e+308, max_exp=1024, max_10_exp=308, min=2.2250738585072014e-308, min_exp=-1021, min_10_exp=-307, dig=15, mant_dig=53, epsilon=2.220446049250313e-16, radix=2, rounds=1)"
      ]
     },
     "execution_count": 2,
     "metadata": {},
     "output_type": "execute_result"
    }
   ],
   "source": [
    "import sys\n",
    "sys.float_info"
   ]
  },
  {
   "cell_type": "code",
   "execution_count": 9,
   "metadata": {},
   "outputs": [
    {
     "data": {
      "text/plain": [
       "2.2250738585072014e-308"
      ]
     },
     "execution_count": 9,
     "metadata": {},
     "output_type": "execute_result"
    }
   ],
   "source": [
    "# 2.2250738585072014e-308\n",
    "sys.float_info.min"
   ]
  },
  {
   "cell_type": "markdown",
   "metadata": {},
   "source": [
    "## String formatting\n",
    "String formatting is a way of controlling the representation of values in an output string (see book).  \n",
    "The general form of the string formatting operation is  \n",
    "`pattern % (value_1, ..., value_n)`  \n",
    "For example:"
   ]
  },
  {
   "cell_type": "code",
   "execution_count": 4,
   "metadata": {},
   "outputs": [
    {
     "name": "stdout",
     "output_type": "stream",
     "text": [
      "My name is \"Somebody special\" and I am 123 years old\n"
     ]
    }
   ],
   "source": [
    "name = 'Somebody special'\n",
    "age = 123\n",
    "print 'My name is \"%s\" and I am %d years old' % (name, age)"
   ]
  },
  {
   "cell_type": "markdown",
   "metadata": {},
   "source": [
    "In string formatting, find the meaning of format specifiers (placeholders) and their options:\n",
    "\n",
    "`%s`, `%d`, `%f`, `%e`, `%E`, `%g`, `%c`, `%r` (any more?)  \n",
    "`%20s`, `%20d`, `%20f`, `%20.10f`,  \n",
    "`%-20d`, `%+20d`, `%020d`\n",
    "\n",
    "Use as many code cells as you want."
   ]
  },
  {
   "cell_type": "code",
   "execution_count": null,
   "metadata": {
    "collapsed": true
   },
   "outputs": [],
   "source": [
    "#there are more, for examples: %Y-%m-%d %H:%M "
   ]
  },
  {
   "cell_type": "code",
   "execution_count": 40,
   "metadata": {},
   "outputs": [
    {
     "name": "stdout",
     "output_type": "stream",
     "text": [
      "Help on built-in function format:\n",
      "\n",
      "format(...)\n",
      "    S.format(*args, **kwargs) -> string\n",
      "    \n",
      "    Return a formatted version of S, using substitutions from args and kwargs.\n",
      "    The substitutions are identified by braces ('{' and '}').\n",
      "\n"
     ]
    }
   ],
   "source": [
    "help(''.format)"
   ]
  },
  {
   "cell_type": "markdown",
   "metadata": {},
   "source": [
    "Find out what happens if the value to be formatted does not fit in the designated number of positions."
   ]
  },
  {
   "cell_type": "code",
   "execution_count": 35,
   "metadata": {},
   "outputs": [
    {
     "name": "stdout",
     "output_type": "stream",
     "text": [
      "My name is \" no one\" and I am    99.900 years old\n"
     ]
    }
   ],
   "source": [
    "name = 'no one'\n",
    "age = 99.9\n",
    "print 'My name is \"%7s\" and I am %9.3f years old' % (name,age)"
   ]
  },
  {
   "cell_type": "markdown",
   "metadata": {},
   "source": [
    "Which combinations of letters (s, d, ...) and other parts (digits, point, plus, minus) make sense?"
   ]
  },
  {
   "cell_type": "code",
   "execution_count": null,
   "metadata": {
    "collapsed": true
   },
   "outputs": [],
   "source": [
    "all of them make sense for me"
   ]
  },
  {
   "cell_type": "markdown",
   "metadata": {
    "collapsed": true
   },
   "source": [
    "How would you include a literal % in a format string?"
   ]
  },
  {
   "cell_type": "code",
   "execution_count": 38,
   "metadata": {
    "scrolled": true
   },
   "outputs": [
    {
     "name": "stdout",
     "output_type": "stream",
     "text": [
      "My name is \"no one\" and I am 99.9% human\n"
     ]
    }
   ],
   "source": [
    "#use '%%'\n",
    "name = 'no one'\n",
    "percent = 99.9\n",
    "print 'My name is \"%s\" and I am %4.1f%% human' % (name,age)"
   ]
  },
  {
   "cell_type": "code",
   "execution_count": null,
   "metadata": {
    "collapsed": true
   },
   "outputs": [],
   "source": []
  }
 ],
 "metadata": {
  "celltoolbar": "Raw Cell Format",
  "kernelspec": {
   "display_name": "Python 2",
   "language": "python",
   "name": "python2"
  },
  "language_info": {
   "codemirror_mode": {
    "name": "ipython",
    "version": 2
   },
   "file_extension": ".py",
   "mimetype": "text/x-python",
   "name": "python",
   "nbconvert_exporter": "python",
   "pygments_lexer": "ipython2",
   "version": "2.7.13"
  }
 },
 "nbformat": 4,
 "nbformat_minor": 1
}
