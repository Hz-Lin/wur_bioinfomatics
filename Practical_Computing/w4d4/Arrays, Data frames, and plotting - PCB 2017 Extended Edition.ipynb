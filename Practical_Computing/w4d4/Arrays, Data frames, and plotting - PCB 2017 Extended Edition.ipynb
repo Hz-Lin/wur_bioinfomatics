{
 "cells": [
  {
   "cell_type": "markdown",
   "metadata": {},
   "source": [
    "# <span style=\"color: Steelblue\"> Arrays, dataframes, and plotting </span>\n",
    "## <span style=\"color: Steelblue\"> A short primer on Numpy, Pandas, and Matplotlib </span>\n",
    "\n",
    ">Jupyter Notebook: **'Arrays, dataframes & plotting with Python'**\n",
    "\n",
    ">Goal: first steps with Numpy, Matplotlib & Pandas\n",
    "\n",
    ">By: H.J. Megens\n",
    "\n",
    ">Where you can reach me: hendrik-jan.megens -at- wur.nl\n",
    "\n",
    ">Last modified: 26 September 2017"
   ]
  },
  {
   "cell_type": "markdown",
   "metadata": {},
   "source": [
    "## Arrays and basic Numpy\n",
    "\n",
    "Arrays are one-dimensional (vectors), two-dimensional, or multidimensional datastructures that hold data. One characteristic of arrays is that they only hold one type of data (usually numerical, either int or float, but strings work too). Numpy has a specialized package for working with numerical array data, called Numpy. Numpy is extremely efficient in working with numerical data and has many built-in methods for mathematical operations. Numpy is one of the major reasons Python has become very important in the 'Data Analytics' wave, also known as 'Big Data' revolution, and sometimes referred to as 'machine learning'. Here you will briefly explore a few characteristics of Numpy."
   ]
  },
  {
   "cell_type": "markdown",
   "metadata": {},
   "source": [
    "### Basic properties of vectors and arrays\n"
   ]
  },
  {
   "cell_type": "code",
   "execution_count": 1,
   "metadata": {
    "collapsed": true
   },
   "outputs": [],
   "source": [
    "# Cell #1\n",
    "# First we import the numpy module\n",
    "import numpy as np # accepted convention of importing numpy"
   ]
  },
  {
   "cell_type": "code",
   "execution_count": 2,
   "metadata": {},
   "outputs": [
    {
     "name": "stdout",
     "output_type": "stream",
     "text": [
      "[1 2 3]\n",
      "int64\n"
     ]
    }
   ],
   "source": [
    "# Cell #2\n",
    "# How to make a numpy array ...\n",
    "# ... or rather a 1-dim vector\n",
    "a = np.array([1,2,3])\n",
    "print(a)  # see what it contains\n",
    "print(a.dtype) # see what datatype the array is"
   ]
  },
  {
   "cell_type": "code",
   "execution_count": 3,
   "metadata": {},
   "outputs": [
    {
     "data": {
      "text/plain": [
       "array([4, 5, 6])"
      ]
     },
     "execution_count": 3,
     "metadata": {},
     "output_type": "execute_result"
    }
   ],
   "source": [
    "# Cell #3\n",
    "# an another one...\n",
    "b = np.array([4,5,6])\n",
    "b"
   ]
  },
  {
   "cell_type": "code",
   "execution_count": 4,
   "metadata": {},
   "outputs": [
    {
     "data": {
      "text/plain": [
       "array([5, 7, 9])"
      ]
     },
     "execution_count": 4,
     "metadata": {},
     "output_type": "execute_result"
    }
   ],
   "source": [
    "# Cell #4\n",
    "# doing simple mathematical operations is easy-peasy.\n",
    "a + b"
   ]
  },
  {
   "cell_type": "code",
   "execution_count": 5,
   "metadata": {},
   "outputs": [
    {
     "data": {
      "text/plain": [
       "[1, 2, 3, 4, 5, 6]"
      ]
     },
     "execution_count": 5,
     "metadata": {},
     "output_type": "execute_result"
    }
   ],
   "source": [
    "# Cell #5\n",
    "# Just note how different this behavior is from working with normal lists:\n",
    "a_list = [1,2,3]\n",
    "b_list = [4,5,6]\n",
    "a_list + b_list"
   ]
  },
  {
   "cell_type": "code",
   "execution_count": 8,
   "metadata": {
    "collapsed": true
   },
   "outputs": [],
   "source": [
    "# Cell #6\n",
    "# Concatenating matrices or vectors\n",
    "# This is an example of a so-called 'vertical-stack'\n",
    "# Other options are 'hstack' - horizontal - and 'dstack'\n",
    "c = np.vstack((a,b))\n",
    "d = np.hstack((a,b))\n",
    "e = np.dstack((a,b))"
   ]
  },
  {
   "cell_type": "code",
   "execution_count": 10,
   "metadata": {},
   "outputs": [
    {
     "name": "stdout",
     "output_type": "stream",
     "text": [
      "[[1 2 3]\n",
      " [4 5 6]]\n",
      "[1 2 3 4 5 6]\n",
      "[[[1 4]\n",
      "  [2 5]\n",
      "  [3 6]]]\n"
     ]
    }
   ],
   "source": [
    "# Cell #7\n",
    "# show contents of c\n",
    "print c\n",
    "print d\n",
    "print e"
   ]
  },
  {
   "cell_type": "code",
   "execution_count": 11,
   "metadata": {},
   "outputs": [
    {
     "data": {
      "text/plain": [
       "2"
      ]
     },
     "execution_count": 11,
     "metadata": {},
     "output_type": "execute_result"
    }
   ],
   "source": [
    "# Cell #8\n",
    "# get the value of the first row, and second column\n",
    "c[0,1]"
   ]
  },
  {
   "cell_type": "code",
   "execution_count": 12,
   "metadata": {},
   "outputs": [
    {
     "data": {
      "text/plain": [
       "2"
      ]
     },
     "execution_count": 12,
     "metadata": {},
     "output_type": "execute_result"
    }
   ],
   "source": [
    "# Cell #9\n",
    "# Notice the difference between retrieving elements from\n",
    "# simple lists in simple lists\n",
    "c_list = [[1,2,3],[4,5,6]]\n",
    "# In this case you need to go 'one deeper' into the list\n",
    "c_list[0][1]"
   ]
  },
  {
   "cell_type": "code",
   "execution_count": 13,
   "metadata": {
    "collapsed": true
   },
   "outputs": [],
   "source": [
    "# Cell #10\n",
    "# various mathematical operations can be applied to matrices\n",
    "# for instance squaring\n",
    "d = c**2"
   ]
  },
  {
   "cell_type": "code",
   "execution_count": 14,
   "metadata": {},
   "outputs": [
    {
     "data": {
      "text/plain": [
       "array([[ 1,  4,  9],\n",
       "       [16, 25, 36]])"
      ]
     },
     "execution_count": 14,
     "metadata": {},
     "output_type": "execute_result"
    }
   ],
   "source": [
    "# Cell #11\n",
    "# d is again a 3x2 array, now containing the squared values of c\n",
    "d"
   ]
  },
  {
   "cell_type": "code",
   "execution_count": 15,
   "metadata": {},
   "outputs": [
    {
     "data": {
      "text/plain": [
       "91"
      ]
     },
     "execution_count": 15,
     "metadata": {},
     "output_type": "execute_result"
    }
   ],
   "source": [
    "# Cell #12\n",
    "# 'd' is a numpy array object, which has several built-in methods, such\n",
    "# as summing the values\n",
    "d.sum()"
   ]
  },
  {
   "cell_type": "code",
   "execution_count": 16,
   "metadata": {},
   "outputs": [
    {
     "data": {
      "text/plain": [
       "array([[False, False, False],\n",
       "       [False,  True,  True]], dtype=bool)"
      ]
     },
     "execution_count": 16,
     "metadata": {},
     "output_type": "execute_result"
    }
   ],
   "source": [
    "# Cell #13\n",
    "# larger then?\n",
    "d > 20"
   ]
  },
  {
   "cell_type": "code",
   "execution_count": 17,
   "metadata": {},
   "outputs": [
    {
     "data": {
      "text/plain": [
       "array([[ 1, 21,  9],\n",
       "       [16, 25, 36]])"
      ]
     },
     "execution_count": 17,
     "metadata": {},
     "output_type": "execute_result"
    }
   ],
   "source": [
    "# Cell #14\n",
    "# You can change values in an array\n",
    "d[0,1] = 21\n",
    "d"
   ]
  },
  {
   "cell_type": "code",
   "execution_count": 18,
   "metadata": {},
   "outputs": [
    {
     "data": {
      "text/plain": [
       "array([[False,  True, False],\n",
       "       [False,  True,  True]], dtype=bool)"
      ]
     },
     "execution_count": 18,
     "metadata": {},
     "output_type": "execute_result"
    }
   ],
   "source": [
    "# Cell #15\n",
    "# Which ones now larger than 20?\n",
    "d > 20"
   ]
  },
  {
   "cell_type": "markdown",
   "metadata": {},
   "source": [
    "### Selecting elements from arrays based on logic values - True or False?\n",
    "\n",
    "Assume you would like to slice a list based on an arbitrary list that simply states 'select yes-or-no'. You could try something like this:"
   ]
  },
  {
   "cell_type": "code",
   "execution_count": 33,
   "metadata": {},
   "outputs": [
    {
     "ename": "TypeError",
     "evalue": "list indices must be integers, not list",
     "output_type": "error",
     "traceback": [
      "\u001b[0;31m---------------------------------------------------------------------------\u001b[0m",
      "\u001b[0;31mTypeError\u001b[0m                                 Traceback (most recent call last)",
      "\u001b[0;32m<ipython-input-33-320a6c029916>\u001b[0m in \u001b[0;36m<module>\u001b[0;34m()\u001b[0m\n\u001b[1;32m      3\u001b[0m \u001b[0mmylist\u001b[0m \u001b[0;34m=\u001b[0m \u001b[0;34m[\u001b[0m\u001b[0;34m'a'\u001b[0m\u001b[0;34m,\u001b[0m\u001b[0;34m'b'\u001b[0m\u001b[0;34m,\u001b[0m\u001b[0;34m'c'\u001b[0m\u001b[0;34m,\u001b[0m\u001b[0;34m'd'\u001b[0m\u001b[0;34m]\u001b[0m\u001b[0;34m\u001b[0m\u001b[0m\n\u001b[1;32m      4\u001b[0m \u001b[0mmy_logic_list\u001b[0m \u001b[0;34m=\u001b[0m \u001b[0;34m[\u001b[0m\u001b[0mFalse\u001b[0m\u001b[0;34m,\u001b[0m\u001b[0mTrue\u001b[0m\u001b[0;34m,\u001b[0m\u001b[0mTrue\u001b[0m\u001b[0;34m,\u001b[0m\u001b[0mFalse\u001b[0m\u001b[0;34m]\u001b[0m\u001b[0;34m\u001b[0m\u001b[0m\n\u001b[0;32m----> 5\u001b[0;31m \u001b[0mmylist\u001b[0m\u001b[0;34m[\u001b[0m\u001b[0mmy_logic_list\u001b[0m\u001b[0;34m]\u001b[0m\u001b[0;34m\u001b[0m\u001b[0m\n\u001b[0m",
      "\u001b[0;31mTypeError\u001b[0m: list indices must be integers, not list"
     ]
    }
   ],
   "source": [
    "# Cell #16\n",
    "\n",
    "mylist = ['a','b','c','d']\n",
    "my_logic_list = [False,True,True,False]\n",
    "mylist[my_logic_list]\n"
   ]
  },
  {
   "cell_type": "markdown",
   "metadata": {},
   "source": [
    "... but that doesn't work for the standard Python lists, in fact the only way to extract locations from a string or list is to use slices. In this case, because the elements we want to extract are adjacent, we could do the following, but in case the elements you want to select are not adjacent, that won't work."
   ]
  },
  {
   "cell_type": "code",
   "execution_count": 20,
   "metadata": {},
   "outputs": [
    {
     "data": {
      "text/plain": [
       "['b', 'c']"
      ]
     },
     "execution_count": 20,
     "metadata": {},
     "output_type": "execute_result"
    }
   ],
   "source": [
    "# Cell 17\n",
    "mylist[1:3]"
   ]
  },
  {
   "cell_type": "markdown",
   "metadata": {},
   "source": [
    "With numpy arrays/vectors, you can select an arbitrary selection of elements, based on supplying a vector (or array) of similar dimensions that contains Booleans `True` or `False` in the order of elements to be selected, or not selected. For instance:"
   ]
  },
  {
   "cell_type": "code",
   "execution_count": 21,
   "metadata": {},
   "outputs": [
    {
     "data": {
      "text/plain": [
       "array(['b', 'c'], \n",
       "      dtype='|S1')"
      ]
     },
     "execution_count": 21,
     "metadata": {},
     "output_type": "execute_result"
    }
   ],
   "source": [
    "# Cell 18\n",
    "myvec = np.array(['a','b','c','d'])\n",
    "my_logic_vector = np.array([False,True,True,False])\n",
    "myvec[my_logic_vector]"
   ]
  },
  {
   "cell_type": "markdown",
   "metadata": {},
   "source": [
    "Just to note, Numpy arrays can be transformed to standard Python lists, and vice versa. For instance:"
   ]
  },
  {
   "cell_type": "code",
   "execution_count": 22,
   "metadata": {},
   "outputs": [
    {
     "data": {
      "text/plain": [
       "['b', 'c']"
      ]
     },
     "execution_count": 22,
     "metadata": {},
     "output_type": "execute_result"
    }
   ],
   "source": [
    "# Cell 19\n",
    "selection = list(myvec[my_logic_vector])\n",
    "selection"
   ]
  },
  {
   "cell_type": "markdown",
   "metadata": {},
   "source": [
    "You might wonder: \"So what?\". What's so great about this type of selecting elements in a vector or array. Well, consider this example, where you might be interested in selecting only the numbers in the array that are larger than 8:"
   ]
  },
  {
   "cell_type": "code",
   "execution_count": 23,
   "metadata": {},
   "outputs": [
    {
     "data": {
      "text/plain": [
       "array([ True, False, False,  True], dtype=bool)"
      ]
     },
     "execution_count": 23,
     "metadata": {},
     "output_type": "execute_result"
    }
   ],
   "source": [
    "# Cell 20\n",
    "myvec = np.array([10, 5.0, 7, 15])\n",
    "myvec > 8"
   ]
  },
  {
   "cell_type": "markdown",
   "metadata": {},
   "source": [
    "The code above results in an array, of data type Boolean. First and last elements are indeed larger than 8, the two middle ones are not. This Boolean array can subsequently be passed back into the original array (or vector) to then only show the elements that are `True`."
   ]
  },
  {
   "cell_type": "code",
   "execution_count": 24,
   "metadata": {},
   "outputs": [
    {
     "data": {
      "text/plain": [
       "array([ 10.,  15.])"
      ]
     },
     "execution_count": 24,
     "metadata": {},
     "output_type": "execute_result"
    }
   ],
   "source": [
    "# Cell 21\n",
    "myvec[myvec>8]"
   ]
  },
  {
   "cell_type": "markdown",
   "metadata": {},
   "source": [
    "Note that all elements are of type float. You can't mix types in a Numpy array, we'll come back to that in the section 'Dataframes'. \n",
    "\n",
    "You can also construct composite logical expressions, for instance:"
   ]
  },
  {
   "cell_type": "code",
   "execution_count": 25,
   "metadata": {},
   "outputs": [
    {
     "data": {
      "text/plain": [
       "array([ 10.])"
      ]
     },
     "execution_count": 25,
     "metadata": {},
     "output_type": "execute_result"
    }
   ],
   "source": [
    "# Cell 22\n",
    "myvec[(myvec > 8) & (myvec < 12)]"
   ]
  },
  {
   "cell_type": "markdown",
   "metadata": {},
   "source": [
    "As before, this works because of the Boolean vector created by the two tests: number larger than 8 `AND` smaller than 12. "
   ]
  },
  {
   "cell_type": "code",
   "execution_count": 26,
   "metadata": {},
   "outputs": [
    {
     "data": {
      "text/plain": [
       "array([ True, False, False, False], dtype=bool)"
      ]
     },
     "execution_count": 26,
     "metadata": {},
     "output_type": "execute_result"
    }
   ],
   "source": [
    "# Cell 23\n",
    "(myvec > 8) & (myvec < 12)"
   ]
  },
  {
   "cell_type": "markdown",
   "metadata": {},
   "source": [
    "## Task 1: Getting Familiar With Numpy #\n",
    "\n",
    "**Learning goals:**\n",
    "* Familiarize yourself with Numpy, and how to apply internal functions (methods)\n",
    "* Understand array coordinates\n",
    "\n",
    "\n",
    "**a)** Create a numpy array ‘x’, based on the following list:\n",
    "\n",
    "**`[[67,98,202],[43,2,6],[12,99,100]]`**\n",
    "\n",
    "Have a look at Cells #2 and #3 for basic syntax. \n",
    "Produce the square of the matrix (name **`x_square`**). Look at cell #10 for basic syntax. What is the value in row 3, column 2? Cell #8 (a.o.) shows basic syntax."
   ]
  },
  {
   "cell_type": "code",
   "execution_count": 28,
   "metadata": {},
   "outputs": [
    {
     "data": {
      "text/plain": [
       "array([[ 67,  98, 202],\n",
       "       [ 43,   2,   6],\n",
       "       [ 12,  99, 100]])"
      ]
     },
     "execution_count": 28,
     "metadata": {},
     "output_type": "execute_result"
    }
   ],
   "source": [
    "# a\n",
    "\n",
    "x = np.array([[67,98,202],[43,2,6],[12,99,100]])\n",
    "x"
   ]
  },
  {
   "cell_type": "markdown",
   "metadata": {},
   "source": [
    "**b)** multiply the array using the vector '**`a`**' from the Notebook and call that matrix '**`a_x`**'. In which ‘direction’ does the multiplication occur?"
   ]
  },
  {
   "cell_type": "code",
   "execution_count": 32,
   "metadata": {},
   "outputs": [
    {
     "name": "stdout",
     "output_type": "stream",
     "text": [
      "[1 2 3]\n"
     ]
    },
    {
     "data": {
      "text/plain": [
       "array([[ 67, 196, 606],\n",
       "       [ 43,   4,  18],\n",
       "       [ 12, 198, 300]])"
      ]
     },
     "execution_count": 32,
     "metadata": {},
     "output_type": "execute_result"
    }
   ],
   "source": [
    "# b\n",
    "\n",
    "print a\n",
    "a_x = x * a\n",
    "a_x"
   ]
  },
  {
   "cell_type": "markdown",
   "metadata": {},
   "source": [
    "**c)** By applying '`dir(a_x)`' you can find out which methods can be applied to your array. Calculate **sum**, **mean**, **standard deviation**, **minimum value** and **maximum value** of the matrix. See cell #14 for an example."
   ]
  },
  {
   "cell_type": "code",
   "execution_count": 46,
   "metadata": {},
   "outputs": [
    {
     "name": "stdout",
     "output_type": "stream",
     "text": [
      "1444\n",
      "1444\n",
      "160.444444444\n",
      "160.444444444\n",
      "185.591014576\n",
      "185.591014576\n",
      "4\n",
      "4\n",
      "606\n",
      "606\n"
     ]
    }
   ],
   "source": [
    "# c\n",
    "\n",
    "# sum \n",
    "print a_x.sum()\n",
    "print np.sum(a_x)\n",
    "# mean\n",
    "print a_x.mean()\n",
    "print np.mean(a_x)\n",
    "# standard deviation\n",
    "print a_x.std()\n",
    "print np.std(a_x)\n",
    "# minimum value\n",
    "print a_x.min()\n",
    "print np.min(a_x)\n",
    "# maximum value\n",
    "print a_x.max()\n",
    "print np.max(a_x)"
   ]
  },
  {
   "cell_type": "markdown",
   "metadata": {},
   "source": [
    "**d)** Create a truth table (array with True and False) for values larger than 200. "
   ]
  },
  {
   "cell_type": "code",
   "execution_count": 38,
   "metadata": {},
   "outputs": [
    {
     "data": {
      "text/plain": [
       "array([[False, False,  True],\n",
       "       [False, False, False],\n",
       "       [False, False,  True]], dtype=bool)"
      ]
     },
     "execution_count": 38,
     "metadata": {},
     "output_type": "execute_result"
    }
   ],
   "source": [
    "# d\n",
    "a_x > 200"
   ]
  },
  {
   "cell_type": "markdown",
   "metadata": {},
   "source": [
    "**e)** Then, use that truth table to retrieve all values of '**`a_x`**' larger than 200. Cells #21 and #22 provide further information."
   ]
  },
  {
   "cell_type": "code",
   "execution_count": 39,
   "metadata": {},
   "outputs": [
    {
     "data": {
      "text/plain": [
       "array([606, 300])"
      ]
     },
     "execution_count": 39,
     "metadata": {},
     "output_type": "execute_result"
    }
   ],
   "source": [
    "# e\n",
    "a_x[a_x>200]"
   ]
  },
  {
   "cell_type": "markdown",
   "metadata": {},
   "source": [
    "## Task 2: The *Iris* dataset\n",
    "\n",
    "**Learning goals:**\n",
    "* Learn how to understand data structures and their features\n",
    "* Learn how to use (Boolean) vectors or arrays to subset other arrays.\n",
    "\n",
    "![iris species](iris_species.jpg)\n",
    "The *Iris* dataset is one of the classic biological datasets, created by the famous geneticist R.A. Fisher. The data is derived from measurements on flowers of three *Iris* species: *I. versicolor*, *I. setosa*, and *I. virginica*. The dataset contains four measurements per flower: sepal length and width, and petal length and width.\n",
    "\n",
    "![Iris flower](Iris_flower.jpg)\n",
    "\n",
    "The data set is often used to demonstrate or benchmark machine-learning techniques. For more information on the *Iris* dataset, visit the <a href=https://en.wikipedia.org/wiki/Iris_flower_data_set>Wikipedia page</a>.\n",
    "\n",
    "Because the *Iris* data set is small, and often used for demonstrating machine learning techniques, it is often bundled in analytical packages for languages often used in data science, such as R and Python. In Python, the most used package for machine learning is the Scikit-learn package. \n",
    "\n",
    "We will first load the dataset and explore some of its properties. "
   ]
  },
  {
   "cell_type": "code",
   "execution_count": 2,
   "metadata": {
    "collapsed": true
   },
   "outputs": [],
   "source": [
    "import numpy as np  # import numpy\n",
    "from sklearn import datasets # import the 'datasets' \n",
    "iris = datasets.load_iris()"
   ]
  },
  {
   "cell_type": "markdown",
   "metadata": {},
   "source": [
    "The Scikit-Learn data packages have a specific structure which you don't need to remember. However, you can always use the `dir()` function on any object to investigate which methods are available. For now, we will focus on the `.keys()` method, which tells us that the datastructure is a bit like a dictionary."
   ]
  },
  {
   "cell_type": "code",
   "execution_count": 3,
   "metadata": {},
   "outputs": [
    {
     "data": {
      "text/plain": [
       "['target_names', 'data', 'target', 'DESCR', 'feature_names']"
      ]
     },
     "execution_count": 3,
     "metadata": {},
     "output_type": "execute_result"
    }
   ],
   "source": [
    "iris.keys()"
   ]
  },
  {
   "cell_type": "markdown",
   "metadata": {},
   "source": [
    "You will see the different 'items' in the data package. Let's explore them. One is called 'DESCR', and hold a description of the data package. Curious what it has to say? Just do:"
   ]
  },
  {
   "cell_type": "code",
   "execution_count": 4,
   "metadata": {},
   "outputs": [
    {
     "name": "stdout",
     "output_type": "stream",
     "text": [
      "Iris Plants Database\n",
      "====================\n",
      "\n",
      "Notes\n",
      "-----\n",
      "Data Set Characteristics:\n",
      "    :Number of Instances: 150 (50 in each of three classes)\n",
      "    :Number of Attributes: 4 numeric, predictive attributes and the class\n",
      "    :Attribute Information:\n",
      "        - sepal length in cm\n",
      "        - sepal width in cm\n",
      "        - petal length in cm\n",
      "        - petal width in cm\n",
      "        - class:\n",
      "                - Iris-Setosa\n",
      "                - Iris-Versicolour\n",
      "                - Iris-Virginica\n",
      "    :Summary Statistics:\n",
      "\n",
      "    ============== ==== ==== ======= ===== ====================\n",
      "                    Min  Max   Mean    SD   Class Correlation\n",
      "    ============== ==== ==== ======= ===== ====================\n",
      "    sepal length:   4.3  7.9   5.84   0.83    0.7826\n",
      "    sepal width:    2.0  4.4   3.05   0.43   -0.4194\n",
      "    petal length:   1.0  6.9   3.76   1.76    0.9490  (high!)\n",
      "    petal width:    0.1  2.5   1.20  0.76     0.9565  (high!)\n",
      "    ============== ==== ==== ======= ===== ====================\n",
      "\n",
      "    :Missing Attribute Values: None\n",
      "    :Class Distribution: 33.3% for each of 3 classes.\n",
      "    :Creator: R.A. Fisher\n",
      "    :Donor: Michael Marshall (MARSHALL%PLU@io.arc.nasa.gov)\n",
      "    :Date: July, 1988\n",
      "\n",
      "This is a copy of UCI ML iris datasets.\n",
      "http://archive.ics.uci.edu/ml/datasets/Iris\n",
      "\n",
      "The famous Iris database, first used by Sir R.A Fisher\n",
      "\n",
      "This is perhaps the best known database to be found in the\n",
      "pattern recognition literature.  Fisher's paper is a classic in the field and\n",
      "is referenced frequently to this day.  (See Duda & Hart, for example.)  The\n",
      "data set contains 3 classes of 50 instances each, where each class refers to a\n",
      "type of iris plant.  One class is linearly separable from the other 2; the\n",
      "latter are NOT linearly separable from each other.\n",
      "\n",
      "References\n",
      "----------\n",
      "   - Fisher,R.A. \"The use of multiple measurements in taxonomic problems\"\n",
      "     Annual Eugenics, 7, Part II, 179-188 (1936); also in \"Contributions to\n",
      "     Mathematical Statistics\" (John Wiley, NY, 1950).\n",
      "   - Duda,R.O., & Hart,P.E. (1973) Pattern Classification and Scene Analysis.\n",
      "     (Q327.D83) John Wiley & Sons.  ISBN 0-471-22361-1.  See page 218.\n",
      "   - Dasarathy, B.V. (1980) \"Nosing Around the Neighborhood: A New System\n",
      "     Structure and Classification Rule for Recognition in Partially Exposed\n",
      "     Environments\".  IEEE Transactions on Pattern Analysis and Machine\n",
      "     Intelligence, Vol. PAMI-2, No. 1, 67-71.\n",
      "   - Gates, G.W. (1972) \"The Reduced Nearest Neighbor Rule\".  IEEE Transactions\n",
      "     on Information Theory, May 1972, 431-433.\n",
      "   - See also: 1988 MLC Proceedings, 54-64.  Cheeseman et al\"s AUTOCLASS II\n",
      "     conceptual clustering system finds 3 classes in the data.\n",
      "   - Many, many more ...\n",
      "\n"
     ]
    }
   ],
   "source": [
    "print(iris.DESCR)"
   ]
  },
  {
   "cell_type": "markdown",
   "metadata": {},
   "source": [
    "Note the absence of parenthesis, because iris.DESCR is a data structure, not a method (function built-in the method).\n",
    "\n",
    "This is a nice overview of the data. The data is derived from three species of *Iris*: *I. setosa*, *I.versicolor*, and *I. virginica*. These names can also be found in the `iris.target_names`:"
   ]
  },
  {
   "cell_type": "code",
   "execution_count": 5,
   "metadata": {},
   "outputs": [
    {
     "data": {
      "text/plain": [
       "array(['setosa', 'versicolor', 'virginica'], \n",
       "      dtype='|S10')"
      ]
     },
     "execution_count": 5,
     "metadata": {},
     "output_type": "execute_result"
    }
   ],
   "source": [
    "iris.target_names"
   ]
  },
  {
   "cell_type": "markdown",
   "metadata": {},
   "source": [
    "In total, 150 flowers were measured, 50 for every species. The order of the species in the actual data array is given by the `iris.target` vector. "
   ]
  },
  {
   "cell_type": "code",
   "execution_count": 6,
   "metadata": {},
   "outputs": [
    {
     "data": {
      "text/plain": [
       "array([0, 0, 0, 0, 0, 0, 0, 0, 0, 0, 0, 0, 0, 0, 0, 0, 0, 0, 0, 0, 0, 0, 0,\n",
       "       0, 0, 0, 0, 0, 0, 0, 0, 0, 0, 0, 0, 0, 0, 0, 0, 0, 0, 0, 0, 0, 0, 0,\n",
       "       0, 0, 0, 0, 1, 1, 1, 1, 1, 1, 1, 1, 1, 1, 1, 1, 1, 1, 1, 1, 1, 1, 1,\n",
       "       1, 1, 1, 1, 1, 1, 1, 1, 1, 1, 1, 1, 1, 1, 1, 1, 1, 1, 1, 1, 1, 1, 1,\n",
       "       1, 1, 1, 1, 1, 1, 1, 1, 2, 2, 2, 2, 2, 2, 2, 2, 2, 2, 2, 2, 2, 2, 2,\n",
       "       2, 2, 2, 2, 2, 2, 2, 2, 2, 2, 2, 2, 2, 2, 2, 2, 2, 2, 2, 2, 2, 2, 2,\n",
       "       2, 2, 2, 2, 2, 2, 2, 2, 2, 2, 2, 2])"
      ]
     },
     "execution_count": 6,
     "metadata": {},
     "output_type": "execute_result"
    }
   ],
   "source": [
    "iris.target"
   ]
  },
  {
   "cell_type": "markdown",
   "metadata": {},
   "source": [
    "**a)** What species do the 0's, 1's and 2's correspond to, respectively? How can you subset the `iris.target_names` vector to extract the name 'setosa'?"
   ]
  },
  {
   "cell_type": "code",
   "execution_count": 7,
   "metadata": {},
   "outputs": [
    {
     "data": {
      "text/plain": [
       "'setosa'"
      ]
     },
     "execution_count": 7,
     "metadata": {},
     "output_type": "execute_result"
    }
   ],
   "source": [
    "#a\n",
    "iris.target_names[0]"
   ]
  },
  {
   "cell_type": "markdown",
   "metadata": {},
   "source": [
    "The structures of the flowers that were measured are called 'features'. Their names too can be retrieved from `iris`:"
   ]
  },
  {
   "cell_type": "code",
   "execution_count": 8,
   "metadata": {},
   "outputs": [
    {
     "data": {
      "text/plain": [
       "['sepal length (cm)',\n",
       " 'sepal width (cm)',\n",
       " 'petal length (cm)',\n",
       " 'petal width (cm)']"
      ]
     },
     "execution_count": 8,
     "metadata": {},
     "output_type": "execute_result"
    }
   ],
   "source": [
    "iris.feature_names"
   ]
  },
  {
   "cell_type": "markdown",
   "metadata": {},
   "source": [
    "The actual measurements are found in the `iris.data` datastructure. The first ten rows of the iris data show the following values:"
   ]
  },
  {
   "cell_type": "code",
   "execution_count": 9,
   "metadata": {},
   "outputs": [
    {
     "data": {
      "text/plain": [
       "array([[ 5.1,  3.5,  1.4,  0.2],\n",
       "       [ 4.9,  3. ,  1.4,  0.2],\n",
       "       [ 4.7,  3.2,  1.3,  0.2],\n",
       "       [ 4.6,  3.1,  1.5,  0.2],\n",
       "       [ 5. ,  3.6,  1.4,  0.2],\n",
       "       [ 5.4,  3.9,  1.7,  0.4],\n",
       "       [ 4.6,  3.4,  1.4,  0.3],\n",
       "       [ 5. ,  3.4,  1.5,  0.2],\n",
       "       [ 4.4,  2.9,  1.4,  0.2],\n",
       "       [ 4.9,  3.1,  1.5,  0.1]])"
      ]
     },
     "execution_count": 9,
     "metadata": {},
     "output_type": "execute_result"
    }
   ],
   "source": [
    "iris.data[:10,:]"
   ]
  },
  {
   "cell_type": "markdown",
   "metadata": {},
   "source": [
    "In the next questions you will explore some of the features of `iris.data`. \n",
    "\n",
    "**b)** What kind of data structure is `iris.data`? Use both the general Python `type()` function, as well as the iris.data specific `dtype` attribute."
   ]
  },
  {
   "cell_type": "code",
   "execution_count": 10,
   "metadata": {},
   "outputs": [
    {
     "name": "stdout",
     "output_type": "stream",
     "text": [
      "<type 'numpy.ndarray'>\n",
      "float64\n"
     ]
    }
   ],
   "source": [
    "#b\n",
    "print type(iris.data)\n",
    "print iris.data.dtype"
   ]
  },
  {
   "cell_type": "markdown",
   "metadata": {},
   "source": [
    "The iris.data object has, like any python object, methods (object-specific functions), which  require parentheses (just like regular functions), but also has attributes, which hold information specific to the object. Both methods and attributes can be listed by doing `iris.data.<TAB>`, which will autocomplete, and in the notebook will bring forward a list of all methods and attributes. \n",
    "\n",
    "**c)** Can you find an attribute or method that will tell you the 'shape' of the data matrix? Not sure if the likely name is a method or attribute? Just try. If you invoke it without parentheses and it gives an error, it is likely a method. In addition, you can always use the '?' after the name for more information!"
   ]
  },
  {
   "cell_type": "code",
   "execution_count": 11,
   "metadata": {},
   "outputs": [
    {
     "data": {
      "text/plain": [
       "(150, 4)"
      ]
     },
     "execution_count": 11,
     "metadata": {},
     "output_type": "execute_result"
    }
   ],
   "source": [
    "# c\n",
    "iris.data.shape"
   ]
  },
  {
   "cell_type": "markdown",
   "metadata": {},
   "source": [
    "The first column of iris.data holds the measurments of the sepal length. You can extract the first column in this way:\n",
    "```Python\n",
    "iris.data[:,0]\n",
    "```\n",
    "The ':' (colon) is a slice from start to end. Since it is the first index value, this means: \"all rows\". The '0' stands for the first column, since it is the second index value.\n",
    "\n",
    "**d)** Capture the first column in a variable called `sepal_length`. What type is `sepal_length`? What is its shape?"
   ]
  },
  {
   "cell_type": "code",
   "execution_count": 12,
   "metadata": {},
   "outputs": [
    {
     "name": "stdout",
     "output_type": "stream",
     "text": [
      "<type 'numpy.ndarray'>\n",
      "float64\n",
      "(150,)\n"
     ]
    }
   ],
   "source": [
    "# d\n",
    "\n",
    "sepal_length = iris.data[:,0]\n",
    "print type(sepal_length)\n",
    "print sepal_length.dtype\n",
    "print sepal_length.shape\n"
   ]
  },
  {
   "cell_type": "markdown",
   "metadata": {},
   "source": [
    "**e)** The `sepal_length` object that you've made has a number of attributes. Find the methods to calculate mean and standard deviation, and calculate these values. Check if the values are the same as in the description of the iris data package. "
   ]
  },
  {
   "cell_type": "code",
   "execution_count": 13,
   "metadata": {},
   "outputs": [
    {
     "name": "stdout",
     "output_type": "stream",
     "text": [
      "5.84333333333\n",
      "5.84333333333\n",
      "0.825301291785\n",
      "0.825301291785\n",
      "4.3\n",
      "4.3\n",
      "7.9\n",
      "7.9\n"
     ]
    }
   ],
   "source": [
    "# e\n",
    "\n",
    "# mean\n",
    "print sepal_length.mean()\n",
    "print np.mean(sepal_length)\n",
    "# standard deviation\n",
    "print sepal_length.std()\n",
    "print np.std(sepal_length)\n",
    "# minimum value\n",
    "print sepal_length.min()\n",
    "print np.min(sepal_length)\n",
    "# maximum value\n",
    "print sepal_length.max()\n",
    "print np.max(sepal_length)\n",
    "#The values are the same as in the description of the iris data package"
   ]
  },
  {
   "cell_type": "markdown",
   "metadata": {},
   "source": [
    "The mean and standard deviation you have just calculated was based on all three species. We might want to do the same for each of the species. Let's brake that down first in a number of steps. Say we want to do this first for one species, versicolor. This species is the second in the `iris.target_names` vector, and therefore has index value `1`, both in the `iris.target_names` and corresponding `iris.target` vectors. \n",
    "\n",
    "**f)** Create a Boolean vector called `is_versicolor` based on iris.target by asking when iris.target is 1. \n",
    "```Python\n",
    "iris.target == 1\n",
    "```\n",
    "How long is the Boolean vector? Which values does it contain?"
   ]
  },
  {
   "cell_type": "code",
   "execution_count": 14,
   "metadata": {},
   "outputs": [
    {
     "name": "stdout",
     "output_type": "stream",
     "text": [
      "[False False False False False False False False False False False False\n",
      " False False False False False False False False False False False False\n",
      " False False False False False False False False False False False False\n",
      " False False False False False False False False False False False False\n",
      " False False  True  True  True  True  True  True  True  True  True  True\n",
      "  True  True  True  True  True  True  True  True  True  True  True  True\n",
      "  True  True  True  True  True  True  True  True  True  True  True  True\n",
      "  True  True  True  True  True  True  True  True  True  True  True  True\n",
      "  True  True  True  True False False False False False False False False\n",
      " False False False False False False False False False False False False\n",
      " False False False False False False False False False False False False\n",
      " False False False False False False False False False False False False\n",
      " False False False False False False]\n"
     ]
    }
   ],
   "source": [
    "# f\n",
    "\n",
    "is_versicolor = iris.target == 1\n",
    "print is_versicolor"
   ]
  },
  {
   "cell_type": "markdown",
   "metadata": {},
   "source": [
    "**g)** Create a vector, called `versicolor_sepal_length`, that has *only* the versicolor sepal length information. This means you have to get the first column from `iris.data`, and then subset that vector based on the Boolean vector `is_versicolor` created in the previous question."
   ]
  },
  {
   "cell_type": "code",
   "execution_count": 15,
   "metadata": {},
   "outputs": [
    {
     "name": "stdout",
     "output_type": "stream",
     "text": [
      "[ 7.   6.4  6.9  5.5  6.5  5.7  6.3  4.9  6.6  5.2  5.   5.9  6.   6.1  5.6\n",
      "  6.7  5.6  5.8  6.2  5.6  5.9  6.1  6.3  6.1  6.4  6.6  6.8  6.7  6.   5.7\n",
      "  5.5  5.5  5.8  6.   5.4  6.   6.7  6.3  5.6  5.5  5.5  6.1  5.8  5.   5.6\n",
      "  5.7  5.7  6.2  5.1  5.7]\n"
     ]
    }
   ],
   "source": [
    "# g\n",
    "versicolor_sepal_length = iris.data[:,0][is_versicolor]\n",
    "print versicolor_sepal_length"
   ]
  },
  {
   "cell_type": "markdown",
   "metadata": {},
   "source": [
    "Now we have to make use of the realization that once you know how to do something for one thing, you can do it for all. Automation! Looping! (Remember! Laziness is a virtue! Or at least, it *can* be...)\n",
    "\n",
    "**h)** Make a for loop where you will calculate mean and std for every one of the three species."
   ]
  },
  {
   "cell_type": "code",
   "execution_count": 16,
   "metadata": {},
   "outputs": [
    {
     "name": "stdout",
     "output_type": "stream",
     "text": [
      "   species\tmean\t std\n",
      "    setosa\t5.84\t0.83\n",
      "versicolor\t5.84\t0.83\n",
      " virginica\t5.84\t0.83\n"
     ]
    }
   ],
   "source": [
    "# h\n",
    "print '%10s\\t%4s\\t%4s' % ('species','mean','std')\n",
    "for n in [0,1,2]:\n",
    "    name = iris.target_names[n]\n",
    "    is_versicolor = iris.target == n\n",
    "    versicolor_sepal_length = iris.data[:,0][is_versicolor]\n",
    "    len_mean = np.mean(sepal_length)\n",
    "    len_std = np.std(sepal_length)\n",
    "    print '%10s\\t%1.2f\\t%1.2f' % (name,len_mean,len_std)\n"
   ]
  },
  {
   "cell_type": "markdown",
   "metadata": {},
   "source": [
    "\n",
    "### Optional: Euclidean distance.\n",
    "\n",
    "The differences between the 150 flowers in the dataset are defined by four measurements. Together, these four numbers can be used to calculate the overall difference between flowers. Differences are often calculated by some 'distance' measure, of which the Euclidean distance is conceptually the simplest and easiest to understand. The Euclidean distance is, as you might have guessed, indeed the geometric distanc between two points, that are defined by coordinates in n-dimensional space. For this dataset, `n=4`. Calculating Euclidean distance you've all done at some time in your past, just think about the <a href=https://en.wikipedia.org/wiki/Pythagorean_theorem>Pythagorean Theorum</a>: \n",
    "\n",
    "$c^2 = a^2 + b^2$\n",
    "\n",
    "Where c is the length of the hypotenuse.\n",
    "\n",
    "Consider the following example, derived from the *Iris* dataset, for only sepal length and width.\n",
    "\n",
    "![Euclidean_dist_explained](Euclidean_dist_example.jpg)\n",
    "\n",
    "\n",
    "We have to obtain the lengths of the two sides connecting at the right angle of the imaginary triangle. Simply subtract the 'x' values of, for instance, the blue and green dot to obtain the length of the horizontal side, and the 'y' values to obtain the length of the vertical side. Doesnt' matter in which order you do this - in case you get a negative number, it's all about the difference and the values get squared anyway. The squares then get summed, and finally the square root is taken:\n",
    "\n",
    "$\\begin{equation}dist_{blue-green} = \\sqrt{(x_{blue}-x_{green})^2 + (y_{blue}-y_{green})^2}\\end{equation}$\n",
    "\n",
    "For the example the values are:\n",
    "\n",
    "$\\begin{equation}dist_{blue-green} = \\sqrt{(5.8-4.6)^2 + (2.7-3.1)^2}\\end{equation}$\n",
    "\n",
    "Again, you can do this with as many features as you like, whether you have 4 or 4 million measurements, the principle is the same.\n",
    "\n",
    "In Numpy, you can very easily perform this trick by subtracting the vectors for each individual (vector of length 4 in the Iris dataset). The resulting vector can then be squared, sum of that vector then taken, and that sum need needs to have the square root taken. Voila...\n",
    "\n",
    "**i)** Calculate Euclidean distance between third and fourth Iris in the Iris dataset."
   ]
  },
  {
   "cell_type": "code",
   "execution_count": 22,
   "metadata": {},
   "outputs": [
    {
     "name": "stdout",
     "output_type": "stream",
     "text": [
      "[ 4.7  3.2  1.3  0.2] [ 4.6  3.1  1.5  0.2]\n",
      "0.244948974278\n"
     ]
    }
   ],
   "source": [
    "# i\n",
    "third_iris = iris.data[2,:]  # Given as example, you need to do same for fourth Iris\n",
    "fourth_iris = iris.data[3,:]\n",
    "sum_dis = sum((third_iris - fourth_iris)**2)\n",
    "e_dis = sum_dis**0.5\n",
    "print e_dis"
   ]
  },
  {
   "cell_type": "markdown",
   "metadata": {},
   "source": [
    "**j)** Do the same for third and 141st Iris. Is the difference bigger or smaller? Why?"
   ]
  },
  {
   "cell_type": "code",
   "execution_count": 23,
   "metadata": {},
   "outputs": [
    {
     "name": "stdout",
     "output_type": "stream",
     "text": [
      "5.22876658496\n"
     ]
    }
   ],
   "source": [
    "# j\n",
    "third_iris = iris.data[2,:]  # Given as example, you need to do same for fourth Iris\n",
    "far_iris = iris.data[140,:]\n",
    "sum_dis = sum((third_iris - far_iris)**2)\n",
    "e_dis = sum_dis**0.5\n",
    "print e_dis\n"
   ]
  },
  {
   "cell_type": "markdown",
   "metadata": {},
   "source": [
    "As you might have expected, there are functions available in Python that can compute Euclidean distance without having to explicitly code it yourself. You can use the function to check that your manual calculations are correct."
   ]
  },
  {
   "cell_type": "code",
   "execution_count": 24,
   "metadata": {},
   "outputs": [
    {
     "name": "stdout",
     "output_type": "stream",
     "text": [
      "0.244948974278\n",
      "5.22876658496\n"
     ]
    }
   ],
   "source": [
    "from scipy.spatial import distance\n",
    "\n",
    "dst_one = distance.euclidean(third_iris,fourth_iris)\n",
    "dst_two = distance.euclidean(third_iris,far_iris)\n",
    "print dst_one\n",
    "print dst_two"
   ]
  },
  {
   "cell_type": "markdown",
   "metadata": {},
   "source": [
    "## Plotting with Matplotlib\n",
    "### Task 3: A very short primer on Matplotlib\n",
    "\n",
    "**Learning goals:**\n",
    "* Explore plotting with Python, particularly with the Matplotlib library\n",
    "* Familiarize yourself with a few basic plotting types, and basic elements of a plot\n",
    "* Learn to set up basic plots, and then extending them by adding more elements.\n",
    "\n",
    "In this section we will explore a few basic properties of Matplotlib and demonstrate how you can make nice figures by just a limited number of lines of code. One of the added learning goals is to explore the extensibility of the Matplotlib code. By adding figure titles, legends, axis labels, and by modifying color and other features of plotted lines and dots, you can make beautiful, publishing grade figures tailored to your needs, and, importantly, automate it without much additional effort."
   ]
  },
  {
   "cell_type": "code",
   "execution_count": 25,
   "metadata": {
    "collapsed": true
   },
   "outputs": [],
   "source": [
    "import matplotlib.pyplot as plt\n",
    "import numpy as np\n",
    "%matplotlib inline"
   ]
  },
  {
   "cell_type": "markdown",
   "metadata": {},
   "source": [
    "Our first demonstration will be on a well-known mathematical operation: taking the sine and cosine of a bunch of values, and then plot the x and y values. For this we first need to have a vector of 'x-coordinates'. Numpy has a neat little function for that, called 'linspace'. The next line of code will produce 100 values between zero and ten, evenly spaced:"
   ]
  },
  {
   "cell_type": "code",
   "execution_count": 26,
   "metadata": {},
   "outputs": [
    {
     "data": {
      "text/plain": [
       "array([  0.        ,   0.1010101 ,   0.2020202 ,   0.3030303 ,\n",
       "         0.4040404 ,   0.50505051,   0.60606061,   0.70707071,\n",
       "         0.80808081,   0.90909091,   1.01010101,   1.11111111,\n",
       "         1.21212121,   1.31313131,   1.41414141,   1.51515152,\n",
       "         1.61616162,   1.71717172,   1.81818182,   1.91919192,\n",
       "         2.02020202,   2.12121212,   2.22222222,   2.32323232,\n",
       "         2.42424242,   2.52525253,   2.62626263,   2.72727273,\n",
       "         2.82828283,   2.92929293,   3.03030303,   3.13131313,\n",
       "         3.23232323,   3.33333333,   3.43434343,   3.53535354,\n",
       "         3.63636364,   3.73737374,   3.83838384,   3.93939394,\n",
       "         4.04040404,   4.14141414,   4.24242424,   4.34343434,\n",
       "         4.44444444,   4.54545455,   4.64646465,   4.74747475,\n",
       "         4.84848485,   4.94949495,   5.05050505,   5.15151515,\n",
       "         5.25252525,   5.35353535,   5.45454545,   5.55555556,\n",
       "         5.65656566,   5.75757576,   5.85858586,   5.95959596,\n",
       "         6.06060606,   6.16161616,   6.26262626,   6.36363636,\n",
       "         6.46464646,   6.56565657,   6.66666667,   6.76767677,\n",
       "         6.86868687,   6.96969697,   7.07070707,   7.17171717,\n",
       "         7.27272727,   7.37373737,   7.47474747,   7.57575758,\n",
       "         7.67676768,   7.77777778,   7.87878788,   7.97979798,\n",
       "         8.08080808,   8.18181818,   8.28282828,   8.38383838,\n",
       "         8.48484848,   8.58585859,   8.68686869,   8.78787879,\n",
       "         8.88888889,   8.98989899,   9.09090909,   9.19191919,\n",
       "         9.29292929,   9.39393939,   9.49494949,   9.5959596 ,\n",
       "         9.6969697 ,   9.7979798 ,   9.8989899 ,  10.        ])"
      ]
     },
     "execution_count": 26,
     "metadata": {},
     "output_type": "execute_result"
    }
   ],
   "source": [
    "x = np.linspace(0,10,100)\n",
    "x"
   ]
  },
  {
   "cell_type": "markdown",
   "metadata": {},
   "source": [
    "Matplotlib supports different coding styles. This can become a bit confusing, so we will only show one today, which is also the one that is most often used. It is in line with the 'Matlab' way of plotting. This is not surprising as <a href=https://en.wikipedia.org/wiki/MATLAB>Matlab</a> has inspired the Python Matplotlib makers. There is also a more 'Pythonesque' way of doing it, which has a number of advantages, but you will see that slightly less often in coding examples (although Matplotlib developers appear to <a href=http://matplotlib.org/faq/usage_faq.html#coding-styles>encourage the object, Python way</a>).\n",
    "\n",
    "The general procedure is as follows: open an 'active' figure. This is usually not strictly necessary in Matlab style, but has a few advantages. First, it explicitly delineates the active plot. And second it allows to modify canvas properties. After activating a canvas, you can add a number of plotting statements, and add other features. After all the elements are added to the active plot, you can display it (or write it to a file).\n",
    "\n",
    "**a)** In the first exercise you will add more features. You can do this by removing the `#` in front of a line of code, or swapping out lines. Eacht time, run the cell, and see what changes. Note also the syntax to define line style and color. 'b' is blue, 'g' is green, and 'r' is red. There are many more. What does '--' do?"
   ]
  },
  {
   "cell_type": "code",
   "execution_count": 27,
   "metadata": {},
   "outputs": [
    {
     "data": {
      "image/png": "[encoded data removed]",
      "text/plain": [
       "<matplotlib.figure.Figure at 0x7f52051190d0>"
      ]
     },
     "metadata": {},
     "output_type": "display_data"
    }
   ],
   "source": [
    "# a\n",
    "plt.figure() # create figure\n",
    "\n",
    "# plt.plot(x,np.sin(x)) # basic plotting function\n",
    "# plt.plot(x,np.cos(x)) # basic plotting function\n",
    "# replace these two lines by:\n",
    "# plt.plot(x,np.sin(x), 'r')   # you can modify colors\n",
    "# plt.plot(x,np.cos(x), '--b') # and line patterns\n",
    "# and then replace these in turn by:\n",
    "plt.plot(x,np.sin(x), 'b',label = 'sin') # 'label' is shown by plt.legend()\n",
    "plt.plot(x,np.cos(x), '--g', label = 'cos') # 'label' is shown by plt.legend()\n",
    "\n",
    "# Then, one by one, add these lines. Observe and report differences.\n",
    "plt.xlim((-1,11))       # change the default limits of the plot, horizontal direction\n",
    "plt.ylim((-1.2,1.2))    # change the default limits of the plot, vertical direction\n",
    "plt.title('This is my title') # add a title to the plot\n",
    "plt.xlabel('X')  # add label for x-axis\n",
    "plt.ylabel('Y')  # add label for y-axis\n",
    "plt.legend() # when activating this, make sure that 'label' is added to plot function!\n",
    "plt.show() # finally: display"
   ]
  },
  {
   "cell_type": "markdown",
   "metadata": {},
   "source": [
    "One of the key concepts of this plotting style is the 'active plotting window' where you can add and modify stuff until you decide to plot. Within a plot you can also add subplots, for instance if you would like to plot the sine and cosine functions in separed graphs. The same principle then holds. Here we demonstrate plotting using different subplots.\n",
    "\n",
    "**b)** For each subplot, add a title, saying either 'sin' or 'cos'. For syntax how to plot a title, see the previous question."
   ]
  },
  {
   "cell_type": "code",
   "execution_count": 28,
   "metadata": {},
   "outputs": [
    {
     "data": {
      "image/png": "[encoded data removed]",
      "text/plain": [
       "<matplotlib.figure.Figure at 0x7f5205116ed0>"
      ]
     },
     "metadata": {},
     "output_type": "display_data"
    }
   ],
   "source": [
    "# b\n",
    "x = np.linspace(0,10,100)\n",
    "plt.figure()\n",
    "plt.subplot(2,1,1)      # subplot: two rows, one column, 1st plot\n",
    "plt.plot(x,np.sin(x))\n",
    "plt.subplot(2,1,2)      # subplot: two rows, one column, 2nd plot\n",
    "plt.plot(x,np.cos(x), '--g')\n",
    "plt.show()"
   ]
  },
  {
   "cell_type": "markdown",
   "metadata": {},
   "source": [
    "**c)** Change the layout of the plot, stacking the sine and cosine plots vertically in stead of horizontally as in the previous plot."
   ]
  },
  {
   "cell_type": "code",
   "execution_count": 29,
   "metadata": {},
   "outputs": [
    {
     "data": {
      "image/png": "[encoded data removed]",
      "text/plain": [
       "<matplotlib.figure.Figure at 0x7f5204cb5710>"
      ]
     },
     "metadata": {},
     "output_type": "display_data"
    }
   ],
   "source": [
    "# c\n",
    "x = np.linspace(0,10,100)\n",
    "plt.figure()\n",
    "plt.subplot(1,2,1)        # modify this line of code and uncomment it\n",
    "plt.plot(x,np.sin(x))\n",
    "plt.subplot(1,2,2)        # modify this line of code and uncomment it\n",
    "plt.plot(x,np.cos(x), '--g')\n",
    "plt.show()"
   ]
  },
  {
   "cell_type": "markdown",
   "metadata": {},
   "source": [
    "### Task 4: Plotting the Iris data\n",
    "\n",
    "**Learning goals:**\n",
    "* Learn to integrate complex data structures in a plotting strategy\n",
    "* Learn to tinker with code to make attractive plots\n",
    "\n",
    "For a more meaningful example, we will explore the *Iris* dataset again. First order of business: import the libraries we will use in this exercise. "
   ]
  },
  {
   "cell_type": "code",
   "execution_count": 30,
   "metadata": {
    "collapsed": true
   },
   "outputs": [],
   "source": [
    "import matplotlib.pyplot as plt  # matplotlib\n",
    "%matplotlib inline              \n",
    "                                 # Jupyter notebook specific 'magic' - figures\n",
    "                                 # will be plotted in the notebook.\n",
    "\n",
    "import numpy as np               # numpy\n",
    "from sklearn import datasets     # import the 'datasets' \n",
    "iris = datasets.load_iris()      # load the iris dataset"
   ]
  },
  {
   "cell_type": "markdown",
   "metadata": {},
   "source": [
    "The next example makes a `scatterplot` of the Iris data: Sepal Lenght vs Sepal Width. Again, the plot is initialized, a plot statement is made (in this case 'scatter'), using first and second columns of the `iris.data` array. Then a title is added.\n",
    "\n",
    "**a)** Modify the code below so that x-axis and y-axis labels are plotted ('Sepal Lenght', 'Sepal Width')"
   ]
  },
  {
   "cell_type": "code",
   "execution_count": 31,
   "metadata": {},
   "outputs": [
    {
     "data": {
      "image/png": "[encoded data removed]",
      "text/plain": [
       "<matplotlib.figure.Figure at 0x7f5204cb5890>"
      ]
     },
     "metadata": {},
     "output_type": "display_data"
    }
   ],
   "source": [
    "# a\n",
    "plt.figure()\n",
    "plt.scatter(iris.data[:,0],iris.data[:,1])\n",
    "plt.title('Iris data: Sepal Length vs Sepal Width')\n",
    "plt.xlabel('Sepal Lenght')\n",
    "plt.ylabel('Sepal Width')\n",
    "plt.show()"
   ]
  },
  {
   "cell_type": "markdown",
   "metadata": {},
   "source": [
    "Now that you know how to make a plot of all Iris samples, you can actually take your solution for Task 2, question h, to sequentially plot the data for the three different species. As you sequentially invoke a plot statement for each species separately, you can modify, for instance, the 'label', which is important for the legend. But also the color of the dots (or anything else if you want; don't hesitate to experiment).\n",
    "\n",
    "**b)** Replace the '?' with the correct variable/vector so that it works. Question: how are label names and dot color dynamically modified?\n"
   ]
  },
  {
   "cell_type": "code",
   "execution_count": 32,
   "metadata": {},
   "outputs": [
    {
     "data": {
      "image/png": "[encoded data removed]",
      "text/plain": [
       "<matplotlib.figure.Figure at 0x7f5204cad850>"
      ]
     },
     "metadata": {},
     "output_type": "display_data"
    }
   ],
   "source": [
    "# b\n",
    "colors = ['blue','red','green']\n",
    "plt.figure()\n",
    "for i in range(3):\n",
    "    sepal_length = iris.data[:,0][iris.target==i]\n",
    "    sepal_width = iris.data[:,1][iris.target==i]\n",
    "    plt.scatter(sepal_length,sepal_width, label = iris.target_names[i], c=colors[i] ) # replace '?'\n",
    "plt.title('Iris data: Sepal Length vs Sepal Width')\n",
    "plt.xlabel('Sepal Lenght')\n",
    "plt.ylabel('Sepal Width')\n",
    "plt.legend()\n",
    "plt.show()"
   ]
  },
  {
   "cell_type": "markdown",
   "metadata": {},
   "source": [
    "So far we have seen 'plot' and 'scatter' functions. There are many other [plotting functions](https://matplotlib.org/api/pyplot_summary.html), such as the 'bar', 'boxplot', and 'histogram'. There is no time to explore them all. One we will explore for the Iris data is the histogram. One of the interesting features of the *Iris* data set is that you can not distinghuis the three species on any single character alone. Every feature has a distribion which overlaps with another species. Let's explore the distribution of 'Sepal Length' for I. versicolor: "
   ]
  },
  {
   "cell_type": "code",
   "execution_count": 33,
   "metadata": {},
   "outputs": [
    {
     "data": {
      "image/png": "[encoded data removed]",
      "text/plain": [
       "<matplotlib.figure.Figure at 0x7f5204a7b6d0>"
      ]
     },
     "metadata": {},
     "output_type": "display_data"
    }
   ],
   "source": [
    "# plot histogram of sepal lengths.\n",
    "plt.figure()\n",
    "plt.hist(iris.data[iris.target ==1,0], color='blue', alpha = 0.9, label = 'versicolor')\n",
    "plt.title('Iris data, histogram of Sepal Length')\n",
    "plt.legend()\n",
    "plt.show()"
   ]
  },
  {
   "cell_type": "markdown",
   "metadata": {},
   "source": [
    "**c)** Now add one line, similar to the second line of code in the previous cell, so that you add *I. setosa* to this plot. Make sure you have appropriate species and column from the iris.data array! And modify the line so that 'label' and color are changed, maybe change it to red? **Also note the 'alpha' parameter. You can set it to a value between 0 and 1**. It changes the transparancy. **Play** with it a bit to create a histogram that you like most. "
   ]
  },
  {
   "cell_type": "code",
   "execution_count": 34,
   "metadata": {},
   "outputs": [
    {
     "data": {
      "image/png": "[encoded data removed]",
      "text/plain": [
       "<matplotlib.figure.Figure at 0x7f5204935510>"
      ]
     },
     "metadata": {},
     "output_type": "display_data"
    }
   ],
   "source": [
    "# c\n",
    "plt.figure()\n",
    "plt.subplot(1,2,1)\n",
    "plt.hist(iris.data[iris.target ==1,0], color='blue', alpha = 0.8, label = 'versicolor')\n",
    "# ADD LINE OF CODE HERE\n",
    "plt.subplot(1,2,2)\n",
    "plt.hist(iris.data[iris.target ==2,0], color='green', alpha = 0.8, label = 'setosa')\n",
    "plt.title('Iris data, histogram of Sepal Length')\n",
    "plt.legend()\n",
    "plt.show()"
   ]
  },
  {
   "cell_type": "markdown",
   "metadata": {},
   "source": [
    "## Optional - exploring the Python powertools for powerful data analysis\n",
    "\n",
    "Python has many powerful modules for data analysis, from doing generic statistical analysis, to very specific bioinformatics or numerical manipulations. Examples are BioPython (Python for Bioinformatics), SciPy (Scientific Python), and SciKitLearn, which contains many machine learning tools. All of these rely heavily on Numpy, which in itself already contains many options for mathematical analysis. \n",
    "\n",
    "Here we will show you two examples. These examples have two main learning goals:\n",
    "- Demonstrate the use of Python for numerical analysis\n",
    "- Show how you can implement these tools in your own project\n",
    "\n",
    "### Basic regression analysis - tutorial\n",
    "\n",
    "Chances are that you have done some basic statistics in other courses, and may even have applied some of these in programs such as excel. Python has many tools for doing basic mathematical operations, including statistics. In this example we will compute the correlation coefficient, and the slope and intercept of the regression line. We will then plot the values but also the fitted line. "
   ]
  },
  {
   "cell_type": "code",
   "execution_count": 35,
   "metadata": {},
   "outputs": [
    {
     "name": "stdout",
     "output_type": "stream",
     "text": [
      "['setosa' 'versicolor' 'virginica']\n",
      "Correlation coefficient: 0.53\n"
     ]
    },
    {
     "data": {
      "image/png": "[encoded data removed]",
      "text/plain": [
       "<matplotlib.figure.Figure at 0x7f5204793690>"
      ]
     },
     "metadata": {},
     "output_type": "display_data"
    }
   ],
   "source": [
    "print(iris.target_names)\n",
    "\n",
    "# some code to extract sepal length and width for only versicolor\n",
    "versicolor = iris.target == 1\n",
    "versicolor_data = iris.data[versicolor,:]\n",
    "versicolor_sepal_length = versicolor_data[:,0]\n",
    "versicolor_sepal_width = versicolor_data[:,1]\n",
    "\n",
    "# calculate correlation coefficient\n",
    "cf = np.corrcoef(versicolor_sepal_length, versicolor_sepal_width)[0,1]\n",
    "print('Correlation coefficient: %.2f' % (cf))\n",
    "\n",
    "# and calculate the slope and intercept of the linear regression line\n",
    "slope,intercept = np.polyfit(versicolor_sepal_length,versicolor_sepal_width,1)\n",
    "\n",
    "# initialize a figure; adapt canvas size to needs\n",
    "plt.figure(figsize = (8,5))\n",
    "\n",
    "# plotting of the data points; feel free to make prettyer.\n",
    "plt.scatter(versicolor_sepal_length,versicolor_sepal_width)\n",
    "\n",
    "# plot the regression line. We do that by first taking a bunch\n",
    "# of points on the x-axis, for min and max values of versicolor\n",
    "x = np.linspace(versicolor_sepal_length.min(),versicolor_sepal_length.max(),10)\n",
    "\n",
    "# then we add the line by 'plot'. Note that the y-values are transformed\n",
    "# based on slope and intercept as calculated above. Note that label of the\n",
    "# line has the correlation coefficient too.\n",
    "plt.plot(x,x*slope+intercept, c='red',linewidth = 2, label = 'Cor. coef = %.2f' % (cf))\n",
    "\n",
    "# Make a bit more pretty.\n",
    "plt.title(\"Versicolor sepal length and width\", fontsize = 20)\n",
    "plt.xlabel(\"Sepal length (cm)\")\n",
    "plt.ylabel(\"Sepal width (cm)\")\n",
    "plt.legend(fontsize=14)\n",
    "\n",
    "# Save to file\n",
    "plt.savefig('versicolor_sepaldims.jpg')\n",
    "# And show in notebook too.\n",
    "plt.show()"
   ]
  },
  {
   "cell_type": "markdown",
   "metadata": {},
   "source": [
    "### Principal component analysis - tutorial\n",
    "\n",
    " If you have many different features, i.e. measurements of plant structures such as flower, or genotypes, or any other type of measurement, then looking at variation in that many-dimensional space is very hard or impossible.  <a href=http://setosa.io/ev/principal-component-analysis/>PCA is often applied to reduce the complexity of measurements</a>. The theory of principal component analysis is really beyond the scope of this tutorial, but what should be taken home from this tutirial is that tools exist in Python to do PCA and many, many more types of analisis. Another important point is that, very often, these methods are very easy to implement, at least from a programming perspective. In the next example, the PCA analysis takes **exactly** one line of code. The rest is for importing packages and for plotting. And, honestly, the majority of the lines of code for plotting are for making it more pretty :D."
   ]
  },
  {
   "cell_type": "code",
   "execution_count": 36,
   "metadata": {},
   "outputs": [
    {
     "data": {
      "image/png": "[encoded data removed]",
      "text/plain": [
       "<matplotlib.figure.Figure at 0x7f52047ec690>"
      ]
     },
     "metadata": {},
     "output_type": "display_data"
    }
   ],
   "source": [
    "from sklearn.decomposition import PCA\n",
    "\n",
    "pca_m =PCA(n_components=3).fit_transform(iris.data)\n",
    "\n",
    "colors = ['red','blue','green']\n",
    "plt.figure(figsize=(8,5))\n",
    "for i in range(3):\n",
    "    \n",
    "    plt.scatter(pca_m[iris.target == i,0],pca_m[iris.target == i,1], \n",
    "                label = iris.target_names[i], c = colors[i])\n",
    "\n",
    "plt.title(\"PCA on Iris data\", fontsize = 20)\n",
    "plt.xlabel(\"PC 1\")\n",
    "plt.ylabel(\"PC 2\")\n",
    "plt.legend(fontsize =14)\n",
    "plt.savefig(\"Iris_PCA.jpg\")\n",
    "plt.show()"
   ]
  },
  {
   "cell_type": "markdown",
   "metadata": {},
   "source": [
    "## Dataframes \n",
    "### Task 5: A short primer on Dataframes using Pandas\n",
    "\n",
    "**Learning goals:**\n",
    "* Understand the properties of a data frame, and how that differs from an array\n",
    "* Explore the power of Pandas for numerical data manipulation and analysis\n",
    "\n",
    "Arrays and vectors are incredibly powerful structures for numerical data analysis. In some languages, such as R, arrays and vectors are primary data types, which in large part explains the appeal of R for statistical data analysis - well, in fact that language has numerical data analysis as primary focus. Numpy has done much the same for Python, and Python for instance is quite popular in physics research and there is a trend that Python is replacing other languages/programming environments, such as Matlab.\n",
    "\n",
    "Arrays and vectors, however, also show a fundamental limitation: they can only hold a single data type, and that data type is usually numerical. consider the following example:"
   ]
  },
  {
   "cell_type": "code",
   "execution_count": 37,
   "metadata": {},
   "outputs": [
    {
     "data": {
      "text/plain": [
       "['some random string', 1, 0.3]"
      ]
     },
     "execution_count": 37,
     "metadata": {},
     "output_type": "execute_result"
    }
   ],
   "source": [
    "my_list = ['some random string', 1, 0.3]\n",
    "my_list"
   ]
  },
  {
   "cell_type": "markdown",
   "metadata": {},
   "source": [
    "`my_list` is a list that holds three elements, each of different type: a string, integer, and float. Now consider what happens next:"
   ]
  },
  {
   "cell_type": "code",
   "execution_count": 38,
   "metadata": {},
   "outputs": [
    {
     "data": {
      "text/plain": [
       "array(['some random string', '1', '0.3'], \n",
       "      dtype='|S18')"
      ]
     },
     "execution_count": 38,
     "metadata": {},
     "output_type": "execute_result"
    }
   ],
   "source": [
    "np.array(my_list)"
   ]
  },
  {
   "cell_type": "markdown",
   "metadata": {},
   "source": [
    "Numpy arrays always have a single type. Since one of the elements from the list is a string, that requires the rest to be of type string as well, because a string can not be converted (meaningfully) to a numerical value.\n",
    "\n",
    "When we supply a list of integers, on the other hand, a numpy array of type integer can be made:"
   ]
  },
  {
   "cell_type": "code",
   "execution_count": 39,
   "metadata": {},
   "outputs": [
    {
     "name": "stdout",
     "output_type": "stream",
     "text": [
      "int64\n"
     ]
    },
    {
     "data": {
      "text/plain": [
       "array([1, 1, 1])"
      ]
     },
     "execution_count": 39,
     "metadata": {},
     "output_type": "execute_result"
    }
   ],
   "source": [
    "my_list= [1,1,1]\n",
    "my_vector = np.array(my_list)\n",
    "print my_vector.dtype \n",
    "my_vector"
   ]
  },
  {
   "cell_type": "markdown",
   "metadata": {},
   "source": [
    "Note that by default integers in Python take 64 bits. If you have many integers in an array, say hundreds of millions, but each of the integers is small (smaller than 256, in fact), you can get away with explicitly converting to 8-bit integers. This saves 8 times the memory. This is important for working with bit-mapped pictures, but can also be relevant for DNA data, if you code your bases simply 0,1,2,3.\n",
    "\n",
    "Now, again, numpy arrays can only have a single type, so when all values are numerical, but not all are integers:"
   ]
  },
  {
   "cell_type": "code",
   "execution_count": 40,
   "metadata": {
    "scrolled": true
   },
   "outputs": [
    {
     "name": "stdout",
     "output_type": "stream",
     "text": [
      "float64\n"
     ]
    },
    {
     "data": {
      "text/plain": [
       "array([ 1.,  1.,  1.])"
      ]
     },
     "execution_count": 40,
     "metadata": {},
     "output_type": "execute_result"
    }
   ],
   "source": [
    "my_list= [1.0,1,1]\n",
    "my_vector = np.array(my_list)\n",
    "print my_vector.dtype\n",
    "my_vector"
   ]
  },
  {
   "cell_type": "markdown",
   "metadata": {},
   "source": [
    "So, arrays and vectors don't allow you to mix data types, but lists do. \n",
    "\n",
    "In practise, many of the data sets we are likely to encounter are organized in a column-separated fashion ('tables'), ie. have a 'matrix-like' lay-out, which could make them suitable for manipulation and computation in arrays. However, tables often have a mix of data types. Our Crane data set is a good case in point. To accomodate this type of dataset, you need to use the Data Frame. If that sounds arcane, it shouldn't. There is no doubt you have worked with data frames before. Just think of 'Excel sheets'.\n",
    "\n",
    "Data frames are usually organized as a collection of named vectors or lists. Each column represents one data type, that holds for instance integers, and which has a name attached to it seperately which can be a string. Different columns can have different data types, such as string or float, but within each column, the data type is the same, allowing for optimal efficiency of working with the data per column. \n",
    "\n",
    "Data frames, like arrays, although internally always of compounded types, are basic data structures in some languages, such as R and Matlab. In Python too, it was recognized that with the Numpy and SciPy modules in place and very popular, there was a need to support dataframes. For this purpose the Pandas module was created. \n",
    "\n",
    "Like dataframes in other languages, the Pandas dataframe supports slicing and indexing, although the syntax to do that requires a bit of practice. However the same holds for languages like R, and, in fact, the dataframe syntax of Pandas is quite similar, although there are some quirks (although it can be argued that these quirks make the Pandas dataframe more easily sliceable than the R dataframes). Since the Pandas dataframe internally consists of Numpy vectors, all the mathematics tools and efficiency that people have come to love in Numpy are built into Pandas as well.\n",
    "\n",
    "Let's start this part on Pandas with the Iris dataset, but now, instead of getting it from a built-in package, we'll load it directly from an excel sheet. \n",
    "\n",
    "*Caveat emptor: like with every strategy where you want to load an entire datastructure into memory, this could go south quite significantly if your dataset is huge. Like, seriously crashing your computer. So pay attention to the size of your input data. There are some interesting 'Out of Memory' solutions that are compatible with Pandas to deal with very large arrays, such as hdf5-based arrays, but these are several parsecs beyond the scope of this practical.*"
   ]
  },
  {
   "cell_type": "code",
   "execution_count": 41,
   "metadata": {
    "collapsed": true
   },
   "outputs": [],
   "source": [
    "import pandas as pd # the most accepted way of importing the pandas package\n"
   ]
  },
  {
   "cell_type": "markdown",
   "metadata": {},
   "source": [
    "**a)** Explore the `pd` object. Find a method/function that can load the `Iris.xlsx` data into a dataframe with variable name `iris_pd`."
   ]
  },
  {
   "cell_type": "code",
   "execution_count": 42,
   "metadata": {
    "collapsed": true
   },
   "outputs": [],
   "source": [
    "#a\n",
    "iris_pd = pd.read_excel('Iris.xlsx') # apply appropriate method"
   ]
  },
  {
   "cell_type": "markdown",
   "metadata": {},
   "source": [
    "**b)** Now that you have loaded the Iris data into the `iris_pd` dataframe, the `iris_pd` object has Pandas-specific methods that allow you to do things with it. One of the things is to show just the first lines of the table, much like the 'head' command in the shell. Explore your `iris_pd` dataframe for a method that might do just that, and apply it. "
   ]
  },
  {
   "cell_type": "code",
   "execution_count": 43,
   "metadata": {},
   "outputs": [
    {
     "data": {
      "text/html": [
       "<div>\n",
       "<style>\n",
       "    .dataframe thead tr:only-child th {\n",
       "        text-align: right;\n",
       "    }\n",
       "\n",
       "    .dataframe thead th {\n",
       "        text-align: left;\n",
       "    }\n",
       "\n",
       "    .dataframe tbody tr th {\n",
       "        vertical-align: top;\n",
       "    }\n",
       "</style>\n",
       "<table border=\"1\" class=\"dataframe\">\n",
       "  <thead>\n",
       "    <tr style=\"text-align: right;\">\n",
       "      <th></th>\n",
       "      <th>species</th>\n",
       "      <th>sepal length (cm)</th>\n",
       "      <th>sepal width (cm)</th>\n",
       "      <th>petal length (cm)</th>\n",
       "      <th>petal width (cm)</th>\n",
       "    </tr>\n",
       "  </thead>\n",
       "  <tbody>\n",
       "    <tr>\n",
       "      <th>0</th>\n",
       "      <td>setosa</td>\n",
       "      <td>5.1</td>\n",
       "      <td>3.5</td>\n",
       "      <td>1.4</td>\n",
       "      <td>0.2</td>\n",
       "    </tr>\n",
       "    <tr>\n",
       "      <th>1</th>\n",
       "      <td>setosa</td>\n",
       "      <td>4.9</td>\n",
       "      <td>3.0</td>\n",
       "      <td>1.4</td>\n",
       "      <td>0.2</td>\n",
       "    </tr>\n",
       "    <tr>\n",
       "      <th>2</th>\n",
       "      <td>setosa</td>\n",
       "      <td>4.7</td>\n",
       "      <td>3.2</td>\n",
       "      <td>1.3</td>\n",
       "      <td>0.2</td>\n",
       "    </tr>\n",
       "    <tr>\n",
       "      <th>3</th>\n",
       "      <td>setosa</td>\n",
       "      <td>4.6</td>\n",
       "      <td>3.1</td>\n",
       "      <td>1.5</td>\n",
       "      <td>0.2</td>\n",
       "    </tr>\n",
       "    <tr>\n",
       "      <th>4</th>\n",
       "      <td>setosa</td>\n",
       "      <td>5.0</td>\n",
       "      <td>3.6</td>\n",
       "      <td>1.4</td>\n",
       "      <td>0.2</td>\n",
       "    </tr>\n",
       "  </tbody>\n",
       "</table>\n",
       "</div>"
      ],
      "text/plain": [
       "  species  sepal length (cm)  sepal width (cm)  petal length (cm)  \\\n",
       "0  setosa                5.1               3.5                1.4   \n",
       "1  setosa                4.9               3.0                1.4   \n",
       "2  setosa                4.7               3.2                1.3   \n",
       "3  setosa                4.6               3.1                1.5   \n",
       "4  setosa                5.0               3.6                1.4   \n",
       "\n",
       "   petal width (cm)  \n",
       "0               0.2  \n",
       "1               0.2  \n",
       "2               0.2  \n",
       "3               0.2  \n",
       "4               0.2  "
      ]
     },
     "execution_count": 43,
     "metadata": {},
     "output_type": "execute_result"
    }
   ],
   "source": [
    "# b\n",
    "iris_pd.head()"
   ]
  },
  {
   "cell_type": "markdown",
   "metadata": {},
   "source": [
    "As with arrays, it is very easy to retrieve a single column of data. To extract the column that holds the sepal length measurements, you simply do the following:\n"
   ]
  },
  {
   "cell_type": "code",
   "execution_count": 44,
   "metadata": {
    "collapsed": true
   },
   "outputs": [],
   "source": [
    "iris_sepal_length_pd = iris_pd['sepal length (cm)']"
   ]
  },
  {
   "cell_type": "markdown",
   "metadata": {},
   "source": [
    "You might have noticed that the syntax is very similar to extracting a value from a dictionary by supplying a key to the dictionary. That is not a co-incidence: the Pandas dataframe organizes the different columns very much like items in a dictionary. \n",
    "\n",
    "**c)** Explore properties of the `iris_sepal_length_pd` object. What type is it? Can you determine its shape?"
   ]
  },
  {
   "cell_type": "code",
   "execution_count": 45,
   "metadata": {},
   "outputs": [
    {
     "name": "stdout",
     "output_type": "stream",
     "text": [
      "<class 'pandas.core.series.Series'>\n",
      "float64\n",
      "(150,)\n"
     ]
    }
   ],
   "source": [
    "# c\n",
    "print type(iris_sepal_length_pd)\n",
    "print iris_sepal_length_pd.dtype\n",
    "print iris_sepal_length_pd.shape"
   ]
  },
  {
   "cell_type": "markdown",
   "metadata": {},
   "source": [
    "**d)** Calculate mean and std of sepal length. See if there are methods in the object that can do this for you."
   ]
  },
  {
   "cell_type": "code",
   "execution_count": 47,
   "metadata": {},
   "outputs": [
    {
     "name": "stdout",
     "output_type": "stream",
     "text": [
      "5.84333333333\n",
      "0.828066127978\n"
     ]
    }
   ],
   "source": [
    "# d\n",
    "\n",
    "# Mean\n",
    "print iris_sepal_length_pd.mean()\n",
    "\n",
    "# Std\n",
    "print iris_sepal_length_pd.std()"
   ]
  },
  {
   "cell_type": "markdown",
   "metadata": {},
   "source": [
    "To extract rows, use loc (or iloc). The loc method works similar for selecting values as you saw earlier in Numpy arrays. There is one difference: you can use (lists of) column names as keys (for rows too, if you have named rows, which we don't have here). But you can also use index values, which can be a slice, a numpy array with row numbers, or Boolean vector.\n",
    "```Python\n",
    "iris_pd.loc[?,['species','sepal length (cm)','sepal width (cm)']]\n",
    "```\n",
    "\n",
    "Where the '?' is a placeholder for the rows to select. \n",
    "\n",
    "**e)** Replace the '?' with a 'slice' that returns the first 5 rows."
   ]
  },
  {
   "cell_type": "code",
   "execution_count": 50,
   "metadata": {},
   "outputs": [
    {
     "data": {
      "text/html": [
       "<div>\n",
       "<style>\n",
       "    .dataframe thead tr:only-child th {\n",
       "        text-align: right;\n",
       "    }\n",
       "\n",
       "    .dataframe thead th {\n",
       "        text-align: left;\n",
       "    }\n",
       "\n",
       "    .dataframe tbody tr th {\n",
       "        vertical-align: top;\n",
       "    }\n",
       "</style>\n",
       "<table border=\"1\" class=\"dataframe\">\n",
       "  <thead>\n",
       "    <tr style=\"text-align: right;\">\n",
       "      <th></th>\n",
       "      <th>species</th>\n",
       "      <th>sepal length (cm)</th>\n",
       "      <th>sepal width (cm)</th>\n",
       "    </tr>\n",
       "  </thead>\n",
       "  <tbody>\n",
       "    <tr>\n",
       "      <th>0</th>\n",
       "      <td>setosa</td>\n",
       "      <td>5.1</td>\n",
       "      <td>3.5</td>\n",
       "    </tr>\n",
       "    <tr>\n",
       "      <th>1</th>\n",
       "      <td>setosa</td>\n",
       "      <td>4.9</td>\n",
       "      <td>3.0</td>\n",
       "    </tr>\n",
       "    <tr>\n",
       "      <th>2</th>\n",
       "      <td>setosa</td>\n",
       "      <td>4.7</td>\n",
       "      <td>3.2</td>\n",
       "    </tr>\n",
       "    <tr>\n",
       "      <th>3</th>\n",
       "      <td>setosa</td>\n",
       "      <td>4.6</td>\n",
       "      <td>3.1</td>\n",
       "    </tr>\n",
       "    <tr>\n",
       "      <th>4</th>\n",
       "      <td>setosa</td>\n",
       "      <td>5.0</td>\n",
       "      <td>3.6</td>\n",
       "    </tr>\n",
       "  </tbody>\n",
       "</table>\n",
       "</div>"
      ],
      "text/plain": [
       "  species  sepal length (cm)  sepal width (cm)\n",
       "0  setosa                5.1               3.5\n",
       "1  setosa                4.9               3.0\n",
       "2  setosa                4.7               3.2\n",
       "3  setosa                4.6               3.1\n",
       "4  setosa                5.0               3.6"
      ]
     },
     "execution_count": 50,
     "metadata": {},
     "output_type": "execute_result"
    }
   ],
   "source": [
    "# e\n",
    "iris_pd.loc[:4,['species','sepal length (cm)','sepal width (cm)']] # replace '?'"
   ]
  },
  {
   "cell_type": "markdown",
   "metadata": {},
   "source": [
    "**f)** Replace the '?' with a numpy array with values to retrieve only lines 1,3,5,141 and 142 in the data frame. "
   ]
  },
  {
   "cell_type": "code",
   "execution_count": 51,
   "metadata": {},
   "outputs": [
    {
     "data": {
      "text/html": [
       "<div>\n",
       "<style>\n",
       "    .dataframe thead tr:only-child th {\n",
       "        text-align: right;\n",
       "    }\n",
       "\n",
       "    .dataframe thead th {\n",
       "        text-align: left;\n",
       "    }\n",
       "\n",
       "    .dataframe tbody tr th {\n",
       "        vertical-align: top;\n",
       "    }\n",
       "</style>\n",
       "<table border=\"1\" class=\"dataframe\">\n",
       "  <thead>\n",
       "    <tr style=\"text-align: right;\">\n",
       "      <th></th>\n",
       "      <th>species</th>\n",
       "      <th>sepal length (cm)</th>\n",
       "      <th>sepal width (cm)</th>\n",
       "    </tr>\n",
       "  </thead>\n",
       "  <tbody>\n",
       "    <tr>\n",
       "      <th>1</th>\n",
       "      <td>setosa</td>\n",
       "      <td>4.9</td>\n",
       "      <td>3.0</td>\n",
       "    </tr>\n",
       "    <tr>\n",
       "      <th>3</th>\n",
       "      <td>setosa</td>\n",
       "      <td>4.6</td>\n",
       "      <td>3.1</td>\n",
       "    </tr>\n",
       "    <tr>\n",
       "      <th>5</th>\n",
       "      <td>setosa</td>\n",
       "      <td>5.4</td>\n",
       "      <td>3.9</td>\n",
       "    </tr>\n",
       "    <tr>\n",
       "      <th>141</th>\n",
       "      <td>virginica</td>\n",
       "      <td>6.9</td>\n",
       "      <td>3.1</td>\n",
       "    </tr>\n",
       "    <tr>\n",
       "      <th>142</th>\n",
       "      <td>virginica</td>\n",
       "      <td>5.8</td>\n",
       "      <td>2.7</td>\n",
       "    </tr>\n",
       "  </tbody>\n",
       "</table>\n",
       "</div>"
      ],
      "text/plain": [
       "       species  sepal length (cm)  sepal width (cm)\n",
       "1       setosa                4.9               3.0\n",
       "3       setosa                4.6               3.1\n",
       "5       setosa                5.4               3.9\n",
       "141  virginica                6.9               3.1\n",
       "142  virginica                5.8               2.7"
      ]
     },
     "execution_count": 51,
     "metadata": {},
     "output_type": "execute_result"
    }
   ],
   "source": [
    "# f\n",
    "line_code = np.array([1,3,5,141,142])\n",
    "iris_pd.loc[line_code,['species','sepal length (cm)','sepal width (cm)']] # replace '?'"
   ]
  },
  {
   "cell_type": "markdown",
   "metadata": {},
   "source": [
    "**g)** To extract only the *I. setosa* samples from the data frame, replace the index in the previous cell with a Boolean vector (or, in this case, Pandas series), based on this statement:\n",
    "```Python\n",
    "iris_pd['species'] == 'setosa'\n",
    "```\n",
    "As usual, if you don't quite understand each step, break it down. You can always catch any outcome of code (well, if it returns an object), in a variable and explore it further."
   ]
  },
  {
   "cell_type": "code",
   "execution_count": 52,
   "metadata": {},
   "outputs": [
    {
     "data": {
      "text/plain": [
       "0     5.1\n",
       "1     4.9\n",
       "2     4.7\n",
       "3     4.6\n",
       "4     5.0\n",
       "5     5.4\n",
       "6     4.6\n",
       "7     5.0\n",
       "8     4.4\n",
       "9     4.9\n",
       "10    5.4\n",
       "11    4.8\n",
       "12    4.8\n",
       "13    4.3\n",
       "14    5.8\n",
       "15    5.7\n",
       "16    5.4\n",
       "17    5.1\n",
       "18    5.7\n",
       "19    5.1\n",
       "20    5.4\n",
       "21    5.1\n",
       "22    4.6\n",
       "23    5.1\n",
       "24    4.8\n",
       "25    5.0\n",
       "26    5.0\n",
       "27    5.2\n",
       "28    5.2\n",
       "29    4.7\n",
       "30    4.8\n",
       "31    5.4\n",
       "32    5.2\n",
       "33    5.5\n",
       "34    4.9\n",
       "35    5.0\n",
       "36    5.5\n",
       "37    4.9\n",
       "38    4.4\n",
       "39    5.1\n",
       "40    5.0\n",
       "41    4.5\n",
       "42    4.4\n",
       "43    5.0\n",
       "44    5.1\n",
       "45    4.8\n",
       "46    5.1\n",
       "47    4.6\n",
       "48    5.3\n",
       "49    5.0\n",
       "Name: sepal length (cm), dtype: float64"
      ]
     },
     "execution_count": 52,
     "metadata": {},
     "output_type": "execute_result"
    }
   ],
   "source": [
    "# g\n",
    "iris_pd.loc[iris_pd['species'] == 'setosa','sepal length (cm)'] # replace '?'"
   ]
  },
  {
   "cell_type": "markdown",
   "metadata": {},
   "source": [
    "Next, a little demonstration of adding a column. We can calculate the ratio between sepal sength and sepal width and store it in an additional column, called 'ratio':"
   ]
  },
  {
   "cell_type": "code",
   "execution_count": 53,
   "metadata": {
    "collapsed": true
   },
   "outputs": [],
   "source": [
    "iris_pd['ratio'] = iris_pd['sepal length (cm)']/iris_pd['sepal width (cm)']"
   ]
  },
  {
   "cell_type": "markdown",
   "metadata": {},
   "source": [
    "**h)** Show the first 10 lines of the data frame, and show the dimensions ('shape'). What has changed? Is this an 'in-place' addition, i.e. can a data frame be changed?"
   ]
  },
  {
   "cell_type": "code",
   "execution_count": 54,
   "metadata": {},
   "outputs": [
    {
     "data": {
      "text/html": [
       "<div>\n",
       "<style>\n",
       "    .dataframe thead tr:only-child th {\n",
       "        text-align: right;\n",
       "    }\n",
       "\n",
       "    .dataframe thead th {\n",
       "        text-align: left;\n",
       "    }\n",
       "\n",
       "    .dataframe tbody tr th {\n",
       "        vertical-align: top;\n",
       "    }\n",
       "</style>\n",
       "<table border=\"1\" class=\"dataframe\">\n",
       "  <thead>\n",
       "    <tr style=\"text-align: right;\">\n",
       "      <th></th>\n",
       "      <th>species</th>\n",
       "      <th>sepal length (cm)</th>\n",
       "      <th>sepal width (cm)</th>\n",
       "      <th>petal length (cm)</th>\n",
       "      <th>petal width (cm)</th>\n",
       "      <th>ratio</th>\n",
       "    </tr>\n",
       "  </thead>\n",
       "  <tbody>\n",
       "    <tr>\n",
       "      <th>0</th>\n",
       "      <td>setosa</td>\n",
       "      <td>5.1</td>\n",
       "      <td>3.5</td>\n",
       "      <td>1.4</td>\n",
       "      <td>0.2</td>\n",
       "      <td>1.457143</td>\n",
       "    </tr>\n",
       "    <tr>\n",
       "      <th>1</th>\n",
       "      <td>setosa</td>\n",
       "      <td>4.9</td>\n",
       "      <td>3.0</td>\n",
       "      <td>1.4</td>\n",
       "      <td>0.2</td>\n",
       "      <td>1.633333</td>\n",
       "    </tr>\n",
       "    <tr>\n",
       "      <th>2</th>\n",
       "      <td>setosa</td>\n",
       "      <td>4.7</td>\n",
       "      <td>3.2</td>\n",
       "      <td>1.3</td>\n",
       "      <td>0.2</td>\n",
       "      <td>1.468750</td>\n",
       "    </tr>\n",
       "    <tr>\n",
       "      <th>3</th>\n",
       "      <td>setosa</td>\n",
       "      <td>4.6</td>\n",
       "      <td>3.1</td>\n",
       "      <td>1.5</td>\n",
       "      <td>0.2</td>\n",
       "      <td>1.483871</td>\n",
       "    </tr>\n",
       "    <tr>\n",
       "      <th>4</th>\n",
       "      <td>setosa</td>\n",
       "      <td>5.0</td>\n",
       "      <td>3.6</td>\n",
       "      <td>1.4</td>\n",
       "      <td>0.2</td>\n",
       "      <td>1.388889</td>\n",
       "    </tr>\n",
       "    <tr>\n",
       "      <th>5</th>\n",
       "      <td>setosa</td>\n",
       "      <td>5.4</td>\n",
       "      <td>3.9</td>\n",
       "      <td>1.7</td>\n",
       "      <td>0.4</td>\n",
       "      <td>1.384615</td>\n",
       "    </tr>\n",
       "    <tr>\n",
       "      <th>6</th>\n",
       "      <td>setosa</td>\n",
       "      <td>4.6</td>\n",
       "      <td>3.4</td>\n",
       "      <td>1.4</td>\n",
       "      <td>0.3</td>\n",
       "      <td>1.352941</td>\n",
       "    </tr>\n",
       "    <tr>\n",
       "      <th>7</th>\n",
       "      <td>setosa</td>\n",
       "      <td>5.0</td>\n",
       "      <td>3.4</td>\n",
       "      <td>1.5</td>\n",
       "      <td>0.2</td>\n",
       "      <td>1.470588</td>\n",
       "    </tr>\n",
       "    <tr>\n",
       "      <th>8</th>\n",
       "      <td>setosa</td>\n",
       "      <td>4.4</td>\n",
       "      <td>2.9</td>\n",
       "      <td>1.4</td>\n",
       "      <td>0.2</td>\n",
       "      <td>1.517241</td>\n",
       "    </tr>\n",
       "    <tr>\n",
       "      <th>9</th>\n",
       "      <td>setosa</td>\n",
       "      <td>4.9</td>\n",
       "      <td>3.1</td>\n",
       "      <td>1.5</td>\n",
       "      <td>0.1</td>\n",
       "      <td>1.580645</td>\n",
       "    </tr>\n",
       "    <tr>\n",
       "      <th>10</th>\n",
       "      <td>setosa</td>\n",
       "      <td>5.4</td>\n",
       "      <td>3.7</td>\n",
       "      <td>1.5</td>\n",
       "      <td>0.2</td>\n",
       "      <td>1.459459</td>\n",
       "    </tr>\n",
       "  </tbody>\n",
       "</table>\n",
       "</div>"
      ],
      "text/plain": [
       "   species  sepal length (cm)  sepal width (cm)  petal length (cm)  \\\n",
       "0   setosa                5.1               3.5                1.4   \n",
       "1   setosa                4.9               3.0                1.4   \n",
       "2   setosa                4.7               3.2                1.3   \n",
       "3   setosa                4.6               3.1                1.5   \n",
       "4   setosa                5.0               3.6                1.4   \n",
       "5   setosa                5.4               3.9                1.7   \n",
       "6   setosa                4.6               3.4                1.4   \n",
       "7   setosa                5.0               3.4                1.5   \n",
       "8   setosa                4.4               2.9                1.4   \n",
       "9   setosa                4.9               3.1                1.5   \n",
       "10  setosa                5.4               3.7                1.5   \n",
       "\n",
       "    petal width (cm)     ratio  \n",
       "0                0.2  1.457143  \n",
       "1                0.2  1.633333  \n",
       "2                0.2  1.468750  \n",
       "3                0.2  1.483871  \n",
       "4                0.2  1.388889  \n",
       "5                0.4  1.384615  \n",
       "6                0.3  1.352941  \n",
       "7                0.2  1.470588  \n",
       "8                0.2  1.517241  \n",
       "9                0.1  1.580645  \n",
       "10               0.2  1.459459  "
      ]
     },
     "execution_count": 54,
     "metadata": {},
     "output_type": "execute_result"
    }
   ],
   "source": [
    "# h\n",
    "iris_pd.loc[:10]"
   ]
  },
  {
   "cell_type": "markdown",
   "metadata": {},
   "source": [
    "### Optional - a tiny tutorial of how to add rows.\n",
    "\n",
    "Let's say we'd like to add a final row that has the means of the four measurements. We can see that at the end of the data frame, the row index is at 149 (due to starting at 0)."
   ]
  },
  {
   "cell_type": "code",
   "execution_count": 55,
   "metadata": {},
   "outputs": [
    {
     "data": {
      "text/html": [
       "<div>\n",
       "<style>\n",
       "    .dataframe thead tr:only-child th {\n",
       "        text-align: right;\n",
       "    }\n",
       "\n",
       "    .dataframe thead th {\n",
       "        text-align: left;\n",
       "    }\n",
       "\n",
       "    .dataframe tbody tr th {\n",
       "        vertical-align: top;\n",
       "    }\n",
       "</style>\n",
       "<table border=\"1\" class=\"dataframe\">\n",
       "  <thead>\n",
       "    <tr style=\"text-align: right;\">\n",
       "      <th></th>\n",
       "      <th>species</th>\n",
       "      <th>sepal length (cm)</th>\n",
       "      <th>sepal width (cm)</th>\n",
       "      <th>petal length (cm)</th>\n",
       "      <th>petal width (cm)</th>\n",
       "      <th>ratio</th>\n",
       "    </tr>\n",
       "  </thead>\n",
       "  <tbody>\n",
       "    <tr>\n",
       "      <th>145</th>\n",
       "      <td>virginica</td>\n",
       "      <td>6.7</td>\n",
       "      <td>3.0</td>\n",
       "      <td>5.2</td>\n",
       "      <td>2.3</td>\n",
       "      <td>2.233333</td>\n",
       "    </tr>\n",
       "    <tr>\n",
       "      <th>146</th>\n",
       "      <td>virginica</td>\n",
       "      <td>6.3</td>\n",
       "      <td>2.5</td>\n",
       "      <td>5.0</td>\n",
       "      <td>1.9</td>\n",
       "      <td>2.520000</td>\n",
       "    </tr>\n",
       "    <tr>\n",
       "      <th>147</th>\n",
       "      <td>virginica</td>\n",
       "      <td>6.5</td>\n",
       "      <td>3.0</td>\n",
       "      <td>5.2</td>\n",
       "      <td>2.0</td>\n",
       "      <td>2.166667</td>\n",
       "    </tr>\n",
       "    <tr>\n",
       "      <th>148</th>\n",
       "      <td>virginica</td>\n",
       "      <td>6.2</td>\n",
       "      <td>3.4</td>\n",
       "      <td>5.4</td>\n",
       "      <td>2.3</td>\n",
       "      <td>1.823529</td>\n",
       "    </tr>\n",
       "    <tr>\n",
       "      <th>149</th>\n",
       "      <td>virginica</td>\n",
       "      <td>5.9</td>\n",
       "      <td>3.0</td>\n",
       "      <td>5.1</td>\n",
       "      <td>1.8</td>\n",
       "      <td>1.966667</td>\n",
       "    </tr>\n",
       "  </tbody>\n",
       "</table>\n",
       "</div>"
      ],
      "text/plain": [
       "       species  sepal length (cm)  sepal width (cm)  petal length (cm)  \\\n",
       "145  virginica                6.7               3.0                5.2   \n",
       "146  virginica                6.3               2.5                5.0   \n",
       "147  virginica                6.5               3.0                5.2   \n",
       "148  virginica                6.2               3.4                5.4   \n",
       "149  virginica                5.9               3.0                5.1   \n",
       "\n",
       "     petal width (cm)     ratio  \n",
       "145               2.3  2.233333  \n",
       "146               1.9  2.520000  \n",
       "147               2.0  2.166667  \n",
       "148               2.3  1.823529  \n",
       "149               1.8  1.966667  "
      ]
     },
     "execution_count": 55,
     "metadata": {},
     "output_type": "execute_result"
    }
   ],
   "source": [
    "iris_pd.tail()"
   ]
  },
  {
   "cell_type": "markdown",
   "metadata": {},
   "source": [
    "Which means we want to add a line at number 150. You don't have to count, you can simply use the shape method, and then take the first element, that is the number of rows. Since the row names start at 0, the empty row should in fact fall at 150.\n",
    "\n",
    "Another useful attribute of the data frame is the 'columns' attribute, which holds the column names. We want to use the four lengths and widths. So we can take just those four, loop through them, and for each calculate the mean and add it to the dataframe, at the right column and at row 150:"
   ]
  },
  {
   "cell_type": "code",
   "execution_count": 56,
   "metadata": {
    "collapsed": true
   },
   "outputs": [],
   "source": [
    "\n",
    "newrownumber = iris_pd.shape[0]\n",
    "\n",
    "for colname in iris_pd.columns[1:5]:\n",
    "    iris_pd.loc[newrownumber,colname] = iris_pd[colname].mean()\n"
   ]
  },
  {
   "cell_type": "markdown",
   "metadata": {},
   "source": [
    "If you want to see if something's changed:"
   ]
  },
  {
   "cell_type": "code",
   "execution_count": 57,
   "metadata": {},
   "outputs": [
    {
     "data": {
      "text/html": [
       "<div>\n",
       "<style>\n",
       "    .dataframe thead tr:only-child th {\n",
       "        text-align: right;\n",
       "    }\n",
       "\n",
       "    .dataframe thead th {\n",
       "        text-align: left;\n",
       "    }\n",
       "\n",
       "    .dataframe tbody tr th {\n",
       "        vertical-align: top;\n",
       "    }\n",
       "</style>\n",
       "<table border=\"1\" class=\"dataframe\">\n",
       "  <thead>\n",
       "    <tr style=\"text-align: right;\">\n",
       "      <th></th>\n",
       "      <th>species</th>\n",
       "      <th>sepal length (cm)</th>\n",
       "      <th>sepal width (cm)</th>\n",
       "      <th>petal length (cm)</th>\n",
       "      <th>petal width (cm)</th>\n",
       "      <th>ratio</th>\n",
       "    </tr>\n",
       "  </thead>\n",
       "  <tbody>\n",
       "    <tr>\n",
       "      <th>146</th>\n",
       "      <td>virginica</td>\n",
       "      <td>6.300000</td>\n",
       "      <td>2.500</td>\n",
       "      <td>5.000000</td>\n",
       "      <td>1.900000</td>\n",
       "      <td>2.520000</td>\n",
       "    </tr>\n",
       "    <tr>\n",
       "      <th>147</th>\n",
       "      <td>virginica</td>\n",
       "      <td>6.500000</td>\n",
       "      <td>3.000</td>\n",
       "      <td>5.200000</td>\n",
       "      <td>2.000000</td>\n",
       "      <td>2.166667</td>\n",
       "    </tr>\n",
       "    <tr>\n",
       "      <th>148</th>\n",
       "      <td>virginica</td>\n",
       "      <td>6.200000</td>\n",
       "      <td>3.400</td>\n",
       "      <td>5.400000</td>\n",
       "      <td>2.300000</td>\n",
       "      <td>1.823529</td>\n",
       "    </tr>\n",
       "    <tr>\n",
       "      <th>149</th>\n",
       "      <td>virginica</td>\n",
       "      <td>5.900000</td>\n",
       "      <td>3.000</td>\n",
       "      <td>5.100000</td>\n",
       "      <td>1.800000</td>\n",
       "      <td>1.966667</td>\n",
       "    </tr>\n",
       "    <tr>\n",
       "      <th>150</th>\n",
       "      <td>NaN</td>\n",
       "      <td>5.843333</td>\n",
       "      <td>3.054</td>\n",
       "      <td>3.758667</td>\n",
       "      <td>1.198667</td>\n",
       "      <td>NaN</td>\n",
       "    </tr>\n",
       "  </tbody>\n",
       "</table>\n",
       "</div>"
      ],
      "text/plain": [
       "       species  sepal length (cm)  sepal width (cm)  petal length (cm)  \\\n",
       "146  virginica           6.300000             2.500           5.000000   \n",
       "147  virginica           6.500000             3.000           5.200000   \n",
       "148  virginica           6.200000             3.400           5.400000   \n",
       "149  virginica           5.900000             3.000           5.100000   \n",
       "150        NaN           5.843333             3.054           3.758667   \n",
       "\n",
       "     petal width (cm)     ratio  \n",
       "146          1.900000  2.520000  \n",
       "147          2.000000  2.166667  \n",
       "148          2.300000  1.823529  \n",
       "149          1.800000  1.966667  \n",
       "150          1.198667       NaN  "
      ]
     },
     "execution_count": 57,
     "metadata": {},
     "output_type": "execute_result"
    }
   ],
   "source": [
    "iris_pd.tail()"
   ]
  },
  {
   "cell_type": "markdown",
   "metadata": {},
   "source": [
    "## Optional: A tiny demo of Cranes and Pandas\n",
    "\n",
    "Remember that the 'Cranes' data has comma-separated values. Although not a tiny dataset, it is still small enough to be read entirely into a dataframe (there are certainly datasets in MoveDB that are WAY too big for this!).\n",
    "\n",
    "Conveniently, Pandas has a function to read csv files:"
   ]
  },
  {
   "cell_type": "code",
   "execution_count": 58,
   "metadata": {
    "collapsed": true
   },
   "outputs": [],
   "source": [
    "Cranes = pd.read_csv(\"GPS_telemetry_of_Common_Cranes_Sweden.csv\")"
   ]
  },
  {
   "cell_type": "markdown",
   "metadata": {},
   "source": [
    "Looking at the first 10 lines will show you some familiar data."
   ]
  },
  {
   "cell_type": "code",
   "execution_count": 59,
   "metadata": {},
   "outputs": [
    {
     "data": {
      "text/html": [
       "<div>\n",
       "<style>\n",
       "    .dataframe thead tr:only-child th {\n",
       "        text-align: right;\n",
       "    }\n",
       "\n",
       "    .dataframe thead th {\n",
       "        text-align: left;\n",
       "    }\n",
       "\n",
       "    .dataframe tbody tr th {\n",
       "        vertical-align: top;\n",
       "    }\n",
       "</style>\n",
       "<table border=\"1\" class=\"dataframe\">\n",
       "  <thead>\n",
       "    <tr style=\"text-align: right;\">\n",
       "      <th></th>\n",
       "      <th>event-id</th>\n",
       "      <th>visible</th>\n",
       "      <th>timestamp</th>\n",
       "      <th>location-long</th>\n",
       "      <th>location-lat</th>\n",
       "      <th>argos:altitude</th>\n",
       "      <th>gps:hdop</th>\n",
       "      <th>ground-speed</th>\n",
       "      <th>heading</th>\n",
       "      <th>tag-tech-spec</th>\n",
       "      <th>tag-voltage</th>\n",
       "      <th>sensor-type</th>\n",
       "      <th>individual-taxon-canonical-name</th>\n",
       "      <th>tag-local-identifier</th>\n",
       "      <th>individual-local-identifier</th>\n",
       "      <th>study-name</th>\n",
       "    </tr>\n",
       "  </thead>\n",
       "  <tbody>\n",
       "    <tr>\n",
       "      <th>0</th>\n",
       "      <td>250386109</td>\n",
       "      <td>True</td>\n",
       "      <td>2013-07-12 04:10:14.000</td>\n",
       "      <td>13.352400</td>\n",
       "      <td>57.334150</td>\n",
       "      <td>NaN</td>\n",
       "      <td>NaN</td>\n",
       "      <td>NaN</td>\n",
       "      <td>NaN</td>\n",
       "      <td>NaN</td>\n",
       "      <td>NaN</td>\n",
       "      <td>gps</td>\n",
       "      <td>Grus grus</td>\n",
       "      <td>8621</td>\n",
       "      <td>8621</td>\n",
       "      <td>GPS telemetry of Common Cranes, Sweden</td>\n",
       "    </tr>\n",
       "    <tr>\n",
       "      <th>1</th>\n",
       "      <td>250386110</td>\n",
       "      <td>True</td>\n",
       "      <td>2013-07-12 04:24:05.000</td>\n",
       "      <td>13.352072</td>\n",
       "      <td>57.333359</td>\n",
       "      <td>210.0</td>\n",
       "      <td>1.7</td>\n",
       "      <td>0.257</td>\n",
       "      <td>0.0</td>\n",
       "      <td>3.0</td>\n",
       "      <td>4.18</td>\n",
       "      <td>gps</td>\n",
       "      <td>Grus grus</td>\n",
       "      <td>8621</td>\n",
       "      <td>8621</td>\n",
       "      <td>GPS telemetry of Common Cranes, Sweden</td>\n",
       "    </tr>\n",
       "    <tr>\n",
       "      <th>2</th>\n",
       "      <td>250386111</td>\n",
       "      <td>True</td>\n",
       "      <td>2013-07-12 04:38:51.000</td>\n",
       "      <td>13.352212</td>\n",
       "      <td>57.333355</td>\n",
       "      <td>203.0</td>\n",
       "      <td>8.3</td>\n",
       "      <td>0.257</td>\n",
       "      <td>0.0</td>\n",
       "      <td>3.0</td>\n",
       "      <td>4.18</td>\n",
       "      <td>gps</td>\n",
       "      <td>Grus grus</td>\n",
       "      <td>8621</td>\n",
       "      <td>8621</td>\n",
       "      <td>GPS telemetry of Common Cranes, Sweden</td>\n",
       "    </tr>\n",
       "    <tr>\n",
       "      <th>3</th>\n",
       "      <td>250386112</td>\n",
       "      <td>True</td>\n",
       "      <td>2013-07-12 04:53:33.000</td>\n",
       "      <td>13.352979</td>\n",
       "      <td>57.334042</td>\n",
       "      <td>-38.0</td>\n",
       "      <td>2.7</td>\n",
       "      <td>0.257</td>\n",
       "      <td>0.0</td>\n",
       "      <td>2.0</td>\n",
       "      <td>4.18</td>\n",
       "      <td>gps</td>\n",
       "      <td>Grus grus</td>\n",
       "      <td>8621</td>\n",
       "      <td>8621</td>\n",
       "      <td>GPS telemetry of Common Cranes, Sweden</td>\n",
       "    </tr>\n",
       "    <tr>\n",
       "      <th>4</th>\n",
       "      <td>250386113</td>\n",
       "      <td>True</td>\n",
       "      <td>2013-07-12 05:08:33.000</td>\n",
       "      <td>13.352137</td>\n",
       "      <td>57.333359</td>\n",
       "      <td>190.0</td>\n",
       "      <td>3.0</td>\n",
       "      <td>0.257</td>\n",
       "      <td>0.0</td>\n",
       "      <td>3.0</td>\n",
       "      <td>4.18</td>\n",
       "      <td>gps</td>\n",
       "      <td>Grus grus</td>\n",
       "      <td>8621</td>\n",
       "      <td>8621</td>\n",
       "      <td>GPS telemetry of Common Cranes, Sweden</td>\n",
       "    </tr>\n",
       "  </tbody>\n",
       "</table>\n",
       "</div>"
      ],
      "text/plain": [
       "    event-id  visible                timestamp  location-long  location-lat  \\\n",
       "0  250386109     True  2013-07-12 04:10:14.000      13.352400     57.334150   \n",
       "1  250386110     True  2013-07-12 04:24:05.000      13.352072     57.333359   \n",
       "2  250386111     True  2013-07-12 04:38:51.000      13.352212     57.333355   \n",
       "3  250386112     True  2013-07-12 04:53:33.000      13.352979     57.334042   \n",
       "4  250386113     True  2013-07-12 05:08:33.000      13.352137     57.333359   \n",
       "\n",
       "   argos:altitude  gps:hdop  ground-speed  heading  tag-tech-spec  \\\n",
       "0             NaN       NaN           NaN      NaN            NaN   \n",
       "1           210.0       1.7         0.257      0.0            3.0   \n",
       "2           203.0       8.3         0.257      0.0            3.0   \n",
       "3           -38.0       2.7         0.257      0.0            2.0   \n",
       "4           190.0       3.0         0.257      0.0            3.0   \n",
       "\n",
       "   tag-voltage sensor-type individual-taxon-canonical-name  \\\n",
       "0          NaN         gps                       Grus grus   \n",
       "1         4.18         gps                       Grus grus   \n",
       "2         4.18         gps                       Grus grus   \n",
       "3         4.18         gps                       Grus grus   \n",
       "4         4.18         gps                       Grus grus   \n",
       "\n",
       "   tag-local-identifier  individual-local-identifier  \\\n",
       "0                  8621                         8621   \n",
       "1                  8621                         8621   \n",
       "2                  8621                         8621   \n",
       "3                  8621                         8621   \n",
       "4                  8621                         8621   \n",
       "\n",
       "                               study-name  \n",
       "0  GPS telemetry of Common Cranes, Sweden  \n",
       "1  GPS telemetry of Common Cranes, Sweden  \n",
       "2  GPS telemetry of Common Cranes, Sweden  \n",
       "3  GPS telemetry of Common Cranes, Sweden  \n",
       "4  GPS telemetry of Common Cranes, Sweden  "
      ]
     },
     "execution_count": 59,
     "metadata": {},
     "output_type": "execute_result"
    }
   ],
   "source": [
    "Cranes.head()"
   ]
  },
  {
   "cell_type": "markdown",
   "metadata": {},
   "source": [
    "Remember we made you count observations per bird by using a shell script? Let's do something similar, but now with Pandas. For this, we take all the IDs, turn them into a list, and count the number of occurences in a list. Python has a very handy tool for counting."
   ]
  },
  {
   "cell_type": "code",
   "execution_count": 60,
   "metadata": {},
   "outputs": [
    {
     "data": {
      "text/plain": [
       "Counter({47: 623,\n",
       "         7558: 35262,\n",
       "         8621: 17429,\n",
       "         8647: 51055,\n",
       "         8878: 4070,\n",
       "         8886: 42197,\n",
       "         8902: 2576,\n",
       "         9175: 5730,\n",
       "         9233: 53116,\n",
       "         9381: 99397,\n",
       "         9399: 2335,\n",
       "         9407: 35099,\n",
       "         9423: 5540,\n",
       "         9449: 162,\n",
       "         9456: 37286,\n",
       "         9472: 61180,\n",
       "         9480: 65753,\n",
       "         9498: 688,\n",
       "         9514: 2268,\n",
       "         9613: 501})"
      ]
     },
     "execution_count": 60,
     "metadata": {},
     "output_type": "execute_result"
    }
   ],
   "source": [
    "crane_ids = list(Cranes['individual-local-identifier'])\n",
    "from collections import Counter\n",
    "Counter(crane_ids)"
   ]
  },
  {
   "cell_type": "code",
   "execution_count": 61,
   "metadata": {},
   "outputs": [
    {
     "data": {
      "image/png": "[encoded data removed]",
      "text/plain": [
       "<matplotlib.figure.Figure at 0x7f51f5462050>"
      ]
     },
     "metadata": {},
     "output_type": "display_data"
    }
   ],
   "source": [
    "\n",
    "birdID = 9472\n",
    "plt.figure(figsize = (10,10))\n",
    "\n",
    "plt.scatter(Cranes.loc[Cranes['individual-local-identifier'] == birdID, 'location-long'],\n",
    "            Cranes.loc[Cranes['individual-local-identifier'] == birdID, 'location-lat'],\n",
    "           label = '%d' % (birdID))\n",
    "\n",
    "plt.xlabel('longitude', fontsize = 20)\n",
    "plt.ylabel('latitude', fontsize = 20)\n",
    "plt.title('Migration for Crane %d' % (birdID), fontsize = 28)\n",
    "plt.legend(fontsize = 20)\n",
    "plt.show()"
   ]
  },
  {
   "cell_type": "markdown",
   "metadata": {
    "collapsed": true
   },
   "source": [
    "What does this plot show? What would you really like to have plotted as well? A map perhaps? Not to worry, if you are interested in this, you can make this into a project for the last week!\n",
    "\n",
    "*Final note on Pandas: Pandas does have a built-in library for plotting. However, since there is already much that will be confusing even dealing with just one plotting method (and, as mentioned, even Matplotlib has already 2!) I don't want to bother you with it here. Furthermore, Matplotlibs options are far more extensive, and all the Pandas datastructures are compatible with Matplotlib anyway. *\n",
    "\n",
    "## Further reading:\n",
    "- [matplotlib website](https://matplotlib.org/)\n",
    "- [matplotlib examples](https://matplotlib.org/gallery.html)\n",
    "- [Pandas](http://pandas.pydata.org/)\n",
    "- [Python data science handbook (O'Reilly) - recommended](http://a.co/2jL2pqf)\n"
   ]
  }
 ],
 "metadata": {
  "kernelspec": {
   "display_name": "Python 2",
   "language": "python",
   "name": "python2"
  },
  "language_info": {
   "codemirror_mode": {
    "name": "ipython",
    "version": 2
   },
   "file_extension": ".py",
   "mimetype": "text/x-python",
   "name": "python",
   "nbconvert_exporter": "python",
   "pygments_lexer": "ipython2",
   "version": "2.7.13"
  },
  "latex_envs": {
   "LaTeX_envs_menu_present": true,
   "autocomplete": true,
   "bibliofile": "biblio.bib",
   "cite_by": "apalike",
   "current_citInitial": 1,
   "eqLabelWithNumbers": true,
   "eqNumInitial": 1,
   "hotkeys": {
    "equation": "Ctrl-E",
    "itemize": "Ctrl-I"
   },
   "labels_anchors": false,
   "latex_user_defs": false,
   "report_style_numbering": false,
   "user_envs_cfg": false
  }
 },
 "nbformat": 4,
 "nbformat_minor": 1
}
