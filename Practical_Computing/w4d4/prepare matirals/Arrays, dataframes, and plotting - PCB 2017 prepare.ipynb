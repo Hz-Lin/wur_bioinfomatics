{
 "cells": [
  {
   "cell_type": "markdown",
   "metadata": {},
   "source": [
    "# <span style=\"color: Steelblue\"> Arrays, dataframes, and plotting </span>\n",
    "## <span style=\"color: Steelblue\"> A short primer on Numpy, Pandas, and Matplotlib </span>\n",
    "\n",
    ">Jupyter Notebook: **'Arrays, dataframes & plotting with Python'**\n",
    "\n",
    ">Goal: first steps with Numpy, Matplotlib & Pandas\n",
    "\n",
    ">By: H.J. Megens\n",
    "\n",
    ">Where you can reach me: hendrik-jan.megens -at- wur.nl\n",
    "\n",
    ">Last modified: 26 September 2017"
   ]
  },
  {
   "cell_type": "markdown",
   "metadata": {},
   "source": [
    "## Arrays and basic Numpy\n",
    "\n",
    "Arrays are one-dimensional (vectors), two-dimensional, or multidimensional datastructures that hold data. One characteristic of arrays is that they only hold one type of data (usually numerical, either int or float, but strings work too). Numpy has a specialized package for working with numerical array data, called Numpy. Numpy is extremely efficient in working with numerical data and has many built-in methods for mathematical operations. Numpy is one of the major reasons Python has become very important in the 'Data Analytics' wave, also known as 'Big Data' revolution, and sometimes referred to as 'machine learning'. Here you will briefly explore a few characteristics of Numpy."
   ]
  },
  {
   "cell_type": "markdown",
   "metadata": {},
   "source": [
    "### Basic properties of vectors and arrays\n"
   ]
  },
  {
   "cell_type": "code",
   "execution_count": 1,
   "metadata": {
    "collapsed": true
   },
   "outputs": [],
   "source": [
    "# Cell #1\n",
    "# First we import the numpy module\n",
    "import numpy as np # accepted convention of importing numpy"
   ]
  },
  {
   "cell_type": "code",
   "execution_count": 2,
   "metadata": {
    "collapsed": false
   },
   "outputs": [
    {
     "name": "stdout",
     "output_type": "stream",
     "text": [
      "[1 2 3]\n",
      "int64\n"
     ]
    }
   ],
   "source": [
    "# Cell #2\n",
    "# How to make a numpy array ...\n",
    "# ... or rather a 1-dim vector\n",
    "a = np.array([1,2,3])\n",
    "print(a)  # see what it contains\n",
    "print(a.dtype) # see what datatype the array is"
   ]
  },
  {
   "cell_type": "code",
   "execution_count": 3,
   "metadata": {
    "collapsed": false
   },
   "outputs": [
    {
     "data": {
      "text/plain": [
       "array([4, 5, 6])"
      ]
     },
     "execution_count": 3,
     "metadata": {},
     "output_type": "execute_result"
    }
   ],
   "source": [
    "# Cell #3\n",
    "# an another one...\n",
    "b = np.array([4,5,6])\n",
    "b"
   ]
  },
  {
   "cell_type": "code",
   "execution_count": 4,
   "metadata": {
    "collapsed": false
   },
   "outputs": [
    {
     "data": {
      "text/plain": [
       "array([5, 7, 9])"
      ]
     },
     "execution_count": 4,
     "metadata": {},
     "output_type": "execute_result"
    }
   ],
   "source": [
    "# Cell #4\n",
    "# doing simple mathematical operations is easy-peasy.\n",
    "a + b"
   ]
  },
  {
   "cell_type": "code",
   "execution_count": 5,
   "metadata": {
    "collapsed": false
   },
   "outputs": [
    {
     "data": {
      "text/plain": [
       "[1, 2, 3, 4, 5, 6]"
      ]
     },
     "execution_count": 5,
     "metadata": {},
     "output_type": "execute_result"
    }
   ],
   "source": [
    "# Cell #5\n",
    "# Just note how different this behavior is from working with normal lists:\n",
    "a_list = [1,2,3]\n",
    "b_list = [4,5,6]\n",
    "a_list + b_list"
   ]
  },
  {
   "cell_type": "code",
   "execution_count": 6,
   "metadata": {
    "collapsed": true
   },
   "outputs": [],
   "source": [
    "# Cell #6\n",
    "# Concatenating matrices or vectors\n",
    "# This is an example of a so-called 'vertical-stack'\n",
    "# Other options are 'hstack' - horizontal - and 'dstack'\n",
    "c = np.vstack((a,b))"
   ]
  },
  {
   "cell_type": "code",
   "execution_count": 7,
   "metadata": {
    "collapsed": false
   },
   "outputs": [
    {
     "data": {
      "text/plain": [
       "array([[1, 2, 3],\n",
       "       [4, 5, 6]])"
      ]
     },
     "execution_count": 7,
     "metadata": {},
     "output_type": "execute_result"
    }
   ],
   "source": [
    "# Cell #7\n",
    "# show contents of c\n",
    "c"
   ]
  },
  {
   "cell_type": "code",
   "execution_count": 8,
   "metadata": {
    "collapsed": false
   },
   "outputs": [
    {
     "data": {
      "text/plain": [
       "2"
      ]
     },
     "execution_count": 8,
     "metadata": {},
     "output_type": "execute_result"
    }
   ],
   "source": [
    "# Cell #8\n",
    "# get the value of the first row, and second column\n",
    "c[0,1]"
   ]
  },
  {
   "cell_type": "code",
   "execution_count": 9,
   "metadata": {
    "collapsed": false
   },
   "outputs": [
    {
     "data": {
      "text/plain": [
       "2"
      ]
     },
     "execution_count": 9,
     "metadata": {},
     "output_type": "execute_result"
    }
   ],
   "source": [
    "# Cell #9\n",
    "# Notice the difference between retrieving elements from\n",
    "# simple lists in simple lists\n",
    "c_list = [[1,2,3],[4,5,6]]\n",
    "# In this case you need to go 'one deeper' into the list\n",
    "c_list[0][1]"
   ]
  },
  {
   "cell_type": "code",
   "execution_count": 10,
   "metadata": {
    "collapsed": true
   },
   "outputs": [],
   "source": [
    "# Cell #10\n",
    "# various mathematical operations can be applied to matrices\n",
    "# for instance squaring\n",
    "d = c**2"
   ]
  },
  {
   "cell_type": "code",
   "execution_count": 11,
   "metadata": {
    "collapsed": false
   },
   "outputs": [
    {
     "data": {
      "text/plain": [
       "array([[ 1,  4,  9],\n",
       "       [16, 25, 36]])"
      ]
     },
     "execution_count": 11,
     "metadata": {},
     "output_type": "execute_result"
    }
   ],
   "source": [
    "# Cell #11\n",
    "# d is again a 3x2 array, now containing the squared values of c\n",
    "d"
   ]
  },
  {
   "cell_type": "code",
   "execution_count": 12,
   "metadata": {
    "collapsed": false
   },
   "outputs": [
    {
     "data": {
      "text/plain": [
       "91"
      ]
     },
     "execution_count": 12,
     "metadata": {},
     "output_type": "execute_result"
    }
   ],
   "source": [
    "# Cell #12\n",
    "# 'd' is a numpy array object, which has several built-in methods, such\n",
    "# as summing the values\n",
    "d.sum()"
   ]
  },
  {
   "cell_type": "code",
   "execution_count": 13,
   "metadata": {
    "collapsed": false
   },
   "outputs": [
    {
     "data": {
      "text/plain": [
       "array([[False, False, False],\n",
       "       [False,  True,  True]], dtype=bool)"
      ]
     },
     "execution_count": 13,
     "metadata": {},
     "output_type": "execute_result"
    }
   ],
   "source": [
    "# Cell #13\n",
    "# larger then?\n",
    "d > 20"
   ]
  },
  {
   "cell_type": "code",
   "execution_count": 14,
   "metadata": {
    "collapsed": false
   },
   "outputs": [
    {
     "data": {
      "text/plain": [
       "array([[ 1, 21,  9],\n",
       "       [16, 25, 36]])"
      ]
     },
     "execution_count": 14,
     "metadata": {},
     "output_type": "execute_result"
    }
   ],
   "source": [
    "# Cell #14\n",
    "# You can change values in an array\n",
    "d[0,1] = 21\n",
    "d"
   ]
  },
  {
   "cell_type": "code",
   "execution_count": 15,
   "metadata": {
    "collapsed": false
   },
   "outputs": [
    {
     "data": {
      "text/plain": [
       "array([[False,  True, False],\n",
       "       [False,  True,  True]], dtype=bool)"
      ]
     },
     "execution_count": 15,
     "metadata": {},
     "output_type": "execute_result"
    }
   ],
   "source": [
    "# Cell #15\n",
    "# Which ones now larger than 20?\n",
    "d > 20"
   ]
  },
  {
   "cell_type": "markdown",
   "metadata": {},
   "source": [
    "### Selecting elements from arrays based on logic values - True or False?\n",
    "\n",
    "Assume you would like to slice a list based on an arbitrary list that simply states 'select yes-or-no'. You could try something like this:"
   ]
  },
  {
   "cell_type": "code",
   "execution_count": 16,
   "metadata": {
    "collapsed": false
   },
   "outputs": [
    {
     "ename": "NameError",
     "evalue": "name 'my_logic_vector' is not defined",
     "output_type": "error",
     "traceback": [
      "\u001b[0;31m---------------------------------------------------------------------------\u001b[0m",
      "\u001b[0;31mNameError\u001b[0m                                 Traceback (most recent call last)",
      "\u001b[0;32m<ipython-input-16-45809022f895>\u001b[0m in \u001b[0;36m<module>\u001b[0;34m()\u001b[0m\n\u001b[1;32m      3\u001b[0m \u001b[0mmylist\u001b[0m \u001b[0;34m=\u001b[0m \u001b[0;34m[\u001b[0m\u001b[0;34m'a'\u001b[0m\u001b[0;34m,\u001b[0m\u001b[0;34m'b'\u001b[0m\u001b[0;34m,\u001b[0m\u001b[0;34m'c'\u001b[0m\u001b[0;34m,\u001b[0m\u001b[0;34m'd'\u001b[0m\u001b[0;34m]\u001b[0m\u001b[0;34m\u001b[0m\u001b[0m\n\u001b[1;32m      4\u001b[0m \u001b[0mmy_logic_list\u001b[0m \u001b[0;34m=\u001b[0m \u001b[0;34m[\u001b[0m\u001b[0mFalse\u001b[0m\u001b[0;34m,\u001b[0m\u001b[0mTrue\u001b[0m\u001b[0;34m,\u001b[0m\u001b[0mTrue\u001b[0m\u001b[0;34m,\u001b[0m\u001b[0mFalse\u001b[0m\u001b[0;34m]\u001b[0m\u001b[0;34m\u001b[0m\u001b[0m\n\u001b[0;32m----> 5\u001b[0;31m \u001b[0mmylist\u001b[0m\u001b[0;34m[\u001b[0m\u001b[0mmy_logic_vector\u001b[0m\u001b[0;34m]\u001b[0m\u001b[0;34m\u001b[0m\u001b[0m\n\u001b[0m",
      "\u001b[0;31mNameError\u001b[0m: name 'my_logic_vector' is not defined"
     ]
    }
   ],
   "source": [
    "# Cell #16\n",
    "\n",
    "mylist = ['a','b','c','d']\n",
    "my_logic_list = [False,True,True,False]\n",
    "mylist[my_logic_vector]\n"
   ]
  },
  {
   "cell_type": "markdown",
   "metadata": {},
   "source": [
    "... but that doesn't work for the standard Python lists, in fact the only way to extract locations from a string or list is to use slices. In this case, because the elements we want to extract are adjacent, we could do the following, but in case the elements you want to select are not adjacent, that won't work."
   ]
  },
  {
   "cell_type": "code",
   "execution_count": 17,
   "metadata": {
    "collapsed": false
   },
   "outputs": [
    {
     "data": {
      "text/plain": [
       "['b', 'c']"
      ]
     },
     "execution_count": 17,
     "metadata": {},
     "output_type": "execute_result"
    }
   ],
   "source": [
    "# Cell 17\n",
    "mylist[1:3]"
   ]
  },
  {
   "cell_type": "markdown",
   "metadata": {},
   "source": [
    "With numpy arrays/vectors, you can select an arbitrary selection of elements, based on supplying a vector (or array) of similar dimensions that contains Booleans `True` or `False` in the order of elements to be selected, or not selected. For instance:"
   ]
  },
  {
   "cell_type": "code",
   "execution_count": 18,
   "metadata": {
    "collapsed": false
   },
   "outputs": [
    {
     "data": {
      "text/plain": [
       "array(['b', 'c'], \n",
       "      dtype='|S1')"
      ]
     },
     "execution_count": 18,
     "metadata": {},
     "output_type": "execute_result"
    }
   ],
   "source": [
    "# Cell 18\n",
    "myvec = np.array(['a','b','c','d'])\n",
    "my_logic_vector = np.array([False,True,True,False])\n",
    "myvec[my_logic_vector]"
   ]
  },
  {
   "cell_type": "markdown",
   "metadata": {},
   "source": [
    "Just to note, Numpy arrays can be transformed to standard Python lists, and vice versa. For instance:"
   ]
  },
  {
   "cell_type": "code",
   "execution_count": 19,
   "metadata": {
    "collapsed": false
   },
   "outputs": [
    {
     "data": {
      "text/plain": [
       "['b', 'c']"
      ]
     },
     "execution_count": 19,
     "metadata": {},
     "output_type": "execute_result"
    }
   ],
   "source": [
    "# Cell 19\n",
    "selection = list(myvec[my_logic_vector])\n",
    "selection"
   ]
  },
  {
   "cell_type": "markdown",
   "metadata": {},
   "source": [
    "You might wonder: \"So what?\". What's so great about this type of selecting elements in a vector or array. Well, consider this example, where you might be interested in selecting only the numbers in the array that are larger than 8:"
   ]
  },
  {
   "cell_type": "code",
   "execution_count": 20,
   "metadata": {
    "collapsed": false
   },
   "outputs": [
    {
     "data": {
      "text/plain": [
       "array([ True, False, False,  True], dtype=bool)"
      ]
     },
     "execution_count": 20,
     "metadata": {},
     "output_type": "execute_result"
    }
   ],
   "source": [
    "# Cell 20\n",
    "myvec = np.array([10, 5.0, 7, 15])\n",
    "myvec > 8"
   ]
  },
  {
   "cell_type": "markdown",
   "metadata": {},
   "source": [
    "The code above results in an array, of data type Boolean. First and last elements are indeed larger than 8, the two middle ones are not. This Boolean array can subsequently be passed back into the original array (or vector) to then only show the elements that are `True`."
   ]
  },
  {
   "cell_type": "code",
   "execution_count": 21,
   "metadata": {
    "collapsed": false
   },
   "outputs": [
    {
     "data": {
      "text/plain": [
       "array([ 10.,  15.])"
      ]
     },
     "execution_count": 21,
     "metadata": {},
     "output_type": "execute_result"
    }
   ],
   "source": [
    "# Cell 21\n",
    "myvec[myvec>8]"
   ]
  },
  {
   "cell_type": "markdown",
   "metadata": {},
   "source": [
    "Note that all elements are of type float. You can't mix types in a Numpy array, we'll come back to that in the section 'Dataframes'. \n",
    "\n",
    "You can also construct composite logical expressions, for instance:"
   ]
  },
  {
   "cell_type": "code",
   "execution_count": 22,
   "metadata": {
    "collapsed": false
   },
   "outputs": [
    {
     "data": {
      "text/plain": [
       "array([ 10.])"
      ]
     },
     "execution_count": 22,
     "metadata": {},
     "output_type": "execute_result"
    }
   ],
   "source": [
    "# Cell 22\n",
    "myvec[(myvec > 8) & (myvec < 12)]"
   ]
  },
  {
   "cell_type": "markdown",
   "metadata": {},
   "source": [
    "As before, this works because of the Boolean vector created by the two tests: number larger than 8 `AND` smaller than 12. "
   ]
  },
  {
   "cell_type": "code",
   "execution_count": 23,
   "metadata": {
    "collapsed": false
   },
   "outputs": [
    {
     "data": {
      "text/plain": [
       "array([ True, False, False, False], dtype=bool)"
      ]
     },
     "execution_count": 23,
     "metadata": {},
     "output_type": "execute_result"
    }
   ],
   "source": [
    "# Cell 23\n",
    "(myvec > 8) & (myvec < 12)"
   ]
  },
  {
   "cell_type": "markdown",
   "metadata": {},
   "source": [
    "## The *Iris* dataset\n",
    "\n",
    "![iris species](iris_species.jpg)\n",
    "The *Iris* dataset is one of the classic biological datasets, created by the famous geneticist R.A. Fisher. The data is derived from measurements on flowers of three *Iris* species: *I. versicolor*, *I. setosa*, and *I. virginica*. The dataset contains four measurements per flower: sepal length and width, and petal length and width.\n",
    "\n",
    "![Iris flower](Iris_flower.jpg)\n",
    "\n",
    "The data set is often used to demonstrate or benchmark machine-learning techniques. For more information on the *Iris* dataset, visit the <a href=https://en.wikipedia.org/wiki/Iris_flower_data_set>Wikipedia page</a>.\n",
    "\n",
    "Because the *Iris* data set is small, and often used for demonstrating machine learning techniques, it is often bundled in analytical packages for languages often used in data science, such as R and Python. In Python, the most used package for machine learning is the Scikit-learn package. \n",
    "\n",
    "We will first load the dataset and explore some of its properties. "
   ]
  },
  {
   "cell_type": "code",
   "execution_count": 24,
   "metadata": {
    "collapsed": false
   },
   "outputs": [],
   "source": [
    "# Cell 22\n",
    "\n",
    "import numpy as np  # import numpy\n",
    "from sklearn import datasets # import the 'datasets' \n",
    "iris = datasets.load_iris()"
   ]
  },
  {
   "cell_type": "markdown",
   "metadata": {},
   "source": [
    "The Scikit-Learn data packages have a specific structure which you don't need to remember. However, you can always use the `dir()` function on any object to investigate which methods are available. For now, we will focus on the `.keys()` method, which tells us that the datastructure is a bit like a dictionary."
   ]
  },
  {
   "cell_type": "code",
   "execution_count": 25,
   "metadata": {
    "collapsed": false
   },
   "outputs": [
    {
     "data": {
      "text/plain": [
       "['target_names', 'data', 'target', 'DESCR', 'feature_names']"
      ]
     },
     "execution_count": 25,
     "metadata": {},
     "output_type": "execute_result"
    }
   ],
   "source": [
    "iris.keys()"
   ]
  },
  {
   "cell_type": "markdown",
   "metadata": {},
   "source": [
    "You will see the different 'items' in the data package. Let's explore them. One is called 'DESCR', and hold a description of the data package. Curious what it has to say? Just do:"
   ]
  },
  {
   "cell_type": "code",
   "execution_count": 26,
   "metadata": {
    "collapsed": false
   },
   "outputs": [
    {
     "name": "stdout",
     "output_type": "stream",
     "text": [
      "Iris Plants Database\n",
      "\n",
      "Notes\n",
      "-----\n",
      "Data Set Characteristics:\n",
      "    :Number of Instances: 150 (50 in each of three classes)\n",
      "    :Number of Attributes: 4 numeric, predictive attributes and the class\n",
      "    :Attribute Information:\n",
      "        - sepal length in cm\n",
      "        - sepal width in cm\n",
      "        - petal length in cm\n",
      "        - petal width in cm\n",
      "        - class:\n",
      "                - Iris-Setosa\n",
      "                - Iris-Versicolour\n",
      "                - Iris-Virginica\n",
      "    :Summary Statistics:\n",
      "\n",
      "    ============== ==== ==== ======= ===== ====================\n",
      "                    Min  Max   Mean    SD   Class Correlation\n",
      "    ============== ==== ==== ======= ===== ====================\n",
      "    sepal length:   4.3  7.9   5.84   0.83    0.7826\n",
      "    sepal width:    2.0  4.4   3.05   0.43   -0.4194\n",
      "    petal length:   1.0  6.9   3.76   1.76    0.9490  (high!)\n",
      "    petal width:    0.1  2.5   1.20  0.76     0.9565  (high!)\n",
      "    ============== ==== ==== ======= ===== ====================\n",
      "\n",
      "    :Missing Attribute Values: None\n",
      "    :Class Distribution: 33.3% for each of 3 classes.\n",
      "    :Creator: R.A. Fisher\n",
      "    :Donor: Michael Marshall (MARSHALL%PLU@io.arc.nasa.gov)\n",
      "    :Date: July, 1988\n",
      "\n",
      "This is a copy of UCI ML iris datasets.\n",
      "http://archive.ics.uci.edu/ml/datasets/Iris\n",
      "\n",
      "The famous Iris database, first used by Sir R.A Fisher\n",
      "\n",
      "This is perhaps the best known database to be found in the\n",
      "pattern recognition literature.  Fisher's paper is a classic in the field and\n",
      "is referenced frequently to this day.  (See Duda & Hart, for example.)  The\n",
      "data set contains 3 classes of 50 instances each, where each class refers to a\n",
      "type of iris plant.  One class is linearly separable from the other 2; the\n",
      "latter are NOT linearly separable from each other.\n",
      "\n",
      "References\n",
      "----------\n",
      "   - Fisher,R.A. \"The use of multiple measurements in taxonomic problems\"\n",
      "     Annual Eugenics, 7, Part II, 179-188 (1936); also in \"Contributions to\n",
      "     Mathematical Statistics\" (John Wiley, NY, 1950).\n",
      "   - Duda,R.O., & Hart,P.E. (1973) Pattern Classification and Scene Analysis.\n",
      "     (Q327.D83) John Wiley & Sons.  ISBN 0-471-22361-1.  See page 218.\n",
      "   - Dasarathy, B.V. (1980) \"Nosing Around the Neighborhood: A New System\n",
      "     Structure and Classification Rule for Recognition in Partially Exposed\n",
      "     Environments\".  IEEE Transactions on Pattern Analysis and Machine\n",
      "     Intelligence, Vol. PAMI-2, No. 1, 67-71.\n",
      "   - Gates, G.W. (1972) \"The Reduced Nearest Neighbor Rule\".  IEEE Transactions\n",
      "     on Information Theory, May 1972, 431-433.\n",
      "   - See also: 1988 MLC Proceedings, 54-64.  Cheeseman et al\"s AUTOCLASS II\n",
      "     conceptual clustering system finds 3 classes in the data.\n",
      "   - Many, many more ...\n",
      "\n"
     ]
    }
   ],
   "source": [
    "print(iris.DESCR)"
   ]
  },
  {
   "cell_type": "markdown",
   "metadata": {},
   "source": [
    "Note the absence of parenthesis, because iris.DESCR is a data structure, not a method (function built-in the method).\n",
    "\n",
    "This is a nice overview of the data. The data is derived from three species of *Iris*: *I. setosa*, *I.versicolor*, and *I. virginica*. These names can also be found in the `iris.target_names`:"
   ]
  },
  {
   "cell_type": "code",
   "execution_count": 27,
   "metadata": {
    "collapsed": false
   },
   "outputs": [
    {
     "data": {
      "text/plain": [
       "array(['setosa', 'versicolor', 'virginica'], \n",
       "      dtype='|S10')"
      ]
     },
     "execution_count": 27,
     "metadata": {},
     "output_type": "execute_result"
    }
   ],
   "source": [
    "iris.target_names"
   ]
  },
  {
   "cell_type": "markdown",
   "metadata": {},
   "source": [
    "In total, 150 flowers were measured, 50 for every species. The order of the species in the actual data array is given by the `iris.target` vector. "
   ]
  },
  {
   "cell_type": "code",
   "execution_count": 28,
   "metadata": {
    "collapsed": false
   },
   "outputs": [
    {
     "data": {
      "text/plain": [
       "array([0, 0, 0, 0, 0, 0, 0, 0, 0, 0, 0, 0, 0, 0, 0, 0, 0, 0, 0, 0, 0, 0, 0,\n",
       "       0, 0, 0, 0, 0, 0, 0, 0, 0, 0, 0, 0, 0, 0, 0, 0, 0, 0, 0, 0, 0, 0, 0,\n",
       "       0, 0, 0, 0, 1, 1, 1, 1, 1, 1, 1, 1, 1, 1, 1, 1, 1, 1, 1, 1, 1, 1, 1,\n",
       "       1, 1, 1, 1, 1, 1, 1, 1, 1, 1, 1, 1, 1, 1, 1, 1, 1, 1, 1, 1, 1, 1, 1,\n",
       "       1, 1, 1, 1, 1, 1, 1, 1, 2, 2, 2, 2, 2, 2, 2, 2, 2, 2, 2, 2, 2, 2, 2,\n",
       "       2, 2, 2, 2, 2, 2, 2, 2, 2, 2, 2, 2, 2, 2, 2, 2, 2, 2, 2, 2, 2, 2, 2,\n",
       "       2, 2, 2, 2, 2, 2, 2, 2, 2, 2, 2, 2])"
      ]
     },
     "execution_count": 28,
     "metadata": {},
     "output_type": "execute_result"
    }
   ],
   "source": [
    "iris.target"
   ]
  },
  {
   "cell_type": "markdown",
   "metadata": {},
   "source": [
    "\n",
    "### Optional: Euclidean distance.\n",
    "\n",
    "The differences between the 150 flowers in the dataset are defined by four measurements. Together, these four numbers can be used to calculate the overall difference between flowers. Differences are often calculated by some 'distance' measure, of which the Euclidean distance is conceptually the simplest and easiest to understand. The Euclidean distance is, as you might have guessed, indeed the geometric distanc between two points, that are defined by coordinates in n-dimensional space. For this dataset, `n=4`. Calculating Euclidean distance you've all done at some time in your past, just think about the <a href=https://en.wikipedia.org/wiki/Pythagorean_theorem>Pythagorean Theorum</a>: \n",
    "\n",
    "$c^2 = a^2 + b^2$\n",
    "\n",
    "Where c is the length of the hypotenuse.\n",
    "\n",
    "Consider the following example, derived from the *Iris* dataset, for only sepal length and width.\n",
    "\n",
    "![Euclidean_dist_explained](Euclidean_dist_example.jpg)\n",
    "\n",
    "\n",
    "We have to obtain the lengths of the two sides connecting at the right angle of the imaginary triangle. Simply subtract the 'x' values of, for instance, the blue and green dot to obtain the length of the horizontal side, and the 'y' values to obtain the length of the vertical side. Doesnt' matter in which order you do this - in case you get a negative number, it's all about the difference and the values get squared anyway. The squares then get summed, and finally the square root is taken:\n",
    "\n",
    "$\\begin{equation}dist_{blue-green} = \\sqrt{(x_{blue}-x_{green})^2 + (y_{blue}-y_{green})^2}\\end{equation}$\n",
    "\n",
    "For the example the values are:\n",
    "\n",
    "$\\begin{equation}dist_{blue-green} = \\sqrt{(5.8-4.6)^2 + (2.7-3.1)^2}\\end{equation}$\n",
    "\n",
    "Again, you can do this with as many features as you like, whether you have 4 or 4 million measurements, the principle is the same.\n",
    "\n",
    "In Numpy, you can very easily perform this trick by subtracting the vectors for each individual (vector of length 4 in the Iris dataset). The resulting vector can then be squared, sum of that vector then taken, and that sum need needs to have the square root taken. Voila...\n",
    "\n"
   ]
  },
  {
   "cell_type": "markdown",
   "metadata": {},
   "source": [
    "## Plotting with Matplotlib\n",
    "### A very short primer on Matplotlib\n",
    "\n",
    "In this section we will explore a few basic properties of Matplotlib and demonstrate how you can make nice figures by just a limited number of lines of code. One of the added learning goals is to explore the extensibility of the Matplotlib code. By adding figure titles, legends, axis labels, and by modifying color and other features of plotted lines and dots, you can make beautiful, publishing grade figures tailored to your needs, and, importantly, automate it without much additional effort."
   ]
  },
  {
   "cell_type": "code",
   "execution_count": 29,
   "metadata": {
    "collapsed": true
   },
   "outputs": [],
   "source": [
    "import matplotlib.pyplot as plt\n",
    "import numpy as np\n",
    "%matplotlib inline"
   ]
  },
  {
   "cell_type": "markdown",
   "metadata": {},
   "source": [
    "Our first demonstration will be on a well-known mathematical operation: taking the sine and cosine of a bunch of values, and then plot the x and y values. For this we first need to have a vector of 'x-coordinates'. Numpy has a neat little function for that, called 'linspace'. The next line of code will produce 100 values between zero and ten, evenly spaced:"
   ]
  },
  {
   "cell_type": "code",
   "execution_count": 30,
   "metadata": {
    "collapsed": false
   },
   "outputs": [
    {
     "data": {
      "text/plain": [
       "array([  0.        ,   0.1010101 ,   0.2020202 ,   0.3030303 ,\n",
       "         0.4040404 ,   0.50505051,   0.60606061,   0.70707071,\n",
       "         0.80808081,   0.90909091,   1.01010101,   1.11111111,\n",
       "         1.21212121,   1.31313131,   1.41414141,   1.51515152,\n",
       "         1.61616162,   1.71717172,   1.81818182,   1.91919192,\n",
       "         2.02020202,   2.12121212,   2.22222222,   2.32323232,\n",
       "         2.42424242,   2.52525253,   2.62626263,   2.72727273,\n",
       "         2.82828283,   2.92929293,   3.03030303,   3.13131313,\n",
       "         3.23232323,   3.33333333,   3.43434343,   3.53535354,\n",
       "         3.63636364,   3.73737374,   3.83838384,   3.93939394,\n",
       "         4.04040404,   4.14141414,   4.24242424,   4.34343434,\n",
       "         4.44444444,   4.54545455,   4.64646465,   4.74747475,\n",
       "         4.84848485,   4.94949495,   5.05050505,   5.15151515,\n",
       "         5.25252525,   5.35353535,   5.45454545,   5.55555556,\n",
       "         5.65656566,   5.75757576,   5.85858586,   5.95959596,\n",
       "         6.06060606,   6.16161616,   6.26262626,   6.36363636,\n",
       "         6.46464646,   6.56565657,   6.66666667,   6.76767677,\n",
       "         6.86868687,   6.96969697,   7.07070707,   7.17171717,\n",
       "         7.27272727,   7.37373737,   7.47474747,   7.57575758,\n",
       "         7.67676768,   7.77777778,   7.87878788,   7.97979798,\n",
       "         8.08080808,   8.18181818,   8.28282828,   8.38383838,\n",
       "         8.48484848,   8.58585859,   8.68686869,   8.78787879,\n",
       "         8.88888889,   8.98989899,   9.09090909,   9.19191919,\n",
       "         9.29292929,   9.39393939,   9.49494949,   9.5959596 ,\n",
       "         9.6969697 ,   9.7979798 ,   9.8989899 ,  10.        ])"
      ]
     },
     "execution_count": 30,
     "metadata": {},
     "output_type": "execute_result"
    }
   ],
   "source": [
    "x = np.linspace(0,10,100)\n",
    "x"
   ]
  },
  {
   "cell_type": "markdown",
   "metadata": {},
   "source": [
    "Matplotlib supports different coding styles. This can become a bit confusing, so we will only show one today, which is also the one that is most often used. It is in line with the 'Matlab' way of plotting. This is not surprising as <a href=https://en.wikipedia.org/wiki/MATLAB>Matlab</a> has inspired the Python Matplotlib makers. There is also a more 'Pythonesque' way of doing it, which has a number of advantages, but you will see that slightly less often in coding examples (although Matplotlib developers appear to <a href=http://matplotlib.org/faq/usage_faq.html#coding-styles>encourage the object, Python way</a>).\n",
    "\n",
    "The general procedure is as follows: open an 'active' figure. This is usually not strictly necessary in Matlab style, but has a few advantages. First, it explicitly delineates the active plot. And second it allows to modify canvas properties. After activating a canvas, you can add a number of plotting statements, and add other features. After all the elements are added to the active plot, you can display it (or write it to a file).\n",
    "\n",
    "**a)** In the first exercise you will add more features. You can do this by removing the `#` in front of a line of code, or swapping out lines. Eacht time, run the cell, and see what changes. Note also the syntax to define line style and color. 'b' is blue, 'g' is green, and 'r' is red. There are many more. What does '--' do?"
   ]
  },
  {
   "cell_type": "code",
   "execution_count": 31,
   "metadata": {
    "collapsed": false
   },
   "outputs": [
    {
     "data": {
      "image/png": "[encoded data removed]",
      "text/plain": [
       "<matplotlib.figure.Figure at 0x7fd12da0fb10>"
      ]
     },
     "metadata": {},
     "output_type": "display_data"
    }
   ],
   "source": [
    "# a\n",
    "plt.figure() # create figure\n",
    "\n",
    "plt.plot(x,np.sin(x)) # basic plotting function\n",
    "plt.plot(x,np.cos(x)) # basic plotting function\n",
    "# replace these two lines by:\n",
    "# plt.plot(x,np.sin(x), 'r')   # you can modify colors\n",
    "# plt.plot(x,np.cos(x), '--b') # and line patterns\n",
    "# and then replace these in turn by:\n",
    "# plt.plot(x,np.sin(x), 'b',label = 'sin') # 'label' is shown by plt.legend()\n",
    "# plt.plot(x,np.cos(x), '--g', label = 'cos') # 'label' is shown by plt.legend()\n",
    "\n",
    "# Then, one by one, add these lines. Observe and report differences.\n",
    "# plt.xlim((-1,11))       # change the default limits of the plot, horizontal direction\n",
    "# plt.ylim((-1.2,1.2))    # change the default limits of the plot, vertical direction\n",
    "# plt.title('This is my title') # add a title to the plot\n",
    "# plt.xlabel('X')  # add label for x-axis\n",
    "# plt.ylabel('Y')  # add label for y-axis\n",
    "# plt.legend() # when activating this, make sure that 'label' is added to plot function!\n",
    "plt.show() # finally: display"
   ]
  },
  {
   "cell_type": "markdown",
   "metadata": {},
   "source": [
    "## Optional - exploring the Python powertools for powerful data analysis\n",
    "\n",
    "Python has many powerful modules for data analysis, from doing generic statistical analysis, to very specific bioinformatics or numerical manipulations. Examples are BioPython (Python for Bioinformatics), SciPy (Scientific Python), and SciKitLearn, which contains many machine learning tools. All of these rely heavily on Numpy, which in itself already contains many options for mathematical analysis. \n",
    "\n",
    "Here we will show you two examples. These examples have two main learning goals:\n",
    "- Demonstrate the use of Python for numerical analysis\n",
    "- Show how you can implement these tools in your own project\n",
    "\n",
    "### Basic regression analysis - tutorial\n",
    "\n",
    "Chances are that you have done some basic statistics in other courses, and may even have applied some of these in programs such as excel. Python has many tools for doing basic mathematical operations, including statistics. In this example we will compute the correlation coefficient, and the slope and intercept of the regression line. We will then plot the values but also the fitted line. "
   ]
  },
  {
   "cell_type": "code",
   "execution_count": 32,
   "metadata": {
    "collapsed": false
   },
   "outputs": [
    {
     "name": "stdout",
     "output_type": "stream",
     "text": [
      "['setosa' 'versicolor' 'virginica']\n",
      "Correlation coefficient: 0.53\n"
     ]
    },
    {
     "data": {
      "image/png": "[encoded data removed]",
      "text/plain": [
       "<matplotlib.figure.Figure at 0x7fd12b61fd50>"
      ]
     },
     "metadata": {},
     "output_type": "display_data"
    }
   ],
   "source": [
    "print(iris.target_names)\n",
    "\n",
    "# some code to extract sepal length and width for only versicolor\n",
    "versicolor = iris.target == 1\n",
    "versicolor_data = iris.data[versicolor,:]\n",
    "versicolor_sepal_length = versicolor_data[:,0]\n",
    "versicolor_sepal_width = versicolor_data[:,1]\n",
    "\n",
    "# calculate correlation coefficient\n",
    "cf = np.corrcoef(versicolor_sepal_length, versicolor_sepal_width)[0,1]\n",
    "print('Correlation coefficient: %.2f' % (cf))\n",
    "\n",
    "# and calculate the slope and intercept of the linear regression line\n",
    "slope,intercept = np.polyfit(versicolor_sepal_length,versicolor_sepal_width,1)\n",
    "\n",
    "# initialize a figure; adapt canvas size to needs\n",
    "plt.figure(figsize = (8,5))\n",
    "\n",
    "# plotting of the data points; feel free to make prettyer.\n",
    "plt.scatter(versicolor_sepal_length,versicolor_sepal_width)\n",
    "\n",
    "# plot the regression line. We do that by first taking a bunch\n",
    "# of points on the x-axis, for min and max values of versicolor\n",
    "x = np.linspace(versicolor_sepal_length.min(),versicolor_sepal_length.max(),10)\n",
    "\n",
    "# then we add the line by 'plot'. Note that the y-values are transformed\n",
    "# based on slope and intercept as calculated above. Note that label of the\n",
    "# line has the correlation coefficient too.\n",
    "plt.plot(x,x*slope+intercept, c='red',linewidth = 2, label = 'Cor. coef = %.2f' % (cf))\n",
    "\n",
    "# Make a bit more pretty.\n",
    "plt.title(\"Versicolor sepal length and width\", fontsize = 20)\n",
    "plt.xlabel(\"Sepal length (cm)\")\n",
    "plt.ylabel(\"Sepal width (cm)\")\n",
    "plt.legend(fontsize=14)\n",
    "\n",
    "# Save to file\n",
    "plt.savefig('versicolor_sepaldims.jpg')\n",
    "# And show in notebook too.\n",
    "plt.show()"
   ]
  },
  {
   "cell_type": "markdown",
   "metadata": {},
   "source": [
    "### Principal component analysis - tutorial\n",
    "\n",
    " If you have many different features, i.e. measurements of plant structures such as flower, or genotypes, or any other type of measurement, then looking at variation in that many-dimensional space is very hard or impossible.  <a href=http://setosa.io/ev/principal-component-analysis/>PCA is often applied to reduce the complexity of measurements</a>. The theory of principal component analysis is really beyond the scope of this tutorial, but what should be taken home from this tutirial is that tools exist in Python to do PCA and many, many more types of analisis. Another important point is that, very often, these methods are very easy to implement, at least from a programming perspective. In the next example, the PCA analysis takes **exactly** one line of code. The rest is for importing packages and for plotting. And, honestly, the majority of the lines of code for plotting are for making it more pretty :D."
   ]
  },
  {
   "cell_type": "code",
   "execution_count": 33,
   "metadata": {
    "collapsed": false
   },
   "outputs": [
    {
     "data": {
      "image/png": "[encoded data removed]",
      "text/plain": [
       "<matplotlib.figure.Figure at 0x7fd12da37450>"
      ]
     },
     "metadata": {},
     "output_type": "display_data"
    }
   ],
   "source": [
    "from sklearn.decomposition import PCA\n",
    "\n",
    "pca_m =PCA(n_components=3).fit_transform(iris.data)\n",
    "\n",
    "colors = ['red','blue','green']\n",
    "plt.figure(figsize=(8,5))\n",
    "for i in range(3):\n",
    "    \n",
    "    plt.scatter(pca_m[iris.target == i,0],pca_m[iris.target == i,1], \n",
    "                label = iris.target_names[i], c = colors[i])\n",
    "\n",
    "plt.title(\"PCA on Iris data\", fontsize = 20)\n",
    "plt.xlabel(\"PC 1\")\n",
    "plt.ylabel(\"PC 2\")\n",
    "plt.legend(fontsize =14)\n",
    "plt.savefig(\"Iris_PCA.jpg\")\n",
    "plt.show()"
   ]
  },
  {
   "cell_type": "markdown",
   "metadata": {},
   "source": [
    "## Dataframes \n",
    "### A short primer on Dataframes using Pandas\n",
    "\n",
    "Arrays and vectors are incredibly powerful structures for numerical data analysis. In some languages, such as R, arrays and vectors are primary data types, which in large part explains the appeal of R for statistical data analysis - well, in fact that language has numerical data analysis as primary focus. Numpy has done much the same for Python, and Python for instance is quite popular in physics research and there is a trend that Python is replacing other languages/programming environments, such as Matlab.\n",
    "\n",
    "Arrays and vectors, however, also show a fundamental limitation: they can only hold a single data type, and that data type is usually numerical. consider the following example:"
   ]
  },
  {
   "cell_type": "code",
   "execution_count": 34,
   "metadata": {
    "collapsed": false
   },
   "outputs": [
    {
     "data": {
      "text/plain": [
       "['some random string', 1, 0.3]"
      ]
     },
     "execution_count": 34,
     "metadata": {},
     "output_type": "execute_result"
    }
   ],
   "source": [
    "my_list = ['some random string', 1, 0.3]\n",
    "my_list"
   ]
  },
  {
   "cell_type": "markdown",
   "metadata": {},
   "source": [
    "`my_list` is a list that holds three elements, each of different type: a string, integer, and float. Now consider what happens next:"
   ]
  },
  {
   "cell_type": "code",
   "execution_count": 35,
   "metadata": {
    "collapsed": false
   },
   "outputs": [
    {
     "data": {
      "text/plain": [
       "array(['some random string', '1', '0.3'], \n",
       "      dtype='|S18')"
      ]
     },
     "execution_count": 35,
     "metadata": {},
     "output_type": "execute_result"
    }
   ],
   "source": [
    "np.array(my_list)"
   ]
  },
  {
   "cell_type": "markdown",
   "metadata": {},
   "source": [
    "Numpy arrays always have a single type. Since one of the elements from the list is a string, that requires the rest to be of type string as well, because a string can not be converted (meaningfully) to a numerical value.\n",
    "\n",
    "When we supply a list of integers, on the other hand, a numpy array of type integer can be made:"
   ]
  },
  {
   "cell_type": "code",
   "execution_count": 36,
   "metadata": {
    "collapsed": false
   },
   "outputs": [
    {
     "name": "stdout",
     "output_type": "stream",
     "text": [
      "int64\n"
     ]
    },
    {
     "data": {
      "text/plain": [
       "array([1, 1, 1])"
      ]
     },
     "execution_count": 36,
     "metadata": {},
     "output_type": "execute_result"
    }
   ],
   "source": [
    "my_list= [1,1,1]\n",
    "my_vector = np.array(my_list)\n",
    "print my_vector.dtype \n",
    "my_vector"
   ]
  },
  {
   "cell_type": "markdown",
   "metadata": {},
   "source": [
    "Note that by default integers in Python take 64 bits. If you have many integers in an array, say hundreds of millions, but each of the integers is small (smaller than 256, in fact), you can get away with explicitly converting to 8-bit integers. This saves 8 times the memory. This is important for working with bit-mapped pictures, but can also be relevant for DNA data, if you code your bases simply 0,1,2,3.\n",
    "\n",
    "Now, again, numpy arrays can only have a single type, so when all values are numerical, but not all are integers:"
   ]
  },
  {
   "cell_type": "code",
   "execution_count": 37,
   "metadata": {
    "collapsed": false,
    "scrolled": true
   },
   "outputs": [
    {
     "name": "stdout",
     "output_type": "stream",
     "text": [
      "float64\n"
     ]
    },
    {
     "data": {
      "text/plain": [
       "array([ 1.,  1.,  1.])"
      ]
     },
     "execution_count": 37,
     "metadata": {},
     "output_type": "execute_result"
    }
   ],
   "source": [
    "my_list= [1.0,1,1]\n",
    "my_vector = np.array(my_list)\n",
    "print my_vector.dtype\n",
    "my_vector"
   ]
  },
  {
   "cell_type": "markdown",
   "metadata": {},
   "source": [
    "So, arrays and vectors don't allow you to mix data types, but lists do. \n",
    "\n",
    "In practise, many of the data sets we are likely to encounter are organized in a column-separated fashion ('tables'), ie. have a 'matrix-like' lay-out, which could make them suitable for manipulation and computation in arrays. However, tables often have a mix of data types. Our Crane data set is a good case in point. To accomodate this type of dataset, you need to use the Data Frame. If that sounds arcane, it shouldn't. There is no doubt you have worked with data frames before. Just think of 'Excel sheets'.\n",
    "\n",
    "Data frames are usually organized as a collection of named vectors or lists. Each column represents one data type, that holds for instance integers, and which has a name attached to it seperately which can be a string. Different columns can have different data types, such as string or float, but within each column, the data type is the same, allowing for optimal efficiency of working with the data per column. \n",
    "\n",
    "Data frames, like arrays, although internally always of compounded types, are basic data structures in some languages, such as R and Matlab. In Python too, it was recognized that with the Numpy and SciPy modules in place and very popular, there was a need to support dataframes. For this purpose the Pandas module was created. \n",
    "\n",
    "Like dataframes in other languages, the Pandas dataframe supports slicing and indexing, although the syntax to do that requires a bit of practice. However the same holds for languages like R, and, in fact, the dataframe syntax of Pandas is quite similar, although there are some quirks (although it can be argued that these quirks make the Pandas dataframe more easily sliceable than the R dataframes). Since the Pandas dataframe internally consists of Numpy vectors, all the mathematics tools and efficiency that people have come to love in Numpy are built into Pandas as well.\n",
    "\n",
    "Let's start this part on Pandas with the Iris dataset, but now, instead of getting it from a built-in package, we'll load it directly from an excel sheet. \n",
    "\n",
    "*Caveat emptor: like with every strategy where you want to load an entire datastructure into memory, this could go south quite significantly if your dataset is huge. Like, seriously crashing your computer. So pay attention to the size of your input data. There are some interesting 'Out of Memory' solutions that are compatible with Pandas to deal with very large arrays, such as hdf5-based arrays, but these are several parsecs beyond the scope of this practical.*"
   ]
  },
  {
   "cell_type": "code",
   "execution_count": 38,
   "metadata": {
    "collapsed": true
   },
   "outputs": [],
   "source": [
    "import pandas as pd # the most accepted way of importing the pandas package\n"
   ]
  },
  {
   "cell_type": "markdown",
   "metadata": {},
   "source": [
    "## Optional: A tiny demo of Cranes and Pandas\n",
    "\n",
    "Remember that the 'Cranes' data has comma-separated values. Although not a tiny dataset, it is still small enough to be read entirely into a dataframe (there are certainly datasets in MoveDB that are WAY too big for this!).\n",
    "\n",
    "Conveniently, Pandas has a function to read csv files:"
   ]
  },
  {
   "cell_type": "code",
   "execution_count": 39,
   "metadata": {
    "collapsed": true
   },
   "outputs": [],
   "source": [
    "Cranes = pd.read_csv(\"GPS_telemetry_of_Common_Cranes_Sweden.csv\")"
   ]
  },
  {
   "cell_type": "markdown",
   "metadata": {},
   "source": [
    "Looking at the first 10 lines will show you some familiar data."
   ]
  },
  {
   "cell_type": "code",
   "execution_count": 40,
   "metadata": {
    "collapsed": false
   },
   "outputs": [
    {
     "data": {
      "text/html": [
       "<div>\n",
       "<style>\n",
       "    .dataframe thead tr:only-child th {\n",
       "        text-align: right;\n",
       "    }\n",
       "\n",
       "    .dataframe thead th {\n",
       "        text-align: left;\n",
       "    }\n",
       "\n",
       "    .dataframe tbody tr th {\n",
       "        vertical-align: top;\n",
       "    }\n",
       "</style>\n",
       "<table border=\"1\" class=\"dataframe\">\n",
       "  <thead>\n",
       "    <tr style=\"text-align: right;\">\n",
       "      <th></th>\n",
       "      <th>event-id</th>\n",
       "      <th>visible</th>\n",
       "      <th>timestamp</th>\n",
       "      <th>location-long</th>\n",
       "      <th>location-lat</th>\n",
       "      <th>argos:altitude</th>\n",
       "      <th>gps:hdop</th>\n",
       "      <th>ground-speed</th>\n",
       "      <th>heading</th>\n",
       "      <th>tag-tech-spec</th>\n",
       "      <th>tag-voltage</th>\n",
       "      <th>sensor-type</th>\n",
       "      <th>individual-taxon-canonical-name</th>\n",
       "      <th>tag-local-identifier</th>\n",
       "      <th>individual-local-identifier</th>\n",
       "      <th>study-name</th>\n",
       "    </tr>\n",
       "  </thead>\n",
       "  <tbody>\n",
       "    <tr>\n",
       "      <th>0</th>\n",
       "      <td>250386109</td>\n",
       "      <td>True</td>\n",
       "      <td>2013-07-12 04:10:14.000</td>\n",
       "      <td>13.352400</td>\n",
       "      <td>57.334150</td>\n",
       "      <td>NaN</td>\n",
       "      <td>NaN</td>\n",
       "      <td>NaN</td>\n",
       "      <td>NaN</td>\n",
       "      <td>NaN</td>\n",
       "      <td>NaN</td>\n",
       "      <td>gps</td>\n",
       "      <td>Grus grus</td>\n",
       "      <td>8621</td>\n",
       "      <td>8621</td>\n",
       "      <td>GPS telemetry of Common Cranes, Sweden</td>\n",
       "    </tr>\n",
       "    <tr>\n",
       "      <th>1</th>\n",
       "      <td>250386110</td>\n",
       "      <td>True</td>\n",
       "      <td>2013-07-12 04:24:05.000</td>\n",
       "      <td>13.352072</td>\n",
       "      <td>57.333359</td>\n",
       "      <td>210.0</td>\n",
       "      <td>1.7</td>\n",
       "      <td>0.257</td>\n",
       "      <td>0.0</td>\n",
       "      <td>3.0</td>\n",
       "      <td>4.18</td>\n",
       "      <td>gps</td>\n",
       "      <td>Grus grus</td>\n",
       "      <td>8621</td>\n",
       "      <td>8621</td>\n",
       "      <td>GPS telemetry of Common Cranes, Sweden</td>\n",
       "    </tr>\n",
       "    <tr>\n",
       "      <th>2</th>\n",
       "      <td>250386111</td>\n",
       "      <td>True</td>\n",
       "      <td>2013-07-12 04:38:51.000</td>\n",
       "      <td>13.352212</td>\n",
       "      <td>57.333355</td>\n",
       "      <td>203.0</td>\n",
       "      <td>8.3</td>\n",
       "      <td>0.257</td>\n",
       "      <td>0.0</td>\n",
       "      <td>3.0</td>\n",
       "      <td>4.18</td>\n",
       "      <td>gps</td>\n",
       "      <td>Grus grus</td>\n",
       "      <td>8621</td>\n",
       "      <td>8621</td>\n",
       "      <td>GPS telemetry of Common Cranes, Sweden</td>\n",
       "    </tr>\n",
       "    <tr>\n",
       "      <th>3</th>\n",
       "      <td>250386112</td>\n",
       "      <td>True</td>\n",
       "      <td>2013-07-12 04:53:33.000</td>\n",
       "      <td>13.352979</td>\n",
       "      <td>57.334042</td>\n",
       "      <td>-38.0</td>\n",
       "      <td>2.7</td>\n",
       "      <td>0.257</td>\n",
       "      <td>0.0</td>\n",
       "      <td>2.0</td>\n",
       "      <td>4.18</td>\n",
       "      <td>gps</td>\n",
       "      <td>Grus grus</td>\n",
       "      <td>8621</td>\n",
       "      <td>8621</td>\n",
       "      <td>GPS telemetry of Common Cranes, Sweden</td>\n",
       "    </tr>\n",
       "    <tr>\n",
       "      <th>4</th>\n",
       "      <td>250386113</td>\n",
       "      <td>True</td>\n",
       "      <td>2013-07-12 05:08:33.000</td>\n",
       "      <td>13.352137</td>\n",
       "      <td>57.333359</td>\n",
       "      <td>190.0</td>\n",
       "      <td>3.0</td>\n",
       "      <td>0.257</td>\n",
       "      <td>0.0</td>\n",
       "      <td>3.0</td>\n",
       "      <td>4.18</td>\n",
       "      <td>gps</td>\n",
       "      <td>Grus grus</td>\n",
       "      <td>8621</td>\n",
       "      <td>8621</td>\n",
       "      <td>GPS telemetry of Common Cranes, Sweden</td>\n",
       "    </tr>\n",
       "  </tbody>\n",
       "</table>\n",
       "</div>"
      ],
      "text/plain": [
       "    event-id  visible                timestamp  location-long  location-lat  \\\n",
       "0  250386109     True  2013-07-12 04:10:14.000      13.352400     57.334150   \n",
       "1  250386110     True  2013-07-12 04:24:05.000      13.352072     57.333359   \n",
       "2  250386111     True  2013-07-12 04:38:51.000      13.352212     57.333355   \n",
       "3  250386112     True  2013-07-12 04:53:33.000      13.352979     57.334042   \n",
       "4  250386113     True  2013-07-12 05:08:33.000      13.352137     57.333359   \n",
       "\n",
       "   argos:altitude  gps:hdop  ground-speed  heading  tag-tech-spec  \\\n",
       "0             NaN       NaN           NaN      NaN            NaN   \n",
       "1           210.0       1.7         0.257      0.0            3.0   \n",
       "2           203.0       8.3         0.257      0.0            3.0   \n",
       "3           -38.0       2.7         0.257      0.0            2.0   \n",
       "4           190.0       3.0         0.257      0.0            3.0   \n",
       "\n",
       "   tag-voltage sensor-type individual-taxon-canonical-name  \\\n",
       "0          NaN         gps                       Grus grus   \n",
       "1         4.18         gps                       Grus grus   \n",
       "2         4.18         gps                       Grus grus   \n",
       "3         4.18         gps                       Grus grus   \n",
       "4         4.18         gps                       Grus grus   \n",
       "\n",
       "   tag-local-identifier  individual-local-identifier  \\\n",
       "0                  8621                         8621   \n",
       "1                  8621                         8621   \n",
       "2                  8621                         8621   \n",
       "3                  8621                         8621   \n",
       "4                  8621                         8621   \n",
       "\n",
       "                               study-name  \n",
       "0  GPS telemetry of Common Cranes, Sweden  \n",
       "1  GPS telemetry of Common Cranes, Sweden  \n",
       "2  GPS telemetry of Common Cranes, Sweden  \n",
       "3  GPS telemetry of Common Cranes, Sweden  \n",
       "4  GPS telemetry of Common Cranes, Sweden  "
      ]
     },
     "execution_count": 40,
     "metadata": {},
     "output_type": "execute_result"
    }
   ],
   "source": [
    "Cranes.head()"
   ]
  },
  {
   "cell_type": "markdown",
   "metadata": {},
   "source": [
    "Remember we made you count observations per bird by using a shell script? Let's do something similar, but now with Pandas. For this, we take all the IDs, turn them into a list, and count the number of occurences in a list. Python has a very handy tool for counting."
   ]
  },
  {
   "cell_type": "code",
   "execution_count": 41,
   "metadata": {
    "collapsed": false
   },
   "outputs": [
    {
     "data": {
      "text/plain": [
       "Counter({47: 623,\n",
       "         7558: 35262,\n",
       "         8621: 17429,\n",
       "         8647: 51055,\n",
       "         8878: 4070,\n",
       "         8886: 42197,\n",
       "         8902: 2576,\n",
       "         9175: 5730,\n",
       "         9233: 53116,\n",
       "         9381: 99397,\n",
       "         9399: 2335,\n",
       "         9407: 35099,\n",
       "         9423: 5540,\n",
       "         9449: 162,\n",
       "         9456: 37286,\n",
       "         9472: 61180,\n",
       "         9480: 65753,\n",
       "         9498: 688,\n",
       "         9514: 2268,\n",
       "         9613: 501})"
      ]
     },
     "execution_count": 41,
     "metadata": {},
     "output_type": "execute_result"
    }
   ],
   "source": [
    "crane_ids = list(Cranes['individual-local-identifier'])\n",
    "from collections import Counter\n",
    "Counter(crane_ids)"
   ]
  },
  {
   "cell_type": "code",
   "execution_count": 42,
   "metadata": {
    "collapsed": false
   },
   "outputs": [
    {
     "data": {
      "image/png": "[encoded data removed]",
      "text/plain": [
       "<matplotlib.figure.Figure at 0x7fd11578a790>"
      ]
     },
     "metadata": {},
     "output_type": "display_data"
    }
   ],
   "source": [
    "\n",
    "birdID = 9472\n",
    "plt.figure(figsize = (10,10))\n",
    "\n",
    "plt.scatter(Cranes.loc[Cranes['individual-local-identifier'] == birdID, 'location-long'],\n",
    "            Cranes.loc[Cranes['individual-local-identifier'] == birdID, 'location-lat'],\n",
    "           label = '%d' % (birdID))\n",
    "\n",
    "plt.xlabel('longitude', fontsize = 20)\n",
    "plt.ylabel('latitude', fontsize = 20)\n",
    "plt.title('Migration for Crane %d' % (birdID), fontsize = 28)\n",
    "plt.legend(fontsize = 20)\n",
    "plt.show()"
   ]
  },
  {
   "cell_type": "markdown",
   "metadata": {
    "collapsed": true
   },
   "source": [
    "What does this plot show? What would you really like to have plotted as well? A map perhaps? Not to worry, if you are interested in this, you can make this into a project for the last week!\n",
    "\n",
    "*Final note on Pandas: Pandas does have a built-in library for plotting. However, since there is already much that will be confusing even dealing with just one plotting method (and, as mentioned, even Matplotlib has already 2!) I don't want to bother you with it here. Furthermore, Matplotlibs options are far more extensive, and all the Pandas datastructures are compatible with Matplotlib anyway. *\n",
    "\n",
    "## Further reading:\n",
    "- [matplotlib website](https://matplotlib.org/)\n",
    "- [matplotlib examples](https://matplotlib.org/gallery.html)\n",
    "- [Pandas](http://pandas.pydata.org/)\n",
    "- [Python data science handbook (O'Reilly) - recommended](http://a.co/2jL2pqf)\n"
   ]
  }
 ],
 "metadata": {
  "kernelspec": {
   "display_name": "Python 2",
   "language": "python",
   "name": "python2"
  },
  "language_info": {
   "codemirror_mode": {
    "name": "ipython",
    "version": 2
   },
   "file_extension": ".py",
   "mimetype": "text/x-python",
   "name": "python",
   "nbconvert_exporter": "python",
   "pygments_lexer": "ipython2",
   "version": "2.7.11"
  },
  "latex_envs": {
   "LaTeX_envs_menu_present": true,
   "autocomplete": true,
   "bibliofile": "biblio.bib",
   "cite_by": "apalike",
   "current_citInitial": 1,
   "eqLabelWithNumbers": true,
   "eqNumInitial": 1,
   "hotkeys": {
    "equation": "Ctrl-E",
    "itemize": "Ctrl-I"
   },
   "labels_anchors": false,
   "latex_user_defs": false,
   "report_style_numbering": false,
   "user_envs_cfg": false
  }
 },
 "nbformat": 4,
 "nbformat_minor": 0
}
