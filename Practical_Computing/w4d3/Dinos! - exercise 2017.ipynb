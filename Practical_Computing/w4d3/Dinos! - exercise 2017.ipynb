{
 "cells": [
  {
   "cell_type": "markdown",
   "metadata": {},
   "source": [
    "# <span style=\"color: Steelblue\"> Dinosaurs! </span>\n",
    "## <span style=\"color: Steelblue\"> Exploration of a paleontological dataset using Python </span>\n",
    "\n",
    ">Jupyter Notebook: **'Dinos!'**\n",
    "\n",
    ">**Goal:** Exploration of a biological data set using Python, with special emphasis on understanding data structures such as JSON and XML\n",
    "\n",
    ">By: H.J. Megens\n",
    "\n",
    ">Where you can reach me: hendrik-jan.megens -at- wur.nl\n",
    "\n",
    ">Last modified: 26 September 2017\n",
    "\n",
    "![Dino_banner](Dinos_banner.png)\n",
    "\n",
    "There is no doubt that the coolest creatures ever to roam the earth were the\n",
    "Dinosaurs. Period. End of discussion. Right?\n",
    "\n",
    "The data from [PaleoDB](https://paleobiodb.org) was chosen for two reasons in this course. First, it is a nice\n",
    "example of biological data outside of the normal scope of ‘bioinformatics’. That\n",
    "might sound surprising – aren’t we trying to convert you all to bioinformaticians?\n",
    "Not quite. As we’ve mentioned before, biological sciences in general are becoming\n",
    "ever more data rich, which offers new analytical strategies that may be important\n",
    "for life scientist to master. We hope to prepare you for the ‘data analytics’ era.\n",
    "One reason for datasets increasing in size is that more and more data is becoming\n",
    "aggregated in (dedicated) databases, such as PaleoDB. The advantage is obvious:\n",
    "if every paleontologist would put collection data into a global database, you can\n",
    "simply search online where important collections of your favorite Dino exist, so\n",
    "that you can pay them a visit for further study. Any biologist who has spent a\n",
    "reasonable length of time going through drawers and kabinets of collected\n",
    "material in a natural history museum will concur.\n",
    "\n",
    "In addition, the fact that data gets aggregated creates ‘global’ and\n",
    "‘comprehensive’ datasets that can reveal patterns that ‘local’ or ‘fragmented’\n",
    "data simply cannot. A very simple example is patterns in occurrence of taxonomic\n",
    "groups. Does genus or family X occur only in Eurasia? Or also in North America,\n",
    "and maybe even in Australia? Even in the $19^{th}$ century, the accumulation of\n",
    "knowledge on where groups of plants and animals lived gave rise to new\n",
    "biogeographic theories, and has led in the $20^{th}$ century not only to support\n",
    "continental drift from theory to fact, but also has helped piece together the\n",
    "course, the merging, and the splitting of continents for the past half billion years.\n",
    "\n",
    "The second reason for considering the data from PaleoDB is far less prosaic. It is\n",
    "structured in so-called JSON format, which is what we happen to consider for\n",
    "today. True, you can also download the data in Tab-delimited format, but hey!,\n",
    "where is the fun in that! And, as we will see at the end of this task, JSON has it’s\n",
    "advantages (but also disadvantages).\n",
    "\n",
    "JSON is a very widely used format for data that has many different ‘layers’, and\n",
    "serves a purpose similar to XML. One advantage of working with JSON in Python or\n",
    "other general programming languages, is that JSON in fact has a structure that\n",
    "very much resembles the standard datatypes in Python, notably Dictionaries and\n",
    "Lists. In fact, in a JSON file you’ll only need these:\n",
    "`{:}[,]*`, the stuff that lists and dicts are made of!\n",
    "\n",
    "\n",
    "Before we start coding, open the `Dinos_reduced.json` file in `gedit`. ‘Reduced’\n",
    "means not all PaleoDB datafields are present, to make the file-size a bit more\n",
    "manageable. <a href=https://paleobiodb.org/data1.2/occs/list#response>Information on the data fields can be found here</a>:\n",
    "\n",
    "**a)** define records, and list tags. If you had to translate, which would you say are\n",
    "dicts, which are lists? Actually, there is only ONE list in the entire file. Locate it."
   ]
  },
  {
   "cell_type": "code",
   "execution_count": null,
   "metadata": {
    "collapsed": true
   },
   "outputs": [],
   "source": [
    "# there is only one list with the key \"records\" in its nesting dictionary"
   ]
  },
  {
   "cell_type": "markdown",
   "metadata": {},
   "source": [
    "From here one, you will work with the provided Python notebook. Cell `#1` imports some of the modules. Cell `#2` defines a few subroutines to help you print correct KML files - files that will actually work in Google maps! Cell `#3` defines a subroutine to plot a histogram of the ages of dinosaur finds for your favorite dino, as well as write that plot to a JPEG file."
   ]
  },
  {
   "cell_type": "code",
   "execution_count": 1,
   "metadata": {
    "collapsed": true
   },
   "outputs": [],
   "source": [
    "# Cell #1\n",
    "# Jupyter Notebook 'Dinos!'\n",
    "\n",
    "# import some of the stuff we need...\n",
    "import json # library to convert from json to a dictionary/list complex data structure\n",
    "import matplotlib.pyplot as plt # we'll plot a histogram at the end of the script. \n",
    "%matplotlib inline"
   ]
  },
  {
   "cell_type": "code",
   "execution_count": 17,
   "metadata": {
    "collapsed": true
   },
   "outputs": [],
   "source": [
    "# Cell #2\n",
    "# This stuff you'll need to write the KML file\n",
    "# Note how the filehandle is EXPLICITLY passed on to the function!\n",
    "# Not strictly necessary, but hey, at least now you know it's needed, \n",
    "# and where to stick it!\n",
    "\n",
    "# Write required first line\n",
    "def write_kml_start(kmlfh):\n",
    "    # mandatory start of KML\n",
    "    kmlfh.write('<?xml version=\"1.0\" encoding=\"UTF-8\"?>\\n')\n",
    "    kmlfh.write('<kml xmlns=\"http://www.opengis.net/kml/2.2\">\\n')\n",
    "    kmlfh.write('<Document>\\n')\n",
    "    \n",
    "# Write the required last lines of the KML, and close filehandle\n",
    "def write_kml_end(kmlfh):\n",
    "    # mandatory end of KML\n",
    "    kmlfh.write('</Document>\\n</kml>')\n",
    "\n",
    "# This little subroutine writes one 'placemark' in a KML file \n",
    "def write_placemark_in_kml(kmlfh, dinoname,counter,species,age,latitude, longitude):\n",
    "    # written for each placemark; Point data added dynamically.\n",
    "    kmlfh.write('  <Placemark>\\n')\n",
    "    kmlfh.write('    <name>%s</name>\\n' % (dinoname+'_'+str(counter)))\n",
    "    kmlfh.write('    <description>%s</description>\\n' % (species+', '+str(age)+' MA'))\n",
    "    kmlfh.write('    <Point>\\n')\n",
    "    kmlfh.write('       <coordinates>%s,%s</coordinates>\\n' % (str(longitude),str(latitude)))\n",
    "    kmlfh.write('    </Point>\\n')\n",
    "    kmlfh.write('  </Placemark>')"
   ]
  },
  {
   "cell_type": "code",
   "execution_count": 3,
   "metadata": {
    "collapsed": true
   },
   "outputs": [],
   "source": [
    "# Cell #3\n",
    "# This subroutine can plot a histogram of all ages found for your favorite Dino\n",
    "# We will use the 'hist' function of matplotlib.pyplot, you can provide additional\n",
    "# parameters, such as number of bins, and the range. Dinos ruled from end of Triassic\n",
    "# to end of Cretaceous, so between 65 and 220 MA should be reasonable. \n",
    "\n",
    "def plot_age_histogram(list_of_ages,favoritedino,numbins=100,youngest=65,oldest=220,histcolor='green'):\n",
    "    # set up the plot\n",
    "    plt.figure(figsize = (4,3))\n",
    "    \n",
    "    # plot histogram elements\n",
    "    plt.hist(list_of_ages,bins=numbins,range=(youngest,oldest),color=histcolor)\n",
    "    \n",
    "    # add a title\n",
    "    plt.title(favoritedino)\n",
    "    \n",
    "    # plot x and y axis labels\n",
    "    plt.xlabel(\"Age, millions of years\")\n",
    "    plt.ylabel(\"Number of finds\")\n",
    "    \n",
    "    # some customization\n",
    "    plt.tight_layout() # supply as default - will prevent axis labels to fall off\n",
    "\n",
    "    # We also want something more durable than a print on screen: print to jpg!\n",
    "    plt.savefig(favoritedino+'.jpg',dpi=300) \n",
    "\n",
    "    # This you will always need to plot to screen\n",
    "    plt.show()"
   ]
  },
  {
   "cell_type": "markdown",
   "metadata": {},
   "source": [
    "Choose your favorite dinosaur. For this to look nice best is to choose a genus for which many records exist. And of course, it has to be a COOL genus too. Well... all dinos are cool really, even the modern ones (and taste good too; chicken anyone?)\n",
    "\n",
    "Good choices are, for instance, *Camarasaurus*, *Iguanodon*, *Allosaurus*, *Tyrannosaurus*, *Triceratops*, and *Troodon*.\n",
    "\n",
    "Fun fact: Naturalis in Leiden has a *Camarasaurus* on display; and of course now also has a Tyrannosaurus. When the museum opens again in 2018, they will also have a herd of five *Triceratops* in the new Dino hall!\n"
   ]
  },
  {
   "cell_type": "code",
   "execution_count": null,
   "metadata": {
    "collapsed": true
   },
   "outputs": [],
   "source": [
    "# my favorite dinosaur is Stegosaurus"
   ]
  },
  {
   "cell_type": "code",
   "execution_count": 4,
   "metadata": {
    "collapsed": true
   },
   "outputs": [],
   "source": [
    "# Cell #4\n",
    "# Choose your favorite dinosaur. \n",
    "# myfavoritedino = 'Tyrannosaurus'\n",
    "# myfavoritedino = 'Triceratops'\n",
    "# myfavoritedino = 'Allosaurus'\n",
    "# myfavoritedino = 'Iguanodon'\n",
    "# myfavoritedino = 'Troodon'\n",
    "myfavoritedino = 'Stegosaurus'"
   ]
  },
  {
   "cell_type": "markdown",
   "metadata": {},
   "source": [
    "**b)** In Cell `#5` (below) there is a bit of code to create a complex data\n",
    "structure (lists in dicts etc), called din_dict. Describe what that code does. Which\n",
    "module is used for creating that object, and which method?"
   ]
  },
  {
   "cell_type": "code",
   "execution_count": 5,
   "metadata": {
    "collapsed": true
   },
   "outputs": [],
   "source": [
    "# Cell #5\n",
    "# What does this do? See question b)\n",
    "# define the input file name\n",
    "filename = 'Dinos_reduced.json'\n",
    "# What does this do? See question b)\n",
    "# open the Dinos_reduced.json file\n",
    "fh = open(filename,'r')\n",
    "# What does this do? See question b)\n",
    "# read the concent of the json file into one line string\n",
    "din_json = fh.read()\n",
    "# What does this do? See question b)\n",
    "# clost the input file\n",
    "fh.close()\n",
    "# What does this do? See question b)\n",
    "# use the json module to read the whole string and creat a nesting dictionary\n",
    "din_dict = json.loads(din_json)"
   ]
  },
  {
   "cell_type": "markdown",
   "metadata": {},
   "source": [
    "**c)** Which type is din_dict? How many elements does that object contain? (cells\n",
    "`#6` and `#7` in your notebook)."
   ]
  },
  {
   "cell_type": "code",
   "execution_count": 10,
   "metadata": {},
   "outputs": [
    {
     "name": "stdout",
     "output_type": "stream",
     "text": [
      "<type 'dict'>\n"
     ]
    }
   ],
   "source": [
    "# Cell #6\n",
    "# Ok, lets first see what din_dict is. Use 'type' for that!\n",
    "\n",
    "# ADD LINE OF CODE HERE See question c)\n",
    "print type(din_dict)"
   ]
  },
  {
   "cell_type": "code",
   "execution_count": 11,
   "metadata": {},
   "outputs": [
    {
     "name": "stdout",
     "output_type": "stream",
     "text": [
      "13\n"
     ]
    }
   ],
   "source": [
    "# Cell #7\n",
    "# How many keys does it contain? Find out with the 'len' function.\n",
    "\n",
    "# ADD LINE OF CODE HERE See question c)\n",
    "print len(din_dict)"
   ]
  },
  {
   "cell_type": "markdown",
   "metadata": {},
   "source": [
    "**d)** Which keys does din_dict contain (see cell `#8`)?"
   ]
  },
  {
   "cell_type": "code",
   "execution_count": 12,
   "metadata": {},
   "outputs": [
    {
     "name": "stdout",
     "output_type": "stream",
     "text": [
      "[u'elapsed_time', u'data_url', u'data_source', u'parameters', u'title', u'access_time', u'records_returned', u'records_found', u'data_license', u'documentation_url', u'license_url', u'records', u'data_provider']\n"
     ]
    }
   ],
   "source": [
    "# Cell #8\n",
    "# ... and which keys are there? If it is a dictionary, you can show the keys\n",
    "# by applying the 'keys' method of the dictionary, e.g. mydict.keys()\n",
    "\n",
    "# ADD LINE OF CODE HERE See question d)\n",
    "print din_dict.keys()"
   ]
  },
  {
   "cell_type": "markdown",
   "metadata": {},
   "source": [
    "**e)** One of the key values of din_dict contains a list. See also your answer to a).\n",
    "Which key value is that? You can retrieve that list by just asking for:\n",
    "```Python\n",
    "‘din_dict[‘mysterykey’]\n",
    "```\n",
    "where `mysterykey` is the key value we’re asking for.\n",
    "Confirm that indeed the value belonging to that key is a list (use ‘`type()`’ for that).\n",
    "How many elements does this list contain? Does that match with the information\n",
    "the first lines of the JSON file describes? (see cells `#9` and `#10`)."
   ]
  },
  {
   "cell_type": "code",
   "execution_count": 13,
   "metadata": {},
   "outputs": [
    {
     "data": {
      "text/plain": [
       "list"
      ]
     },
     "execution_count": 13,
     "metadata": {},
     "output_type": "execute_result"
    }
   ],
   "source": [
    "# Cell #9\n",
    "# Right. So, the one we are interested in is the 'records' key\n",
    "# Since there are many records, we're expecting a list. Let's see if that's correct (use 'type'):\n",
    "\n",
    "# ADD LINE OF CODE HERE See question e)\n",
    "type(din_dict['records'])"
   ]
  },
  {
   "cell_type": "code",
   "execution_count": 21,
   "metadata": {},
   "outputs": [
    {
     "data": {
      "text/plain": [
       "15034"
      ]
     },
     "execution_count": 21,
     "metadata": {},
     "output_type": "execute_result"
    }
   ],
   "source": [
    "# Cell #10\n",
    "# Okidoki, that makes sense. And how many records are there? Hint: use 'len'.\n",
    "\n",
    "# ADD LINE OF CODE HERE See question e)\n",
    "records = din_dict['records']\n",
    "len(records)"
   ]
  },
  {
   "cell_type": "markdown",
   "metadata": {},
   "source": [
    "Return the first element of that list. Which taxon is this? How many fields does\n",
    "this element contain? What is its type? Look up the meaning of these ‘tags’:\n",
    "‘eag’,’lag’, ‘gnl’, and ‘tna’.\n",
    "\n",
    "[List of tags](https://paleobiodb.org/data1.2/occs/list#response)\n",
    "\n",
    "See cell `#11`.\n",
    "Pointer: Remember, the first item of a list can be retrieved as `mylist[0]`. Note that\n",
    "you can also do it like this: \n",
    "```Python\n",
    "din_dict[‘mysterykey’][0]\n",
    "```\n",
    "because what `din_dict[‘mysterykey’]` returns should be a list!"
   ]
  },
  {
   "cell_type": "code",
   "execution_count": 15,
   "metadata": {
    "scrolled": true
   },
   "outputs": [
    {
     "data": {
      "text/plain": [
       "{u'cid': u'col:10755',\n",
       " u'eag': 150.8,\n",
       " u'gnl': u'Chaoyangsaurus',\n",
       " u'idn': u'n. gen. Chaoyangosaurus n. sp. liaosiensis',\n",
       " u'iid': u'txn:65704',\n",
       " u'lag': 132.9,\n",
       " u'lat': 42.9333,\n",
       " u'lng': 123.966698,\n",
       " u'oei': u'Late Tithonian',\n",
       " u'oid': u'occ:130209',\n",
       " u'oli': u'Valanginian',\n",
       " u'rid': u'ref:13360',\n",
       " u'rnk': 3,\n",
       " u'tdf': u'replaced by',\n",
       " u'tid': u'txn:55580',\n",
       " u'tna': u'Chaoyangsaurus youngi'}"
      ]
     },
     "execution_count": 15,
     "metadata": {},
     "output_type": "execute_result"
    }
   ],
   "source": [
    "# Cell #11\n",
    "# Let's take the first element of that list, and see what it contains.\n",
    "# For more information on the tag names in the JSON:\n",
    "#     https://paleobiodb.org/data1.2/occs/list#response\n",
    "# The keys we will be particularly interested in:\n",
    "#   'eag', for maximum age of the find\n",
    "#   'lag': The late bound of the geologic time range associated with this occurrence (in Ma)\n",
    "#   'gnl': The name of the genus in which this occurrence is classified. \n",
    "#   'tna': The value of this field will be the accepted taxonomic name corresponding to the identified name. \n",
    "#   'lat': latitude\n",
    "#   'lng': longitude\n",
    "# ADD LINE OF CODE HERE See question f)\n",
    "records[0]"
   ]
  },
  {
   "cell_type": "markdown",
   "metadata": {},
   "source": [
    "**g)** Now look at cell `#12`. The single line of code in that cell opens a filehandle, or, more accurately, a fileobject, to a KML file, where some information and locations of the finds of your favorite dinosaur will be written. \n",
    "\n",
    "Add one more line of code that writes the required first lines of the KML. Use one of the subroutines given in the notebook. (Normally not strictly required, but the way this function was written: don’t forget to pass on the filehandle (called `kmlfh`)! The filehandle is an object like any other variable, and can, a.o., be passed to functions."
   ]
  },
  {
   "cell_type": "code",
   "execution_count": 31,
   "metadata": {
    "collapsed": true
   },
   "outputs": [],
   "source": [
    "# Cell #12\n",
    "# What we want to do, is to extract the locations where the fossils were found\n",
    "# and to write some relevant information, primarily lat/longs but also species\n",
    "# age of the site, and perhaps other things, to a KML \n",
    "# The KML can later be uploaded to either Google Maps or Google Earth\n",
    "\n",
    "# First let's open a file where we can write the KML formatted data.\n",
    "# Let's name it after your favorite dino.\n",
    "kmlfh = open(myfavoritedino+'.kml','w')\n",
    "\n",
    "# Write a single line of code that writes the required first line\n",
    "# of a KML to your KML file. Don't forget to pass in the \n",
    "# filehandle/fileobject! *\n",
    "\n",
    "# ADD LINE OF CODE HERE See question g)\n",
    "write_kml_start(kmlfh)\n"
   ]
  },
  {
   "cell_type": "markdown",
   "metadata": {},
   "source": [
    "**h)** Have a look at cell `#13`. We are defining two variables we need later on: a\n",
    "‘counter’, to generate unique numbers for each time you encounter one of your\n",
    "favorite dinosaurs in the JSON database. The second is an empty list that will\n",
    "contain the ages of the dinosaurs. We need a list of ages to make a histogram of\n",
    "the ages of the dinosaur finds. Ok, got that? Then no further action required,\n",
    "go on to the next question!"
   ]
  },
  {
   "cell_type": "code",
   "execution_count": 29,
   "metadata": {
    "collapsed": true
   },
   "outputs": [],
   "source": [
    "# Cell #13\n",
    "# First things first; we need a counter to provide a unique index value for each KML placemark\n",
    "# And we want to plot all the ages of fossils of your favorite dino, which we will keep in a list\n",
    "counter = 0\n",
    "list_of_ages = list()"
   ]
  },
  {
   "cell_type": "markdown",
   "metadata": {},
   "source": [
    "**i)** This one is one of the most important tasks in this exercise, at least in getting\n",
    "to run the code alright: construct a for-loop to loop through the list you’ve\n",
    "encountered in e). See cell `#14`. The first part of the ‘for’ loop is already there,\n",
    "and for each item of the list, a variable ‘record’ will contain the value."
   ]
  },
  {
   "cell_type": "markdown",
   "metadata": {},
   "source": [
    "**j)** Proceed in cell `#14`. Complete the next 4 lines of code that capture age,\n",
    "latitude, longitude, and species name data. Each time, use the correct version of:\n",
    "```Python\n",
    "mydata = record[‘mysterykey’]\n",
    "```"
   ]
  },
  {
   "cell_type": "markdown",
   "metadata": {},
   "source": [
    "**k)** Then, again in cell `#14`, add the age to the list ‘list_of_ages’ (see also question\n",
    "h and cell `#13`).\n",
    "\n",
    "**l)** Almost done in cell `#14`. Within the loop (and inside the if), the last thing that\n",
    "now needs to be done is writing some information to a ‘placemark’ in a KML file.\n",
    "\n",
    "Use one of the functions given in the notebook. Have a good look at that function\n",
    "regarding the variables that need to be passed in. Important: the order matters!\n",
    "And don’t forget to pass in the filehandle/fileobject again."
   ]
  },
  {
   "cell_type": "code",
   "execution_count": 30,
   "metadata": {
    "collapsed": true
   },
   "outputs": [],
   "source": [
    "# Cell #14\n",
    "# Ok... so din_dict['records'] is a list. We can loop through it.\n",
    "# For more information on the tag names in the JSON:\n",
    "#     https://paleobiodb.org/data1.2/occs/list#response\n",
    "# Careful: the Dinos_reduced.json file does NOT have all fields\n",
    "# If you want to explore all datapoints, you can download the complete Dinosaur dataset.\n",
    "\n",
    "for record in records:\n",
    "    # We want to make sure genus name is a valid field in the JSON file\n",
    "    # before we check whether this record pertains our favorite dinosaur\n",
    "    # Without this additional check we risk a \"KeyError: 'gnl'\"\n",
    "    # The reason is that not all records do have genus information!\n",
    "\n",
    "    if 'gnl' in record.keys() and myfavoritedino == record['gnl']:\n",
    "        \n",
    "        # (max) age of fossil\n",
    "        age_max = record['eag']\n",
    "        \n",
    "        # latitude \n",
    "        latitude = record['lat']\n",
    "\n",
    "        # longitude \n",
    "        longitude = record['lng']\n",
    "\n",
    "        # species name\n",
    "        species_name = record['tna']\n",
    "            \n",
    "        # in this list we keep all the ages of finds of your favorite dinosaur.\n",
    "        # We append it with the age.\n",
    "        \n",
    "        # ADD LINE OF CODE HERE See question k)\n",
    "        list_of_ages.append(age_max)\n",
    "        \n",
    "        # * something here to grow the list of ages of your favorite dinosaur *    \n",
    "        # the counter keeps track of the number of finds of your favorite dinosaur\n",
    "        # This is necessary because the placemarks in the KML need to have a uniqe id!\n",
    "        counter +=1\n",
    "            \n",
    "        # Use simple subroutine to write the placemarks. The advantage of placing \n",
    "        # this in a subroutine is that the loop becomes less cluttered, and, in\n",
    "        # principle, easier to read.\n",
    "        \n",
    "        # ADD LINE OF CODE HERE See question l)\n",
    "        write_placemark_in_kml(kmlfh, myfavoritedino, counter, species_name, age_max, latitude, longitude)\n",
    "        \n",
    "        # hint: write_placemark(# fill in bunch of variables to pass into this function)"
   ]
  },
  {
   "cell_type": "markdown",
   "metadata": {},
   "source": [
    "**m)** Ok, if you’re here, you’ve made it throught the loop (pun intended), go to cell\n",
    "`#15`. Once you’re finished looping through the JSON records, no more new\n",
    "placemarks will be written in the KML file, so you can close that now. But before\n",
    "you close that filehandle, you’ll need to write some famous last words! (Well,\n",
    "sorry, no, but a KML, like any XML, will need to have proper closing tags). Use one\n",
    "of the functions given in the notebook to do that. You know the drill by now: don’t\n",
    "forget to pass on the filehandle!"
   ]
  },
  {
   "cell_type": "code",
   "execution_count": 33,
   "metadata": {},
   "outputs": [
    {
     "ename": "ValueError",
     "evalue": "I/O operation on closed file",
     "output_type": "error",
     "traceback": [
      "\u001b[0;31m---------------------------------------------------------------------------\u001b[0m",
      "\u001b[0;31mValueError\u001b[0m                                Traceback (most recent call last)",
      "\u001b[0;32m<ipython-input-33-cf973144861e>\u001b[0m in \u001b[0;36m<module>\u001b[0;34m()\u001b[0m\n\u001b[1;32m      3\u001b[0m \u001b[0;34m\u001b[0m\u001b[0m\n\u001b[1;32m      4\u001b[0m \u001b[0;31m# ADD LINE OF CODE HERE See question m).\u001b[0m\u001b[0;34m\u001b[0m\u001b[0;34m\u001b[0m\u001b[0m\n\u001b[0;32m----> 5\u001b[0;31m \u001b[0mwrite_kml_end\u001b[0m\u001b[0;34m(\u001b[0m\u001b[0mkmlfh\u001b[0m\u001b[0;34m)\u001b[0m\u001b[0;34m\u001b[0m\u001b[0m\n\u001b[0m\u001b[1;32m      6\u001b[0m \u001b[0;31m# and close filehandle\u001b[0m\u001b[0;34m\u001b[0m\u001b[0;34m\u001b[0m\u001b[0m\n\u001b[1;32m      7\u001b[0m \u001b[0mkmlfh\u001b[0m\u001b[0;34m.\u001b[0m\u001b[0mclose\u001b[0m\u001b[0;34m(\u001b[0m\u001b[0;34m)\u001b[0m\u001b[0;34m\u001b[0m\u001b[0m\n",
      "\u001b[0;32m<ipython-input-17-a4e12bcab0e1>\u001b[0m in \u001b[0;36mwrite_kml_end\u001b[0;34m(kmlfh)\u001b[0m\n\u001b[1;32m     15\u001b[0m \u001b[0;32mdef\u001b[0m \u001b[0mwrite_kml_end\u001b[0m\u001b[0;34m(\u001b[0m\u001b[0mkmlfh\u001b[0m\u001b[0;34m)\u001b[0m\u001b[0;34m:\u001b[0m\u001b[0;34m\u001b[0m\u001b[0m\n\u001b[1;32m     16\u001b[0m     \u001b[0;31m# mandatory end of KML\u001b[0m\u001b[0;34m\u001b[0m\u001b[0;34m\u001b[0m\u001b[0m\n\u001b[0;32m---> 17\u001b[0;31m     \u001b[0mkmlfh\u001b[0m\u001b[0;34m.\u001b[0m\u001b[0mwrite\u001b[0m\u001b[0;34m(\u001b[0m\u001b[0;34m'</Document>\\n</kml>'\u001b[0m\u001b[0;34m)\u001b[0m\u001b[0;34m\u001b[0m\u001b[0m\n\u001b[0m\u001b[1;32m     18\u001b[0m \u001b[0;34m\u001b[0m\u001b[0m\n\u001b[1;32m     19\u001b[0m \u001b[0;31m# This little subroutine writes one 'placemark' in a KML file\u001b[0m\u001b[0;34m\u001b[0m\u001b[0;34m\u001b[0m\u001b[0m\n",
      "\u001b[0;31mValueError\u001b[0m: I/O operation on closed file"
     ]
    }
   ],
   "source": [
    "# Cell #15\n",
    "# Write the required last lines of the KML\n",
    "\n",
    "# ADD LINE OF CODE HERE See question m). \n",
    "write_kml_end(kmlfh)\n",
    "# and close filehandle\n",
    "kmlfh.close()"
   ]
  },
  {
   "cell_type": "markdown",
   "metadata": {},
   "source": [
    "**n)** Almost there! (Cell `#16`). Plot the histogram. Use one of the functions given in\n",
    "the notebook. Only two parameters are really required because they have no default values. Only pass those two in, and note that order matters! Do you get a histogram? You can save it using the ‘diskette’ symbol in the plotting window. Not the neatest histogram in the world maybe; there are plenty of options to make it prettier (if you want you can try to change number of bins, color, other options are a bit harder; if you’re really interested you can have a look at the matplotlib documentation.). "
   ]
  },
  {
   "cell_type": "code",
   "execution_count": 35,
   "metadata": {},
   "outputs": [
    {
     "data": {
      "image/png": "[encoded data removed]",
      "text/plain": [
       "<matplotlib.figure.Figure at 0x7ffadddce850>"
      ]
     },
     "metadata": {},
     "output_type": "display_data"
    }
   ],
   "source": [
    "# Cell #16\n",
    "# plot the histogram. Pass on list_of_age and myfavoritedinosaur to the \n",
    "# function, in the correct order.\n",
    "\n",
    "# ADD LINE OF CODE HERE See question n)\n",
    "plot_age_histogram(list_of_ages,myfavoritedino,numbins=100,youngest=65,oldest=220,histcolor='green')"
   ]
  },
  {
   "cell_type": "markdown",
   "metadata": {},
   "source": [
    "**o)** Ok, that was nearly it for the mandatory stuff. ... hey, we made that KML remember? Open it first in a text file editor (nano, gedit, or something similar) and investigate its contents.\n",
    "\n",
    "Curious how that looks like in Google earth or Google maps? Unfortunately we don’t have Google Earth installed on the virtual machine, but you can go to Google maps, from the ‘menu’ go to ‘my places’, then go to ‘maps’, and from there to ‘make map’. You should then be presented with an option to ‘import’.\n",
    "\n",
    "From there you should be able to drag the KML to the indicated place in Google Maps. Looks nice? If you’re transferring the KML file to a computer with Google Earth installed, it may even just open in Google Earth by double-clicking the KML file."
   ]
  },
  {
   "cell_type": "markdown",
   "metadata": {},
   "source": [
    "**p)** We were considering a ‘reduced’ dataset that only has a limited number of\n",
    "fields in the data. If we would get a dataset that has all available fields, in JSON,\n",
    "could we simply run it through the same script? What might happen if we did that\n",
    "with a TAB-delimited file?"
   ]
  },
  {
   "cell_type": "markdown",
   "metadata": {},
   "source": [
    "**q)** From the Notebook, in stead of the ‘Dinos_reduced’, use the ‘Dinosaurs.json’ file. How many fields are there now per record?"
   ]
  },
  {
   "cell_type": "code",
   "execution_count": null,
   "metadata": {
    "collapsed": true
   },
   "outputs": [],
   "source": [
    "# Cell #17\n",
    "# Run the 'Dinosaurs.json' file, either from a script you've made or from the notebook.\n",
    "# Look at what additional fields are included. How many more?\n",
    "# there are more records, and also more fields in each records.\n",
    "\n",
    "# Does the 'Dinosaurs.json file keep all the fields in the same order as\n",
    "# the 'Dinos_reduced' file? Why does it still run? Could you expect the same if you\n",
    "# had two TAB delimited files that had different numbers of fields?\n"
   ]
  },
  {
   "cell_type": "markdown",
   "metadata": {},
   "source": [
    "**r)** *Optional:* Transfer all the important stuff from your notebook to an empty script file you could call `Dinos.py`. Include the code from the last cell (cell `#18`) to allow you to pass in options to your script."
   ]
  },
  {
   "cell_type": "code",
   "execution_count": null,
   "metadata": {
    "collapsed": true
   },
   "outputs": [],
   "source": [
    "# Cell #18\n",
    "# Does it work? Great!\n",
    "# Now transfer the code to a python script (i.e. text file)\n",
    "# include option parsing to allow passing in variables for the JSON file,\n",
    "# and your favorite dinosaur genus.\n",
    "# set arguments by the code below:\n",
    "# Note: this does not work in a Jupyter Notebook, that's why you need to transfer to file.\n",
    "# See question q)\n",
    "\n",
    "import argparse\n",
    "parser = argparse.ArgumentParser(description='Simple analysis of PaleoDB and JSON formats')\n",
    "parser.add_argument(\"-f\", \"--filename\", help=\"PaleoDB file in JSON\", type = str, required = True)\n",
    "parser.add_argument(\"-d\", \"--dino\", help=\"favorite dinosaur genus - case sensitive!\", type = str, required = True)\n",
    "\n",
    "args = parser.parse_args()\n",
    "\n",
    "filename = args.filename\n",
    "myfavoritedino = args.dino"
   ]
  },
  {
   "cell_type": "markdown",
   "metadata": {},
   "source": [
    "**s)** *Optional:* Organize the contents of cells `#12` through `#16` into a function that writes a KML and plots an age distribution histogram for a dinosaur. Make sure the function takes a dinosaur\n",
    "name as argument.\n",
    "\n",
    "Make a list of all the dinosaurs in cell `#4`, loop through the list while calling the\n",
    "function you just made, this way automating the whole process. \n",
    "\n",
    "Your choice: do this either in notebook or script."
   ]
  },
  {
   "cell_type": "code",
   "execution_count": null,
   "metadata": {
    "collapsed": true
   },
   "outputs": [],
   "source": [
    "# Cell #19\n",
    "# Optional.\n",
    "# Organize the contents of cells #12 through 16 into a function that writes a KML and plots\n",
    "# an age distribution histogram for a dinosaur. Make sure the function takes a dinosaur\n",
    "# name as argument.\n",
    "# Make a list of all the dinosaurs in cell #4, loop through the list while calling the\n",
    "# function you just made, this way automating the whole process. \n",
    "# Your choice: do this either in notebook or script."
   ]
  },
  {
   "cell_type": "markdown",
   "metadata": {},
   "source": [
    "**t) MANDATORY:** identify these dinosaurs.\n",
    "![Dinos](Dinos.png)\n"
   ]
  }
 ],
 "metadata": {
  "kernelspec": {
   "display_name": "Python 2",
   "language": "python",
   "name": "python2"
  },
  "language_info": {
   "codemirror_mode": {
    "name": "ipython",
    "version": 2
   },
   "file_extension": ".py",
   "mimetype": "text/x-python",
   "name": "python",
   "nbconvert_exporter": "python",
   "pygments_lexer": "ipython2",
   "version": "2.7.13"
  },
  "latex_envs": {
   "LaTeX_envs_menu_present": true,
   "autocomplete": true,
   "bibliofile": "biblio.bib",
   "cite_by": "apalike",
   "current_citInitial": 1,
   "eqLabelWithNumbers": true,
   "eqNumInitial": 1,
   "hotkeys": {
    "equation": "Ctrl-E",
    "itemize": "Ctrl-I"
   },
   "labels_anchors": false,
   "latex_user_defs": false,
   "report_style_numbering": false,
   "user_envs_cfg": false
  }
 },
 "nbformat": 4,
 "nbformat_minor": 1
}
