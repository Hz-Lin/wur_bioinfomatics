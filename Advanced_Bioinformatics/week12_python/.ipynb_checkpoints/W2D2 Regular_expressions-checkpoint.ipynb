{
 "cells": [
  {
   "cell_type": "markdown",
   "metadata": {},
   "source": [
    "# Finding a substring in a text"
   ]
  },
  {
   "cell_type": "code",
   "execution_count": 1,
   "metadata": {},
   "outputs": [
    {
     "name": "stdout",
     "output_type": "stream",
     "text": [
      "6\n"
     ]
    }
   ],
   "source": [
    "line = 'About cats and dogs; cats are fun'\n",
    "print(line.index('cat'))"
   ]
  },
  {
   "cell_type": "markdown",
   "metadata": {},
   "source": [
    "`012345678901234567890123456789012`  \n",
    "`About cats and dogs; cats are fun`"
   ]
  },
  {
   "cell_type": "markdown",
   "metadata": {},
   "source": [
    "# Regular Expressions\n",
    "\n",
    "A regular expression is a special sequence of characters that represent a text pattern\n",
    "\n",
    "Regular expressions are widely used in text parsing, and in sequence analysis"
   ]
  },
  {
   "cell_type": "markdown",
   "metadata": {},
   "source": [
    "In Python, the module **re** is used for regular expressions\n",
    "\n",
    "http://docs.python.org/3/library/re.html\n",
    "\n",
    "http://docs.python.org/3/howto/regex.html\n",
    "\n",
    "http://www.tutorialspoint.com/python/python_reg_expressions.htm\n"
   ]
  },
  {
   "cell_type": "code",
   "execution_count": 2,
   "metadata": {
    "collapsed": true
   },
   "outputs": [],
   "source": [
    "import re"
   ]
  },
  {
   "cell_type": "markdown",
   "metadata": {},
   "source": [
    "# re.match() and re.search()\n",
    "**re.match()** matches from the beginning of the string  \n",
    "**re.search()** matches at any location in the string  \n"
   ]
  },
  {
   "cell_type": "code",
   "execution_count": 3,
   "metadata": {},
   "outputs": [
    {
     "name": "stdout",
     "output_type": "stream",
     "text": [
      "About cats and dogs; cats are fun\n",
      "match result: None\n",
      "search result: <class '_sre.SRE_Match'>\n"
     ]
    }
   ],
   "source": [
    "match_result = re.match(r'cat', line)\n",
    "search_result = re.search(r'cat', line)\n",
    "\n",
    "print(line)\n",
    "print('match result: %s'%match_result)\n",
    "print('search result: %s'%type(search_result))"
   ]
  },
  {
   "cell_type": "markdown",
   "metadata": {},
   "source": [
    "# Match object\n",
    "Both re.match() and re.search() return a **Match** object on success, **None** on failure  \n",
    "\n",
    "For attributes and methods of a Match Object see:\n",
    "https://docs.python.org/3/library/re.html#match-objects\n"
   ]
  },
  {
   "cell_type": "code",
   "execution_count": 4,
   "metadata": {},
   "outputs": [
    {
     "name": "stdout",
     "output_type": "stream",
     "text": [
      "cat\n"
     ]
    }
   ],
   "source": [
    "print(search_result.group())"
   ]
  },
  {
   "cell_type": "code",
   "execution_count": 5,
   "metadata": {},
   "outputs": [
    {
     "name": "stdout",
     "output_type": "stream",
     "text": [
      "6 9\n"
     ]
    }
   ],
   "source": [
    "print(search_result.start(),search_result.end())"
   ]
  },
  {
   "cell_type": "code",
   "execution_count": 6,
   "metadata": {},
   "outputs": [
    {
     "name": "stdout",
     "output_type": "stream",
     "text": [
      "<class '_sre.SRE_Match'>\n",
      "--------------------------------------------------\n",
      "Abo\n",
      "--------------------------------------------------\n",
      "0\n"
     ]
    }
   ],
   "source": [
    "match_result = re.match(r'Abo', line)\n",
    "print(type(match_result))\n",
    "print('-'*50)\n",
    "print(match_result.group())\n",
    "print('-'*50)\n",
    "print(match_result.start())"
   ]
  },
  {
   "cell_type": "code",
   "execution_count": 7,
   "metadata": {},
   "outputs": [
    {
     "name": "stdout",
     "output_type": "stream",
     "text": [
      "['cat', 'cat']\n",
      "--------------------------------------------------\n",
      "cat <class 'str'>\n",
      "--------------------------------------------------\n",
      "cat <class 'str'>\n"
     ]
    }
   ],
   "source": [
    "list_of_results = re.findall(r'cat', line)\n",
    "print(list_of_results)\n",
    "for i in list_of_results:\n",
    "    print('-'*50)\n",
    "    print(i, type(i))"
   ]
  },
  {
   "cell_type": "markdown",
   "metadata": {},
   "source": [
    "## Find multiple hits with findall and finditer\n",
    "\n",
    "**findall** returns a list of strings  \n",
    "**finditer** returns an iterator to Match objects"
   ]
  },
  {
   "cell_type": "code",
   "execution_count": 8,
   "metadata": {},
   "outputs": [
    {
     "name": "stdout",
     "output_type": "stream",
     "text": [
      "<callable_iterator object at 0x7ff9c921e898>\n",
      "--------------------------------------------------\n",
      "type: <class '_sre.SRE_Match'>\n",
      "matched string: cat, start: 6, end: 9\n",
      "--------------------------------------------------\n",
      "type: <class '_sre.SRE_Match'>\n",
      "matched string: cat, start: 21, end: 24\n"
     ]
    }
   ],
   "source": [
    "result_iterator = re.finditer(r'cat', line)\n",
    "print(result_iterator)\n",
    "for i in result_iterator:\n",
    "    print('-'*50)\n",
    "    print('type: %s'%type(i))\n",
    "    print('matched string: %s, start: %s, end: %s'%(i.group(), i.start(), i.end()))"
   ]
  },
  {
   "cell_type": "markdown",
   "metadata": {},
   "source": [
    "# Substitute\n",
    "**re.sub** substitutes strings/patterns"
   ]
  },
  {
   "cell_type": "code",
   "execution_count": 9,
   "metadata": {},
   "outputs": [
    {
     "name": "stdout",
     "output_type": "stream",
     "text": [
      "About cats and dogs; cats are fun\n",
      "About monkeys and dogs; monkeys are fun\n"
     ]
    }
   ],
   "source": [
    "new_line = re.sub(r'cat', 'monkey', line)\n",
    "print(line)\n",
    "print(new_line)"
   ]
  },
  {
   "cell_type": "markdown",
   "metadata": {},
   "source": [
    "# Compile regular expressions for speed, reuse, and readability"
   ]
  },
  {
   "cell_type": "code",
   "execution_count": 10,
   "metadata": {},
   "outputs": [
    {
     "name": "stdout",
     "output_type": "stream",
     "text": [
      "we have a start codon\n"
     ]
    }
   ],
   "source": [
    "dna = 'gatgcaggctcgctagcggct'\n",
    "\n",
    "# Does this string contain a start codon?\n",
    "\n",
    "startcodon = re.compile(r'atg', re.I)\n",
    "yesno = 'no'\n",
    "\n",
    "if startcodon.search(dna):\n",
    "    yesno = 'a'\n",
    "\n",
    "print('we have %s start codon'%yesno)"
   ]
  },
  {
   "cell_type": "markdown",
   "metadata": {},
   "source": [
    "# Modifiers\n",
    "\n",
    "Modify the behaviour of matching\n",
    "\n",
    "re.I, re.L, re.M, re.S, re.U, re.X\n",
    "\n",
    "Example: **re.I** activates case-insensitive matching\n"
   ]
  },
  {
   "cell_type": "code",
   "execution_count": 11,
   "metadata": {},
   "outputs": [
    {
     "name": "stdout",
     "output_type": "stream",
     "text": [
      "I am testing this TestCase, see if the TEST works\n",
      "--------------------------------------------------\n",
      "test 5 9\n",
      "--------------------------------------------------\n",
      "Test 18 22\n",
      "--------------------------------------------------\n",
      "TEST 39 43\n"
     ]
    }
   ],
   "source": [
    "test_line = 'I am testing this TestCase, see if the TEST works'\n",
    "print(test_line)\n",
    "mp = re.compile(r'test', re.I)\n",
    "for i in mp.finditer(test_line):\n",
    "    print('-'*50)\n",
    "    print(i.group(), i.start(), i.end())"
   ]
  },
  {
   "cell_type": "markdown",
   "metadata": {},
   "source": [
    "# Metacharacters\n",
    "\n",
    "Metacharacters are not matched literally but have a special meaning in the regular expression."
   ]
  },
  {
   "cell_type": "markdown",
   "metadata": {},
   "source": [
    "## Example:\n",
    "### Regular expression for Lysozyme C.{3}C.{2}[LMF].{3}[DEN][LI].{5}C\n",
    "http://prosite.expasy.org/PDOC00119"
   ]
  },
  {
   "cell_type": "code",
   "execution_count": 12,
   "metadata": {
    "scrolled": true
   },
   "outputs": [
    {
     "name": "stdout",
     "output_type": "stream",
     "text": [
      "['CHLSCSALLQDNIADAVAC']\n"
     ]
    }
   ],
   "source": [
    "protein_sequence = 'GDRSTDYGIFQINSRYWCNDGKTPGAVNACHLSCSALLQDNIADAVACAKRVVRDPQGIRAWVAWRNRCQNRDVRQYVQGCGV'\n",
    "lysozyme_pattern = r'C.{3}C.{2}[LMF].{3}[DEN][LI].{5}C'\n",
    "\n",
    "lysozyme_hits = re.findall(lysozyme_pattern,protein_sequence)\n",
    "\n",
    "print(lysozyme_hits)"
   ]
  },
  {
   "cell_type": "markdown",
   "metadata": {},
   "source": [
    "### Character sets, or character classes [ ]\n",
    "\n",
    "```\n",
    " [abc] will match any of the characters ‘a’, ’b’, or ‘c’ \n",
    " [a-c] is same as [abc]\n",
    " Match any lowercase character: [a-z] \n",
    " Match any nucleotide: [acgt]\n",
    " Match any character that is not a nucleotide: [^acgt]\n",
    "```\n",
    "\n",
    "### period\n",
    "```\n",
    "  . matches anything except a newline character (and even that if the flag re.S is set)\n",
    "```\n",
    "\n",
    "### repetition\n",
    "```\n",
    " a*     : match zero or more a's\n",
    " a+     : match one or more a's \n",
    " a?     : match zero or one a's\n",
    " a{5}   : match exactly 5 a's\n",
    " a{,5}  : match up to 5 a's\n",
    " a{3,5} : match between 3 and 5 a's\n",
    "```\n",
    "\n",
    "### other\n",
    "```\n",
    " a|b    : match a or b\n",
    " ^a     : match a at the beginning of string\n",
    " a$     : match a at the end of the string\n",
    " (aa)   : group regular expressions and remembers matched text \n",
    "```"
   ]
  },
  {
   "cell_type": "code",
   "execution_count": 13,
   "metadata": {},
   "outputs": [
    {
     "name": "stdout",
     "output_type": "stream",
     "text": [
      "blablablablabla\n",
      "--------------------------------------------------\n",
      "None\n",
      "--------------------------------------------------\n",
      "blablabla\n",
      "--------------------------------------------------\n",
      "None\n"
     ]
    }
   ],
   "source": [
    "bla = 'blablablablabla'\n",
    "print(re.search(r'[lba]+',bla).group())\n",
    "print('-'*50)\n",
    "print(re.search(r'bla{3}',bla))\n",
    "print('-'*50)\n",
    "print(re.search(r'(bla){3}',bla).group())\n",
    "print('-'*50)\n",
    "print(re.search(r'^lab',bla))"
   ]
  },
  {
   "cell_type": "markdown",
   "metadata": {},
   "source": [
    "# Backslash\n",
    "The backslash can be followed by various characters to signal various special sequences\n",
    "```\n",
    "\\n      Newline character\n",
    "\\t      Tab\n",
    "\\d      Matches any decimal digit; \n",
    "        this is equivalent to the class [0-9].\n",
    "\\D      Matches any non-digit character; \n",
    "        this is equivalent to the class [^0-9].\n",
    "\\s      Matches any whitespace character; \n",
    "        this is equivalent to the class [ \\t\\n\\r\\f\\v].\n",
    "\\S      Matches any non-whitespace character; \n",
    "        this is equivalent to the class [^ \\t\\n\\r\\f\\v].\n",
    "\\w      Matches any alphanumeric character; \n",
    "        this is equivalent to the class [a-zA-Z0-9_].\n",
    "\\W      Matches any non-alphanumeric character; \n",
    "        this is equivalent to the class [^a-zA-Z0-9_].\n",
    "```\n",
    "It’s also used to escape a metacharacter so you can match the actual character. For example, if you need to match a [ or \\, you can precede them with a backslash to remove their special meaning: ```\\[``` or ```\\\\```\n",
    "\n",
    "Metacharacters are not active inside classes, e.g.  `[ab$] matches 'a', 'b', '$'`  \n",
    "\n",
    "```\n",
    " Exception: ^, which means NOT*\n",
    " [^5] will match any character that is not 5\n",
    "```\n"
   ]
  },
  {
   "cell_type": "code",
   "execution_count": 14,
   "metadata": {},
   "outputs": [
    {
     "name": "stdout",
     "output_type": "stream",
     "text": [
      "['About', 'cats', 'and', 'dogs', 'cats', 'are', 'fun']\n"
     ]
    }
   ],
   "source": [
    "line = 'About cats and dogs; cats are fun'\n",
    "print(re.findall(r'\\w+',line))"
   ]
  },
  {
   "cell_type": "markdown",
   "metadata": {},
   "source": [
    "# Raw strings"
   ]
  },
  {
   "cell_type": "code",
   "execution_count": 15,
   "metadata": {},
   "outputs": [
    {
     "name": "stdout",
     "output_type": "stream",
     "text": [
      "a\tb\n",
      "a\\tb\n"
     ]
    }
   ],
   "source": [
    "print('a\\tb')\n",
    "print(r'a\\tb')"
   ]
  },
  {
   "cell_type": "markdown",
   "metadata": {},
   "source": [
    "# Grouping"
   ]
  },
  {
   "cell_type": "code",
   "execution_count": 16,
   "metadata": {},
   "outputs": [
    {
     "name": "stdout",
     "output_type": "stream",
     "text": [
      "less or more\n"
     ]
    }
   ],
   "source": [
    "group_line = 'more or less'\n",
    "\n",
    "print(re.sub(r'(\\w+) (\\w+) (\\w+)',r'\\3 \\2 \\1',group_line))"
   ]
  },
  {
   "cell_type": "code",
   "execution_count": 17,
   "metadata": {},
   "outputs": [
    {
     "name": "stdout",
     "output_type": "stream",
     "text": [
      "About dogs and cats\n",
      "('About', 'cats', 'and', 'dogs')\n"
     ]
    }
   ],
   "source": [
    "m = re.search(r'(\\w+) (\\w+) (\\w+) (\\w+)',line)\n",
    "print(m.group(1),m.group(4),m.group(3),m.group(2))\n",
    "print(m.groups())"
   ]
  },
  {
   "cell_type": "markdown",
   "metadata": {},
   "source": [
    "# Greediness\n",
    "Pattern matching is greedy by default, which means that it will try to match as many characters as possible. This can be prevented by appending the **?** operator to the expression"
   ]
  },
  {
   "cell_type": "code",
   "execution_count": 19,
   "metadata": {},
   "outputs": [
    {
     "name": "stdout",
     "output_type": "stream",
     "text": [
      "atgcccgaatagtagtagtagtag\n",
      "--------------------------------------------------\n",
      "ATGCCCGAATAGTAGTAGTAGTAG\n",
      "--------------------------------------------------\n",
      "ATGCCCGAATAG\n"
     ]
    }
   ],
   "source": [
    "dna = 'atgcccgaatagtagtagtagtag'\n",
    "print(dna)\n",
    "print('-'*50)\n",
    "# This will replace the entire string\n",
    "print(re.search(r'atg([acgt]{3})+tag', dna).group().upper())\n",
    "print('-'*50)\n",
    "# This will stop matching after the first “tag”:\n",
    "print(re.search(r'atg([acgt]{3})+?tag', dna).group().upper())"
   ]
  },
  {
   "cell_type": "markdown",
   "metadata": {},
   "source": [
    "### Exercise\n",
    "#### Write a regular expression to extract the different fields from the ID line of a SwissProt entry and print these fields separately.\n",
    "\n",
    "This is the template for the ID line:  \n",
    "````>db|UniqueIdentifier|EntryName ProteinName OS=OrganismName GN=GeneName PE=ProteinExistence SV=SequenceVersion````  \n",
    "(as described in: http://www.uniprot.org/help/fasta-headers, you can ignore the fact that the GeneName is optional)\n",
    "\n",
    "You can use this website to develop the regex: https://regex101.com/#python"
   ]
  },
  {
   "cell_type": "code",
   "execution_count": 36,
   "metadata": {},
   "outputs": [
    {
     "name": "stdout",
     "output_type": "stream",
     "text": [
      "The regex worked, these are the fields:\n",
      "('sp', 'P02006', 'HBAD_PHRHI', 'Hemoglobin subunit alpha-D', 'Phrynops hilarii', 'HBAD', '1', '1')\n"
     ]
    }
   ],
   "source": [
    "ID_line = '>sp|P02006|HBAD_PHRHI Hemoglobin subunit alpha-D OS=Phrynops hilarii GN=HBAD PE=1 SV=1'\n",
    "\n",
    "labels = ['db', 'UniqueIdentifier', 'EntryName', 'ProteinName', 'OrganismName', 'GeneName', 'ProteinExistence', 'SequenceVersion']\n",
    "\n",
    "mo = re.match(r'^>(\\w+)\\|(\\w+)\\|(\\w+)\\s(.+)\\sOS=(.+)\\sGN=(\\w+)\\sPE=(\\d)\\sSV=(\\d)',ID_line)\n",
    "\n",
    "if mo:\n",
    "    print('The regex worked, these are the fields:')\n",
    "    fields = mo.groups()\n",
    "    print(fields)\n",
    "else:\n",
    "    print('The regex did not work...')\n",
    "\n"
   ]
  },
  {
   "cell_type": "markdown",
   "metadata": {},
   "source": [
    "#### If you manage to get the fields, you can use the following code to print each field with its appropriate label."
   ]
  },
  {
   "cell_type": "code",
   "execution_count": 37,
   "metadata": {},
   "outputs": [
    {
     "name": "stdout",
     "output_type": "stream",
     "text": [
      "db:\tsp\n",
      "UniqueIdentifier:\tP02006\n",
      "EntryName:\tHBAD_PHRHI\n",
      "ProteinName:\tHemoglobin subunit alpha-D\n",
      "OrganismName:\tPhrynops hilarii\n",
      "GeneName:\tHBAD\n",
      "ProteinExistence:\t1\n",
      "SequenceVersion:\t1\n"
     ]
    }
   ],
   "source": [
    "ID_dict = dict(zip(labels,fields))\n",
    "\n",
    "for field, value in ID_dict.items():\n",
    "    print('%s:\\t%s'%(field,value))"
   ]
  }
 ],
 "metadata": {
  "kernelspec": {
   "display_name": "Python 3",
   "language": "python",
   "name": "python3"
  },
  "language_info": {
   "codemirror_mode": {
    "name": "ipython",
    "version": 3
   },
   "file_extension": ".py",
   "mimetype": "text/x-python",
   "name": "python",
   "nbconvert_exporter": "python",
   "pygments_lexer": "ipython3",
   "version": "3.6.3"
  }
 },
 "nbformat": 4,
 "nbformat_minor": 1
}
